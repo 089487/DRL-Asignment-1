{
 "cells": [
  {
   "cell_type": "markdown",
   "metadata": {
    "id": "5fwkxPaZaMFv"
   },
   "source": [
    "# **Deep Reinforcement Learning Class Spring 2025 Assignment 1**\n",
    "\n",
    "In this assignment, we will learn about gym interface, gridworld, q-learning, and etc. You will need to fill in the missing code snippets (marked by TODO).\n",
    "\n",
    "Make a copy of this notebook using File > Save a copy in Drive and edit it with your answers.\n",
    "\n",
    "WARNING: Do not put your name or any other personal identification information in this notebook."
   ]
  },
  {
   "cell_type": "code",
   "execution_count": 3,
   "metadata": {},
   "outputs": [
    {
     "name": "stdout",
     "output_type": "stream",
     "text": [
      "Defaulting to user installation because normal site-packages is not writeable"
     ]
    },
    {
     "name": "stderr",
     "output_type": "stream",
     "text": [
      "\n",
      "[notice] A new release of pip is available: 24.3.1 -> 25.0.1\n",
      "[notice] To update, run: C:\\Users\\yuhun\\AppData\\Local\\Microsoft\\WindowsApps\\PythonSoftwareFoundation.Python.3.12_qbz5n2kfra8p0\\python.exe -m pip install --upgrade pip\n"
     ]
    },
    {
     "name": "stdout",
     "output_type": "stream",
     "text": [
      "\n",
      "Requirement already satisfied: gym in c:\\users\\yuhun\\appdata\\local\\packages\\pythonsoftwarefoundation.python.3.12_qbz5n2kfra8p0\\localcache\\local-packages\\python312\\site-packages (0.26.2)\n",
      "Requirement already satisfied: numpy>=1.18.0 in c:\\users\\yuhun\\appdata\\local\\packages\\pythonsoftwarefoundation.python.3.12_qbz5n2kfra8p0\\localcache\\local-packages\\python312\\site-packages (from gym) (2.1.2)\n",
      "Requirement already satisfied: cloudpickle>=1.2.0 in c:\\users\\yuhun\\appdata\\local\\packages\\pythonsoftwarefoundation.python.3.12_qbz5n2kfra8p0\\localcache\\local-packages\\python312\\site-packages (from gym) (3.1.1)\n",
      "Requirement already satisfied: gym_notices>=0.0.4 in c:\\users\\yuhun\\appdata\\local\\packages\\pythonsoftwarefoundation.python.3.12_qbz5n2kfra8p0\\localcache\\local-packages\\python312\\site-packages (from gym) (0.0.8)\n",
      "Defaulting to user installation because normal site-packages is not writeable\n",
      "Collecting numpy==1.24.0\n",
      "  Using cached numpy-1.24.0.tar.gz (10.9 MB)\n",
      "  Installing build dependencies: started\n",
      "  Installing build dependencies: finished with status 'done'\n",
      "  Getting requirements to build wheel: started\n",
      "  Getting requirements to build wheel: finished with status 'done'\n"
     ]
    },
    {
     "name": "stderr",
     "output_type": "stream",
     "text": [
      "\n",
      "[notice] A new release of pip is available: 24.3.1 -> 25.0.1\n",
      "[notice] To update, run: C:\\Users\\yuhun\\AppData\\Local\\Microsoft\\WindowsApps\\PythonSoftwareFoundation.Python.3.12_qbz5n2kfra8p0\\python.exe -m pip install --upgrade pip\n",
      "ERROR: Exception:\n",
      "Traceback (most recent call last):\n",
      "  File \"C:\\Users\\yuhun\\AppData\\Local\\Packages\\PythonSoftwareFoundation.Python.3.12_qbz5n2kfra8p0\\LocalCache\\local-packages\\Python312\\site-packages\\pip\\_internal\\cli\\base_command.py\", line 105, in _run_wrapper\n",
      "    status = _inner_run()\n",
      "             ^^^^^^^^^^^^\n",
      "  File \"C:\\Users\\yuhun\\AppData\\Local\\Packages\\PythonSoftwareFoundation.Python.3.12_qbz5n2kfra8p0\\LocalCache\\local-packages\\Python312\\site-packages\\pip\\_internal\\cli\\base_command.py\", line 96, in _inner_run\n",
      "    return self.run(options, args)\n",
      "           ^^^^^^^^^^^^^^^^^^^^^^^\n",
      "  File \"C:\\Users\\yuhun\\AppData\\Local\\Packages\\PythonSoftwareFoundation.Python.3.12_qbz5n2kfra8p0\\LocalCache\\local-packages\\Python312\\site-packages\\pip\\_internal\\cli\\req_command.py\", line 67, in wrapper\n",
      "    return func(self, options, args)\n",
      "           ^^^^^^^^^^^^^^^^^^^^^^^^^\n",
      "  File \"C:\\Users\\yuhun\\AppData\\Local\\Packages\\PythonSoftwareFoundation.Python.3.12_qbz5n2kfra8p0\\LocalCache\\local-packages\\Python312\\site-packages\\pip\\_internal\\commands\\install.py\", line 379, in run\n",
      "    requirement_set = resolver.resolve(\n",
      "                      ^^^^^^^^^^^^^^^^^\n",
      "  File \"C:\\Users\\yuhun\\AppData\\Local\\Packages\\PythonSoftwareFoundation.Python.3.12_qbz5n2kfra8p0\\LocalCache\\local-packages\\Python312\\site-packages\\pip\\_internal\\resolution\\resolvelib\\resolver.py\", line 95, in resolve\n",
      "    result = self._result = resolver.resolve(\n",
      "                            ^^^^^^^^^^^^^^^^^\n",
      "  File \"C:\\Users\\yuhun\\AppData\\Local\\Packages\\PythonSoftwareFoundation.Python.3.12_qbz5n2kfra8p0\\LocalCache\\local-packages\\Python312\\site-packages\\pip\\_vendor\\resolvelib\\resolvers.py\", line 546, in resolve\n",
      "    state = resolution.resolve(requirements, max_rounds=max_rounds)\n",
      "            ^^^^^^^^^^^^^^^^^^^^^^^^^^^^^^^^^^^^^^^^^^^^^^^^^^^^^^^\n",
      "  File \"C:\\Users\\yuhun\\AppData\\Local\\Packages\\PythonSoftwareFoundation.Python.3.12_qbz5n2kfra8p0\\LocalCache\\local-packages\\Python312\\site-packages\\pip\\_vendor\\resolvelib\\resolvers.py\", line 397, in resolve\n",
      "    self._add_to_criteria(self.state.criteria, r, parent=None)\n",
      "  File \"C:\\Users\\yuhun\\AppData\\Local\\Packages\\PythonSoftwareFoundation.Python.3.12_qbz5n2kfra8p0\\LocalCache\\local-packages\\Python312\\site-packages\\pip\\_vendor\\resolvelib\\resolvers.py\", line 173, in _add_to_criteria\n",
      "    if not criterion.candidates:\n",
      "           ^^^^^^^^^^^^^^^^^^^^\n",
      "  File \"C:\\Users\\yuhun\\AppData\\Local\\Packages\\PythonSoftwareFoundation.Python.3.12_qbz5n2kfra8p0\\LocalCache\\local-packages\\Python312\\site-packages\\pip\\_vendor\\resolvelib\\structs.py\", line 156, in __bool__\n",
      "    return bool(self._sequence)\n",
      "           ^^^^^^^^^^^^^^^^^^^^\n",
      "  File \"C:\\Users\\yuhun\\AppData\\Local\\Packages\\PythonSoftwareFoundation.Python.3.12_qbz5n2kfra8p0\\LocalCache\\local-packages\\Python312\\site-packages\\pip\\_internal\\resolution\\resolvelib\\found_candidates.py\", line 174, in __bool__\n",
      "    return any(self)\n",
      "           ^^^^^^^^^\n",
      "  File \"C:\\Users\\yuhun\\AppData\\Local\\Packages\\PythonSoftwareFoundation.Python.3.12_qbz5n2kfra8p0\\LocalCache\\local-packages\\Python312\\site-packages\\pip\\_internal\\resolution\\resolvelib\\found_candidates.py\", line 162, in <genexpr>\n",
      "    return (c for c in iterator if id(c) not in self._incompatible_ids)\n",
      "                       ^^^^^^^^\n",
      "  File \"C:\\Users\\yuhun\\AppData\\Local\\Packages\\PythonSoftwareFoundation.Python.3.12_qbz5n2kfra8p0\\LocalCache\\local-packages\\Python312\\site-packages\\pip\\_internal\\resolution\\resolvelib\\found_candidates.py\", line 53, in _iter_built\n",
      "    candidate = func()\n",
      "                ^^^^^^\n",
      "  File \"C:\\Users\\yuhun\\AppData\\Local\\Packages\\PythonSoftwareFoundation.Python.3.12_qbz5n2kfra8p0\\LocalCache\\local-packages\\Python312\\site-packages\\pip\\_internal\\resolution\\resolvelib\\factory.py\", line 187, in _make_candidate_from_link\n",
      "    base: Optional[BaseCandidate] = self._make_base_candidate_from_link(\n",
      "                                    ^^^^^^^^^^^^^^^^^^^^^^^^^^^^^^^^^^^^\n",
      "  File \"C:\\Users\\yuhun\\AppData\\Local\\Packages\\PythonSoftwareFoundation.Python.3.12_qbz5n2kfra8p0\\LocalCache\\local-packages\\Python312\\site-packages\\pip\\_internal\\resolution\\resolvelib\\factory.py\", line 233, in _make_base_candidate_from_link\n",
      "    self._link_candidate_cache[link] = LinkCandidate(\n",
      "                                       ^^^^^^^^^^^^^^\n",
      "  File \"C:\\Users\\yuhun\\AppData\\Local\\Packages\\PythonSoftwareFoundation.Python.3.12_qbz5n2kfra8p0\\LocalCache\\local-packages\\Python312\\site-packages\\pip\\_internal\\resolution\\resolvelib\\candidates.py\", line 304, in __init__\n",
      "    super().__init__(\n",
      "  File \"C:\\Users\\yuhun\\AppData\\Local\\Packages\\PythonSoftwareFoundation.Python.3.12_qbz5n2kfra8p0\\LocalCache\\local-packages\\Python312\\site-packages\\pip\\_internal\\resolution\\resolvelib\\candidates.py\", line 159, in __init__\n",
      "    self.dist = self._prepare()\n",
      "                ^^^^^^^^^^^^^^^\n",
      "  File \"C:\\Users\\yuhun\\AppData\\Local\\Packages\\PythonSoftwareFoundation.Python.3.12_qbz5n2kfra8p0\\LocalCache\\local-packages\\Python312\\site-packages\\pip\\_internal\\resolution\\resolvelib\\candidates.py\", line 236, in _prepare\n",
      "    dist = self._prepare_distribution()\n",
      "           ^^^^^^^^^^^^^^^^^^^^^^^^^^^^\n",
      "  File \"C:\\Users\\yuhun\\AppData\\Local\\Packages\\PythonSoftwareFoundation.Python.3.12_qbz5n2kfra8p0\\LocalCache\\local-packages\\Python312\\site-packages\\pip\\_internal\\resolution\\resolvelib\\candidates.py\", line 315, in _prepare_distribution\n",
      "    return preparer.prepare_linked_requirement(self._ireq, parallel_builds=True)\n",
      "           ^^^^^^^^^^^^^^^^^^^^^^^^^^^^^^^^^^^^^^^^^^^^^^^^^^^^^^^^^^^^^^^^^^^^^\n",
      "  File \"C:\\Users\\yuhun\\AppData\\Local\\Packages\\PythonSoftwareFoundation.Python.3.12_qbz5n2kfra8p0\\LocalCache\\local-packages\\Python312\\site-packages\\pip\\_internal\\operations\\prepare.py\", line 527, in prepare_linked_requirement\n",
      "    return self._prepare_linked_requirement(req, parallel_builds)\n",
      "           ^^^^^^^^^^^^^^^^^^^^^^^^^^^^^^^^^^^^^^^^^^^^^^^^^^^^^^\n",
      "  File \"C:\\Users\\yuhun\\AppData\\Local\\Packages\\PythonSoftwareFoundation.Python.3.12_qbz5n2kfra8p0\\LocalCache\\local-packages\\Python312\\site-packages\\pip\\_internal\\operations\\prepare.py\", line 642, in _prepare_linked_requirement\n",
      "    dist = _get_prepared_distribution(\n",
      "           ^^^^^^^^^^^^^^^^^^^^^^^^^^^\n",
      "  File \"C:\\Users\\yuhun\\AppData\\Local\\Packages\\PythonSoftwareFoundation.Python.3.12_qbz5n2kfra8p0\\LocalCache\\local-packages\\Python312\\site-packages\\pip\\_internal\\operations\\prepare.py\", line 72, in _get_prepared_distribution\n",
      "    abstract_dist.prepare_distribution_metadata(\n",
      "  File \"C:\\Users\\yuhun\\AppData\\Local\\Packages\\PythonSoftwareFoundation.Python.3.12_qbz5n2kfra8p0\\LocalCache\\local-packages\\Python312\\site-packages\\pip\\_internal\\distributions\\sdist.py\", line 56, in prepare_distribution_metadata\n",
      "    self._install_build_reqs(finder)\n",
      "  File \"C:\\Users\\yuhun\\AppData\\Local\\Packages\\PythonSoftwareFoundation.Python.3.12_qbz5n2kfra8p0\\LocalCache\\local-packages\\Python312\\site-packages\\pip\\_internal\\distributions\\sdist.py\", line 126, in _install_build_reqs\n",
      "    build_reqs = self._get_build_requires_wheel()\n",
      "                 ^^^^^^^^^^^^^^^^^^^^^^^^^^^^^^^^\n",
      "  File \"C:\\Users\\yuhun\\AppData\\Local\\Packages\\PythonSoftwareFoundation.Python.3.12_qbz5n2kfra8p0\\LocalCache\\local-packages\\Python312\\site-packages\\pip\\_internal\\distributions\\sdist.py\", line 103, in _get_build_requires_wheel\n",
      "    return backend.get_requires_for_build_wheel()\n",
      "           ^^^^^^^^^^^^^^^^^^^^^^^^^^^^^^^^^^^^^^\n",
      "  File \"C:\\Users\\yuhun\\AppData\\Local\\Packages\\PythonSoftwareFoundation.Python.3.12_qbz5n2kfra8p0\\LocalCache\\local-packages\\Python312\\site-packages\\pip\\_internal\\utils\\misc.py\", line 701, in get_requires_for_build_wheel\n",
      "    return super().get_requires_for_build_wheel(config_settings=cs)\n",
      "           ^^^^^^^^^^^^^^^^^^^^^^^^^^^^^^^^^^^^^^^^^^^^^^^^^^^^^^^^\n",
      "  File \"C:\\Users\\yuhun\\AppData\\Local\\Packages\\PythonSoftwareFoundation.Python.3.12_qbz5n2kfra8p0\\LocalCache\\local-packages\\Python312\\site-packages\\pip\\_vendor\\pyproject_hooks\\_impl.py\", line 166, in get_requires_for_build_wheel\n",
      "    return self._call_hook('get_requires_for_build_wheel', {\n",
      "           ^^^^^^^^^^^^^^^^^^^^^^^^^^^^^^^^^^^^^^^^^^^^^^^^^\n",
      "  File \"C:\\Users\\yuhun\\AppData\\Local\\Packages\\PythonSoftwareFoundation.Python.3.12_qbz5n2kfra8p0\\LocalCache\\local-packages\\Python312\\site-packages\\pip\\_vendor\\pyproject_hooks\\_impl.py\", line 321, in _call_hook\n",
      "    raise BackendUnavailable(data.get('traceback', ''))\n",
      "pip._vendor.pyproject_hooks._impl.BackendUnavailable: Traceback (most recent call last):\n",
      "  File \"C:\\Users\\yuhun\\AppData\\Local\\Packages\\PythonSoftwareFoundation.Python.3.12_qbz5n2kfra8p0\\LocalCache\\local-packages\\Python312\\site-packages\\pip\\_vendor\\pyproject_hooks\\_in_process\\_in_process.py\", line 77, in _build_backend\n",
      "    obj = import_module(mod_path)\n",
      "          ^^^^^^^^^^^^^^^^^^^^^^^\n",
      "  File \"C:\\Program Files\\WindowsApps\\PythonSoftwareFoundation.Python.3.12_3.12.2544.0_x64__qbz5n2kfra8p0\\Lib\\importlib\\__init__.py\", line 90, in import_module\n",
      "    return _bootstrap._gcd_import(name[level:], package, level)\n",
      "           ^^^^^^^^^^^^^^^^^^^^^^^^^^^^^^^^^^^^^^^^^^^^^^^^^^^^\n",
      "  File \"<frozen importlib._bootstrap>\", line 1387, in _gcd_import\n",
      "  File \"<frozen importlib._bootstrap>\", line 1360, in _find_and_load\n",
      "  File \"<frozen importlib._bootstrap>\", line 1310, in _find_and_load_unlocked\n",
      "  File \"<frozen importlib._bootstrap>\", line 488, in _call_with_frames_removed\n",
      "  File \"<frozen importlib._bootstrap>\", line 1387, in _gcd_import\n",
      "  File \"<frozen importlib._bootstrap>\", line 1360, in _find_and_load\n",
      "  File \"<frozen importlib._bootstrap>\", line 1331, in _find_and_load_unlocked\n",
      "  File \"<frozen importlib._bootstrap>\", line 935, in _load_unlocked\n",
      "  File \"<frozen importlib._bootstrap_external>\", line 999, in exec_module\n",
      "  File \"<frozen importlib._bootstrap>\", line 488, in _call_with_frames_removed\n",
      "  File \"C:\\Users\\yuhun\\AppData\\Local\\Temp\\pip-build-env-w5u0ra_5\\overlay\\Lib\\site-packages\\setuptools\\__init__.py\", line 10, in <module>\n",
      "    import distutils.core\n",
      "ModuleNotFoundError: No module named 'distutils'\n",
      "\n"
     ]
    },
    {
     "name": "stdout",
     "output_type": "stream",
     "text": [
      "Defaulting to user installation because normal site-packages is not writeable\n",
      "Requirement already satisfied: tqdm in c:\\users\\yuhun\\appdata\\local\\packages\\pythonsoftwarefoundation.python.3.12_qbz5n2kfra8p0\\localcache\\local-packages\\python312\\site-packages (4.66.6)\n",
      "Requirement already satisfied: colorama in c:\\users\\yuhun\\appdata\\local\\packages\\pythonsoftwarefoundation.python.3.12_qbz5n2kfra8p0\\localcache\\local-packages\\python312\\site-packages (from tqdm) (0.4.6)\n"
     ]
    },
    {
     "name": "stderr",
     "output_type": "stream",
     "text": [
      "\n",
      "[notice] A new release of pip is available: 24.3.1 -> 25.0.1\n",
      "[notice] To update, run: C:\\Users\\yuhun\\AppData\\Local\\Microsoft\\WindowsApps\\PythonSoftwareFoundation.Python.3.12_qbz5n2kfra8p0\\python.exe -m pip install --upgrade pip\n"
     ]
    }
   ],
   "source": [
    "!pip install gym\n",
    "!pip install numpy==1.24.0\n",
    "!pip install tqdm"
   ]
  },
  {
   "cell_type": "code",
   "execution_count": 4,
   "metadata": {
    "id": "L8nLFy4z2bZh"
   },
   "outputs": [],
   "source": [
    "import gym\n",
    "import numpy as np\n",
    "import importlib.util\n",
    "import time\n",
    "from IPython.display import clear_output\n",
    "import random"
   ]
  },
  {
   "cell_type": "code",
   "execution_count": null,
   "metadata": {},
   "outputs": [],
   "source": []
  },
  {
   "cell_type": "code",
   "execution_count": 5,
   "metadata": {
    "id": "W_kyHQESMG0E"
   },
   "outputs": [],
   "source": [
    "np.random.seed(42)"
   ]
  },
  {
   "cell_type": "code",
   "execution_count": 36,
   "metadata": {
    "id": "suK5e6_R2Fcq"
   },
   "outputs": [],
   "source": [
    "\n",
    "# This environment allows you to verify whether your program runs correctly during testing,\n",
    "# as it follows the same observation format from `env.reset()` and `env.step()`.\n",
    "# However, keep in mind that this is just a simplified environment.\n",
    "# The full specifications for the real testing environment can be found in the provided spec.\n",
    "#\n",
    "# You are free to modify this file to better match the real environment and train your own agent.\n",
    "# Good luck!\n",
    "\n",
    "\n",
    "class SimpleTaxiEnv(gym.Env):\n",
    "    def __init__(self, grid_size=10, fuel_limit=5000):\n",
    "        \"\"\"\n",
    "        Custom Taxi environment supporting different grid sizes.\n",
    "        \"\"\"\n",
    "        self.grid_size = grid_size\n",
    "        self.fuel_limit = fuel_limit\n",
    "        self.current_fuel = fuel_limit\n",
    "        self.passenger_picked_up = False\n",
    "\n",
    "        self.stations = [(0, 0), (0, self.grid_size - 1), (self.grid_size - 1, 0), (self.grid_size - 1, self.grid_size - 1)]\n",
    "        self.passenger_loc = None\n",
    "\n",
    "        self.obstacles = set()  # No obstacles in simple version\n",
    "        self.destination = None\n",
    "    def legal(self):\n",
    "      available_positions = [\n",
    "            (x, y) for x in range(self.grid_size) for y in range(self.grid_size)\n",
    "            if (x, y) not in self.obstacles\n",
    "      ]\n",
    "      n=len(available_positions)\n",
    "      p = [0 for i in range(n)]\n",
    "      global group_size\n",
    "      group_size = n\n",
    "      def find_parent(x):\n",
    "        if x!=p[x]:\n",
    "          p[x]=find_parent(p[x])\n",
    "        return p[x]\n",
    "      def Union(a,b):\n",
    "        global group_size\n",
    "        a=find_parent(a)\n",
    "        b=find_parent(b)\n",
    "        if a!=b:\n",
    "          group_size -= 1\n",
    "          if np.random.randint(2)==0:\n",
    "            p[a]=b\n",
    "          else:\n",
    "            p[b]=a\n",
    "      for i in range(n):\n",
    "        p[i]=i\n",
    "      for i in range(n):\n",
    "        for j in range(i+1,n):\n",
    "          if abs(available_positions[i][0]-available_positions[j][0])+abs(available_positions[i][1]-available_positions[j][1])==1:\n",
    "            Union(i,j)\n",
    "      return group_size==1\n",
    "    def reset(self,grid_size=None,obstacle_len=None):\n",
    "        \"\"\"Reset the environment, ensuring Taxi, passenger, and destination are not overlapping obstacles\"\"\"\n",
    "        self.current_fuel = self.fuel_limit\n",
    "        self.passenger_picked_up = False\n",
    "        if grid_size == None:\n",
    "            grid_size = np.random.randint(5,11)\n",
    "        self.grid_size = grid_size\n",
    "        self.stations = []\n",
    "        if obstacle_len == None:\n",
    "            obstacle_len = np.random.randint(0,grid_size*grid_size)\n",
    "        while len(self.stations)<4:\n",
    "            posx,posy = np.random.randint(0,self.grid_size),np.random.randint(0,self.grid_size)\n",
    "            # check posx,posy is not adjacent to existed stations\n",
    "            if not any([abs(posx-station[0])+abs(posy-station[1])<=1 for station in self.stations]):\n",
    "                self.stations.append((posx,posy))\n",
    "        #self.stations = [(0, 0), (0, self.grid_size - 1), (self.grid_size - 1, 0), (self.grid_size - 1, self.grid_size - 1)]\n",
    "        self.obstacles = set()\n",
    "        cnt = 0\n",
    "        while len(self.obstacles)<obstacle_len and cnt < self.grid_size*self.grid_size*10:\n",
    "            posx,posy = np.random.randint(0,self.grid_size),np.random.randint(0,self.grid_size)\n",
    "            if (posx,posy) not in self.stations and (posx,posy) not in self.obstacles:\n",
    "                self.obstacles.add((posx,posy))\n",
    "            if not self.legal():\n",
    "                self.obstacles.remove((posx,posy))\n",
    "            cnt = cnt +1\n",
    "        available_positions = [\n",
    "            (x, y) for x in range(self.grid_size) for y in range(self.grid_size)\n",
    "            if (x, y) not in self.stations and (x, y) not in self.obstacles\n",
    "        ]\n",
    "\n",
    "        self.taxi_pos = random.choice(available_positions)\n",
    "\n",
    "        self.passenger_loc = random.choice([pos for pos in self.stations])\n",
    "\n",
    "\n",
    "        possible_destinations = [s for s in self.stations if s != self.passenger_loc]\n",
    "        self.destination = random.choice(possible_destinations)\n",
    "        #print(f'grid size : {self.grid_size}, obstacles : {len(self.obstacles)}, ')\n",
    "        #self.render_env(self.taxi_pos)\n",
    "        return self.get_state(), {}\n",
    "\n",
    "    def step(self, action):\n",
    "        \"\"\"Perform an action and update the environment state.\"\"\"\n",
    "        taxi_row, taxi_col = self.taxi_pos\n",
    "        next_row, next_col = taxi_row, taxi_col\n",
    "        reward = 0\n",
    "        if action == 0 :  # Move Down\n",
    "            next_row += 1\n",
    "        elif action == 1:  # Move Up\n",
    "            next_row -= 1\n",
    "        elif action == 2:  # Move Right\n",
    "            next_col += 1\n",
    "        elif action == 3:  # Move Left\n",
    "            next_col -= 1\n",
    "\n",
    "\n",
    "        if action in [0, 1, 2, 3]:  # Only movement actions should be checked\n",
    "            if (next_row, next_col) in self.obstacles or not (0 <= next_row < self.grid_size and 0 <= next_col < self.grid_size):\n",
    "                reward -=10\n",
    "                #print('block')\n",
    "            else:\n",
    "                self.taxi_pos = (next_row, next_col)\n",
    "                if self.passenger_picked_up:\n",
    "                    self.passenger_loc = self.taxi_pos\n",
    "        else:\n",
    "            if action == 4:  # PICKUP\n",
    "                if self.taxi_pos == self.passenger_loc:\n",
    "                    self.passenger_picked_up = True\n",
    "                    self.passenger_loc = self.taxi_pos\n",
    "                else:\n",
    "                    reward = -10\n",
    "            elif action == 5:  # DROPOFF\n",
    "                if self.passenger_picked_up:\n",
    "                    self.passenger_picked_up = False\n",
    "                    self.passenger_loc = self.taxi_pos\n",
    "                    if self.taxi_pos == self.destination:\n",
    "                        reward += 50\n",
    "                        return self.get_state(), reward -0.1, True, {}\n",
    "                    else:\n",
    "                        reward -=10\n",
    "                else:\n",
    "                    reward -=10\n",
    "\n",
    "        reward -= 0.1\n",
    "\n",
    "        self.current_fuel -= 1\n",
    "        if self.current_fuel <= 0:\n",
    "            return self.get_state(), reward -10, True, {}\n",
    "\n",
    "\n",
    "\n",
    "        return self.get_state(), reward, False, {}\n",
    "\n",
    "    def get_state(self):\n",
    "        \"\"\"Return the current environment state.\"\"\"\n",
    "        taxi_row, taxi_col = self.taxi_pos\n",
    "        passenger_row, passenger_col = self.passenger_loc\n",
    "        destination_row, destination_col = self.destination\n",
    "\n",
    "        obstacle_north = int(taxi_row == 0 or (taxi_row-1, taxi_col) in self.obstacles)\n",
    "        obstacle_south = int(taxi_row == self.grid_size - 1 or (taxi_row+1, taxi_col) in self.obstacles)\n",
    "        obstacle_east  = int(taxi_col == self.grid_size - 1 or (taxi_row, taxi_col+1) in self.obstacles)\n",
    "        obstacle_west  = int(taxi_col == 0 or (taxi_row , taxi_col-1) in self.obstacles)\n",
    "\n",
    "        passenger_loc_north = int((taxi_row - 1, taxi_col) == self.passenger_loc)\n",
    "        passenger_loc_south = int((taxi_row + 1, taxi_col) == self.passenger_loc)\n",
    "        passenger_loc_east  = int((taxi_row, taxi_col + 1) == self.passenger_loc)\n",
    "        passenger_loc_west  = int((taxi_row, taxi_col - 1) == self.passenger_loc)\n",
    "        passenger_loc_middle  = int( (taxi_row, taxi_col) == self.passenger_loc)\n",
    "        passenger_look = passenger_loc_north or passenger_loc_south or passenger_loc_east or passenger_loc_west or passenger_loc_middle\n",
    "\n",
    "        destination_loc_north = int( (taxi_row - 1, taxi_col) == self.destination)\n",
    "        destination_loc_south = int( (taxi_row + 1, taxi_col) == self.destination)\n",
    "        destination_loc_east  = int( (taxi_row, taxi_col + 1) == self.destination)\n",
    "        destination_loc_west  = int( (taxi_row, taxi_col - 1) == self.destination)\n",
    "        destination_loc_middle  = int( (taxi_row, taxi_col) == self.destination)\n",
    "        destination_look = destination_loc_north or destination_loc_south or destination_loc_east or destination_loc_west or destination_loc_middle\n",
    "\n",
    "\n",
    "        state = (taxi_row, taxi_col, self.stations[0][0],self.stations[0][1] ,self.stations[1][0],self.stations[1][1],self.stations[2][0],self.stations[2][1],self.stations[3][0],self.stations[3][1],obstacle_north, obstacle_south, obstacle_east, obstacle_west, passenger_look, destination_look)\n",
    "        return state,self.passenger_picked_up,self.passenger_loc\n",
    "    def render_env(self, taxi_pos,   action=None, step=None, fuel=None):\n",
    "        clear_output(wait=True)\n",
    "\n",
    "        grid = [['.'] * self.grid_size for _ in range(self.grid_size)]\n",
    "\n",
    "        '''\n",
    "        # Place passenger\n",
    "        py, px = passenger_pos\n",
    "        if 0 <= px < self.grid_size and 0 <= py < self.grid_size:\n",
    "            grid[py][px] = 'P'\n",
    "        '''\n",
    "        stations_char =['R','G','B','Y']\n",
    "        for i in range(len(self.stations)):\n",
    "            sx,sy = self.stations[i]\n",
    "            grid[sy][sx] = stations_char[i]\n",
    "        for ox,oy in self.obstacles:\n",
    "            grid[oy][ox] = '#'\n",
    "\n",
    "        '''\n",
    "        # Place destination\n",
    "        dy, dx = destination_pos\n",
    "        if 0 <= dx < self.grid_size and 0 <= dy < self.grid_size:\n",
    "            grid[dy][dx] = 'D'\n",
    "        '''\n",
    "        # Place taxi\n",
    "        ty, tx = taxi_pos\n",
    "        if 0 <= tx < self.grid_size and 0 <= ty < self.grid_size:\n",
    "            grid[ty][tx] = '🚖'\n",
    "\n",
    "        # Print step info\n",
    "        print(f\"\\nStep: {step}\")\n",
    "        print(f\"Taxi Position: ({tx}, {ty})\")\n",
    "        #print(f\"Passenger Position: ({px}, {py}) {'(In Taxi)' if (px, py) == (tx, ty) else ''}\")\n",
    "        #print(f\"Destination: ({dx}, {dy})\")\n",
    "        print(f\"Fuel Left: {fuel}\")\n",
    "        print(f\"Last Action: {self.get_action_name(action)}\\n\")\n",
    "\n",
    "        # Print grid\n",
    "        for row in grid:\n",
    "            print(\" \".join(row))\n",
    "        print(\"\\n\")\n",
    "\n",
    "    def get_action_name(self, action):\n",
    "        \"\"\"Returns a human-readable action name.\"\"\"\n",
    "        actions = [\"Move South\", \"Move North\", \"Move East\", \"Move West\", \"Pick Up\", \"Drop Off\"]\n",
    "        return actions[action] if action is not None else \"None\""
   ]
  },
  {
   "cell_type": "markdown",
   "metadata": {
    "id": "henzhTux2qUO"
   },
   "source": [
    "## 狀態定義\n",
    "\n",
    "## 狀態定義\n",
    "\n",
    "- pos (相對 R/G/Y/B)的距離 (用 +-0)去代表，直到走到一位置確認是否 pickup/destination為止後 random 換位置。\n",
    "    - 只要相對位移>0一律用 +1表示, <0 用 -1\n",
    "- obstacles\n",
    "- passenger state\n",
    "    - 0 ⇒ not on car\n",
    "    - 1 ⇒ on car\n",
    "- candidates_p\n",
    "    - original : stations\n",
    "    - whenever one is not worked ⇒ removed it\n",
    "- mask_p= [1] * len(candidates_p) + [0] * (4-len(candidates_p))\n",
    "    - 0 代表 passenger_i 是不可能的位置\n",
    "    - 1 代表可能\n",
    "- candidates_goal\n",
    "    - original : stations\n",
    "    - whenever one is not goal ⇒ removed it\n",
    "- mask_goal= [1] * len(candidates_goal) + [0] * (4-len(candidates_goal))\n",
    "    - 0 代表 passenger_i 是不可能的位置\n",
    "    - 1 代表可能\n",
    "- pickup\n",
    "- goal_id : {0,1,2,3}\n",
    "    - 目標是 stations[goal_id]\n"
   ]
  },
  {
   "cell_type": "markdown",
   "metadata": {
    "id": "mKN9Ot4BpJZM"
   },
   "source": [
    "### 轉移\n",
    "\n",
    "- relative_pos = (0,0)\n",
    "    - if passenger_look\n",
    "        - candidate_p = [pos]\n",
    "        - success pickup\n",
    "            - success pickup ⇒ pickup_id=True\n",
    "            - candidates_p = [pos]\n",
    "            - goal = random choice (candidates_goal)\n",
    "    - else:\n",
    "        - candidate_p remove pos\n",
    "        - goal = random.choice(candidates_p)\n",
    "    - if goal_look\n",
    "        - candidate_g = [pos]\n",
    "    - else:\n",
    "        - candidate_g.remove(pos)\n",
    "        - goal = random choice (candidates_goal)\n",
    "- drop\n",
    "    - if pickup ⇒ candidates_p = [pos], goal_id = 0"
   ]
  },
  {
   "cell_type": "code",
   "execution_count": 38,
   "metadata": {
    "id": "vDSsEzx-2ndf"
   },
   "outputs": [],
   "source": [
    "from re import M\n",
    "from collections import defaultdict\n",
    "from tqdm import tqdm\n",
    "def tabular_q_learning(env,episodes=20000, alpha=0.1, gamma=0.99,\n",
    "                       epsilon_start=1.0, epsilon_end=0.1, decay_rate=0.9997):\n",
    "\n",
    "    global stations, candidates_p,candidates_goal, pickup\n",
    "    stations = [[0,0] for _ in range(4)]\n",
    "    candidates_p = [i for i in stations]\n",
    "    candidates_goal = [i for i in stations]\n",
    "    pickup=False\n",
    "    action_size = 6\n",
    "    q_table = defaultdict(lambda :np.zeros(action_size))\n",
    "    pickup_id = 4\n",
    "    drop_id = 5\n",
    "    ifpickup=False\n",
    "    p_loc = (0,0)\n",
    "    def cmp(a,b):\n",
    "        if a==b:\n",
    "            return 0\n",
    "        return 1 if a<b else -1\n",
    "    def get_state_obs(obs,action):\n",
    "        global stations,pickup,candidates_p,candidates_goal\n",
    "        #print(candidates_p)\n",
    "        taxi_row, taxi_col, stations[0][0], stations[0][1] , stations[1][0], stations[1][1],stations[2][0],stations[2][1],stations[3][0],stations[3][1],obstacle_north, obstacle_south, obstacle_east, obstacle_west, passenger_look, destination_look = obs\n",
    "        agent_pos = (taxi_row,taxi_col)\n",
    "        if action==None:\n",
    "            # initialize\n",
    "            candidates_goal = [tuple(i) for i in stations]\n",
    "            candidates_p = [tuple(i) for i in stations]\n",
    "            pickup=False\n",
    "        if passenger_look:\n",
    "            #print('before p',candidates_p)\n",
    "            candidates_p = [ tuple(x) for x in candidates_p if abs(x[0]-agent_pos[0])+abs(x[1]-agent_pos[1]) <=1 ]\n",
    "            #print('after p',candidates_p)\n",
    "        else:\n",
    "            #print('before p',candidates_p)\n",
    "            candidates_p = [ tuple(x) for x in candidates_p if x != agent_pos ]\n",
    "            #print('after p',candidates_p)\n",
    "        if destination_look:\n",
    "            #print('before g',candidates_goal)\n",
    "            candidates_goal = [ tuple(x) for x in candidates_goal if abs(x[0]-agent_pos[0])+abs(x[1]-agent_pos[1]) <=1 ]\n",
    "            #print('after g',candidates_goal)\n",
    "        else:\n",
    "            #print('before g',candidates_goal)\n",
    "            candidates_goal = [ tuple(x) for x in candidates_goal if x!=agent_pos ]\n",
    "            #print('after g',candidates_goal)\n",
    "        if action==pickup_id and not pickup and agent_pos in candidates_p:\n",
    "            pickup = True\n",
    "            candidates_p = []\n",
    "        elif action == drop_id and pickup:\n",
    "            pickup=False\n",
    "            candidates_p.append(agent_pos)\n",
    "        cmp_pos = (0,0)\n",
    "        if not pickup:\n",
    "            cmp_pos = candidates_p[0]\n",
    "        else:\n",
    "            cmp_pos = candidates_goal[0]\n",
    "        passenger_look = passenger_look and agent_pos in candidates_p\n",
    "        destination_look = destination_look and agent_pos in candidates_goal\n",
    "        relative_pos = (cmp(agent_pos[0],cmp_pos[0]),cmp(agent_pos[1],cmp_pos[1]))\n",
    "        return (relative_pos,pickup, passenger_look, destination_look, (obstacle_north,obstacle_south,obstacle_east,obstacle_west))\n",
    "    \"\"\"\n",
    "    if action == 0 :  # Move Down\n",
    "        next_row += 1\n",
    "    elif action == 1:  # Move Up\n",
    "        next_row -= 1\n",
    "    elif action == 2:  # Move Right\n",
    "        next_col += 1\n",
    "    elif action == 3:  # Move Left\n",
    "        next_col -= 1\n",
    "    \"\"\"\n",
    "    station_size = 4\n",
    "    total_reward = 0\n",
    "    total_reward_shaped = 0\n",
    "    cnt = [0,0,0,0]\n",
    "    epsilon = epsilon_start\n",
    "    averaged = [0,0]\n",
    "    batch_size = 100\n",
    "    for epoch in tqdm(range(episodes+100)):\n",
    "        if epoch >=episodes:\n",
    "            epsilon = 0\n",
    "        grid_size = 5 #np.random.randint(5,11)\n",
    "        obstacle_size = np.random.randint(grid_size*grid_size)\n",
    "        obs,_ = env.reset(grid_size,obstacle_size)\n",
    "        averaged[0]+=env.grid_size\n",
    "        averaged[1]+=len(env.obstacles)\n",
    "        obs,ifpickup,p_loc = obs\n",
    "        done = False\n",
    "        state = get_state_obs(obs,action=None)\n",
    "        steps=0\n",
    "        action_l=[]\n",
    "        success = False\n",
    "        has_pickup=False\n",
    "        while not done:\n",
    "            \"\"\"if state[-1]!=(0,0,0,0):\n",
    "              print(state[-1])\"\"\"\n",
    "            if np.random.choice(2,p=[epsilon,1-epsilon])==0 or state not in q_table.keys():\n",
    "                action = np.random.randint(6)\n",
    "            else:\n",
    "                action = np.argmax(q_table[state])\n",
    "            lst_pickup = pickup\n",
    "            relative_pos,pickup, _,_ , _ = state\n",
    "            obs,reward,done,_ = env.step(action)\n",
    "            obs,ifpickup,p_loc = obs\n",
    "            next_state = get_state_obs(obs,action)\n",
    "            total_reward += reward\n",
    "\n",
    "            ### reward shaping\n",
    "            reward_shaping = 0\n",
    "            \"\"\"if relative_pos == (0,0):\n",
    "                # want it to go to possible goal\n",
    "                #reward_shaping += 0.5\"\"\"\n",
    "            if relative_pos != (0,0) and action in [pickup_id,drop_id]:\n",
    "                reward_shaping -= 10\n",
    "            if done and reward>0:\n",
    "                cnt[2]+=1\n",
    "            \n",
    "            relative_pos,pickup, _,_ , _ = next_state\n",
    "            if not done and reward <-10 and action in [0,1,2,3]:\n",
    "                #print('hit wall')\n",
    "                cnt[-1]+=1\n",
    "            if done and reward > 0:\n",
    "                reward_shaping += 50\n",
    "            \"\"\"if not pickup:\n",
    "                reward_shaping -= p_len\n",
    "            reward_shaping -= 0.1 * goal_len\"\"\"\n",
    "            reward += reward_shaping\n",
    "            total_reward_shaped += reward\n",
    "            if epsilon:\n",
    "                q_table[state][action] = q_table[state][action] + alpha*(reward+gamma*np.max(q_table[next_state])-q_table[state][action])\n",
    "            state = next_state\n",
    "            if lst_pickup==False and pickup:\n",
    "                cnt[0]+=1\n",
    "            elif lst_pickup==True and pickup==False:\n",
    "                cnt[1]+=1\n",
    "            if pickup!=ifpickup:\n",
    "                print(pickup,ifpickup)\n",
    "            assert(pickup==ifpickup)\n",
    "\n",
    "\n",
    "        if (epoch+1)%batch_size==0:\n",
    "            cnt = [i/batch_size for i in cnt]\n",
    "            print(f'Epsilon : {epsilon}, average reward : {total_reward/batch_size:.4f}, averaged shaped reward : {total_reward_shaped/batch_size:.4f} Pickup, Drop, Success, Hit wall rate : {cnt}')\n",
    "            print(f'averaged grid size : {averaged[0]/batch_size:.2f}, averaged obstacles : {averaged[1]/batch_size:.2f}')\n",
    "            averaged = [0,0]\n",
    "            cnt = [0,0,0,0]\n",
    "            total_reward = 0\n",
    "            total_reward_shaped = 0\n",
    "        epsilon *= decay_rate #max(epsilon*decay_rate ,epsilon_end)\n",
    "    return q_table\n",
    "\n"
   ]
  },
  {
   "cell_type": "code",
   "execution_count": 39,
   "metadata": {
    "colab": {
     "base_uri": "https://localhost:8080/"
    },
    "id": "8oxVEy1uSuNb",
    "outputId": "137a8cf5-0a6b-4e72-9b7c-f5a5c8dddc9b"
   },
   "outputs": [
    {
     "name": "stderr",
     "output_type": "stream",
     "text": [
      "  0%|          | 100/20100 [00:06<20:35, 16.19it/s]"
     ]
    },
    {
     "name": "stdout",
     "output_type": "stream",
     "text": [
      "Epsilon : 0.9707323853954611, average reward : -12664.6320, averaged shaped reward : -19231.9320 Pickup, Drop, Success, Hit wall rate : [25.3, 25.28, 0.8, 588.93]\n",
      "averaged grid size : 5.00, averaged obstacles : 10.18\n"
     ]
    },
    {
     "name": "stderr",
     "output_type": "stream",
     "text": [
      "  1%|          | 203/20100 [00:12<11:17, 29.39it/s]"
     ]
    },
    {
     "name": "stdout",
     "output_type": "stream",
     "text": [
      "Epsilon : 0.9420386676463453, average reward : -9655.2010, averaged shaped reward : -14558.6010 Pickup, Drop, Success, Hit wall rate : [25.05, 25.05, 0.92, 458.76]\n",
      "averaged grid size : 5.00, averaged obstacles : 10.80\n"
     ]
    },
    {
     "name": "stderr",
     "output_type": "stream",
     "text": [
      "  1%|▏         | 301/20100 [00:15<13:17, 24.84it/s]"
     ]
    },
    {
     "name": "stdout",
     "output_type": "stream",
     "text": [
      "Epsilon : 0.9141931027462054, average reward : -5237.7990, averaged shaped reward : -7897.2990 Pickup, Drop, Success, Hit wall rate : [17.07, 17.07, 0.97, 251.29]\n",
      "averaged grid size : 5.00, averaged obstacles : 9.67\n"
     ]
    },
    {
     "name": "stderr",
     "output_type": "stream",
     "text": [
      "  2%|▏         | 403/20100 [00:20<11:28, 28.62it/s]"
     ]
    },
    {
     "name": "stdout",
     "output_type": "stream",
     "text": [
      "Epsilon : 0.8871706202854996, average reward : -3779.2120, averaged shaped reward : -5654.2120 Pickup, Drop, Success, Hit wall rate : [15.53, 15.52, 0.98, 187.05]\n",
      "averaged grid size : 5.00, averaged obstacles : 10.59\n"
     ]
    },
    {
     "name": "stderr",
     "output_type": "stream",
     "text": [
      "  3%|▎         | 504/20100 [00:23<10:34, 30.88it/s]"
     ]
    },
    {
     "name": "stdout",
     "output_type": "stream",
     "text": [
      "Epsilon : 0.8609468909067693, average reward : -2077.1130, averaged shaped reward : -3095.3130 Pickup, Drop, Success, Hit wall rate : [9.71, 9.71, 0.98, 104.88]\n",
      "averaged grid size : 5.00, averaged obstacles : 10.73\n"
     ]
    },
    {
     "name": "stderr",
     "output_type": "stream",
     "text": [
      "  3%|▎         | 599/20100 [00:27<08:52, 36.59it/s]"
     ]
    },
    {
     "name": "stdout",
     "output_type": "stream",
     "text": [
      "Epsilon : 0.8354983044000018, average reward : -2999.5380, averaged shaped reward : -4522.6380 Pickup, Drop, Success, Hit wall rate : [14.84, 14.84, 0.99, 146.99]\n",
      "averaged grid size : 5.00, averaged obstacles : 10.38\n"
     ]
    },
    {
     "name": "stderr",
     "output_type": "stream",
     "text": [
      "  4%|▎         | 706/20100 [00:30<06:34, 49.19it/s]"
     ]
    },
    {
     "name": "stdout",
     "output_type": "stream",
     "text": [
      "Epsilon : 0.81080194844547, average reward : -2152.3380, averaged shaped reward : -3154.5380 Pickup, Drop, Success, Hit wall rate : [14.28, 14.28, 0.99, 115.88]\n",
      "averaged grid size : 5.00, averaged obstacles : 11.33\n"
     ]
    },
    {
     "name": "stderr",
     "output_type": "stream",
     "text": [
      "  4%|▍         | 803/20100 [00:33<08:20, 38.57it/s]"
     ]
    },
    {
     "name": "stdout",
     "output_type": "stream",
     "text": [
      "Epsilon : 0.7868355879849099, average reward : -1934.0990, averaged shaped reward : -2885.0990 Pickup, Drop, Success, Hit wall rate : [15.31, 15.31, 1.0, 100.61]\n",
      "averaged grid size : 5.00, averaged obstacles : 9.85\n"
     ]
    },
    {
     "name": "stderr",
     "output_type": "stream",
     "text": [
      "  5%|▍         | 908/20100 [00:36<07:39, 41.80it/s]"
     ]
    },
    {
     "name": "stdout",
     "output_type": "stream",
     "text": [
      "Epsilon : 0.7635776452024607, average reward : -1383.4040, averaged shaped reward : -2040.3040 Pickup, Drop, Success, Hit wall rate : [12.83, 12.83, 1.0, 74.88]\n",
      "averaged grid size : 5.00, averaged obstacles : 10.30\n"
     ]
    },
    {
     "name": "stderr",
     "output_type": "stream",
     "text": [
      "  5%|▌         | 1006/20100 [00:38<06:41, 47.53it/s]"
     ]
    },
    {
     "name": "stdout",
     "output_type": "stream",
     "text": [
      "Epsilon : 0.7410071800973455, average reward : -1485.6480, averaged shaped reward : -2209.6480 Pickup, Drop, Success, Hit wall rate : [12.67, 12.67, 1.0, 79.51]\n",
      "averaged grid size : 5.00, averaged obstacles : 9.91\n"
     ]
    },
    {
     "name": "stderr",
     "output_type": "stream",
     "text": [
      "  6%|▌         | 1109/20100 [00:40<05:58, 52.94it/s]"
     ]
    },
    {
     "name": "stdout",
     "output_type": "stream",
     "text": [
      "Epsilon : 0.7191038716308007, average reward : -1158.2260, averaged shaped reward : -1746.7260 Pickup, Drop, Success, Hit wall rate : [8.44, 8.44, 1.0, 59.43]\n",
      "averaged grid size : 5.00, averaged obstacles : 10.53\n"
     ]
    },
    {
     "name": "stderr",
     "output_type": "stream",
     "text": [
      "  6%|▌         | 1203/20100 [00:42<05:08, 61.22it/s]"
     ]
    },
    {
     "name": "stdout",
     "output_type": "stream",
     "text": [
      "Epsilon : 0.6978479994302824, average reward : -875.2460, averaged shaped reward : -1297.4460 Pickup, Drop, Success, Hit wall rate : [9.41, 9.41, 1.0, 48.51]\n",
      "averaged grid size : 5.00, averaged obstacles : 9.76\n"
     ]
    },
    {
     "name": "stderr",
     "output_type": "stream",
     "text": [
      "  7%|▋         | 1314/20100 [00:44<04:55, 63.59it/s]"
     ]
    },
    {
     "name": "stdout",
     "output_type": "stream",
     "text": [
      "Epsilon : 0.6772204260344694, average reward : -687.7790, averaged shaped reward : -1021.6790 Pickup, Drop, Success, Hit wall rate : [8.14, 8.14, 1.0, 39.41]\n",
      "averaged grid size : 5.00, averaged obstacles : 10.99\n"
     ]
    },
    {
     "name": "stderr",
     "output_type": "stream",
     "text": [
      "  7%|▋         | 1400/20100 [00:46<06:10, 50.42it/s]"
     ]
    },
    {
     "name": "stdout",
     "output_type": "stream",
     "text": [
      "Epsilon : 0.6572025796630901, average reward : -984.0650, averaged shaped reward : -1473.6650 Pickup, Drop, Success, Hit wall rate : [15.34, 15.34, 1.0, 56.23]\n",
      "averaged grid size : 5.00, averaged obstacles : 9.18\n"
     ]
    },
    {
     "name": "stderr",
     "output_type": "stream",
     "text": [
      "  7%|▋         | 1505/20100 [00:48<05:40, 54.64it/s]"
     ]
    },
    {
     "name": "stdout",
     "output_type": "stream",
     "text": [
      "Epsilon : 0.6377764374960482, average reward : -593.2990, averaged shaped reward : -872.3990 Pickup, Drop, Success, Hit wall rate : [7.55, 7.55, 1.0, 34.6]\n",
      "averaged grid size : 5.00, averaged obstacles : 10.80\n"
     ]
    },
    {
     "name": "stderr",
     "output_type": "stream",
     "text": [
      "  8%|▊         | 1611/20100 [00:50<04:35, 67.10it/s]"
     ]
    },
    {
     "name": "stdout",
     "output_type": "stream",
     "text": [
      "Epsilon : 0.6189245094468019, average reward : -654.8980, averaged shaped reward : -957.8980 Pickup, Drop, Success, Hit wall rate : [6.13, 6.13, 1.0, 36.81]\n",
      "averaged grid size : 5.00, averaged obstacles : 10.68\n"
     ]
    },
    {
     "name": "stderr",
     "output_type": "stream",
     "text": [
      "  8%|▊         | 1705/20100 [00:51<05:32, 55.38it/s]"
     ]
    },
    {
     "name": "stdout",
     "output_type": "stream",
     "text": [
      "Epsilon : 0.6006298224153795, average reward : -547.9950, averaged shaped reward : -816.4950 Pickup, Drop, Success, Hit wall rate : [6.53, 6.53, 1.0, 30.87]\n",
      "averaged grid size : 5.00, averaged obstacles : 10.44\n"
     ]
    },
    {
     "name": "stderr",
     "output_type": "stream",
     "text": [
      "  9%|▉         | 1810/20100 [00:53<04:06, 74.05it/s]"
     ]
    },
    {
     "name": "stdout",
     "output_type": "stream",
     "text": [
      "Epsilon : 0.5828759050068577, average reward : -638.9450, averaged shaped reward : -942.7450 Pickup, Drop, Success, Hit wall rate : [7.77, 7.77, 1.0, 36.73]\n",
      "averaged grid size : 5.00, averaged obstacles : 9.61\n"
     ]
    },
    {
     "name": "stderr",
     "output_type": "stream",
     "text": [
      " 10%|▉         | 1911/20100 [00:55<04:10, 72.65it/s]"
     ]
    },
    {
     "name": "stdout",
     "output_type": "stream",
     "text": [
      "Epsilon : 0.5656467727015482, average reward : -416.5200, averaged shaped reward : -607.2200 Pickup, Drop, Success, Hit wall rate : [3.31, 3.31, 1.0, 22.96]\n",
      "averaged grid size : 5.00, averaged obstacles : 10.27\n"
     ]
    },
    {
     "name": "stderr",
     "output_type": "stream",
     "text": [
      " 10%|█         | 2010/20100 [00:56<04:51, 62.13it/s]"
     ]
    },
    {
     "name": "stdout",
     "output_type": "stream",
     "text": [
      "Epsilon : 0.5489269134635317, average reward : -393.2030, averaged shaped reward : -568.8030 Pickup, Drop, Success, Hit wall rate : [4.6, 4.6, 1.0, 23.51]\n",
      "averaged grid size : 5.00, averaged obstacles : 10.24\n"
     ]
    },
    {
     "name": "stderr",
     "output_type": "stream",
     "text": [
      " 10%|█         | 2107/20100 [00:58<05:41, 52.75it/s]"
     ]
    },
    {
     "name": "stdout",
     "output_type": "stream",
     "text": [
      "Epsilon : 0.5327012737745875, average reward : -663.5200, averaged shaped reward : -986.9200 Pickup, Drop, Success, Hit wall rate : [5.28, 5.28, 1.0, 35.09]\n",
      "averaged grid size : 5.00, averaged obstacles : 9.27\n"
     ]
    },
    {
     "name": "stderr",
     "output_type": "stream",
     "text": [
      " 11%|█         | 2203/20100 [01:00<04:29, 66.41it/s]"
     ]
    },
    {
     "name": "stdout",
     "output_type": "stream",
     "text": [
      "Epsilon : 0.5169552450809477, average reward : -379.8450, averaged shaped reward : -564.0450 Pickup, Drop, Success, Hit wall rate : [5.62, 5.62, 1.0, 22.31]\n",
      "averaged grid size : 5.00, averaged obstacles : 10.22\n"
     ]
    },
    {
     "name": "stderr",
     "output_type": "stream",
     "text": [
      " 11%|█▏        | 2306/20100 [01:01<04:22, 67.76it/s]"
     ]
    },
    {
     "name": "stdout",
     "output_type": "stream",
     "text": [
      "Epsilon : 0.5016746506406634, average reward : -453.6540, averaged shaped reward : -663.5540 Pickup, Drop, Success, Hit wall rate : [5.84, 5.84, 1.0, 27.16]\n",
      "averaged grid size : 5.00, averaged obstacles : 10.31\n"
     ]
    },
    {
     "name": "stderr",
     "output_type": "stream",
     "text": [
      " 12%|█▏        | 2412/20100 [01:03<04:37, 63.83it/s]"
     ]
    },
    {
     "name": "stdout",
     "output_type": "stream",
     "text": [
      "Epsilon : 0.48684573275975324, average reward : -363.2220, averaged shaped reward : -539.0220 Pickup, Drop, Success, Hit wall rate : [7.25, 7.25, 1.0, 22.38]\n",
      "averaged grid size : 5.00, averaged obstacles : 10.08\n"
     ]
    },
    {
     "name": "stderr",
     "output_type": "stream",
     "text": [
      " 12%|█▏        | 2511/20100 [01:04<04:30, 64.96it/s]"
     ]
    },
    {
     "name": "stdout",
     "output_type": "stream",
     "text": [
      "Epsilon : 0.472455140405632, average reward : -335.8190, averaged shaped reward : -491.3190 Pickup, Drop, Success, Hit wall rate : [5.39, 5.39, 1.0, 20.13]\n",
      "averaged grid size : 5.00, averaged obstacles : 9.75\n"
     ]
    },
    {
     "name": "stderr",
     "output_type": "stream",
     "text": [
      " 13%|█▎        | 2600/20100 [01:06<03:42, 78.66it/s]"
     ]
    },
    {
     "name": "stdout",
     "output_type": "stream",
     "text": [
      "Epsilon : 0.45848991718667526, average reward : -378.5020, averaged shaped reward : -547.6020 Pickup, Drop, Success, Hit wall rate : [4.47, 4.47, 1.0, 22.02]\n",
      "averaged grid size : 5.00, averaged obstacles : 10.62\n"
     ]
    },
    {
     "name": "stderr",
     "output_type": "stream",
     "text": [
      " 13%|█▎        | 2702/20100 [01:08<04:50, 59.81it/s]"
     ]
    },
    {
     "name": "stdout",
     "output_type": "stream",
     "text": [
      "Epsilon : 0.44493748968709157, average reward : -416.8380, averaged shaped reward : -617.4380 Pickup, Drop, Success, Hit wall rate : [7.19, 7.19, 1.0, 25.06]\n",
      "averaged grid size : 5.00, averaged obstacles : 10.72\n"
     ]
    },
    {
     "name": "stderr",
     "output_type": "stream",
     "text": [
      " 14%|█▍        | 2806/20100 [01:10<05:55, 48.71it/s]"
     ]
    },
    {
     "name": "stdout",
     "output_type": "stream",
     "text": [
      "Epsilon : 0.43178565614660414, average reward : -479.3970, averaged shaped reward : -728.6970 Pickup, Drop, Success, Hit wall rate : [11.29, 11.29, 1.0, 29.95]\n",
      "averaged grid size : 5.00, averaged obstacles : 10.47\n"
     ]
    },
    {
     "name": "stderr",
     "output_type": "stream",
     "text": [
      " 14%|█▍        | 2902/20100 [01:11<04:03, 70.62it/s]"
     ]
    },
    {
     "name": "stdout",
     "output_type": "stream",
     "text": [
      "Epsilon : 0.41902257547474614, average reward : -369.4890, averaged shaped reward : -542.5890 Pickup, Drop, Success, Hit wall rate : [7.08, 7.08, 1.0, 23.79]\n",
      "averaged grid size : 5.00, averaged obstacles : 10.75\n"
     ]
    },
    {
     "name": "stderr",
     "output_type": "stream",
     "text": [
      " 15%|█▍        | 3002/20100 [01:13<05:23, 52.88it/s]"
     ]
    },
    {
     "name": "stdout",
     "output_type": "stream",
     "text": [
      "Epsilon : 0.4066367565898823, average reward : -378.1370, averaged shaped reward : -568.9370 Pickup, Drop, Success, Hit wall rate : [5.56, 5.56, 1.0, 20.83]\n",
      "averaged grid size : 5.00, averaged obstacles : 9.72\n"
     ]
    },
    {
     "name": "stderr",
     "output_type": "stream",
     "text": [
      " 15%|█▌        | 3107/20100 [01:15<04:43, 60.01it/s]"
     ]
    },
    {
     "name": "stdout",
     "output_type": "stream",
     "text": [
      "Epsilon : 0.3946170480733558, average reward : -365.1770, averaged shaped reward : -545.5770 Pickup, Drop, Success, Hit wall rate : [5.06, 5.06, 1.0, 20.22]\n",
      "averaged grid size : 5.00, averaged obstacles : 9.30\n"
     ]
    },
    {
     "name": "stderr",
     "output_type": "stream",
     "text": [
      " 16%|█▌        | 3202/20100 [01:17<04:06, 68.44it/s]"
     ]
    },
    {
     "name": "stdout",
     "output_type": "stream",
     "text": [
      "Epsilon : 0.3829526281294461, average reward : -250.6930, averaged shaped reward : -365.9930 Pickup, Drop, Success, Hit wall rate : [5.87, 5.87, 1.0, 16.63]\n",
      "averaged grid size : 5.00, averaged obstacles : 10.39\n"
     ]
    },
    {
     "name": "stderr",
     "output_type": "stream",
     "text": [
      " 16%|█▋        | 3301/20100 [01:19<04:52, 57.38it/s]"
     ]
    },
    {
     "name": "stdout",
     "output_type": "stream",
     "text": [
      "Epsilon : 0.37163299484209894, average reward : -482.7090, averaged shaped reward : -728.6090 Pickup, Drop, Success, Hit wall rate : [9.79, 9.79, 1.0, 29.16]\n",
      "averaged grid size : 5.00, averaged obstacles : 10.43\n"
     ]
    },
    {
     "name": "stderr",
     "output_type": "stream",
     "text": [
      " 17%|█▋        | 3400/20100 [01:21<05:05, 54.66it/s]"
     ]
    },
    {
     "name": "stdout",
     "output_type": "stream",
     "text": [
      "Epsilon : 0.3606479567196572, average reward : -504.0450, averaged shaped reward : -773.5450 Pickup, Drop, Success, Hit wall rate : [11.46, 11.46, 1.0, 30.52]\n",
      "averaged grid size : 5.00, averaged obstacles : 9.82\n"
     ]
    },
    {
     "name": "stderr",
     "output_type": "stream",
     "text": [
      " 17%|█▋        | 3506/20100 [01:23<04:59, 55.33it/s]"
     ]
    },
    {
     "name": "stdout",
     "output_type": "stream",
     "text": [
      "Epsilon : 0.34998762351907753, average reward : -313.5630, averaged shaped reward : -462.1630 Pickup, Drop, Success, Hit wall rate : [6.32, 6.32, 1.0, 19.42]\n",
      "averaged grid size : 5.00, averaged obstacles : 9.93\n"
     ]
    },
    {
     "name": "stderr",
     "output_type": "stream",
     "text": [
      " 18%|█▊        | 3606/20100 [01:25<05:34, 49.32it/s]"
     ]
    },
    {
     "name": "stdout",
     "output_type": "stream",
     "text": [
      "Epsilon : 0.33964239734137164, average reward : -501.6250, averaged shaped reward : -725.8250 Pickup, Drop, Success, Hit wall rate : [7.1, 7.1, 0.99, 29.6]\n",
      "averaged grid size : 5.00, averaged obstacles : 10.66\n"
     ]
    },
    {
     "name": "stderr",
     "output_type": "stream",
     "text": [
      " 18%|█▊        | 3707/20100 [01:28<05:08, 53.19it/s]"
     ]
    },
    {
     "name": "stdout",
     "output_type": "stream",
     "text": [
      "Epsilon : 0.32960296399025707, average reward : -581.4120, averaged shaped reward : -873.4120 Pickup, Drop, Success, Hit wall rate : [12.1, 12.09, 0.99, 35.67]\n",
      "averaged grid size : 5.00, averaged obstacles : 10.96\n"
     ]
    },
    {
     "name": "stderr",
     "output_type": "stream",
     "text": [
      " 19%|█▉        | 3805/20100 [01:30<04:49, 56.23it/s]"
     ]
    },
    {
     "name": "stdout",
     "output_type": "stream",
     "text": [
      "Epsilon : 0.31986028458623617, average reward : -314.2730, averaged shaped reward : -474.8730 Pickup, Drop, Success, Hit wall rate : [8.31, 8.31, 1.0, 20.19]\n",
      "averaged grid size : 5.00, averaged obstacles : 10.65\n"
     ]
    },
    {
     "name": "stderr",
     "output_type": "stream",
     "text": [
      " 19%|█▉        | 3904/20100 [01:31<03:38, 74.12it/s]"
     ]
    },
    {
     "name": "stdout",
     "output_type": "stream",
     "text": [
      "Epsilon : 0.3104055874285531, average reward : -299.4460, averaged shaped reward : -440.3460 Pickup, Drop, Success, Hit wall rate : [4.88, 4.88, 1.0, 17.49]\n",
      "averaged grid size : 5.00, averaged obstacles : 10.13\n"
     ]
    },
    {
     "name": "stderr",
     "output_type": "stream",
     "text": [
      " 20%|█▉        | 4006/20100 [01:33<04:12, 63.80it/s]"
     ]
    },
    {
     "name": "stdout",
     "output_type": "stream",
     "text": [
      "Epsilon : 0.3012303600977012, average reward : -458.4680, averaged shaped reward : -657.7680 Pickup, Drop, Success, Hit wall rate : [7.6, 7.6, 0.99, 28.09]\n",
      "averaged grid size : 5.00, averaged obstacles : 9.97\n"
     ]
    },
    {
     "name": "stderr",
     "output_type": "stream",
     "text": [
      " 20%|██        | 4107/20100 [01:36<05:06, 52.26it/s]"
     ]
    },
    {
     "name": "stdout",
     "output_type": "stream",
     "text": [
      "Epsilon : 0.29232634179137196, average reward : -457.4040, averaged shaped reward : -690.3040 Pickup, Drop, Success, Hit wall rate : [10.03, 10.03, 1.0, 27.2]\n",
      "averaged grid size : 5.00, averaged obstacles : 10.41\n"
     ]
    },
    {
     "name": "stderr",
     "output_type": "stream",
     "text": [
      " 21%|██        | 4214/20100 [01:38<03:47, 69.88it/s]"
     ]
    },
    {
     "name": "stdout",
     "output_type": "stream",
     "text": [
      "Epsilon : 0.2836855158869432, average reward : -227.4950, averaged shaped reward : -342.1950 Pickup, Drop, Success, Hit wall rate : [7.38, 7.38, 1.0, 15.08]\n",
      "averaged grid size : 5.00, averaged obstacles : 10.18\n"
     ]
    },
    {
     "name": "stderr",
     "output_type": "stream",
     "text": [
      " 21%|██▏       | 4305/20100 [01:40<06:29, 40.52it/s]"
     ]
    },
    {
     "name": "stdout",
     "output_type": "stream",
     "text": [
      "Epsilon : 0.27530010272381267, average reward : -342.4970, averaged shaped reward : -498.5970 Pickup, Drop, Success, Hit wall rate : [6.73, 6.73, 1.0, 21.46]\n",
      "averaged grid size : 5.00, averaged obstacles : 10.87\n"
     ]
    },
    {
     "name": "stderr",
     "output_type": "stream",
     "text": [
      " 22%|██▏       | 4406/20100 [01:42<03:36, 72.59it/s]"
     ]
    },
    {
     "name": "stdout",
     "output_type": "stream",
     "text": [
      "Epsilon : 0.2671625525990772, average reward : -450.9040, averaged shaped reward : -686.3040 Pickup, Drop, Success, Hit wall rate : [9.99, 9.99, 1.0, 25.83]\n",
      "averaged grid size : 5.00, averaged obstacles : 9.98\n"
     ]
    },
    {
     "name": "stderr",
     "output_type": "stream",
     "text": [
      " 22%|██▏       | 4503/20100 [01:44<04:12, 61.86it/s]"
     ]
    },
    {
     "name": "stdout",
     "output_type": "stream",
     "text": [
      "Epsilon : 0.25926553897025056, average reward : -238.9760, averaged shaped reward : -349.0760 Pickup, Drop, Success, Hit wall rate : [5.97, 5.97, 1.0, 15.79]\n",
      "averaged grid size : 5.00, averaged obstacles : 9.43\n"
     ]
    },
    {
     "name": "stderr",
     "output_type": "stream",
     "text": [
      " 23%|██▎       | 4610/20100 [01:45<04:03, 63.54it/s]"
     ]
    },
    {
     "name": "stdout",
     "output_type": "stream",
     "text": [
      "Epsilon : 0.2516019518589026, average reward : -246.3330, averaged shaped reward : -358.8330 Pickup, Drop, Success, Hit wall rate : [6.08, 6.08, 1.0, 15.72]\n",
      "averaged grid size : 5.00, averaged obstacles : 10.45\n"
     ]
    },
    {
     "name": "stderr",
     "output_type": "stream",
     "text": [
      " 23%|██▎       | 4704/20100 [01:48<06:06, 42.00it/s]"
     ]
    },
    {
     "name": "stdout",
     "output_type": "stream",
     "text": [
      "Epsilon : 0.24416489144927697, average reward : -604.0910, averaged shaped reward : -877.0910 Pickup, Drop, Success, Hit wall rate : [7.44, 7.44, 0.98, 34.43]\n",
      "averaged grid size : 5.00, averaged obstacles : 10.42\n"
     ]
    },
    {
     "name": "stderr",
     "output_type": "stream",
     "text": [
      " 24%|██▍       | 4804/20100 [01:51<07:14, 35.17it/s]"
     ]
    },
    {
     "name": "stdout",
     "output_type": "stream",
     "text": [
      "Epsilon : 0.2369476618761284, average reward : -551.7990, averaged shaped reward : -838.0990 Pickup, Drop, Success, Hit wall rate : [10.31, 10.31, 1.0, 30.39]\n",
      "averaged grid size : 5.00, averaged obstacles : 9.84\n"
     ]
    },
    {
     "name": "stderr",
     "output_type": "stream",
     "text": [
      " 24%|██▍       | 4902/20100 [01:53<05:43, 44.21it/s]"
     ]
    },
    {
     "name": "stdout",
     "output_type": "stream",
     "text": [
      "Epsilon : 0.22994376519618312, average reward : -281.4410, averaged shaped reward : -421.3410 Pickup, Drop, Success, Hit wall rate : [7.04, 7.04, 1.0, 17.93]\n",
      "averaged grid size : 5.00, averaged obstacles : 9.90\n"
     ]
    },
    {
     "name": "stderr",
     "output_type": "stream",
     "text": [
      " 25%|██▍       | 5006/20100 [01:55<03:48, 66.10it/s]"
     ]
    },
    {
     "name": "stdout",
     "output_type": "stream",
     "text": [
      "Epsilon : 0.22314689553779596, average reward : -199.4420, averaged shaped reward : -292.4420 Pickup, Drop, Success, Hit wall rate : [4.68, 4.68, 1.0, 12.15]\n",
      "averaged grid size : 5.00, averaged obstacles : 9.85\n"
     ]
    },
    {
     "name": "stderr",
     "output_type": "stream",
     "text": [
      " 25%|██▌       | 5112/20100 [01:57<04:19, 57.85it/s]"
     ]
    },
    {
     "name": "stdout",
     "output_type": "stream",
     "text": [
      "Epsilon : 0.21655093342353662, average reward : -436.6720, averaged shaped reward : -647.6720 Pickup, Drop, Success, Hit wall rate : [9.01, 9.01, 1.0, 25.86]\n",
      "averaged grid size : 5.00, averaged obstacles : 10.19\n"
     ]
    },
    {
     "name": "stderr",
     "output_type": "stream",
     "text": [
      " 26%|██▌       | 5212/20100 [01:58<02:36, 95.17it/s]"
     ]
    },
    {
     "name": "stdout",
     "output_type": "stream",
     "text": [
      "Epsilon : 0.2101499402605948, average reward : -302.8450, averaged shaped reward : -434.6450 Pickup, Drop, Success, Hit wall rate : [5.87, 5.87, 1.0, 18.78]\n",
      "averaged grid size : 5.00, averaged obstacles : 10.14\n"
     ]
    },
    {
     "name": "stderr",
     "output_type": "stream",
     "text": [
      " 26%|██▋       | 5308/20100 [01:59<03:02, 80.85it/s]"
     ]
    },
    {
     "name": "stdout",
     "output_type": "stream",
     "text": [
      "Epsilon : 0.20393815299404083, average reward : -259.3570, averaged shaped reward : -375.7570 Pickup, Drop, Success, Hit wall rate : [5.3, 5.3, 1.0, 15.88]\n",
      "averaged grid size : 5.00, averaged obstacles : 10.09\n"
     ]
    },
    {
     "name": "stderr",
     "output_type": "stream",
     "text": [
      " 27%|██▋       | 5416/20100 [02:00<02:38, 92.68it/s] "
     ]
    },
    {
     "name": "stdout",
     "output_type": "stream",
     "text": [
      "Epsilon : 0.1979099789181311, average reward : -169.5100, averaged shaped reward : -245.8100 Pickup, Drop, Success, Hit wall rate : [3.76, 3.76, 1.0, 10.44]\n",
      "averaged grid size : 5.00, averaged obstacles : 10.54\n"
     ]
    },
    {
     "name": "stderr",
     "output_type": "stream",
     "text": [
      " 27%|██▋       | 5515/20100 [02:02<03:44, 64.92it/s]"
     ]
    },
    {
     "name": "stdout",
     "output_type": "stream",
     "text": [
      "Epsilon : 0.19205999064098425, average reward : -351.1940, averaged shaped reward : -516.2940 Pickup, Drop, Success, Hit wall rate : [7.5, 7.5, 1.0, 21.08]\n",
      "averaged grid size : 5.00, averaged obstacles : 11.31\n"
     ]
    },
    {
     "name": "stderr",
     "output_type": "stream",
     "text": [
      " 28%|██▊       | 5608/20100 [02:03<03:30, 68.84it/s]"
     ]
    },
    {
     "name": "stdout",
     "output_type": "stream",
     "text": [
      "Epsilon : 0.18638292119809646, average reward : -485.2930, averaged shaped reward : -705.7930 Pickup, Drop, Success, Hit wall rate : [6.76, 6.76, 0.99, 27.92]\n",
      "averaged grid size : 5.00, averaged obstacles : 11.17\n"
     ]
    },
    {
     "name": "stderr",
     "output_type": "stream",
     "text": [
      " 28%|██▊       | 5716/20100 [02:05<02:42, 88.25it/s] "
     ]
    },
    {
     "name": "stdout",
     "output_type": "stream",
     "text": [
      "Epsilon : 0.18087365931029498, average reward : -260.4960, averaged shaped reward : -372.2960 Pickup, Drop, Success, Hit wall rate : [4.42, 4.42, 1.0, 14.62]\n",
      "averaged grid size : 5.00, averaged obstacles : 9.20\n"
     ]
    },
    {
     "name": "stderr",
     "output_type": "stream",
     "text": [
      " 29%|██▉       | 5815/20100 [02:06<02:45, 86.47it/s]"
     ]
    },
    {
     "name": "stdout",
     "output_type": "stream",
     "text": [
      "Epsilon : 0.17552724478186138, average reward : -247.2810, averaged shaped reward : -347.1810 Pickup, Drop, Success, Hit wall rate : [4.41, 4.41, 1.0, 15.15]\n",
      "averaged grid size : 5.00, averaged obstacles : 10.99\n"
     ]
    },
    {
     "name": "stderr",
     "output_type": "stream",
     "text": [
      " 29%|██▉       | 5907/20100 [02:07<03:04, 76.87it/s]"
     ]
    },
    {
     "name": "stdout",
     "output_type": "stream",
     "text": [
      "Epsilon : 0.1703388640346807, average reward : -383.2810, averaged shaped reward : -546.8810 Pickup, Drop, Success, Hit wall rate : [5.16, 5.16, 1.0, 22.39]\n",
      "averaged grid size : 5.00, averaged obstacles : 10.41\n"
     ]
    },
    {
     "name": "stderr",
     "output_type": "stream",
     "text": [
      " 30%|██▉       | 6007/20100 [02:09<03:17, 71.35it/s]"
     ]
    },
    {
     "name": "stdout",
     "output_type": "stream",
     "text": [
      "Epsilon : 0.1653038457743959, average reward : -322.7960, averaged shaped reward : -467.2960 Pickup, Drop, Success, Hit wall rate : [4.9, 4.9, 1.0, 17.84]\n",
      "averaged grid size : 5.00, averaged obstacles : 10.43\n"
     ]
    },
    {
     "name": "stderr",
     "output_type": "stream",
     "text": [
      " 30%|███       | 6103/20100 [02:10<03:20, 69.65it/s]"
     ]
    },
    {
     "name": "stdout",
     "output_type": "stream",
     "text": [
      "Epsilon : 0.1604176567846656, average reward : -273.8170, averaged shaped reward : -411.8170 Pickup, Drop, Success, Hit wall rate : [6.12, 6.12, 1.0, 15.77]\n",
      "averaged grid size : 5.00, averaged obstacles : 10.88\n"
     ]
    },
    {
     "name": "stderr",
     "output_type": "stream",
     "text": [
      " 31%|███       | 6204/20100 [02:12<04:30, 51.30it/s]"
     ]
    },
    {
     "name": "stdout",
     "output_type": "stream",
     "text": [
      "Epsilon : 0.15567589784573974, average reward : -438.9760, averaged shaped reward : -658.6760 Pickup, Drop, Success, Hit wall rate : [9.42, 9.42, 1.0, 25.23]\n",
      "averaged grid size : 5.00, averaged obstacles : 9.99\n"
     ]
    },
    {
     "name": "stderr",
     "output_type": "stream",
     "text": [
      " 31%|███▏      | 6313/20100 [02:14<03:09, 72.85it/s]"
     ]
    },
    {
     "name": "stdout",
     "output_type": "stream",
     "text": [
      "Epsilon : 0.15107429977367576, average reward : -461.8260, averaged shaped reward : -667.1260 Pickup, Drop, Success, Hit wall rate : [6.78, 6.78, 0.98, 26.11]\n",
      "averaged grid size : 5.00, averaged obstacles : 10.60\n"
     ]
    },
    {
     "name": "stderr",
     "output_type": "stream",
     "text": [
      " 32%|███▏      | 6407/20100 [02:16<03:20, 68.14it/s]"
     ]
    },
    {
     "name": "stdout",
     "output_type": "stream",
     "text": [
      "Epsilon : 0.1466087195766319, average reward : -313.7900, averaged shaped reward : -465.1900 Pickup, Drop, Success, Hit wall rate : [7.3, 7.3, 1.0, 18.6]\n",
      "averaged grid size : 5.00, averaged obstacles : 10.07\n"
     ]
    },
    {
     "name": "stderr",
     "output_type": "stream",
     "text": [
      " 32%|███▏      | 6512/20100 [02:17<03:24, 66.41it/s]"
     ]
    },
    {
     "name": "stdout",
     "output_type": "stream",
     "text": [
      "Epsilon : 0.14227513672477576, average reward : -306.4030, averaged shaped reward : -428.3030 Pickup, Drop, Success, Hit wall rate : [4.08, 4.08, 1.0, 17.63]\n",
      "averaged grid size : 5.00, averaged obstacles : 10.04\n"
     ]
    },
    {
     "name": "stderr",
     "output_type": "stream",
     "text": [
      " 33%|███▎      | 6614/20100 [02:20<04:09, 54.14it/s]"
     ]
    },
    {
     "name": "stdout",
     "output_type": "stream",
     "text": [
      "Epsilon : 0.13806964953045042, average reward : -432.2960, averaged shaped reward : -628.1960 Pickup, Drop, Success, Hit wall rate : [8.0, 7.99, 0.99, 24.93]\n",
      "averaged grid size : 5.00, averaged obstacles : 10.42\n"
     ]
    },
    {
     "name": "stderr",
     "output_type": "stream",
     "text": [
      " 33%|███▎      | 6708/20100 [02:22<04:57, 45.06it/s]"
     ]
    },
    {
     "name": "stdout",
     "output_type": "stream",
     "text": [
      "Epsilon : 0.13398847163533775, average reward : -372.2310, averaged shaped reward : -551.9310 Pickup, Drop, Success, Hit wall rate : [7.83, 7.82, 0.98, 20.39]\n",
      "averaged grid size : 5.00, averaged obstacles : 10.03\n"
     ]
    },
    {
     "name": "stderr",
     "output_type": "stream",
     "text": [
      " 34%|███▍      | 6807/20100 [02:24<06:51, 32.32it/s]"
     ]
    },
    {
     "name": "stdout",
     "output_type": "stream",
     "text": [
      "Epsilon : 0.1300279286014575, average reward : -684.8080, averaged shaped reward : -995.5080 Pickup, Drop, Success, Hit wall rate : [6.14, 6.12, 0.94, 34.13]\n",
      "averaged grid size : 5.00, averaged obstacles : 8.98\n"
     ]
    },
    {
     "name": "stderr",
     "output_type": "stream",
     "text": [
      " 34%|███▍      | 6901/20100 [02:28<05:43, 38.44it/s]"
     ]
    },
    {
     "name": "stdout",
     "output_type": "stream",
     "text": [
      "Epsilon : 0.1261844546029338, average reward : -487.2070, averaged shaped reward : -702.5070 Pickup, Drop, Success, Hit wall rate : [6.39, 6.37, 0.97, 26.1]\n",
      "averaged grid size : 5.00, averaged obstacles : 10.29\n"
     ]
    },
    {
     "name": "stderr",
     "output_type": "stream",
     "text": [
      " 35%|███▍      | 7003/20100 [02:32<05:28, 39.87it/s]"
     ]
    },
    {
     "name": "stdout",
     "output_type": "stream",
     "text": [
      "Epsilon : 0.12245458921554622, average reward : -465.3820, averaged shaped reward : -683.6820 Pickup, Drop, Success, Hit wall rate : [6.45, 6.45, 0.98, 23.67]\n",
      "averaged grid size : 5.00, averaged obstacles : 10.97\n"
     ]
    },
    {
     "name": "stderr",
     "output_type": "stream",
     "text": [
      " 35%|███▌      | 7104/20100 [02:35<05:11, 41.69it/s]"
     ]
    },
    {
     "name": "stdout",
     "output_type": "stream",
     "text": [
      "Epsilon : 0.118834974301181, average reward : -413.5630, averaged shaped reward : -586.4630 Pickup, Drop, Success, Hit wall rate : [5.58, 5.58, 1.0, 23.04]\n",
      "averaged grid size : 5.00, averaged obstacles : 10.11\n"
     ]
    },
    {
     "name": "stderr",
     "output_type": "stream",
     "text": [
      " 36%|███▌      | 7204/20100 [02:38<06:18, 34.05it/s]"
     ]
    },
    {
     "name": "stdout",
     "output_type": "stream",
     "text": [
      "Epsilon : 0.11532235098437221, average reward : -282.4350, averaged shaped reward : -403.8350 Pickup, Drop, Success, Hit wall rate : [5.83, 5.82, 0.99, 16.38]\n",
      "averaged grid size : 5.00, averaged obstacles : 9.68\n"
     ]
    },
    {
     "name": "stderr",
     "output_type": "stream",
     "text": [
      " 36%|███▋      | 7305/20100 [02:42<07:38, 27.93it/s]"
     ]
    },
    {
     "name": "stdout",
     "output_type": "stream",
     "text": [
      "Epsilon : 0.11191355671821418, average reward : -442.3590, averaged shaped reward : -632.5590 Pickup, Drop, Success, Hit wall rate : [4.02, 4.01, 0.97, 21.8]\n",
      "averaged grid size : 5.00, averaged obstacles : 10.42\n"
     ]
    },
    {
     "name": "stderr",
     "output_type": "stream",
     "text": [
      " 37%|███▋      | 7404/20100 [02:45<04:33, 46.34it/s]"
     ]
    },
    {
     "name": "stdout",
     "output_type": "stream",
     "text": [
      "Epsilon : 0.10860552243700095, average reward : -235.2140, averaged shaped reward : -325.8140 Pickup, Drop, Success, Hit wall rate : [4.03, 4.03, 1.0, 13.46]\n",
      "averaged grid size : 5.00, averaged obstacles : 9.56\n"
     ]
    },
    {
     "name": "stderr",
     "output_type": "stream",
     "text": [
      " 37%|███▋      | 7500/20100 [02:48<04:52, 43.12it/s]"
     ]
    },
    {
     "name": "stdout",
     "output_type": "stream",
     "text": [
      "Epsilon : 0.10539526979303146, average reward : -236.5500, averaged shaped reward : -339.2500 Pickup, Drop, Success, Hit wall rate : [6.26, 6.25, 0.99, 14.25]\n",
      "averaged grid size : 5.00, averaged obstacles : 10.19\n"
     ]
    },
    {
     "name": "stderr",
     "output_type": "stream",
     "text": [
      " 38%|███▊      | 7598/20100 [02:51<05:56, 35.07it/s]"
     ]
    },
    {
     "name": "stdout",
     "output_type": "stream",
     "text": [
      "Epsilon : 0.1022799084750909, average reward : -335.5670, averaged shaped reward : -478.7670 Pickup, Drop, Success, Hit wall rate : [6.11, 6.11, 1.0, 18.97]\n",
      "averaged grid size : 5.00, averaged obstacles : 10.86\n"
     ]
    },
    {
     "name": "stderr",
     "output_type": "stream",
     "text": [
      " 38%|███▊      | 7713/20100 [02:56<05:08, 40.21it/s]"
     ]
    },
    {
     "name": "stdout",
     "output_type": "stream",
     "text": [
      "Epsilon : 0.09925663360619481, average reward : -427.8190, averaged shaped reward : -599.1190 Pickup, Drop, Success, Hit wall rate : [5.75, 5.75, 0.98, 23.75]\n",
      "averaged grid size : 5.00, averaged obstacles : 10.27\n"
     ]
    },
    {
     "name": "stderr",
     "output_type": "stream",
     "text": [
      " 39%|███▉      | 7805/20100 [02:59<05:23, 37.98it/s]"
     ]
    },
    {
     "name": "stdout",
     "output_type": "stream",
     "text": [
      "Epsilon : 0.09632272321825273, average reward : -440.5570, averaged shaped reward : -624.0570 Pickup, Drop, Success, Hit wall rate : [5.64, 5.63, 0.97, 23.47]\n",
      "averaged grid size : 5.00, averaged obstacles : 10.12\n"
     ]
    },
    {
     "name": "stderr",
     "output_type": "stream",
     "text": [
      " 39%|███▉      | 7913/20100 [03:01<02:52, 70.75it/s]"
     ]
    },
    {
     "name": "stdout",
     "output_type": "stream",
     "text": [
      "Epsilon : 0.09347553580137793, average reward : -360.6930, averaged shaped reward : -502.8930 Pickup, Drop, Success, Hit wall rate : [4.07, 4.07, 1.0, 18.47]\n",
      "averaged grid size : 5.00, averaged obstacles : 10.99\n"
     ]
    },
    {
     "name": "stderr",
     "output_type": "stream",
     "text": [
      " 40%|███▉      | 8006/20100 [03:03<03:45, 53.67it/s]"
     ]
    },
    {
     "name": "stdout",
     "output_type": "stream",
     "text": [
      "Epsilon : 0.09071250792563704, average reward : -267.1690, averaged shaped reward : -374.0690 Pickup, Drop, Success, Hit wall rate : [3.9, 3.89, 0.98, 13.82]\n",
      "averaged grid size : 5.00, averaged obstacles : 9.69\n"
     ]
    },
    {
     "name": "stderr",
     "output_type": "stream",
     "text": [
      " 40%|████      | 8103/20100 [03:05<04:35, 43.59it/s]"
     ]
    },
    {
     "name": "stdout",
     "output_type": "stream",
     "text": [
      "Epsilon : 0.08803115193309721, average reward : -406.1290, averaged shaped reward : -602.6290 Pickup, Drop, Success, Hit wall rate : [10.3, 10.26, 0.96, 21.68]\n",
      "averaged grid size : 5.00, averaged obstacles : 9.50\n"
     ]
    },
    {
     "name": "stderr",
     "output_type": "stream",
     "text": [
      " 41%|████      | 8200/20100 [03:07<02:55, 67.68it/s]"
     ]
    },
    {
     "name": "stdout",
     "output_type": "stream",
     "text": [
      "Epsilon : 0.08542905369809413, average reward : -284.7390, averaged shaped reward : -398.2390 Pickup, Drop, Success, Hit wall rate : [4.45, 4.45, 0.99, 14.73]\n",
      "averaged grid size : 5.00, averaged obstacles : 10.08\n"
     ]
    },
    {
     "name": "stderr",
     "output_type": "stream",
     "text": [
      " 41%|████▏     | 8314/20100 [03:09<02:40, 73.56it/s]"
     ]
    },
    {
     "name": "stdout",
     "output_type": "stream",
     "text": [
      "Epsilon : 0.08290387045370437, average reward : -150.1330, averaged shaped reward : -204.3330 Pickup, Drop, Success, Hit wall rate : [4.49, 4.48, 0.99, 9.18]\n",
      "averaged grid size : 5.00, averaged obstacles : 10.07\n"
     ]
    },
    {
     "name": "stderr",
     "output_type": "stream",
     "text": [
      " 42%|████▏     | 8413/20100 [03:11<04:08, 47.04it/s]"
     ]
    },
    {
     "name": "stdout",
     "output_type": "stream",
     "text": [
      "Epsilon : 0.08045332868246349, average reward : -340.0770, averaged shaped reward : -476.6770 Pickup, Drop, Success, Hit wall rate : [3.9, 3.88, 0.95, 16.64]\n",
      "averaged grid size : 5.00, averaged obstacles : 9.69\n"
     ]
    },
    {
     "name": "stderr",
     "output_type": "stream",
     "text": [
      " 42%|████▏     | 8501/20100 [03:16<10:04, 19.19it/s]"
     ]
    },
    {
     "name": "stdout",
     "output_type": "stream",
     "text": [
      "Epsilon : 0.07807522206943346, average reward : -609.2200, averaged shaped reward : -875.7200 Pickup, Drop, Success, Hit wall rate : [8.37, 8.31, 0.91, 30.38]\n",
      "averaged grid size : 5.00, averaged obstacles : 10.62\n"
     ]
    },
    {
     "name": "stderr",
     "output_type": "stream",
     "text": [
      " 43%|████▎     | 8602/20100 [03:23<07:15, 26.38it/s]"
     ]
    },
    {
     "name": "stdout",
     "output_type": "stream",
     "text": [
      "Epsilon : 0.07576740951577356, average reward : -467.8270, averaged shaped reward : -663.5270 Pickup, Drop, Success, Hit wall rate : [7.19, 7.13, 0.94, 24.56]\n",
      "averaged grid size : 5.00, averaged obstacles : 10.77\n"
     ]
    },
    {
     "name": "stderr",
     "output_type": "stream",
     "text": [
      " 43%|████▎     | 8698/20100 [03:26<06:45, 28.13it/s]"
     ]
    },
    {
     "name": "stdout",
     "output_type": "stream",
     "text": [
      "Epsilon : 0.07352781321102929, average reward : -340.2030, averaged shaped reward : -483.4030 Pickup, Drop, Success, Hit wall rate : [6.73, 6.71, 0.97, 17.68]\n",
      "averaged grid size : 5.00, averaged obstacles : 10.03\n"
     ]
    },
    {
     "name": "stderr",
     "output_type": "stream",
     "text": [
      " 44%|████▍     | 8804/20100 [03:30<05:14, 35.90it/s]"
     ]
    },
    {
     "name": "stdout",
     "output_type": "stream",
     "text": [
      "Epsilon : 0.07135441676240095, average reward : -254.3080, averaged shaped reward : -354.4080 Pickup, Drop, Success, Hit wall rate : [6.68, 6.68, 1.0, 14.84]\n",
      "averaged grid size : 5.00, averaged obstacles : 10.61\n"
     ]
    },
    {
     "name": "stderr",
     "output_type": "stream",
     "text": [
      " 44%|████▍     | 8904/20100 [03:35<08:09, 22.87it/s]"
     ]
    },
    {
     "name": "stdout",
     "output_type": "stream",
     "text": [
      "Epsilon : 0.0692452633793097, average reward : -369.6150, averaged shaped reward : -518.2150 Pickup, Drop, Success, Hit wall rate : [6.4, 6.38, 0.96, 18.99]\n",
      "averaged grid size : 5.00, averaged obstacles : 10.16\n"
     ]
    },
    {
     "name": "stderr",
     "output_type": "stream",
     "text": [
      " 45%|████▍     | 9004/20100 [03:38<06:30, 28.41it/s]"
     ]
    },
    {
     "name": "stdout",
     "output_type": "stream",
     "text": [
      "Epsilon : 0.06719845411162506, average reward : -270.0240, averaged shaped reward : -369.8240 Pickup, Drop, Success, Hit wall rate : [4.63, 4.61, 0.97, 13.73]\n",
      "averaged grid size : 5.00, averaged obstacles : 9.84\n"
     ]
    },
    {
     "name": "stderr",
     "output_type": "stream",
     "text": [
      " 45%|████▌     | 9104/20100 [03:43<08:42, 21.03it/s]"
     ]
    },
    {
     "name": "stdout",
     "output_type": "stream",
     "text": [
      "Epsilon : 0.06521214613996887, average reward : -322.3240, averaged shaped reward : -461.0240 Pickup, Drop, Success, Hit wall rate : [7.07, 7.05, 0.98, 16.09]\n",
      "averaged grid size : 5.00, averaged obstacles : 10.06\n"
     ]
    },
    {
     "name": "stderr",
     "output_type": "stream",
     "text": [
      " 46%|████▌     | 9204/20100 [03:46<07:06, 25.54it/s]"
     ]
    },
    {
     "name": "stdout",
     "output_type": "stream",
     "text": [
      "Epsilon : 0.06328455111655558, average reward : -252.6160, averaged shaped reward : -341.2160 Pickup, Drop, Success, Hit wall rate : [4.02, 4.01, 0.99, 13.01]\n",
      "averaged grid size : 5.00, averaged obstacles : 9.94\n"
     ]
    },
    {
     "name": "stderr",
     "output_type": "stream",
     "text": [
      " 46%|████▋     | 9301/20100 [03:50<07:52, 22.87it/s]"
     ]
    },
    {
     "name": "stdout",
     "output_type": "stream",
     "text": [
      "Epsilon : 0.06141393355507576, average reward : -245.1290, averaged shaped reward : -330.9290 Pickup, Drop, Success, Hit wall rate : [3.45, 3.44, 0.97, 12.3]\n",
      "averaged grid size : 5.00, averaged obstacles : 10.08\n"
     ]
    },
    {
     "name": "stderr",
     "output_type": "stream",
     "text": [
      " 47%|████▋     | 9400/20100 [03:54<07:56, 22.43it/s]"
     ]
    },
    {
     "name": "stdout",
     "output_type": "stream",
     "text": [
      "Epsilon : 0.05959860926817212, average reward : -289.1550, averaged shaped reward : -397.1550 Pickup, Drop, Success, Hit wall rate : [4.92, 4.89, 0.97, 14.22]\n",
      "averaged grid size : 5.00, averaged obstacles : 10.17\n"
     ]
    },
    {
     "name": "stderr",
     "output_type": "stream",
     "text": [
      " 47%|████▋     | 9504/20100 [03:58<07:49, 22.54it/s]"
     ]
    },
    {
     "name": "stdout",
     "output_type": "stream",
     "text": [
      "Epsilon : 0.05783694385110244, average reward : -335.8710, averaged shaped reward : -463.6710 Pickup, Drop, Success, Hit wall rate : [6.07, 6.05, 0.97, 16.74]\n",
      "averaged grid size : 5.00, averaged obstacles : 10.50\n"
     ]
    },
    {
     "name": "stderr",
     "output_type": "stream",
     "text": [
      " 48%|████▊     | 9602/20100 [04:03<09:11, 19.04it/s]"
     ]
    },
    {
     "name": "stdout",
     "output_type": "stream",
     "text": [
      "Epsilon : 0.056127351210223435, average reward : -328.1270, averaged shaped reward : -454.8270 Pickup, Drop, Success, Hit wall rate : [5.42, 5.36, 0.92, 16.11]\n",
      "averaged grid size : 5.00, averaged obstacles : 10.27\n"
     ]
    },
    {
     "name": "stderr",
     "output_type": "stream",
     "text": [
      " 48%|████▊     | 9703/20100 [04:07<04:34, 37.88it/s]"
     ]
    },
    {
     "name": "stdout",
     "output_type": "stream",
     "text": [
      "Epsilon : 0.054468292134971175, average reward : -297.6310, averaged shaped reward : -402.6310 Pickup, Drop, Success, Hit wall rate : [3.74, 3.72, 0.96, 14.22]\n",
      "averaged grid size : 5.00, averaged obstacles : 10.31\n"
     ]
    },
    {
     "name": "stderr",
     "output_type": "stream",
     "text": [
      " 49%|████▉     | 9805/20100 [04:10<03:26, 49.79it/s]"
     ]
    },
    {
     "name": "stdout",
     "output_type": "stream",
     "text": [
      "Epsilon : 0.05285827291205161, average reward : -303.1660, averaged shaped reward : -413.1660 Pickup, Drop, Success, Hit wall rate : [4.89, 4.84, 0.93, 14.92]\n",
      "averaged grid size : 5.00, averaged obstacles : 10.34\n"
     ]
    },
    {
     "name": "stderr",
     "output_type": "stream",
     "text": [
      " 49%|████▉     | 9902/20100 [04:12<03:34, 47.60it/s]"
     ]
    },
    {
     "name": "stdout",
     "output_type": "stream",
     "text": [
      "Epsilon : 0.05129584398059462, average reward : -171.2470, averaged shaped reward : -214.7470 Pickup, Drop, Success, Hit wall rate : [3.06, 3.04, 0.97, 9.28]\n",
      "averaged grid size : 5.00, averaged obstacles : 10.93\n"
     ]
    },
    {
     "name": "stderr",
     "output_type": "stream",
     "text": [
      " 50%|████▉     | 10020/20100 [04:14<02:15, 74.38it/s]"
     ]
    },
    {
     "name": "stdout",
     "output_type": "stream",
     "text": [
      "Epsilon : 0.04977959862705961, average reward : -266.1580, averaged shaped reward : -356.1580 Pickup, Drop, Success, Hit wall rate : [3.17, 3.16, 0.97, 11.65]\n",
      "averaged grid size : 5.00, averaged obstacles : 11.01\n"
     ]
    },
    {
     "name": "stderr",
     "output_type": "stream",
     "text": [
      " 50%|█████     | 10103/20100 [04:17<04:53, 34.01it/s]"
     ]
    },
    {
     "name": "stdout",
     "output_type": "stream",
     "text": [
      "Epsilon : 0.04830817171871843, average reward : -290.4260, averaged shaped reward : -389.1260 Pickup, Drop, Success, Hit wall rate : [3.78, 3.75, 0.94, 13.79]\n",
      "averaged grid size : 5.00, averaged obstacles : 10.49\n"
     ]
    },
    {
     "name": "stderr",
     "output_type": "stream",
     "text": [
      " 51%|█████     | 10206/20100 [04:20<03:50, 42.89it/s]"
     ]
    },
    {
     "name": "stdout",
     "output_type": "stream",
     "text": [
      "Epsilon : 0.04688023847457512, average reward : -255.1010, averaged shaped reward : -338.6010 Pickup, Drop, Success, Hit wall rate : [4.7, 4.67, 0.97, 12.81]\n",
      "averaged grid size : 5.00, averaged obstacles : 10.69\n"
     ]
    },
    {
     "name": "stderr",
     "output_type": "stream",
     "text": [
      " 51%|█████▏    | 10305/20100 [04:23<05:29, 29.70it/s]"
     ]
    },
    {
     "name": "stdout",
     "output_type": "stream",
     "text": [
      "Epsilon : 0.0454945132726157, average reward : -411.2180, averaged shaped reward : -560.8180 Pickup, Drop, Success, Hit wall rate : [5.92, 5.87, 0.9, 18.67]\n",
      "averaged grid size : 5.00, averaged obstacles : 9.99\n"
     ]
    },
    {
     "name": "stderr",
     "output_type": "stream",
     "text": [
      " 52%|█████▏    | 10424/20100 [04:26<02:03, 78.50it/s]"
     ]
    },
    {
     "name": "stdout",
     "output_type": "stream",
     "text": [
      "Epsilon : 0.04414974849231421, average reward : -256.9110, averaged shaped reward : -335.0110 Pickup, Drop, Success, Hit wall rate : [3.43, 3.41, 0.96, 11.98]\n",
      "averaged grid size : 5.00, averaged obstacles : 10.27\n"
     ]
    },
    {
     "name": "stderr",
     "output_type": "stream",
     "text": [
      " 52%|█████▏    | 10514/20100 [04:28<02:11, 73.03it/s]"
     ]
    },
    {
     "name": "stdout",
     "output_type": "stream",
     "text": [
      "Epsilon : 0.042844733391353286, average reward : -125.6150, averaged shaped reward : -147.2150 Pickup, Drop, Success, Hit wall rate : [2.78, 2.78, 1.0, 6.95]\n",
      "averaged grid size : 5.00, averaged obstacles : 9.27\n"
     ]
    },
    {
     "name": "stderr",
     "output_type": "stream",
     "text": [
      " 53%|█████▎    | 10601/20100 [04:30<05:58, 26.47it/s]"
     ]
    },
    {
     "name": "stdout",
     "output_type": "stream",
     "text": [
      "Epsilon : 0.04157829301554697, average reward : -234.4210, averaged shaped reward : -299.8210 Pickup, Drop, Success, Hit wall rate : [2.87, 2.82, 0.93, 10.89]\n",
      "averaged grid size : 5.00, averaged obstacles : 10.73\n"
     ]
    },
    {
     "name": "stderr",
     "output_type": "stream",
     "text": [
      " 53%|█████▎    | 10705/20100 [04:33<02:45, 56.61it/s]"
     ]
    },
    {
     "name": "stdout",
     "output_type": "stream",
     "text": [
      "Epsilon : 0.040349287140985436, average reward : -268.2680, averaged shaped reward : -355.7680 Pickup, Drop, Success, Hit wall rate : [4.22, 4.2, 0.97, 11.88]\n",
      "averaged grid size : 5.00, averaged obstacles : 9.92\n"
     ]
    },
    {
     "name": "stderr",
     "output_type": "stream",
     "text": [
      " 54%|█████▎    | 10801/20100 [04:35<03:33, 43.57it/s]"
     ]
    },
    {
     "name": "stdout",
     "output_type": "stream",
     "text": [
      "Epsilon : 0.03915660924744858, average reward : -223.4570, averaged shaped reward : -290.3570 Pickup, Drop, Success, Hit wall rate : [4.62, 4.58, 0.95, 10.79]\n",
      "averaged grid size : 5.00, averaged obstacles : 9.96\n"
     ]
    },
    {
     "name": "stderr",
     "output_type": "stream",
     "text": [
      " 54%|█████▍    | 10910/20100 [04:38<02:40, 57.09it/s]"
     ]
    },
    {
     "name": "stdout",
     "output_type": "stream",
     "text": [
      "Epsilon : 0.03799918552216413, average reward : -248.0650, averaged shaped reward : -318.8650 Pickup, Drop, Success, Hit wall rate : [3.23, 3.21, 0.94, 11.3]\n",
      "averaged grid size : 5.00, averaged obstacles : 10.61\n"
     ]
    },
    {
     "name": "stderr",
     "output_type": "stream",
     "text": [
      " 55%|█████▍    | 11004/20100 [04:41<05:34, 27.20it/s]"
     ]
    },
    {
     "name": "stdout",
     "output_type": "stream",
     "text": [
      "Epsilon : 0.03687597389301356, average reward : -248.6180, averaged shaped reward : -312.9180 Pickup, Drop, Success, Hit wall rate : [3.19, 3.17, 0.92, 11.71]\n",
      "averaged grid size : 5.00, averaged obstacles : 11.06\n"
     ]
    },
    {
     "name": "stderr",
     "output_type": "stream",
     "text": [
      " 55%|█████▌    | 11101/20100 [04:45<04:37, 32.41it/s]"
     ]
    },
    {
     "name": "stdout",
     "output_type": "stream",
     "text": [
      "Epsilon : 0.03578596309031553, average reward : -266.3020, averaged shaped reward : -342.8020 Pickup, Drop, Success, Hit wall rate : [3.47, 3.43, 0.93, 11.14]\n",
      "averaged grid size : 5.00, averaged obstacles : 9.89\n"
     ]
    },
    {
     "name": "stderr",
     "output_type": "stream",
     "text": [
      " 56%|█████▌    | 11195/20100 [04:50<12:58, 11.44it/s]"
     ]
    },
    {
     "name": "stdout",
     "output_type": "stream",
     "text": [
      "Epsilon : 0.034728171736341594, average reward : -267.6620, averaged shaped reward : -344.6620 Pickup, Drop, Success, Hit wall rate : [3.75, 3.72, 0.93, 11.55]\n",
      "averaged grid size : 5.00, averaged obstacles : 10.07\n"
     ]
    },
    {
     "name": "stderr",
     "output_type": "stream",
     "text": [
      " 56%|█████▌    | 11301/20100 [04:56<07:41, 19.08it/s]"
     ]
    },
    {
     "name": "stdout",
     "output_type": "stream",
     "text": [
      "Epsilon : 0.033701647461745095, average reward : -244.4790, averaged shaped reward : -310.5790 Pickup, Drop, Success, Hit wall rate : [3.64, 3.59, 0.93, 10.36]\n",
      "averaged grid size : 5.00, averaged obstacles : 10.52\n"
     ]
    },
    {
     "name": "stderr",
     "output_type": "stream",
     "text": [
      " 57%|█████▋    | 11404/20100 [05:02<06:37, 21.85it/s]"
     ]
    },
    {
     "name": "stdout",
     "output_type": "stream",
     "text": [
      "Epsilon : 0.03270546604810703, average reward : -296.7300, averaged shaped reward : -386.5300 Pickup, Drop, Success, Hit wall rate : [3.37, 3.34, 0.92, 11.67]\n",
      "averaged grid size : 5.00, averaged obstacles : 10.93\n"
     ]
    },
    {
     "name": "stderr",
     "output_type": "stream",
     "text": [
      " 57%|█████▋    | 11505/20100 [05:06<04:59, 28.71it/s]"
     ]
    },
    {
     "name": "stdout",
     "output_type": "stream",
     "text": [
      "Epsilon : 0.03173873059582754, average reward : -131.1200, averaged shaped reward : -148.3200 Pickup, Drop, Success, Hit wall rate : [2.76, 2.74, 0.97, 7.01]\n",
      "averaged grid size : 5.00, averaged obstacles : 10.20\n"
     ]
    },
    {
     "name": "stderr",
     "output_type": "stream",
     "text": [
      " 58%|█████▊    | 11598/20100 [05:10<07:22, 19.22it/s]"
     ]
    },
    {
     "name": "stdout",
     "output_type": "stream",
     "text": [
      "Epsilon : 0.03080057071661334, average reward : -216.9710, averaged shaped reward : -273.1710 Pickup, Drop, Success, Hit wall rate : [3.54, 3.49, 0.94, 9.03]\n",
      "averaged grid size : 5.00, averaged obstacles : 10.25\n"
     ]
    },
    {
     "name": "stderr",
     "output_type": "stream",
     "text": [
      " 58%|█████▊    | 11704/20100 [05:15<05:15, 26.64it/s]"
     ]
    },
    {
     "name": "stdout",
     "output_type": "stream",
     "text": [
      "Epsilon : 0.029890141749834672, average reward : -195.5550, averaged shaped reward : -243.9550 Pickup, Drop, Success, Hit wall rate : [3.9, 3.87, 0.96, 8.56]\n",
      "averaged grid size : 5.00, averaged obstacles : 10.36\n"
     ]
    },
    {
     "name": "stderr",
     "output_type": "stream",
     "text": [
      " 59%|█████▊    | 11800/20100 [05:21<07:51, 17.62it/s]"
     ]
    },
    {
     "name": "stdout",
     "output_type": "stream",
     "text": [
      "Epsilon : 0.029006624002045286, average reward : -215.2620, averaged shaped reward : -260.5620 Pickup, Drop, Success, Hit wall rate : [3.51, 3.48, 0.96, 9.64]\n",
      "averaged grid size : 5.00, averaged obstacles : 10.64\n"
     ]
    },
    {
     "name": "stderr",
     "output_type": "stream",
     "text": [
      " 59%|█████▉    | 11903/20100 [05:26<04:40, 29.19it/s]"
     ]
    },
    {
     "name": "stdout",
     "output_type": "stream",
     "text": [
      "Epsilon : 0.02814922200898173, average reward : -197.6940, averaged shaped reward : -242.0940 Pickup, Drop, Success, Hit wall rate : [2.66, 2.66, 0.95, 7.99]\n",
      "averaged grid size : 5.00, averaged obstacles : 10.32\n"
     ]
    },
    {
     "name": "stderr",
     "output_type": "stream",
     "text": [
      " 60%|█████▉    | 12003/20100 [05:30<05:54, 22.86it/s]"
     ]
    },
    {
     "name": "stdout",
     "output_type": "stream",
     "text": [
      "Epsilon : 0.02731716381937693, average reward : -181.6610, averaged shaped reward : -218.1610 Pickup, Drop, Success, Hit wall rate : [2.9, 2.84, 0.93, 7.99]\n",
      "averaged grid size : 5.00, averaged obstacles : 10.44\n"
     ]
    },
    {
     "name": "stderr",
     "output_type": "stream",
     "text": [
      " 60%|██████    | 12098/20100 [05:36<10:15, 12.99it/s]"
     ]
    },
    {
     "name": "stdout",
     "output_type": "stream",
     "text": [
      "Epsilon : 0.026509700299943376, average reward : -224.4210, averaged shaped reward : -277.2210 Pickup, Drop, Success, Hit wall rate : [3.5, 3.43, 0.89, 9.16]\n",
      "averaged grid size : 5.00, averaged obstacles : 11.09\n"
     ]
    },
    {
     "name": "stderr",
     "output_type": "stream",
     "text": [
      " 61%|██████    | 12198/20100 [05:41<05:54, 22.27it/s]"
     ]
    },
    {
     "name": "stdout",
     "output_type": "stream",
     "text": [
      "Epsilon : 0.02572610446090033, average reward : -205.7040, averaged shaped reward : -243.2040 Pickup, Drop, Success, Hit wall rate : [2.64, 2.62, 0.93, 8.52]\n",
      "averaged grid size : 5.00, averaged obstacles : 11.10\n"
     ]
    },
    {
     "name": "stderr",
     "output_type": "stream",
     "text": [
      " 61%|██████    | 12299/20100 [05:46<05:28, 23.72it/s]"
     ]
    },
    {
     "name": "stdout",
     "output_type": "stream",
     "text": [
      "Epsilon : 0.02496567080143752, average reward : -286.9990, averaged shaped reward : -360.9990 Pickup, Drop, Success, Hit wall rate : [3.05, 2.99, 0.87, 10.34]\n",
      "averaged grid size : 5.00, averaged obstacles : 9.64\n"
     ]
    },
    {
     "name": "stderr",
     "output_type": "stream",
     "text": [
      " 62%|██████▏   | 12400/20100 [05:51<06:35, 19.48it/s]"
     ]
    },
    {
     "name": "stdout",
     "output_type": "stream",
     "text": [
      "Epsilon : 0.02422771467452624, average reward : -330.4350, averaged shaped reward : -411.6350 Pickup, Drop, Success, Hit wall rate : [3.89, 3.79, 0.87, 12.77]\n",
      "averaged grid size : 5.00, averaged obstacles : 10.50\n"
     ]
    },
    {
     "name": "stderr",
     "output_type": "stream",
     "text": [
      " 62%|██████▏   | 12501/20100 [05:55<05:49, 21.73it/s]"
     ]
    },
    {
     "name": "stdout",
     "output_type": "stream",
     "text": [
      "Epsilon : 0.023511571670505868, average reward : -263.2800, averaged shaped reward : -326.0800 Pickup, Drop, Success, Hit wall rate : [3.72, 3.66, 0.9, 10.01]\n",
      "averaged grid size : 5.00, averaged obstacles : 9.88\n"
     ]
    },
    {
     "name": "stderr",
     "output_type": "stream",
     "text": [
      " 63%|██████▎   | 12603/20100 [05:59<05:56, 21.06it/s]"
     ]
    },
    {
     "name": "stdout",
     "output_type": "stream",
     "text": [
      "Epsilon : 0.022816597018890866, average reward : -243.2890, averaged shaped reward : -293.5890 Pickup, Drop, Success, Hit wall rate : [3.03, 2.98, 0.89, 9.38]\n",
      "averaged grid size : 5.00, averaged obstacles : 11.11\n"
     ]
    },
    {
     "name": "stderr",
     "output_type": "stream",
     "text": [
      " 63%|██████▎   | 12703/20100 [06:01<03:11, 38.53it/s]"
     ]
    },
    {
     "name": "stdout",
     "output_type": "stream",
     "text": [
      "Epsilon : 0.022142165007859666, average reward : -119.2080, averaged shaped reward : -123.8080 Pickup, Drop, Success, Hit wall rate : [2.43, 2.41, 0.97, 5.8]\n",
      "averaged grid size : 5.00, averaged obstacles : 9.35\n"
     ]
    },
    {
     "name": "stderr",
     "output_type": "stream",
     "text": [
      " 64%|██████▎   | 12801/20100 [06:04<04:09, 29.29it/s]"
     ]
    },
    {
     "name": "stdout",
     "output_type": "stream",
     "text": [
      "Epsilon : 0.02148766842090276, average reward : -225.9430, averaged shaped reward : -267.5430 Pickup, Drop, Success, Hit wall rate : [1.93, 1.87, 0.88, 7.88]\n",
      "averaged grid size : 5.00, averaged obstacles : 10.12\n"
     ]
    },
    {
     "name": "stderr",
     "output_type": "stream",
     "text": [
      " 64%|██████▍   | 12903/20100 [06:08<05:26, 22.07it/s]"
     ]
    },
    {
     "name": "stdout",
     "output_type": "stream",
     "text": [
      "Epsilon : 0.020852517990122818, average reward : -254.5490, averaged shaped reward : -307.3490 Pickup, Drop, Success, Hit wall rate : [3.2, 3.13, 0.9, 8.66]\n",
      "averaged grid size : 5.00, averaged obstacles : 9.57\n"
     ]
    },
    {
     "name": "stderr",
     "output_type": "stream",
     "text": [
      " 65%|██████▍   | 13002/20100 [06:12<04:11, 28.17it/s]"
     ]
    },
    {
     "name": "stdout",
     "output_type": "stream",
     "text": [
      "Epsilon : 0.020236141865694696, average reward : -250.8730, averaged shaped reward : -298.8730 Pickup, Drop, Success, Hit wall rate : [2.67, 2.63, 0.88, 9.05]\n",
      "averaged grid size : 5.00, averaged obstacles : 10.52\n"
     ]
    },
    {
     "name": "stderr",
     "output_type": "stream",
     "text": [
      " 65%|██████▌   | 13101/20100 [06:15<03:43, 31.27it/s]"
     ]
    },
    {
     "name": "stdout",
     "output_type": "stream",
     "text": [
      "Epsilon : 0.019637985101007425, average reward : -161.0130, averaged shaped reward : -181.9130 Pickup, Drop, Success, Hit wall rate : [2.74, 2.72, 0.96, 6.0]\n",
      "averaged grid size : 5.00, averaged obstacles : 9.83\n"
     ]
    },
    {
     "name": "stderr",
     "output_type": "stream",
     "text": [
      " 66%|██████▌   | 13200/20100 [06:20<04:50, 23.78it/s]"
     ]
    },
    {
     "name": "stdout",
     "output_type": "stream",
     "text": [
      "Epsilon : 0.019057509153025013, average reward : -277.3940, averaged shaped reward : -334.8940 Pickup, Drop, Success, Hit wall rate : [3.24, 3.15, 0.82, 9.19]\n",
      "averaged grid size : 5.00, averaged obstacles : 9.65\n"
     ]
    },
    {
     "name": "stderr",
     "output_type": "stream",
     "text": [
      " 66%|██████▌   | 13300/20100 [06:25<05:07, 22.08it/s]"
     ]
    },
    {
     "name": "stdout",
     "output_type": "stream",
     "text": [
      "Epsilon : 0.01849419139741587, average reward : -325.4000, averaged shaped reward : -392.6000 Pickup, Drop, Success, Hit wall rate : [2.57, 2.53, 0.84, 10.76]\n",
      "averaged grid size : 5.00, averaged obstacles : 10.32\n"
     ]
    },
    {
     "name": "stderr",
     "output_type": "stream",
     "text": [
      " 67%|██████▋   | 13402/20100 [06:30<07:47, 14.32it/s]"
     ]
    },
    {
     "name": "stdout",
     "output_type": "stream",
     "text": [
      "Epsilon : 0.017947524658014358, average reward : -318.4670, averaged shaped reward : -390.7670 Pickup, Drop, Success, Hit wall rate : [3.41, 3.32, 0.79, 9.8]\n",
      "averaged grid size : 5.00, averaged obstacles : 9.99\n"
     ]
    },
    {
     "name": "stderr",
     "output_type": "stream",
     "text": [
      " 67%|██████▋   | 13503/20100 [06:36<05:13, 21.04it/s]"
     ]
    },
    {
     "name": "stdout",
     "output_type": "stream",
     "text": [
      "Epsilon : 0.01741701675019118, average reward : -335.5460, averaged shaped reward : -399.5460 Pickup, Drop, Success, Hit wall rate : [3.72, 3.62, 0.82, 10.99]\n",
      "averaged grid size : 5.00, averaged obstacles : 9.93\n"
     ]
    },
    {
     "name": "stderr",
     "output_type": "stream",
     "text": [
      " 68%|██████▊   | 13600/20100 [06:40<05:27, 19.82it/s]"
     ]
    },
    {
     "name": "stdout",
     "output_type": "stream",
     "text": [
      "Epsilon : 0.01690219003772088, average reward : -243.2090, averaged shaped reward : -284.3090 Pickup, Drop, Success, Hit wall rate : [3.1, 3.02, 0.86, 7.79]\n",
      "averaged grid size : 5.00, averaged obstacles : 10.37\n"
     ]
    },
    {
     "name": "stderr",
     "output_type": "stream",
     "text": [
      " 68%|██████▊   | 13701/20100 [06:45<05:09, 20.65it/s]"
     ]
    },
    {
     "name": "stdout",
     "output_type": "stream",
     "text": [
      "Epsilon : 0.016402581002748082, average reward : -287.9830, averaged shaped reward : -338.3830 Pickup, Drop, Success, Hit wall rate : [2.94, 2.9, 0.85, 9.24]\n",
      "averaged grid size : 5.00, averaged obstacles : 10.50\n"
     ]
    },
    {
     "name": "stderr",
     "output_type": "stream",
     "text": [
      " 69%|██████▊   | 13807/20100 [06:49<02:34, 40.64it/s]"
     ]
    },
    {
     "name": "stdout",
     "output_type": "stream",
     "text": [
      "Epsilon : 0.015917739828464905, average reward : -210.9050, averaged shaped reward : -240.0050 Pickup, Drop, Success, Hit wall rate : [2.71, 2.64, 0.9, 7.03]\n",
      "averaged grid size : 5.00, averaged obstacles : 10.07\n"
     ]
    },
    {
     "name": "stderr",
     "output_type": "stream",
     "text": [
      " 69%|██████▉   | 13906/20100 [06:54<03:31, 29.36it/s]"
     ]
    },
    {
     "name": "stdout",
     "output_type": "stream",
     "text": [
      "Epsilon : 0.015447229994123927, average reward : -248.0470, averaged shaped reward : -289.2470 Pickup, Drop, Success, Hit wall rate : [2.82, 2.71, 0.84, 7.01]\n",
      "averaged grid size : 5.00, averaged obstacles : 10.19\n"
     ]
    },
    {
     "name": "stderr",
     "output_type": "stream",
     "text": [
      " 70%|██████▉   | 14002/20100 [06:58<04:08, 24.50it/s]"
     ]
    },
    {
     "name": "stdout",
     "output_type": "stream",
     "text": [
      "Epsilon : 0.014990627882022245, average reward : -234.5480, averaged shaped reward : -267.7480 Pickup, Drop, Success, Hit wall rate : [2.45, 2.36, 0.82, 7.39]\n",
      "averaged grid size : 5.00, averaged obstacles : 10.59\n"
     ]
    },
    {
     "name": "stderr",
     "output_type": "stream",
     "text": [
      " 70%|███████   | 14102/20100 [07:02<04:04, 24.57it/s]"
     ]
    },
    {
     "name": "stdout",
     "output_type": "stream",
     "text": [
      "Epsilon : 0.014547522396102412, average reward : -224.8300, averaged shaped reward : -252.2300 Pickup, Drop, Success, Hit wall rate : [2.54, 2.46, 0.85, 6.68]\n",
      "averaged grid size : 5.00, averaged obstacles : 10.58\n"
     ]
    },
    {
     "name": "stderr",
     "output_type": "stream",
     "text": [
      " 71%|███████   | 14201/20100 [07:06<04:14, 23.15it/s]"
     ]
    },
    {
     "name": "stdout",
     "output_type": "stream",
     "text": [
      "Epsilon : 0.014117514591827243, average reward : -251.8080, averaged shaped reward : -286.9080 Pickup, Drop, Success, Hit wall rate : [2.69, 2.62, 0.86, 7.47]\n",
      "averaged grid size : 5.00, averaged obstacles : 10.74\n"
     ]
    },
    {
     "name": "stderr",
     "output_type": "stream",
     "text": [
      " 71%|███████   | 14307/20100 [07:12<02:47, 34.53it/s]"
     ]
    },
    {
     "name": "stdout",
     "output_type": "stream",
     "text": [
      "Epsilon : 0.013700217316995007, average reward : -270.1510, averaged shaped reward : -307.8510 Pickup, Drop, Success, Hit wall rate : [2.84, 2.75, 0.8, 8.07]\n",
      "averaged grid size : 5.00, averaged obstacles : 10.90\n"
     ]
    },
    {
     "name": "stderr",
     "output_type": "stream",
     "text": [
      " 72%|███████▏  | 14407/20100 [07:17<04:34, 20.76it/s]"
     ]
    },
    {
     "name": "stdout",
     "output_type": "stream",
     "text": [
      "Epsilon : 0.013295254863171797, average reward : -294.3360, averaged shaped reward : -341.1360 Pickup, Drop, Success, Hit wall rate : [2.33, 2.25, 0.74, 7.64]\n",
      "averaged grid size : 5.00, averaged obstacles : 10.76\n"
     ]
    },
    {
     "name": "stderr",
     "output_type": "stream",
     "text": [
      " 72%|███████▏  | 14502/20100 [07:22<05:18, 17.57it/s]"
     ]
    },
    {
     "name": "stdout",
     "output_type": "stream",
     "text": [
      "Epsilon : 0.012902262627427037, average reward : -233.4620, averaged shaped reward : -266.2620 Pickup, Drop, Success, Hit wall rate : [2.6, 2.52, 0.84, 6.09]\n",
      "averaged grid size : 5.00, averaged obstacles : 10.74\n"
     ]
    },
    {
     "name": "stderr",
     "output_type": "stream",
     "text": [
      " 73%|███████▎  | 14602/20100 [07:26<05:01, 18.21it/s]"
     ]
    },
    {
     "name": "stdout",
     "output_type": "stream",
     "text": [
      "Epsilon : 0.012520886784067762, average reward : -196.3940, averaged shaped reward : -214.7940 Pickup, Drop, Success, Hit wall rate : [1.99, 1.92, 0.86, 5.14]\n",
      "averaged grid size : 5.00, averaged obstacles : 9.47\n"
     ]
    },
    {
     "name": "stderr",
     "output_type": "stream",
     "text": [
      " 73%|███████▎  | 14700/20100 [07:31<06:14, 14.43it/s]"
     ]
    },
    {
     "name": "stdout",
     "output_type": "stream",
     "text": [
      "Epsilon : 0.012150783966076054, average reward : -216.3360, averaged shaped reward : -237.8360 Pickup, Drop, Success, Hit wall rate : [2.35, 2.26, 0.84, 5.95]\n",
      "averaged grid size : 5.00, averaged obstacles : 10.78\n"
     ]
    },
    {
     "name": "stderr",
     "output_type": "stream",
     "text": [
      " 74%|███████▎  | 14805/20100 [07:40<04:20, 20.31it/s]"
     ]
    },
    {
     "name": "stdout",
     "output_type": "stream",
     "text": [
      "Epsilon : 0.011791620955962789, average reward : -283.3770, averaged shaped reward : -325.3770 Pickup, Drop, Success, Hit wall rate : [2.91, 2.78, 0.75, 7.21]\n",
      "averaged grid size : 5.00, averaged obstacles : 9.93\n"
     ]
    },
    {
     "name": "stderr",
     "output_type": "stream",
     "text": [
      " 74%|███████▍  | 14903/20100 [07:47<04:31, 19.15it/s]"
     ]
    },
    {
     "name": "stdout",
     "output_type": "stream",
     "text": [
      "Epsilon : 0.011443074385759398, average reward : -222.6270, averaged shaped reward : -242.6270 Pickup, Drop, Success, Hit wall rate : [2.07, 2.02, 0.83, 5.79]\n",
      "averaged grid size : 5.00, averaged obstacles : 10.46\n"
     ]
    },
    {
     "name": "stderr",
     "output_type": "stream",
     "text": [
      " 75%|███████▍  | 15001/20100 [07:55<06:06, 13.90it/s]"
     ]
    },
    {
     "name": "stdout",
     "output_type": "stream",
     "text": [
      "Epsilon : 0.011104830445877492, average reward : -222.9470, averaged shaped reward : -243.8470 Pickup, Drop, Success, Hit wall rate : [2.09, 1.98, 0.8, 5.96]\n",
      "averaged grid size : 5.00, averaged obstacles : 11.46\n"
     ]
    },
    {
     "name": "stderr",
     "output_type": "stream",
     "text": [
      " 75%|███████▌  | 15098/20100 [08:02<07:34, 11.00it/s]"
     ]
    },
    {
     "name": "stdout",
     "output_type": "stream",
     "text": [
      "Epsilon : 0.010776584602574366, average reward : -226.2110, averaged shaped reward : -242.8110 Pickup, Drop, Success, Hit wall rate : [1.89, 1.81, 0.8, 6.1]\n",
      "averaged grid size : 5.00, averaged obstacles : 10.41\n"
     ]
    },
    {
     "name": "stderr",
     "output_type": "stream",
     "text": [
      " 76%|███████▌  | 15202/20100 [08:11<04:08, 19.75it/s]"
     ]
    },
    {
     "name": "stdout",
     "output_type": "stream",
     "text": [
      "Epsilon : 0.010458041323769707, average reward : -301.7650, averaged shaped reward : -336.3650 Pickup, Drop, Success, Hit wall rate : [1.84, 1.72, 0.71, 7.14]\n",
      "averaged grid size : 5.00, averaged obstacles : 10.29\n"
     ]
    },
    {
     "name": "stderr",
     "output_type": "stream",
     "text": [
      " 76%|███████▌  | 15302/20100 [08:20<07:11, 11.12it/s]"
     ]
    },
    {
     "name": "stdout",
     "output_type": "stream",
     "text": [
      "Epsilon : 0.010148913812967043, average reward : -263.8150, averaged shaped reward : -290.6150 Pickup, Drop, Success, Hit wall rate : [2.13, 2.01, 0.74, 5.8]\n",
      "averaged grid size : 5.00, averaged obstacles : 10.45\n"
     ]
    },
    {
     "name": "stderr",
     "output_type": "stream",
     "text": [
      " 77%|███████▋  | 15400/20100 [08:27<05:37, 13.92it/s]"
     ]
    },
    {
     "name": "stdout",
     "output_type": "stream",
     "text": [
      "Epsilon : 0.009848923751040002, average reward : -208.0770, averaged shaped reward : -218.2770 Pickup, Drop, Success, Hit wall rate : [1.77, 1.71, 0.82, 5.23]\n",
      "averaged grid size : 5.00, averaged obstacles : 11.22\n"
     ]
    },
    {
     "name": "stderr",
     "output_type": "stream",
     "text": [
      " 77%|███████▋  | 15502/20100 [08:35<04:17, 17.89it/s]"
     ]
    },
    {
     "name": "stdout",
     "output_type": "stream",
     "text": [
      "Epsilon : 0.009557801045651149, average reward : -225.4430, averaged shaped reward : -238.0430 Pickup, Drop, Success, Hit wall rate : [1.9, 1.81, 0.78, 5.23]\n",
      "averaged grid size : 5.00, averaged obstacles : 11.26\n"
     ]
    },
    {
     "name": "stderr",
     "output_type": "stream",
     "text": [
      " 78%|███████▊  | 15600/20100 [08:44<06:56, 10.80it/s]"
     ]
    },
    {
     "name": "stdout",
     "output_type": "stream",
     "text": [
      "Epsilon : 0.009275283588077722, average reward : -263.4640, averaged shaped reward : -286.2640 Pickup, Drop, Success, Hit wall rate : [2.35, 2.19, 0.72, 5.47]\n",
      "averaged grid size : 5.00, averaged obstacles : 9.94\n"
     ]
    },
    {
     "name": "stderr",
     "output_type": "stream",
     "text": [
      " 78%|███████▊  | 15700/20100 [08:53<06:58, 10.51it/s]"
     ]
    },
    {
     "name": "stdout",
     "output_type": "stream",
     "text": [
      "Epsilon : 0.009001117017225248, average reward : -276.0620, averaged shaped reward : -296.0620 Pickup, Drop, Success, Hit wall rate : [1.86, 1.75, 0.74, 6.11]\n",
      "averaged grid size : 5.00, averaged obstacles : 9.40\n"
     ]
    },
    {
     "name": "stderr",
     "output_type": "stream",
     "text": [
      " 79%|███████▊  | 15800/20100 [09:03<03:27, 20.74it/s]"
     ]
    },
    {
     "name": "stdout",
     "output_type": "stream",
     "text": [
      "Epsilon : 0.008735054490616737, average reward : -267.6930, averaged shaped reward : -292.3930 Pickup, Drop, Success, Hit wall rate : [1.94, 1.83, 0.73, 5.64]\n",
      "averaged grid size : 5.00, averaged obstacles : 9.50\n"
     ]
    },
    {
     "name": "stderr",
     "output_type": "stream",
     "text": [
      " 79%|███████▉  | 15900/20100 [09:09<04:37, 15.13it/s]"
     ]
    },
    {
     "name": "stdout",
     "output_type": "stream",
     "text": [
      "Epsilon : 0.008476856462151051, average reward : -280.9140, averaged shaped reward : -306.8140 Pickup, Drop, Success, Hit wall rate : [2.07, 1.92, 0.7, 5.71]\n",
      "averaged grid size : 5.00, averaged obstacles : 9.42\n"
     ]
    },
    {
     "name": "stderr",
     "output_type": "stream",
     "text": [
      " 80%|███████▉  | 16001/20100 [09:13<04:18, 15.85it/s]"
     ]
    },
    {
     "name": "stdout",
     "output_type": "stream",
     "text": [
      "Epsilon : 0.00822629046643057, average reward : -165.7490, averaged shaped reward : -162.8490 Pickup, Drop, Success, Hit wall rate : [1.84, 1.75, 0.81, 3.46]\n",
      "averaged grid size : 5.00, averaged obstacles : 9.87\n"
     ]
    },
    {
     "name": "stderr",
     "output_type": "stream",
     "text": [
      " 80%|████████  | 16098/20100 [09:21<11:48,  5.65it/s]"
     ]
    },
    {
     "name": "stdout",
     "output_type": "stream",
     "text": [
      "Epsilon : 0.007983130909463853, average reward : -286.0530, averaged shaped reward : -310.8530 Pickup, Drop, Success, Hit wall rate : [1.9, 1.81, 0.71, 5.85]\n",
      "averaged grid size : 5.00, averaged obstacles : 9.64\n"
     ]
    },
    {
     "name": "stderr",
     "output_type": "stream",
     "text": [
      " 81%|████████  | 16201/20100 [09:29<06:16, 10.35it/s]"
     ]
    },
    {
     "name": "stdout",
     "output_type": "stream",
     "text": [
      "Epsilon : 0.007747158865554882, average reward : -222.2120, averaged shaped reward : -231.5120 Pickup, Drop, Success, Hit wall rate : [1.71, 1.64, 0.78, 4.21]\n",
      "averaged grid size : 5.00, averaged obstacles : 9.71\n"
     ]
    },
    {
     "name": "stderr",
     "output_type": "stream",
     "text": [
      " 81%|████████  | 16300/20100 [09:39<08:33,  7.39it/s]"
     ]
    },
    {
     "name": "stdout",
     "output_type": "stream",
     "text": [
      "Epsilon : 0.007518161880196002, average reward : -281.4990, averaged shaped reward : -304.0990 Pickup, Drop, Success, Hit wall rate : [2.1, 1.97, 0.68, 5.18]\n",
      "averaged grid size : 5.00, averaged obstacles : 10.75\n"
     ]
    },
    {
     "name": "stderr",
     "output_type": "stream",
     "text": [
      " 82%|████████▏ | 16398/20100 [09:48<05:43, 10.79it/s]"
     ]
    },
    {
     "name": "stdout",
     "output_type": "stream",
     "text": [
      "Epsilon : 0.007295933778787167, average reward : -271.1260, averaged shaped reward : -287.5260 Pickup, Drop, Success, Hit wall rate : [1.76, 1.63, 0.71, 4.95]\n",
      "averaged grid size : 5.00, averaged obstacles : 10.44\n"
     ]
    },
    {
     "name": "stderr",
     "output_type": "stream",
     "text": [
      " 82%|████████▏ | 16498/20100 [09:57<04:51, 12.37it/s]"
     ]
    },
    {
     "name": "stdout",
     "output_type": "stream",
     "text": [
      "Epsilon : 0.007080274481009155, average reward : -228.3520, averaged shaped reward : -232.9520 Pickup, Drop, Success, Hit wall rate : [1.96, 1.84, 0.77, 4.56]\n",
      "averaged grid size : 5.00, averaged obstacles : 9.99\n"
     ]
    },
    {
     "name": "stderr",
     "output_type": "stream",
     "text": [
      " 83%|████████▎ | 16599/20100 [10:07<05:22, 10.87it/s]"
     ]
    },
    {
     "name": "stdout",
     "output_type": "stream",
     "text": [
      "Epsilon : 0.006870989820683771, average reward : -282.9920, averaged shaped reward : -303.3920 Pickup, Drop, Success, Hit wall rate : [1.99, 1.86, 0.68, 4.99]\n",
      "averaged grid size : 5.00, averaged obstacles : 10.01\n"
     ]
    },
    {
     "name": "stderr",
     "output_type": "stream",
     "text": [
      " 83%|████████▎ | 16701/20100 [10:17<04:04, 13.88it/s]"
     ]
    },
    {
     "name": "stdout",
     "output_type": "stream",
     "text": [
      "Epsilon : 0.0066678913709586896, average reward : -273.9790, averaged shaped reward : -290.8790 Pickup, Drop, Success, Hit wall rate : [1.84, 1.71, 0.67, 4.99]\n",
      "averaged grid size : 5.00, averaged obstacles : 10.53\n"
     ]
    },
    {
     "name": "stderr",
     "output_type": "stream",
     "text": [
      " 84%|████████▎ | 16800/20100 [10:27<04:02, 13.62it/s]"
     ]
    },
    {
     "name": "stdout",
     "output_type": "stream",
     "text": [
      "Epsilon : 0.006470796274659713, average reward : -288.4660, averaged shaped reward : -307.7660 Pickup, Drop, Success, Hit wall rate : [1.57, 1.47, 0.66, 4.8]\n",
      "averaged grid size : 5.00, averaged obstacles : 9.88\n"
     ]
    },
    {
     "name": "stderr",
     "output_type": "stream",
     "text": [
      " 84%|████████▍ | 16900/20100 [10:38<06:05,  8.76it/s]"
     ]
    },
    {
     "name": "stdout",
     "output_type": "stream",
     "text": [
      "Epsilon : 0.006279527079657554, average reward : -284.5920, averaged shaped reward : -298.9920 Pickup, Drop, Success, Hit wall rate : [1.84, 1.7, 0.66, 4.46]\n",
      "averaged grid size : 5.00, averaged obstacles : 10.73\n"
     ]
    },
    {
     "name": "stderr",
     "output_type": "stream",
     "text": [
      " 85%|████████▍ | 16996/20100 [10:48<04:55, 10.52it/s]"
     ]
    },
    {
     "name": "stdout",
     "output_type": "stream",
     "text": [
      "Epsilon : 0.006093911579101015, average reward : -287.1810, averaged shaped reward : -302.1810 Pickup, Drop, Success, Hit wall rate : [1.39, 1.25, 0.62, 4.15]\n",
      "averaged grid size : 5.00, averaged obstacles : 9.29\n"
     ]
    },
    {
     "name": "stderr",
     "output_type": "stream",
     "text": [
      " 85%|████████▌ | 17101/20100 [10:56<03:36, 13.86it/s]"
     ]
    },
    {
     "name": "stdout",
     "output_type": "stream",
     "text": [
      "Epsilon : 0.005913782656372683, average reward : -230.3940, averaged shaped reward : -239.4940 Pickup, Drop, Success, Hit wall rate : [1.58, 1.47, 0.69, 3.52]\n",
      "averaged grid size : 5.00, averaged obstacles : 10.46\n"
     ]
    },
    {
     "name": "stderr",
     "output_type": "stream",
     "text": [
      " 86%|████████▌ | 17201/20100 [11:04<04:29, 10.77it/s]"
     ]
    },
    {
     "name": "stdout",
     "output_type": "stream",
     "text": [
      "Epsilon : 0.00573897813462754, average reward : -322.7730, averaged shaped reward : -344.1730 Pickup, Drop, Success, Hit wall rate : [1.65, 1.54, 0.61, 4.51]\n",
      "averaged grid size : 5.00, averaged obstacles : 11.06\n"
     ]
    },
    {
     "name": "stderr",
     "output_type": "stream",
     "text": [
      " 86%|████████▌ | 17302/20100 [11:11<01:50, 25.28it/s]"
     ]
    },
    {
     "name": "stdout",
     "output_type": "stream",
     "text": [
      "Epsilon : 0.005569340630779079, average reward : -257.8490, averaged shaped reward : -265.4490 Pickup, Drop, Success, Hit wall rate : [1.46, 1.36, 0.68, 3.72]\n",
      "averaged grid size : 5.00, averaged obstacles : 10.08\n"
     ]
    },
    {
     "name": "stderr",
     "output_type": "stream",
     "text": [
      " 87%|████████▋ | 17401/20100 [11:17<03:22, 13.36it/s]"
     ]
    },
    {
     "name": "stdout",
     "output_type": "stream",
     "text": [
      "Epsilon : 0.005404717413801359, average reward : -220.8820, averaged shaped reward : -219.5820 Pickup, Drop, Success, Hit wall rate : [1.62, 1.51, 0.77, 3.69]\n",
      "averaged grid size : 5.00, averaged obstacles : 9.43\n"
     ]
    },
    {
     "name": "stderr",
     "output_type": "stream",
     "text": [
      " 87%|████████▋ | 17503/20100 [11:25<02:01, 21.38it/s]"
     ]
    },
    {
     "name": "stdout",
     "output_type": "stream",
     "text": [
      "Epsilon : 0.005244960267219537, average reward : -257.6780, averaged shaped reward : -262.1780 Pickup, Drop, Success, Hit wall rate : [1.62, 1.52, 0.71, 3.69]\n",
      "averaged grid size : 5.00, averaged obstacles : 9.17\n"
     ]
    },
    {
     "name": "stderr",
     "output_type": "stream",
     "text": [
      " 88%|████████▊ | 17602/20100 [11:31<02:21, 17.69it/s]"
     ]
    },
    {
     "name": "stdout",
     "output_type": "stream",
     "text": [
      "Epsilon : 0.0050899253556649865, average reward : -257.8950, averaged shaped reward : -264.0950 Pickup, Drop, Success, Hit wall rate : [1.44, 1.33, 0.67, 3.94]\n",
      "averaged grid size : 5.00, averaged obstacles : 9.57\n"
     ]
    },
    {
     "name": "stderr",
     "output_type": "stream",
     "text": [
      " 88%|████████▊ | 17701/20100 [11:36<02:42, 14.78it/s]"
     ]
    },
    {
     "name": "stdout",
     "output_type": "stream",
     "text": [
      "Epsilon : 0.004939473095374914, average reward : -221.4960, averaged shaped reward : -216.9960 Pickup, Drop, Success, Hit wall rate : [1.49, 1.42, 0.73, 3.37]\n",
      "averaged grid size : 5.00, averaged obstacles : 9.93\n"
     ]
    },
    {
     "name": "stderr",
     "output_type": "stream",
     "text": [
      " 89%|████████▊ | 17800/20100 [11:43<03:09, 12.14it/s]"
     ]
    },
    {
     "name": "stdout",
     "output_type": "stream",
     "text": [
      "Epsilon : 0.004793468028519853, average reward : -280.6910, averaged shaped reward : -286.4910 Pickup, Drop, Success, Hit wall rate : [1.22, 1.09, 0.62, 3.82]\n",
      "averaged grid size : 5.00, averaged obstacles : 10.11\n"
     ]
    },
    {
     "name": "stderr",
     "output_type": "stream",
     "text": [
      " 89%|████████▉ | 17903/20100 [11:50<02:15, 16.18it/s]"
     ]
    },
    {
     "name": "stdout",
     "output_type": "stream",
     "text": [
      "Epsilon : 0.004651778701245866, average reward : -238.5130, averaged shaped reward : -234.4130 Pickup, Drop, Success, Hit wall rate : [1.11, 1.06, 0.69, 3.54]\n",
      "averaged grid size : 5.00, averaged obstacles : 10.15\n"
     ]
    },
    {
     "name": "stderr",
     "output_type": "stream",
     "text": [
      " 90%|████████▉ | 18010/20100 [11:55<01:06, 31.26it/s]"
     ]
    },
    {
     "name": "stdout",
     "output_type": "stream",
     "text": [
      "Epsilon : 0.0045142775453217, average reward : -214.6080, averaged shaped reward : -209.2080 Pickup, Drop, Success, Hit wall rate : [0.84, 0.81, 0.71, 2.8]\n",
      "averaged grid size : 5.00, averaged obstacles : 9.73\n"
     ]
    },
    {
     "name": "stderr",
     "output_type": "stream",
     "text": [
      " 90%|█████████ | 18104/20100 [12:00<01:57, 16.93it/s]"
     ]
    },
    {
     "name": "stdout",
     "output_type": "stream",
     "text": [
      "Epsilon : 0.004380840763284331, average reward : -201.6890, averaged shaped reward : -196.6890 Pickup, Drop, Success, Hit wall rate : [1.35, 1.26, 0.71, 2.52]\n",
      "averaged grid size : 5.00, averaged obstacles : 9.67\n"
     ]
    },
    {
     "name": "stderr",
     "output_type": "stream",
     "text": [
      " 91%|█████████ | 18202/20100 [12:07<02:45, 11.47it/s]"
     ]
    },
    {
     "name": "stdout",
     "output_type": "stream",
     "text": [
      "Epsilon : 0.004251348216979416, average reward : -307.5100, averaged shaped reward : -318.4100 Pickup, Drop, Success, Hit wall rate : [1.56, 1.38, 0.6, 4.2]\n",
      "averaged grid size : 5.00, averaged obstacles : 10.49\n"
     ]
    },
    {
     "name": "stderr",
     "output_type": "stream",
     "text": [
      " 91%|█████████ | 18301/20100 [12:13<01:49, 16.40it/s]"
     ]
    },
    {
     "name": "stdout",
     "output_type": "stream",
     "text": [
      "Epsilon : 0.004125683319396427, average reward : -258.3200, averaged shaped reward : -259.2200 Pickup, Drop, Success, Hit wall rate : [1.25, 1.15, 0.65, 2.92]\n",
      "averaged grid size : 5.00, averaged obstacles : 10.04\n"
     ]
    },
    {
     "name": "stderr",
     "output_type": "stream",
     "text": [
      " 92%|█████████▏| 18405/20100 [12:19<00:58, 28.81it/s]"
     ]
    },
    {
     "name": "stdout",
     "output_type": "stream",
     "text": [
      "Epsilon : 0.004003732929700951, average reward : -198.5120, averaged shaped reward : -183.9120 Pickup, Drop, Success, Hit wall rate : [1.37, 1.26, 0.75, 2.22]\n",
      "averaged grid size : 5.00, averaged obstacles : 9.24\n"
     ]
    },
    {
     "name": "stderr",
     "output_type": "stream",
     "text": [
      " 92%|█████████▏| 18505/20100 [12:24<01:10, 22.55it/s]"
     ]
    },
    {
     "name": "stdout",
     "output_type": "stream",
     "text": [
      "Epsilon : 0.0038853872513697645, average reward : -221.2280, averaged shaped reward : -211.1280 Pickup, Drop, Success, Hit wall rate : [1.01, 0.94, 0.71, 2.8]\n",
      "averaged grid size : 5.00, averaged obstacles : 10.19\n"
     ]
    },
    {
     "name": "stderr",
     "output_type": "stream",
     "text": [
      " 93%|█████████▎| 18601/20100 [12:31<02:01, 12.38it/s]"
     ]
    },
    {
     "name": "stdout",
     "output_type": "stream",
     "text": [
      "Epsilon : 0.0037705397333368737, average reward : -285.1780, averaged shaped reward : -286.9780 Pickup, Drop, Success, Hit wall rate : [1.3, 1.17, 0.59, 2.92]\n",
      "averaged grid size : 5.00, averaged obstacles : 10.73\n"
     ]
    },
    {
     "name": "stderr",
     "output_type": "stream",
     "text": [
      " 93%|█████████▎| 18704/20100 [12:37<00:55, 25.04it/s]"
     ]
    },
    {
     "name": "stdout",
     "output_type": "stream",
     "text": [
      "Epsilon : 0.0036590869740615976, average reward : -257.1400, averaged shaped reward : -254.1400 Pickup, Drop, Success, Hit wall rate : [1.24, 1.11, 0.63, 3.02]\n",
      "averaged grid size : 5.00, averaged obstacles : 10.68\n"
     ]
    },
    {
     "name": "stderr",
     "output_type": "stream",
     "text": [
      " 94%|█████████▎| 18802/20100 [12:43<01:07, 19.20it/s]"
     ]
    },
    {
     "name": "stdout",
     "output_type": "stream",
     "text": [
      "Epsilon : 0.0035509286284322655, average reward : -220.4840, averaged shaped reward : -210.8840 Pickup, Drop, Success, Hit wall rate : [1.3, 1.21, 0.72, 2.35]\n",
      "averaged grid size : 5.00, averaged obstacles : 10.50\n"
     ]
    },
    {
     "name": "stderr",
     "output_type": "stream",
     "text": [
      " 94%|█████████▍| 18901/20100 [12:49<01:27, 13.69it/s]"
     ]
    },
    {
     "name": "stdout",
     "output_type": "stream",
     "text": [
      "Epsilon : 0.0034459673174217324, average reward : -219.7160, averaged shaped reward : -211.3160 Pickup, Drop, Success, Hit wall rate : [1.02, 0.96, 0.67, 2.2]\n",
      "averaged grid size : 5.00, averaged obstacles : 9.75\n"
     ]
    },
    {
     "name": "stderr",
     "output_type": "stream",
     "text": [
      " 95%|█████████▍| 19004/20100 [12:58<00:57, 18.93it/s]"
     ]
    },
    {
     "name": "stdout",
     "output_type": "stream",
     "text": [
      "Epsilon : 0.0033441085404133874, average reward : -276.3260, averaged shaped reward : -273.1260 Pickup, Drop, Success, Hit wall rate : [1.21, 1.05, 0.56, 3.0]\n",
      "averaged grid size : 5.00, averaged obstacles : 9.88\n"
     ]
    },
    {
     "name": "stderr",
     "output_type": "stream",
     "text": [
      " 95%|█████████▌| 19102/20100 [13:08<01:26, 11.57it/s]"
     ]
    },
    {
     "name": "stdout",
     "output_type": "stream",
     "text": [
      "Epsilon : 0.003245260590118686, average reward : -310.1100, averaged shaped reward : -312.9100 Pickup, Drop, Success, Hit wall rate : [1.16, 1.04, 0.55, 2.96]\n",
      "averaged grid size : 5.00, averaged obstacles : 9.83\n"
     ]
    },
    {
     "name": "stderr",
     "output_type": "stream",
     "text": [
      " 96%|█████████▌| 19200/20100 [13:15<01:19, 11.39it/s]"
     ]
    },
    {
     "name": "stdout",
     "output_type": "stream",
     "text": [
      "Epsilon : 0.003149334470009632, average reward : -267.0470, averaged shaped reward : -263.0470 Pickup, Drop, Success, Hit wall rate : [1.41, 1.25, 0.6, 2.51]\n",
      "averaged grid size : 5.00, averaged obstacles : 9.91\n"
     ]
    },
    {
     "name": "stderr",
     "output_type": "stream",
     "text": [
      " 96%|█████████▌| 19301/20100 [13:24<01:12, 11.05it/s]"
     ]
    },
    {
     "name": "stdout",
     "output_type": "stream",
     "text": [
      "Epsilon : 0.0030562438141918565, average reward : -337.4790, averaged shaped reward : -345.8790 Pickup, Drop, Success, Hit wall rate : [0.91, 0.81, 0.49, 2.77]\n",
      "averaged grid size : 5.00, averaged obstacles : 9.49\n"
     ]
    },
    {
     "name": "stderr",
     "output_type": "stream",
     "text": [
      " 97%|█████████▋| 19401/20100 [13:30<00:34, 20.54it/s]"
     ]
    },
    {
     "name": "stdout",
     "output_type": "stream",
     "text": [
      "Epsilon : 0.002965904809646153, average reward : -227.8150, averaged shaped reward : -215.9150 Pickup, Drop, Success, Hit wall rate : [1.26, 1.11, 0.65, 2.41]\n",
      "averaged grid size : 5.00, averaged obstacles : 9.75\n"
     ]
    },
    {
     "name": "stderr",
     "output_type": "stream",
     "text": [
      " 97%|█████████▋| 19500/20100 [13:35<00:23, 26.04it/s]"
     ]
    },
    {
     "name": "stdout",
     "output_type": "stream",
     "text": [
      "Epsilon : 0.0028782361207684622, average reward : -165.6870, averaged shaped reward : -144.5870 Pickup, Drop, Success, Hit wall rate : [1.16, 1.05, 0.73, 1.78]\n",
      "averaged grid size : 5.00, averaged obstacles : 9.32\n"
     ]
    },
    {
     "name": "stderr",
     "output_type": "stream",
     "text": [
      " 98%|█████████▊| 19602/20100 [13:42<00:32, 15.26it/s]"
     ]
    },
    {
     "name": "stdout",
     "output_type": "stream",
     "text": [
      "Epsilon : 0.0027931588161403745, average reward : -236.5860, averaged shaped reward : -227.1860 Pickup, Drop, Success, Hit wall rate : [1.09, 1.0, 0.63, 2.42]\n",
      "averaged grid size : 5.00, averaged obstacles : 9.88\n"
     ]
    },
    {
     "name": "stderr",
     "output_type": "stream",
     "text": [
      " 98%|█████████▊| 19700/20100 [13:50<00:36, 10.91it/s]"
     ]
    },
    {
     "name": "stdout",
     "output_type": "stream",
     "text": [
      "Epsilon : 0.0027105962974641917, average reward : -272.6480, averaged shaped reward : -267.1480 Pickup, Drop, Success, Hit wall rate : [1.16, 1.03, 0.59, 2.18]\n",
      "averaged grid size : 5.00, averaged obstacles : 9.34\n"
     ]
    },
    {
     "name": "stderr",
     "output_type": "stream",
     "text": [
      " 99%|█████████▊| 19801/20100 [14:00<00:32,  9.29it/s]"
     ]
    },
    {
     "name": "stdout",
     "output_type": "stream",
     "text": [
      "Epsilon : 0.002630474230598616, average reward : -338.0850, averaged shaped reward : -341.5850 Pickup, Drop, Success, Hit wall rate : [1.04, 0.91, 0.49, 2.74]\n",
      "averaged grid size : 5.00, averaged obstacles : 10.65\n"
     ]
    },
    {
     "name": "stderr",
     "output_type": "stream",
     "text": [
      " 99%|█████████▉| 19901/20100 [14:06<00:13, 14.88it/s]"
     ]
    },
    {
     "name": "stdout",
     "output_type": "stream",
     "text": [
      "Epsilon : 0.002552720478632909, average reward : -243.0350, averaged shaped reward : -232.6350 Pickup, Drop, Success, Hit wall rate : [1.09, 0.98, 0.64, 1.85]\n",
      "averaged grid size : 5.00, averaged obstacles : 10.75\n"
     ]
    },
    {
     "name": "stderr",
     "output_type": "stream",
     "text": [
      "100%|█████████▉| 20001/20100 [14:13<00:07, 13.81it/s]"
     ]
    },
    {
     "name": "stdout",
     "output_type": "stream",
     "text": [
      "Epsilon : 0.002477265036939326, average reward : -292.8490, averaged shaped reward : -290.0490 Pickup, Drop, Success, Hit wall rate : [1.26, 1.12, 0.56, 2.22]\n",
      "averaged grid size : 5.00, averaged obstacles : 10.57\n"
     ]
    },
    {
     "name": "stderr",
     "output_type": "stream",
     "text": [
      "100%|██████████| 20100/20100 [14:21<00:00, 23.34it/s]"
     ]
    },
    {
     "name": "stdout",
     "output_type": "stream",
     "text": [
      "Epsilon : 0, average reward : -364.6450, averaged shaped reward : -351.6450 Pickup, Drop, Success, Hit wall rate : [0.49, 0.26, 0.26, 0.0]\n",
      "averaged grid size : 5.00, averaged obstacles : 10.75\n"
     ]
    },
    {
     "name": "stderr",
     "output_type": "stream",
     "text": [
      "\n"
     ]
    }
   ],
   "source": [
    "env = SimpleTaxiEnv()\n",
    "q_table = tabular_q_learning(env)"
   ]
  },
  {
   "cell_type": "code",
   "execution_count": 40,
   "metadata": {
    "id": "FaVsGr6fbI7l"
   },
   "outputs": [],
   "source": [
    "import pickle\n",
    "q_table_dict = dict(q_table)  # Convert to regular dict\n",
    "with open('q_table.pkl', 'wb') as f:\n",
    "    pickle.dump(q_table_dict, f)"
   ]
  },
  {
   "cell_type": "code",
   "execution_count": 57,
   "metadata": {
    "id": "1yAJ9k3vWNPX"
   },
   "outputs": [
    {
     "name": "stdout",
     "output_type": "stream",
     "text": [
      "405\n"
     ]
    }
   ],
   "source": [
    "print(len(q_table_dict.keys()))"
   ]
  },
  {
   "cell_type": "markdown",
   "metadata": {
    "id": "OXo_X3thVos1"
   },
   "source": [
    "# 測試"
   ]
  },
  {
   "cell_type": "code",
   "execution_count": null,
   "metadata": {},
   "outputs": [],
   "source": [
    "from tqdm import tqdm\n",
    "def Testing(env):\n",
    "    import pickle\n",
    "    from collections import defaultdict\n",
    "    with open('q_table.pkl', 'rb') as f:\n",
    "        print('load')\n",
    "        loaded_dict = pickle.load(f)\n",
    "    q_table = defaultdict(lambda: np.zeros(6), loaded_dict)  # Replace 0 with your default value\n",
    "    print(len(q_table))\n",
    "    #print('len of q_table',len(q_table.keys()))\n",
    "    global stations, candidates_p,candidates_goal, pickup, goal_id,last_action\n",
    "    stations = [[0,0] for _ in range(4)]\n",
    "    candidates_p = [i for i in stations]\n",
    "    candidates_goal = [i for i in stations]\n",
    "    goal_id = -1\n",
    "    pickup=False\n",
    "    action_size = 6\n",
    "    last_action = None\n",
    "    #q_table = defaultdict(lambda :np.zeros(action_size))\n",
    "    pickup_id = 4\n",
    "    drop_id = 5\n",
    "    ifpickup=False\n",
    "    p_loc = (0,0)\n",
    "    def cmp(a,b):\n",
    "        if a==b:\n",
    "            return 0\n",
    "        return 1 if a<b else -1\n",
    "            \n",
    "    def get_state_obs(obs,action):\n",
    "        global stations,pickup,candidates_p,candidates_goal\n",
    "        #print(candidates_p)\n",
    "        taxi_row, taxi_col, stations[0][0], stations[0][1] , stations[1][0], stations[1][1],stations[2][0],stations[2][1],stations[3][0],stations[3][1],obstacle_north, obstacle_south, obstacle_east, obstacle_west, passenger_look, destination_look = obs\n",
    "        agent_pos = (taxi_row,taxi_col)\n",
    "        if action==None:\n",
    "            # initialize\n",
    "            candidates_goal = [tuple(i) for i in stations]\n",
    "            candidates_p = [tuple(i) for i in stations]\n",
    "            pickup=False\n",
    "        if passenger_look:\n",
    "            #print('before p',candidates_p)\n",
    "            candidates_p = [ tuple(x) for x in candidates_p if abs(x[0]-agent_pos[0])+abs(x[1]-agent_pos[1]) <=1 ]\n",
    "            #print('after p',candidates_p)\n",
    "        else:\n",
    "            #print('before p',candidates_p)\n",
    "            candidates_p = [ tuple(x) for x in candidates_p if x != agent_pos ]\n",
    "            #print('after p',candidates_p)\n",
    "        if destination_look:\n",
    "            #print('before g',candidates_goal)\n",
    "            candidates_goal = [ tuple(x) for x in candidates_goal if abs(x[0]-agent_pos[0])+abs(x[1]-agent_pos[1]) <=1 ]\n",
    "            #print('after g',candidates_goal)\n",
    "        else:\n",
    "            #print('before g',candidates_goal)\n",
    "            candidates_goal = [ tuple(x) for x in candidates_goal if x!=agent_pos ]\n",
    "            #print('after g',candidates_goal)\n",
    "        if action==pickup_id and not pickup and agent_pos in candidates_p:\n",
    "            pickup = True\n",
    "            candidates_p = []\n",
    "        elif action == drop_id and pickup:\n",
    "            pickup=False\n",
    "            candidates_p.append(agent_pos)\n",
    "        cmp_pos = (0,0)\n",
    "        if not pickup:\n",
    "            cmp_pos = candidates_p[0]\n",
    "        else:\n",
    "            cmp_pos = candidates_goal[0]\n",
    "        passenger_look = passenger_look and agent_pos in candidates_p\n",
    "        destination_look = destination_look and agent_pos in candidates_goal\n",
    "        relative_pos = (cmp(agent_pos[0],cmp_pos[0]),cmp(agent_pos[1],cmp_pos[1]))\n",
    "        return (relative_pos,pickup, passenger_look, destination_look, (obstacle_north,obstacle_south,obstacle_east,obstacle_west))\n",
    "\n",
    "    def get_action(obs):\n",
    "        # TODO: Train your own agent\n",
    "        # HINT: If you're using a Q-table, consider designing a custom key based on `obs` to store useful information.\n",
    "        # NOTE: Keep in mind that your Q-table may not cover all possible states in the testing environment.\n",
    "        #       To prevent crashes, implement a fallback strategy for missing keys.\n",
    "        #       Otherwise, even if your agent performs well in training, it may fail during testing.\n",
    "        global last_action\n",
    "        state = get_state_obs(obs,last_action)\n",
    "        action_name = ['Move North','Move South','Move East','Move West','Pick Up','Drop Off']\n",
    "        if state not in q_table.keys():\n",
    "            #print(state)\n",
    "            print(state)\n",
    "            assert(0)\n",
    "            action = np.random.randint(action_size)\n",
    "        else:\n",
    "            #print(state,action_name[np.argmax(q_table[state])])\n",
    "            action = np.argmax(q_table[state])\n",
    "        q_table[state][action] = q_table[state][action] + 0.089487*(-0.1+0.89487*np.max(q_table[state])-q_table[state][action])\n",
    "        last_action=action\n",
    "        return action # Choose a random action\n",
    "        # You can submit this random agent to evaluate the performance of a purely random strategy.\n",
    "    Total_reward=0\n",
    "    for i in tqdm(range(100)):\n",
    "        grid_size = np.random.randint(5,11)\n",
    "        obstacle_size = np.random.randint(grid_size*grid_size)\n",
    "        obs,_ = env.reset()\n",
    "        obs,_,_ = obs\n",
    "        total_reward = 0\n",
    "        done = False\n",
    "        stations = [[0,0] for _ in range(4)]\n",
    "        candidates_p = [i for i in stations]\n",
    "        candidates_goal = [i for i in stations]\n",
    "        goal_id = -1\n",
    "        pickup=False\n",
    "        action_size = 6\n",
    "        pickup_id = 4\n",
    "        drop_id = 5\n",
    "        last_action = None\n",
    "        lst_a = None\n",
    "        while not done:\n",
    "            assert(last_action==lst_a)\n",
    "            action = get_action(obs)\n",
    "            obs,reward,done,_ = env.step(action)\n",
    "            obs,_,_ = obs\n",
    "            total_reward += reward\n",
    "            lst_a=action\n",
    "        Total_reward+=total_reward\n",
    "        print(f'grid_size : {env.grid_size}, obstacle_size : {len(env.obstacles)}, total_reward : {total_reward}')\n",
    "    print(f'average : {Total_reward/100}')\n"
   ]
  },
  {
   "cell_type": "code",
   "execution_count": 44,
   "metadata": {},
   "outputs": [
    {
     "name": "stdout",
     "output_type": "stream",
     "text": [
      "load\n",
      "405\n"
     ]
    },
    {
     "name": "stderr",
     "output_type": "stream",
     "text": [
      "  2%|▏         | 2/100 [00:00<00:08, 11.32it/s]"
     ]
    },
    {
     "name": "stdout",
     "output_type": "stream",
     "text": [
      "grid_size : 5, obstacle_size : 7, total_reward : 49.1\n",
      "grid_size : 10, obstacle_size : 78, total_reward : -510.0000000000452\n"
     ]
    },
    {
     "name": "stderr",
     "output_type": "stream",
     "text": [
      "  7%|▋         | 7/100 [00:00<00:04, 18.89it/s]"
     ]
    },
    {
     "name": "stdout",
     "output_type": "stream",
     "text": [
      "grid_size : 8, obstacle_size : 41, total_reward : -510.0000000000452\n",
      "grid_size : 7, obstacle_size : 11, total_reward : -510.0000000000452\n",
      "grid_size : 8, obstacle_size : 41, total_reward : -510.0000000000452\n",
      "grid_size : 10, obstacle_size : 20, total_reward : -510.0000000000452\n",
      "grid_size : 5, obstacle_size : 16, total_reward : -510.0000000000452\n"
     ]
    },
    {
     "name": "stderr",
     "output_type": "stream",
     "text": [
      " 14%|█▍        | 14/100 [00:00<00:04, 18.26it/s]"
     ]
    },
    {
     "name": "stdout",
     "output_type": "stream",
     "text": [
      "grid_size : 9, obstacle_size : 43, total_reward : -510.0000000000452\n",
      "grid_size : 9, obstacle_size : 63, total_reward : -510.0000000000452\n",
      "grid_size : 5, obstacle_size : 9, total_reward : -510.0000000000452\n",
      "grid_size : 9, obstacle_size : 47, total_reward : -510.0000000000452\n",
      "grid_size : 6, obstacle_size : 5, total_reward : -510.0000000000452\n",
      "grid_size : 8, obstacle_size : 2, total_reward : 47.099999999999994\n",
      "grid_size : 8, obstacle_size : 48, total_reward : -510.0000000000452\n"
     ]
    },
    {
     "name": "stderr",
     "output_type": "stream",
     "text": [
      " 21%|██        | 21/100 [00:01<00:02, 26.34it/s]"
     ]
    },
    {
     "name": "stdout",
     "output_type": "stream",
     "text": [
      "grid_size : 10, obstacle_size : 48, total_reward : -510.0000000000452\n",
      "grid_size : 6, obstacle_size : 16, total_reward : -510.0000000000452\n",
      "grid_size : 6, obstacle_size : 1, total_reward : 47.699999999999996\n",
      "grid_size : 8, obstacle_size : 12, total_reward : -510.0000000000452\n",
      "grid_size : 5, obstacle_size : 1, total_reward : 48.699999999999996\n",
      "grid_size : 6, obstacle_size : 26, total_reward : -510.0000000000452\n",
      "grid_size : 5, obstacle_size : 7, total_reward : -510.0000000000452\n",
      "grid_size : 5, obstacle_size : 14, total_reward : -510.0000000000452\n",
      "grid_size : 5, obstacle_size : 8, total_reward : -510.0000000000452\n"
     ]
    },
    {
     "name": "stderr",
     "output_type": "stream",
     "text": [
      " 28%|██▊       | 28/100 [00:01<00:02, 29.57it/s]"
     ]
    },
    {
     "name": "stdout",
     "output_type": "stream",
     "text": [
      "grid_size : 10, obstacle_size : 24, total_reward : -510.0000000000452\n",
      "grid_size : 5, obstacle_size : 14, total_reward : 49.5\n",
      "grid_size : 6, obstacle_size : 20, total_reward : 48.6\n",
      "grid_size : 9, obstacle_size : 10, total_reward : -510.0000000000452\n",
      "grid_size : 7, obstacle_size : 15, total_reward : -510.0000000000452\n",
      "grid_size : 8, obstacle_size : 23, total_reward : -510.0000000000452\n",
      "grid_size : 5, obstacle_size : 3, total_reward : -510.0000000000452\n"
     ]
    },
    {
     "name": "stderr",
     "output_type": "stream",
     "text": [
      " 35%|███▌      | 35/100 [00:01<00:02, 24.39it/s]"
     ]
    },
    {
     "name": "stdout",
     "output_type": "stream",
     "text": [
      "grid_size : 5, obstacle_size : 10, total_reward : -510.0000000000452\n",
      "grid_size : 5, obstacle_size : 13, total_reward : -510.0000000000452\n",
      "grid_size : 8, obstacle_size : 48, total_reward : -510.0000000000452\n",
      "grid_size : 7, obstacle_size : 27, total_reward : -510.0000000000452\n",
      "grid_size : 6, obstacle_size : 10, total_reward : -510.0000000000452\n"
     ]
    },
    {
     "name": "stderr",
     "output_type": "stream",
     "text": [
      " 38%|███▊      | 38/100 [00:01<00:03, 19.20it/s]"
     ]
    },
    {
     "name": "stdout",
     "output_type": "stream",
     "text": [
      "grid_size : 9, obstacle_size : 42, total_reward : -510.0000000000452\n",
      "grid_size : 9, obstacle_size : 54, total_reward : -510.0000000000452\n",
      "grid_size : 8, obstacle_size : 17, total_reward : -510.0000000000452\n",
      "grid_size : 5, obstacle_size : 14, total_reward : -510.0000000000452\n"
     ]
    },
    {
     "name": "stderr",
     "output_type": "stream",
     "text": [
      " 44%|████▍     | 44/100 [00:02<00:02, 19.90it/s]"
     ]
    },
    {
     "name": "stdout",
     "output_type": "stream",
     "text": [
      "grid_size : 8, obstacle_size : 43, total_reward : -510.0000000000452\n",
      "grid_size : 7, obstacle_size : 20, total_reward : 49.3\n",
      "grid_size : 7, obstacle_size : 25, total_reward : -510.0000000000452\n",
      "grid_size : 7, obstacle_size : 31, total_reward : -510.0000000000452\n",
      "grid_size : 5, obstacle_size : 13, total_reward : -510.0000000000452\n",
      "grid_size : 7, obstacle_size : 4, total_reward : 49.3\n"
     ]
    },
    {
     "name": "stderr",
     "output_type": "stream",
     "text": [
      " 48%|████▊     | 48/100 [00:02<00:02, 21.56it/s]"
     ]
    },
    {
     "name": "stdout",
     "output_type": "stream",
     "text": [
      "grid_size : 8, obstacle_size : 49, total_reward : -510.0000000000452\n",
      "grid_size : 5, obstacle_size : 7, total_reward : 48.6\n",
      "grid_size : 9, obstacle_size : 35, total_reward : -510.0000000000452\n",
      "grid_size : 7, obstacle_size : 33, total_reward : -510.0000000000452\n",
      "grid_size : 9, obstacle_size : 29, total_reward : -510.0000000000452\n"
     ]
    },
    {
     "name": "stderr",
     "output_type": "stream",
     "text": [
      " 55%|█████▌    | 55/100 [00:02<00:02, 20.58it/s]"
     ]
    },
    {
     "name": "stdout",
     "output_type": "stream",
     "text": [
      "grid_size : 10, obstacle_size : 72, total_reward : 49.199999999999996\n",
      "grid_size : 7, obstacle_size : 35, total_reward : 49.0\n",
      "grid_size : 5, obstacle_size : 12, total_reward : -510.0000000000452\n",
      "grid_size : 10, obstacle_size : 8, total_reward : 48.4\n",
      "grid_size : 10, obstacle_size : 38, total_reward : -510.0000000000452\n",
      "grid_size : 7, obstacle_size : 39, total_reward : 49.5\n"
     ]
    },
    {
     "name": "stderr",
     "output_type": "stream",
     "text": [
      " 58%|█████▊    | 58/100 [00:02<00:02, 18.54it/s]"
     ]
    },
    {
     "name": "stdout",
     "output_type": "stream",
     "text": [
      "grid_size : 10, obstacle_size : 56, total_reward : -510.0000000000452\n",
      "grid_size : 7, obstacle_size : 30, total_reward : -510.0000000000452\n",
      "grid_size : 5, obstacle_size : 10, total_reward : -510.0000000000452\n",
      "grid_size : 6, obstacle_size : 11, total_reward : -510.0000000000452\n",
      "grid_size : 7, obstacle_size : 24, total_reward : -510.0000000000452\n",
      "grid_size : 7, obstacle_size : 25, total_reward : -510.0000000000452\n"
     ]
    },
    {
     "name": "stderr",
     "output_type": "stream",
     "text": [
      " 66%|██████▌   | 66/100 [00:03<00:01, 21.70it/s]"
     ]
    },
    {
     "name": "stdout",
     "output_type": "stream",
     "text": [
      "grid_size : 6, obstacle_size : 20, total_reward : -510.0000000000452\n",
      "grid_size : 7, obstacle_size : 20, total_reward : -510.0000000000452\n",
      "grid_size : 7, obstacle_size : 9, total_reward : 48.4\n",
      "grid_size : 10, obstacle_size : 55, total_reward : -510.0000000000452\n"
     ]
    },
    {
     "name": "stderr",
     "output_type": "stream",
     "text": [
      " 69%|██████▉   | 69/100 [00:03<00:01, 21.94it/s]"
     ]
    },
    {
     "name": "stdout",
     "output_type": "stream",
     "text": [
      "grid_size : 7, obstacle_size : 33, total_reward : -510.0000000000452\n",
      "grid_size : 5, obstacle_size : 13, total_reward : -510.0000000000452\n",
      "grid_size : 10, obstacle_size : 6, total_reward : -510.0000000000452\n",
      "grid_size : 5, obstacle_size : 14, total_reward : 49.3\n"
     ]
    },
    {
     "name": "stderr",
     "output_type": "stream",
     "text": [
      " 76%|███████▌  | 76/100 [00:03<00:01, 21.39it/s]"
     ]
    },
    {
     "name": "stdout",
     "output_type": "stream",
     "text": [
      "grid_size : 10, obstacle_size : 74, total_reward : -510.0000000000452\n",
      "grid_size : 5, obstacle_size : 12, total_reward : -510.0000000000452\n",
      "grid_size : 6, obstacle_size : 9, total_reward : -510.0000000000452\n",
      "grid_size : 7, obstacle_size : 33, total_reward : 49.0\n",
      "grid_size : 5, obstacle_size : 2, total_reward : 48.8\n",
      "grid_size : 9, obstacle_size : 23, total_reward : -510.0000000000452\n"
     ]
    },
    {
     "name": "stderr",
     "output_type": "stream",
     "text": [
      " 79%|███████▉  | 79/100 [00:03<00:01, 18.50it/s]"
     ]
    },
    {
     "name": "stdout",
     "output_type": "stream",
     "text": [
      "grid_size : 8, obstacle_size : 47, total_reward : -510.0000000000452\n",
      "grid_size : 7, obstacle_size : 33, total_reward : -510.0000000000452\n",
      "grid_size : 10, obstacle_size : 26, total_reward : -510.0000000000452\n",
      "grid_size : 7, obstacle_size : 13, total_reward : 48.9\n",
      "grid_size : 5, obstacle_size : 17, total_reward : -510.0000000000452\n"
     ]
    },
    {
     "name": "stderr",
     "output_type": "stream",
     "text": [
      " 87%|████████▋ | 87/100 [00:04<00:00, 22.84it/s]"
     ]
    },
    {
     "name": "stdout",
     "output_type": "stream",
     "text": [
      "grid_size : 7, obstacle_size : 15, total_reward : -510.0000000000452\n",
      "grid_size : 10, obstacle_size : 10, total_reward : 48.6\n",
      "grid_size : 6, obstacle_size : 13, total_reward : -510.0000000000452\n",
      "grid_size : 7, obstacle_size : 33, total_reward : -510.0000000000452\n",
      "grid_size : 10, obstacle_size : 52, total_reward : -510.0000000000452\n",
      "grid_size : 6, obstacle_size : 13, total_reward : 48.199999999999996\n",
      "grid_size : 8, obstacle_size : 44, total_reward : -510.0000000000452\n",
      "grid_size : 9, obstacle_size : 58, total_reward : -510.0000000000452\n",
      "grid_size : 6, obstacle_size : 22, total_reward : -510.0000000000452\n"
     ]
    },
    {
     "name": "stderr",
     "output_type": "stream",
     "text": [
      " 93%|█████████▎| 93/100 [00:04<00:00, 18.84it/s]"
     ]
    },
    {
     "name": "stdout",
     "output_type": "stream",
     "text": [
      "grid_size : 5, obstacle_size : 16, total_reward : -510.0000000000452\n",
      "grid_size : 5, obstacle_size : 12, total_reward : -510.0000000000452\n",
      "grid_size : 6, obstacle_size : 16, total_reward : -510.0000000000452\n",
      "grid_size : 9, obstacle_size : 47, total_reward : -510.0000000000452\n",
      "grid_size : 9, obstacle_size : 4, total_reward : 47.8\n",
      "grid_size : 5, obstacle_size : 10, total_reward : -510.0000000000452\n"
     ]
    },
    {
     "name": "stderr",
     "output_type": "stream",
     "text": [
      "100%|██████████| 100/100 [00:05<00:00, 19.51it/s]"
     ]
    },
    {
     "name": "stdout",
     "output_type": "stream",
     "text": [
      "grid_size : 10, obstacle_size : 60, total_reward : -510.0000000000452\n",
      "grid_size : 9, obstacle_size : 53, total_reward : -510.0000000000452\n",
      "grid_size : 6, obstacle_size : 5, total_reward : 49.3\n",
      "grid_size : 7, obstacle_size : 31, total_reward : -510.0000000000452\n",
      "average : -387.0770000000346\n"
     ]
    },
    {
     "name": "stderr",
     "output_type": "stream",
     "text": [
      "\n"
     ]
    }
   ],
   "source": [
    "env = SimpleTaxiEnv()\n",
    "Testing(env)"
   ]
  },
  {
   "cell_type": "markdown",
   "metadata": {
    "id": "WSxQEFroMcJw"
   },
   "source": [
    "# Policy base"
   ]
  },
  {
   "cell_type": "code",
   "execution_count": 44,
   "metadata": {
    "id": "nP4NtkKwMi1s"
   },
   "outputs": [],
   "source": [
    "def tabular_policy_learning(env,episodes=5000, alpha=0.1, gamma=0.999):\n",
    "\n",
    "    global stations, candidates_p,candidates_goal, pickup\n",
    "    stations = [[0,0] for _ in range(4)]\n",
    "    candidates_p = [i for i in stations]\n",
    "    candidates_goal = [i for i in stations]\n",
    "    pickup=False\n",
    "    action_size = 6\n",
    "    policy_table = defaultdict(lambda :np.zeros(action_size))\n",
    "    pickup_id = 4\n",
    "    drop_id = 5\n",
    "    ifpickup=False\n",
    "    p_loc = (0,0)\n",
    "    def softmax(x):\n",
    "        \"\"\"✅ Compute softmax values for an array.\"\"\"\n",
    "        exp_x = np.exp(x - np.max(x))  # Numeric stability\n",
    "        return exp_x / exp_x.sum()\n",
    "    def get_state_obs(obs,action):\n",
    "        global stations,pickup,candidates_p,candidates_goal\n",
    "        #print(candidates_p)\n",
    "        obstacles = [0 for _ in range(5)]\n",
    "        taxi_row, taxi_col, stations[0][0], stations[0][1] , stations[1][0], stations[1][1],stations[2][0],stations[2][1],stations[3][0],stations[3][1],obstacle_north, obstacle_south, obstacle_east, obstacle_west, passenger_look, destination_look = obs\n",
    "        agent_pos = (taxi_row,taxi_col)\n",
    "        if action==None:\n",
    "            # initialize\n",
    "            candidates_goal = [tuple(i) for i in stations]\n",
    "            candidates_p = [tuple(i) for i in stations]\n",
    "            pickup=False\n",
    "        if passenger_look:\n",
    "            #print('before p',candidates_p)\n",
    "            candidates_p = [ tuple(x) for x in candidates_p if abs(x[0]-agent_pos[0])+abs(x[1]-agent_pos[1]) <=1 ]\n",
    "            #print('after p',candidates_p)\n",
    "        else:\n",
    "            #print('before p',candidates_p)\n",
    "            candidates_p = [ tuple(x) for x in candidates_p if abs(x[0]-agent_pos[0])+abs(x[1]-agent_pos[1]) >1 ]\n",
    "            #print('after p',candidates_p)\n",
    "        if destination_look:\n",
    "            #print('before g',candidates_goal)\n",
    "            candidates_goal = [ tuple(x) for x in candidates_goal if abs(x[0]-agent_pos[0])+abs(x[1]-agent_pos[1]) <=1 ]\n",
    "            #print('after g',candidates_goal)\n",
    "        else:\n",
    "            #print('before g',candidates_goal)\n",
    "            candidates_goal = [ tuple(x) for x in candidates_goal if abs(x[0]-agent_pos[0])+abs(x[1]-agent_pos[1]) >1 ]\n",
    "            #print('after g',candidates_goal)\n",
    "        if action==pickup_id and not pickup and agent_pos in candidates_p:\n",
    "            pickup = True\n",
    "            candidates_p = []\n",
    "        elif action == drop_id and pickup:\n",
    "            pickup=False\n",
    "            candidates_p = [agent_pos]\n",
    "        return (pickup, len(candidates_p), len(candidates_goal), passenger_look, destination_look, (obstacle_north,obstacle_south,obstacle_east,obstacle_west))\n",
    "    \"\"\"\n",
    "    if action == 0 :  # Move Down\n",
    "        next_row += 1\n",
    "    elif action == 1:  # Move Up\n",
    "        next_row -= 1\n",
    "    elif action == 2:  # Move Right\n",
    "        next_col += 1\n",
    "    elif action == 3:  # Move Left\n",
    "        next_col -= 1\n",
    "    \"\"\"\n",
    "    station_size = 4\n",
    "    total_reward = 0\n",
    "    total_reward_shaped = 0\n",
    "    cnt = [0,0,0]\n",
    "    averaged = [0,0]\n",
    "    batch_size = 100\n",
    "\n",
    "\n",
    "\n",
    "    for epoch in tqdm(range(episodes+600)):\n",
    "        if epoch >= episodes:\n",
    "            epsilon = 0\n",
    "        grid_size = np.random.randint(5,11)\n",
    "        obstacle_size = np.random.randint(grid_size*grid_size)\n",
    "        obs,_ = env.reset()\n",
    "        averaged[0]+=env.grid_size\n",
    "        averaged[1]+=len(env.obstacles)\n",
    "        obs,ifpickup,p_loc = obs\n",
    "        done = False\n",
    "        state = get_state_obs(obs,action=None)\n",
    "        steps=0\n",
    "        action_l=[]\n",
    "        success = False\n",
    "        has_pickup=False\n",
    "        trajectory = []\n",
    "        while not done:\n",
    "            \"\"\"if state[-1]!=(0,0,0,0):\n",
    "              print(state[-1])\"\"\"\n",
    "            action = np.random.choice(action_size,p=softmax(policy_table[state]))\n",
    "            lst_pickup = pickup\n",
    "            obs,reward,done,_ = env.step(action)\n",
    "            obs,ifpickup,p_loc = obs\n",
    "            next_state = get_state_obs(obs,action)\n",
    "            total_reward += reward\n",
    "            if done and reward>0:\n",
    "                cnt[2]+=1\n",
    "            reward_shaping = 0\n",
    "            pickup, p_len, goal_len, _,_ , _ = next_state\n",
    "            if not pickup:\n",
    "                reward_shaping -= 0.01 * (p_len**2)\n",
    "            reward_shaping -= 0.001 * (goal_len**2)\n",
    "            reward += reward_shaping\n",
    "            total_reward_shaped += reward\n",
    "            trajectory.append((state,action,reward))\n",
    "            state = next_state\n",
    "\n",
    "\n",
    "            if lst_pickup==False and pickup:\n",
    "                cnt[0]+=1\n",
    "            elif lst_pickup==True and pickup==False:\n",
    "                cnt[1]+=1\n",
    "            if pickup!=ifpickup:\n",
    "                print(pickup,ifpickup)\n",
    "            assert(pickup==ifpickup)\n",
    "        G = 0\n",
    "        for t in reversed(trajectory):\n",
    "            state,action,reward = t\n",
    "            G = gamma*G + reward\n",
    "            prob = softmax(policy_table[state])\n",
    "            grad=-prob.copy()\n",
    "            grad[action]+=1\n",
    "            policy_table[state] += alpha*G*grad\n",
    "        if (epoch+1)%batch_size==0:\n",
    "            cnt = [i/batch_size for i in cnt]\n",
    "            print(f'Epoch : {epoch}, average reward : {total_reward/batch_size:.4f}, averaged shaped reward : {total_reward_shaped/batch_size:.4f} Pickup, Drop, Success rate : {cnt}')\n",
    "            print(f'averaged grid size : {averaged[0]/batch_size:.2f}, averaged obstacles : {averaged[1]/batch_size:.2f}')\n",
    "            averaged = [0,0]\n",
    "            cnt = [0,0,0]\n",
    "            total_reward = 0\n",
    "            total_reward_shaped = 0\n",
    "    return q_table"
   ]
  },
  {
   "cell_type": "code",
   "execution_count": 45,
   "metadata": {
    "id": "8pe7Sg6NarrP"
   },
   "outputs": [
    {
     "name": "stderr",
     "output_type": "stream",
     "text": [
      "  0%|          | 20/5600 [00:04<20:19,  4.58it/s]\n"
     ]
    },
    {
     "ename": "KeyboardInterrupt",
     "evalue": "",
     "output_type": "error",
     "traceback": [
      "\u001b[1;31m---------------------------------------------------------------------------\u001b[0m",
      "\u001b[1;31mKeyboardInterrupt\u001b[0m                         Traceback (most recent call last)",
      "Cell \u001b[1;32mIn[45], line 2\u001b[0m\n\u001b[0;32m      1\u001b[0m env \u001b[38;5;241m=\u001b[39m SimpleTaxiEnv()\n\u001b[1;32m----> 2\u001b[0m policy_table \u001b[38;5;241m=\u001b[39m \u001b[43mtabular_policy_learning\u001b[49m\u001b[43m(\u001b[49m\u001b[43menv\u001b[49m\u001b[43m)\u001b[49m\n\u001b[0;32m      3\u001b[0m \u001b[38;5;66;03m# save policy table to .pkl\u001b[39;00m\n\u001b[0;32m      4\u001b[0m policy_dict \u001b[38;5;241m=\u001b[39m \u001b[38;5;28mdict\u001b[39m(policy_table)  \u001b[38;5;66;03m# Convert to regular dict\u001b[39;00m\n",
      "Cell \u001b[1;32mIn[44], line 120\u001b[0m, in \u001b[0;36mtabular_policy_learning\u001b[1;34m(env, episodes, alpha, gamma)\u001b[0m\n\u001b[0;32m    118\u001b[0m state,action,reward \u001b[38;5;241m=\u001b[39m t\n\u001b[0;32m    119\u001b[0m G \u001b[38;5;241m=\u001b[39m gamma\u001b[38;5;241m*\u001b[39mG \u001b[38;5;241m+\u001b[39m reward\n\u001b[1;32m--> 120\u001b[0m prob \u001b[38;5;241m=\u001b[39m \u001b[43msoftmax\u001b[49m\u001b[43m(\u001b[49m\u001b[43mpolicy_table\u001b[49m\u001b[43m[\u001b[49m\u001b[43mstate\u001b[49m\u001b[43m]\u001b[49m\u001b[43m)\u001b[49m\n\u001b[0;32m    121\u001b[0m grad\u001b[38;5;241m=\u001b[39m\u001b[38;5;241m-\u001b[39mprob\u001b[38;5;241m.\u001b[39mcopy()\n\u001b[0;32m    122\u001b[0m grad[action]\u001b[38;5;241m+\u001b[39m\u001b[38;5;241m=\u001b[39m\u001b[38;5;241m1\u001b[39m\n",
      "Cell \u001b[1;32mIn[44], line 17\u001b[0m, in \u001b[0;36mtabular_policy_learning.<locals>.softmax\u001b[1;34m(x)\u001b[0m\n\u001b[0;32m     15\u001b[0m \u001b[38;5;250m\u001b[39m\u001b[38;5;124;03m\"\"\"✅ Compute softmax values for an array.\"\"\"\u001b[39;00m\n\u001b[0;32m     16\u001b[0m exp_x \u001b[38;5;241m=\u001b[39m np\u001b[38;5;241m.\u001b[39mexp(x \u001b[38;5;241m-\u001b[39m np\u001b[38;5;241m.\u001b[39mmax(x))  \u001b[38;5;66;03m# Numeric stability\u001b[39;00m\n\u001b[1;32m---> 17\u001b[0m \u001b[38;5;28;01mreturn\u001b[39;00m exp_x \u001b[38;5;241m/\u001b[39m \u001b[43mexp_x\u001b[49m\u001b[38;5;241;43m.\u001b[39;49m\u001b[43msum\u001b[49m\u001b[43m(\u001b[49m\u001b[43m)\u001b[49m\n",
      "File \u001b[1;32m~\\AppData\\Local\\Packages\\PythonSoftwareFoundation.Python.3.12_qbz5n2kfra8p0\\LocalCache\\local-packages\\Python312\\site-packages\\numpy\\_core\\_methods.py:51\u001b[0m, in \u001b[0;36m_sum\u001b[1;34m(a, axis, dtype, out, keepdims, initial, where)\u001b[0m\n\u001b[0;32m     47\u001b[0m \u001b[38;5;28;01mdef\u001b[39;00m \u001b[38;5;21m_amin\u001b[39m(a, axis\u001b[38;5;241m=\u001b[39m\u001b[38;5;28;01mNone\u001b[39;00m, out\u001b[38;5;241m=\u001b[39m\u001b[38;5;28;01mNone\u001b[39;00m, keepdims\u001b[38;5;241m=\u001b[39m\u001b[38;5;28;01mFalse\u001b[39;00m,\n\u001b[0;32m     48\u001b[0m           initial\u001b[38;5;241m=\u001b[39m_NoValue, where\u001b[38;5;241m=\u001b[39m\u001b[38;5;28;01mTrue\u001b[39;00m):\n\u001b[0;32m     49\u001b[0m     \u001b[38;5;28;01mreturn\u001b[39;00m umr_minimum(a, axis, \u001b[38;5;28;01mNone\u001b[39;00m, out, keepdims, initial, where)\n\u001b[1;32m---> 51\u001b[0m \u001b[38;5;28;01mdef\u001b[39;00m \u001b[38;5;21m_sum\u001b[39m(a, axis\u001b[38;5;241m=\u001b[39m\u001b[38;5;28;01mNone\u001b[39;00m, dtype\u001b[38;5;241m=\u001b[39m\u001b[38;5;28;01mNone\u001b[39;00m, out\u001b[38;5;241m=\u001b[39m\u001b[38;5;28;01mNone\u001b[39;00m, keepdims\u001b[38;5;241m=\u001b[39m\u001b[38;5;28;01mFalse\u001b[39;00m,\n\u001b[0;32m     52\u001b[0m          initial\u001b[38;5;241m=\u001b[39m_NoValue, where\u001b[38;5;241m=\u001b[39m\u001b[38;5;28;01mTrue\u001b[39;00m):\n\u001b[0;32m     53\u001b[0m     \u001b[38;5;28;01mreturn\u001b[39;00m umr_sum(a, axis, dtype, out, keepdims, initial, where)\n\u001b[0;32m     55\u001b[0m \u001b[38;5;28;01mdef\u001b[39;00m \u001b[38;5;21m_prod\u001b[39m(a, axis\u001b[38;5;241m=\u001b[39m\u001b[38;5;28;01mNone\u001b[39;00m, dtype\u001b[38;5;241m=\u001b[39m\u001b[38;5;28;01mNone\u001b[39;00m, out\u001b[38;5;241m=\u001b[39m\u001b[38;5;28;01mNone\u001b[39;00m, keepdims\u001b[38;5;241m=\u001b[39m\u001b[38;5;28;01mFalse\u001b[39;00m,\n\u001b[0;32m     56\u001b[0m           initial\u001b[38;5;241m=\u001b[39m_NoValue, where\u001b[38;5;241m=\u001b[39m\u001b[38;5;28;01mTrue\u001b[39;00m):\n",
      "\u001b[1;31mKeyboardInterrupt\u001b[0m: "
     ]
    }
   ],
   "source": [
    "env = SimpleTaxiEnv()\n",
    "policy_table = tabular_policy_learning(env)\n",
    "# save policy table to .pkl\n",
    "policy_dict = dict(policy_table)  # Convert to regular dict\n",
    "with open('policy_table.pkl', 'wb') as f:\n",
    "    pickle.dump(policy_dict, f)"
   ]
  }
 ],
 "metadata": {
  "colab": {
   "collapsed_sections": [
    "vBm02Hg7kQwD",
    "ioWeQB4DTncX"
   ],
   "provenance": []
  },
  "kernelspec": {
   "display_name": "Python 3",
   "name": "python3"
  },
  "language_info": {
   "codemirror_mode": {
    "name": "ipython",
    "version": 3
   },
   "file_extension": ".py",
   "mimetype": "text/x-python",
   "name": "python",
   "nbconvert_exporter": "python",
   "pygments_lexer": "ipython3",
   "version": "3.12.9"
  }
 },
 "nbformat": 4,
 "nbformat_minor": 0
}
