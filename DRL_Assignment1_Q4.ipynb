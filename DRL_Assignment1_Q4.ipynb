{
 "cells": [
  {
   "cell_type": "markdown",
   "metadata": {
    "id": "5fwkxPaZaMFv"
   },
   "source": [
    "# **Deep Reinforcement Learning Class Spring 2025 Assignment 1**\n",
    "\n",
    "In this assignment, we will learn about gym interface, gridworld, q-learning, and etc. You will need to fill in the missing code snippets (marked by TODO).\n",
    "\n",
    "Make a copy of this notebook using File > Save a copy in Drive and edit it with your answers.\n",
    "\n",
    "WARNING: Do not put your name or any other personal identification information in this notebook."
   ]
  },
  {
   "cell_type": "code",
   "execution_count": 3,
   "metadata": {},
   "outputs": [
    {
     "name": "stdout",
     "output_type": "stream",
     "text": [
      "Defaulting to user installation because normal site-packages is not writeable\n",
      "Requirement already satisfied: gym in c:\\users\\yuhun\\appdata\\local\\packages\\pythonsoftwarefoundation.python.3.12_qbz5n2kfra8p0\\localcache\\local-packages\\python312\\site-packages (0.26.2)\n",
      "Requirement already satisfied: numpy>=1.18.0 in c:\\users\\yuhun\\appdata\\local\\packages\\pythonsoftwarefoundation.python.3.12_qbz5n2kfra8p0\\localcache\\local-packages\\python312\\site-packages (from gym) (2.1.2)\n",
      "Requirement already satisfied: cloudpickle>=1.2.0 in c:\\users\\yuhun\\appdata\\local\\packages\\pythonsoftwarefoundation.python.3.12_qbz5n2kfra8p0\\localcache\\local-packages\\python312\\site-packages (from gym) (3.1.1)\n",
      "Requirement already satisfied: gym_notices>=0.0.4 in c:\\users\\yuhun\\appdata\\local\\packages\\pythonsoftwarefoundation.python.3.12_qbz5n2kfra8p0\\localcache\\local-packages\\python312\\site-packages (from gym) (0.0.8)\n"
     ]
    },
    {
     "name": "stderr",
     "output_type": "stream",
     "text": [
      "\n",
      "[notice] A new release of pip is available: 24.3.1 -> 25.0.1\n",
      "[notice] To update, run: C:\\Users\\yuhun\\AppData\\Local\\Microsoft\\WindowsApps\\PythonSoftwareFoundation.Python.3.12_qbz5n2kfra8p0\\python.exe -m pip install --upgrade pip\n"
     ]
    },
    {
     "name": "stdout",
     "output_type": "stream",
     "text": [
      "Defaulting to user installation because normal site-packages is not writeable\n"
     ]
    },
    {
     "name": "stderr",
     "output_type": "stream",
     "text": [
      "WARNING: Retrying (Retry(total=4, connect=None, read=None, redirect=None, status=None)) after connection broken by 'NewConnectionError('<pip._vendor.urllib3.connection.HTTPSConnection object at 0x000001C833987E30>: Failed to establish a new connection: [Errno 11001] getaddrinfo failed')': /simple/numpy/\n",
      "WARNING: Retrying (Retry(total=3, connect=None, read=None, redirect=None, status=None)) after connection broken by 'NewConnectionError('<pip._vendor.urllib3.connection.HTTPSConnection object at 0x000001C833E45F10>: Failed to establish a new connection: [Errno 11001] getaddrinfo failed')': /simple/numpy/\n",
      "WARNING: Retrying (Retry(total=2, connect=None, read=None, redirect=None, status=None)) after connection broken by 'NewConnectionError('<pip._vendor.urllib3.connection.HTTPSConnection object at 0x000001C833E46300>: Failed to establish a new connection: [Errno 11001] getaddrinfo failed')': /simple/numpy/\n",
      "WARNING: Retrying (Retry(total=1, connect=None, read=None, redirect=None, status=None)) after connection broken by 'NewConnectionError('<pip._vendor.urllib3.connection.HTTPSConnection object at 0x000001C833E46510>: Failed to establish a new connection: [Errno 11001] getaddrinfo failed')': /simple/numpy/\n",
      "WARNING: Retrying (Retry(total=0, connect=None, read=None, redirect=None, status=None)) after connection broken by 'NewConnectionError('<pip._vendor.urllib3.connection.HTTPSConnection object at 0x000001C833E466F0>: Failed to establish a new connection: [Errno 11001] getaddrinfo failed')': /simple/numpy/\n",
      "ERROR: Could not find a version that satisfies the requirement numpy==1.24.0 (from versions: none)\n",
      "\n",
      "[notice] A new release of pip is available: 24.3.1 -> 25.0.1\n",
      "[notice] To update, run: C:\\Users\\yuhun\\AppData\\Local\\Microsoft\\WindowsApps\\PythonSoftwareFoundation.Python.3.12_qbz5n2kfra8p0\\python.exe -m pip install --upgrade pip\n",
      "ERROR: No matching distribution found for numpy==1.24.0\n"
     ]
    },
    {
     "name": "stdout",
     "output_type": "stream",
     "text": [
      "Defaulting to user installation because normal site-packages is not writeable\n",
      "Requirement already satisfied: tqdm in c:\\users\\yuhun\\appdata\\local\\packages\\pythonsoftwarefoundation.python.3.12_qbz5n2kfra8p0\\localcache\\local-packages\\python312\\site-packages (4.66.6)\n",
      "Requirement already satisfied: colorama in c:\\users\\yuhun\\appdata\\local\\packages\\pythonsoftwarefoundation.python.3.12_qbz5n2kfra8p0\\localcache\\local-packages\\python312\\site-packages (from tqdm) (0.4.6)\n"
     ]
    },
    {
     "name": "stderr",
     "output_type": "stream",
     "text": [
      "\n",
      "[notice] A new release of pip is available: 24.3.1 -> 25.0.1\n",
      "[notice] To update, run: C:\\Users\\yuhun\\AppData\\Local\\Microsoft\\WindowsApps\\PythonSoftwareFoundation.Python.3.12_qbz5n2kfra8p0\\python.exe -m pip install --upgrade pip\n"
     ]
    }
   ],
   "source": [
    "!pip install gym\n",
    "!pip install numpy==1.24.0\n",
    "!pip install tqdm"
   ]
  },
  {
   "cell_type": "code",
   "execution_count": 4,
   "metadata": {
    "id": "L8nLFy4z2bZh"
   },
   "outputs": [],
   "source": [
    "import gym\n",
    "import numpy as np\n",
    "import importlib.util\n",
    "import time\n",
    "from IPython.display import clear_output\n",
    "import random"
   ]
  },
  {
   "cell_type": "code",
   "execution_count": null,
   "metadata": {},
   "outputs": [],
   "source": []
  },
  {
   "cell_type": "code",
   "execution_count": 5,
   "metadata": {
    "id": "W_kyHQESMG0E"
   },
   "outputs": [],
   "source": [
    "np.random.seed(42)"
   ]
  },
  {
   "cell_type": "code",
   "execution_count": 9,
   "metadata": {
    "id": "suK5e6_R2Fcq"
   },
   "outputs": [],
   "source": [
    "\n",
    "# This environment allows you to verify whether your program runs correctly during testing,\n",
    "# as it follows the same observation format from `env.reset()` and `env.step()`.\n",
    "# However, keep in mind that this is just a simplified environment.\n",
    "# The full specifications for the real testing environment can be found in the provided spec.\n",
    "#\n",
    "# You are free to modify this file to better match the real environment and train your own agent.\n",
    "# Good luck!\n",
    "\n",
    "\n",
    "class SimpleTaxiEnv(gym.Env):\n",
    "    def __init__(self, grid_size=10, fuel_limit=5000):\n",
    "        \"\"\"\n",
    "        Custom Taxi environment supporting different grid sizes.\n",
    "        \"\"\"\n",
    "        self.grid_size = grid_size\n",
    "        self.fuel_limit = fuel_limit\n",
    "        self.current_fuel = fuel_limit\n",
    "        self.passenger_picked_up = False\n",
    "\n",
    "        self.stations = [(0, 0), (0, self.grid_size - 1), (self.grid_size - 1, 0), (self.grid_size - 1, self.grid_size - 1)]\n",
    "        self.passenger_loc = None\n",
    "\n",
    "        self.obstacles = set()  # No obstacles in simple version\n",
    "        self.destination = None\n",
    "    def legal(self):\n",
    "      available_positions = [\n",
    "            (x, y) for x in range(self.grid_size) for y in range(self.grid_size)\n",
    "            if (x, y) not in self.obstacles\n",
    "      ]\n",
    "      n=len(available_positions)\n",
    "      p = [0 for i in range(n)]\n",
    "      global group_size\n",
    "      group_size = n\n",
    "      def find_parent(x):\n",
    "        if x!=p[x]:\n",
    "          p[x]=find_parent(p[x])\n",
    "        return p[x]\n",
    "      def Union(a,b):\n",
    "        global group_size\n",
    "        a=find_parent(a)\n",
    "        b=find_parent(b)\n",
    "        if a!=b:\n",
    "          group_size -= 1\n",
    "          if np.random.randint(2)==0:\n",
    "            p[a]=b\n",
    "          else:\n",
    "            p[b]=a\n",
    "      for i in range(n):\n",
    "        p[i]=i\n",
    "      for i in range(n):\n",
    "        for j in range(i+1,n):\n",
    "          if abs(available_positions[i][0]-available_positions[j][0])+abs(available_positions[i][1]-available_positions[j][1])==1:\n",
    "            Union(i,j)\n",
    "      return group_size==1\n",
    "    def reset(self,grid_size=None,obstacle_len=None):\n",
    "        \"\"\"Reset the environment, ensuring Taxi, passenger, and destination are not overlapping obstacles\"\"\"\n",
    "        self.current_fuel = self.fuel_limit\n",
    "        self.passenger_picked_up = False\n",
    "        if grid_size == None:\n",
    "            grid_size = np.random.randint(5,11)\n",
    "        self.grid_size = grid_size\n",
    "        self.stations = []\n",
    "        if obstacle_len == None:\n",
    "            obstacle_len = np.random.randint(0,grid_size*grid_size)\n",
    "        while len(self.stations)<4:\n",
    "            posx,posy = np.random.randint(0,self.grid_size),np.random.randint(0,self.grid_size)\n",
    "            # check posx,posy is not adjacent to existed stations\n",
    "            if not any([abs(posx-station[0])+abs(posy-station[1])<=1 for station in self.stations]):\n",
    "                self.stations.append((posx,posy))\n",
    "        #self.stations = [(0, 0), (0, self.grid_size - 1), (self.grid_size - 1, 0), (self.grid_size - 1, self.grid_size - 1)]\n",
    "        self.obstacles = set()\n",
    "        cnt = 0\n",
    "        while len(self.obstacles)<obstacle_len and cnt < self.grid_size*self.grid_size*10:\n",
    "            posx,posy = np.random.randint(0,self.grid_size),np.random.randint(0,self.grid_size)\n",
    "            if (posx,posy) not in self.stations and (posx,posy) not in self.obstacles:\n",
    "                self.obstacles.add((posx,posy))\n",
    "            if not self.legal():\n",
    "                self.obstacles.remove((posx,posy))\n",
    "            cnt = cnt +1\n",
    "        available_positions = [\n",
    "            (x, y) for x in range(self.grid_size) for y in range(self.grid_size)\n",
    "            if (x, y) not in self.stations and (x, y) not in self.obstacles\n",
    "        ]\n",
    "\n",
    "        self.taxi_pos = random.choice(available_positions)\n",
    "\n",
    "        self.passenger_loc = random.choice([pos for pos in self.stations])\n",
    "\n",
    "\n",
    "        possible_destinations = [s for s in self.stations if s != self.passenger_loc]\n",
    "        self.destination = random.choice(possible_destinations)\n",
    "        #print(f'grid size : {self.grid_size}, obstacles : {len(self.obstacles)}, ')\n",
    "        #self.render_env(self.taxi_pos)\n",
    "        return self.get_state(), {}\n",
    "\n",
    "    def step(self, action):\n",
    "        \"\"\"Perform an action and update the environment state.\"\"\"\n",
    "        taxi_row, taxi_col = self.taxi_pos\n",
    "        next_row, next_col = taxi_row, taxi_col\n",
    "        reward = 0\n",
    "        if action == 0 :  # Move Down\n",
    "            next_row += 1\n",
    "        elif action == 1:  # Move Up\n",
    "            next_row -= 1\n",
    "        elif action == 2:  # Move Right\n",
    "            next_col += 1\n",
    "        elif action == 3:  # Move Left\n",
    "            next_col -= 1\n",
    "\n",
    "\n",
    "        if action in [0, 1, 2, 3]:  # Only movement actions should be checked\n",
    "            if (next_row, next_col) in self.obstacles or not (0 <= next_row < self.grid_size and 0 <= next_col < self.grid_size):\n",
    "                reward -=10\n",
    "                #print('block')\n",
    "            else:\n",
    "                self.taxi_pos = (next_row, next_col)\n",
    "                if self.passenger_picked_up:\n",
    "                    self.passenger_loc = self.taxi_pos\n",
    "        else:\n",
    "            if action == 4:  # PICKUP\n",
    "                if self.taxi_pos == self.passenger_loc:\n",
    "                    self.passenger_picked_up = True\n",
    "                    self.passenger_loc = self.taxi_pos\n",
    "                else:\n",
    "                    reward = -10\n",
    "            elif action == 5:  # DROPOFF\n",
    "                if self.passenger_picked_up:\n",
    "                    self.passenger_picked_up = False\n",
    "                    self.passenger_loc = self.taxi_pos\n",
    "                    if self.taxi_pos == self.destination:\n",
    "                        reward += 50\n",
    "                        return self.get_state(), reward -0.1, True, {}\n",
    "                    else:\n",
    "                        reward -=10\n",
    "                else:\n",
    "                    reward -=10\n",
    "\n",
    "        reward -= 0.1\n",
    "\n",
    "        self.current_fuel -= 1\n",
    "        if self.current_fuel <= 0:\n",
    "            return self.get_state(), reward -10, True, {}\n",
    "\n",
    "\n",
    "\n",
    "        return self.get_state(), reward, False, {}\n",
    "\n",
    "    def get_state(self):\n",
    "        \"\"\"Return the current environment state.\"\"\"\n",
    "        taxi_row, taxi_col = self.taxi_pos\n",
    "        passenger_row, passenger_col = self.passenger_loc\n",
    "        destination_row, destination_col = self.destination\n",
    "\n",
    "        obstacle_north = int(taxi_row == 0 or (taxi_row-1, taxi_col) in self.obstacles)\n",
    "        obstacle_south = int(taxi_row == self.grid_size - 1 or (taxi_row+1, taxi_col) in self.obstacles)\n",
    "        obstacle_east  = int(taxi_col == self.grid_size - 1 or (taxi_row, taxi_col+1) in self.obstacles)\n",
    "        obstacle_west  = int(taxi_col == 0 or (taxi_row , taxi_col-1) in self.obstacles)\n",
    "\n",
    "        passenger_loc_north = int((taxi_row - 1, taxi_col) == self.passenger_loc)\n",
    "        passenger_loc_south = int((taxi_row + 1, taxi_col) == self.passenger_loc)\n",
    "        passenger_loc_east  = int((taxi_row, taxi_col + 1) == self.passenger_loc)\n",
    "        passenger_loc_west  = int((taxi_row, taxi_col - 1) == self.passenger_loc)\n",
    "        passenger_loc_middle  = int( (taxi_row, taxi_col) == self.passenger_loc)\n",
    "        passenger_look = passenger_loc_north or passenger_loc_south or passenger_loc_east or passenger_loc_west or passenger_loc_middle\n",
    "\n",
    "        destination_loc_north = int( (taxi_row - 1, taxi_col) == self.destination)\n",
    "        destination_loc_south = int( (taxi_row + 1, taxi_col) == self.destination)\n",
    "        destination_loc_east  = int( (taxi_row, taxi_col + 1) == self.destination)\n",
    "        destination_loc_west  = int( (taxi_row, taxi_col - 1) == self.destination)\n",
    "        destination_loc_middle  = int( (taxi_row, taxi_col) == self.destination)\n",
    "        destination_look = destination_loc_north or destination_loc_south or destination_loc_east or destination_loc_west or destination_loc_middle\n",
    "\n",
    "\n",
    "        state = (taxi_row, taxi_col, self.stations[0][0],self.stations[0][1] ,self.stations[1][0],self.stations[1][1],self.stations[2][0],self.stations[2][1],self.stations[3][0],self.stations[3][1],obstacle_north, obstacle_south, obstacle_east, obstacle_west, passenger_look, destination_look)\n",
    "        return state,self.passenger_picked_up,self.passenger_loc\n",
    "    def render_env(self, taxi_pos,   action=None, step=None, fuel=None):\n",
    "        clear_output(wait=True)\n",
    "\n",
    "        grid = [['.'] * self.grid_size for _ in range(self.grid_size)]\n",
    "\n",
    "        '''\n",
    "        # Place passenger\n",
    "        py, px = passenger_pos\n",
    "        if 0 <= px < self.grid_size and 0 <= py < self.grid_size:\n",
    "            grid[py][px] = 'P'\n",
    "        '''\n",
    "        stations_char =['R','G','B','Y']\n",
    "        for i in range(len(self.stations)):\n",
    "            sx,sy = self.stations[i]\n",
    "            grid[sy][sx] = stations_char[i]\n",
    "        for ox,oy in self.obstacles:\n",
    "            grid[oy][ox] = '#'\n",
    "\n",
    "        '''\n",
    "        # Place destination\n",
    "        dy, dx = destination_pos\n",
    "        if 0 <= dx < self.grid_size and 0 <= dy < self.grid_size:\n",
    "            grid[dy][dx] = 'D'\n",
    "        '''\n",
    "        # Place taxi\n",
    "        ty, tx = taxi_pos\n",
    "        if 0 <= tx < self.grid_size and 0 <= ty < self.grid_size:\n",
    "            grid[ty][tx] = '🚖'\n",
    "\n",
    "        # Print step info\n",
    "        print(f\"\\nStep: {step}\")\n",
    "        print(f\"Taxi Position: ({tx}, {ty})\")\n",
    "        #print(f\"Passenger Position: ({px}, {py}) {'(In Taxi)' if (px, py) == (tx, ty) else ''}\")\n",
    "        #print(f\"Destination: ({dx}, {dy})\")\n",
    "        print(f\"Fuel Left: {fuel}\")\n",
    "        print(f\"Last Action: {self.get_action_name(action)}\\n\")\n",
    "\n",
    "        # Print grid\n",
    "        for row in grid:\n",
    "            print(\" \".join(row))\n",
    "        print(\"\\n\")\n",
    "\n",
    "    def get_action_name(self, action):\n",
    "        \"\"\"Returns a human-readable action name.\"\"\"\n",
    "        actions = [\"Move South\", \"Move North\", \"Move East\", \"Move West\", \"Pick Up\", \"Drop Off\"]\n",
    "        return actions[action] if action is not None else \"None\""
   ]
  },
  {
   "cell_type": "markdown",
   "metadata": {
    "id": "henzhTux2qUO"
   },
   "source": [
    "## 狀態定義\n",
    "\n",
    "## 狀態定義\n",
    "\n",
    "- pos (相對 R/G/Y/B)的距離 (用 +-0)去代表，直到走到一位置確認是否 pickup/destination為止後 random 換位置。\n",
    "    - 只要相對位移>0一律用 +1表示, <0 用 -1\n",
    "- obstacles\n",
    "- passenger state\n",
    "    - 0 ⇒ not on car\n",
    "    - 1 ⇒ on car\n",
    "- candidates_p\n",
    "    - original : stations\n",
    "    - whenever one is not worked ⇒ removed it\n",
    "- mask_p= [1] * len(candidates_p) + [0] * (4-len(candidates_p))\n",
    "    - 0 代表 passenger_i 是不可能的位置\n",
    "    - 1 代表可能\n",
    "- candidates_goal\n",
    "    - original : stations\n",
    "    - whenever one is not goal ⇒ removed it\n",
    "- mask_goal= [1] * len(candidates_goal) + [0] * (4-len(candidates_goal))\n",
    "    - 0 代表 passenger_i 是不可能的位置\n",
    "    - 1 代表可能\n",
    "- pickup\n",
    "- goal_id : {0,1,2,3}\n",
    "    - 目標是 stations[goal_id]\n"
   ]
  },
  {
   "cell_type": "markdown",
   "metadata": {
    "id": "mKN9Ot4BpJZM"
   },
   "source": [
    "### 轉移\n",
    "\n",
    "- relative_pos = (0,0)\n",
    "    - if passenger_look\n",
    "        - candidate_p = [pos]\n",
    "        - success pickup\n",
    "            - success pickup ⇒ pickup_id=True\n",
    "            - candidates_p = [pos]\n",
    "            - goal = random choice (candidates_goal)\n",
    "    - else:\n",
    "        - candidate_p remove pos\n",
    "        - goal = random.choice(candidates_p)\n",
    "    - if goal_look\n",
    "        - candidate_g = [pos]\n",
    "    - else:\n",
    "        - candidate_g.remove(pos)\n",
    "        - goal = random choice (candidates_goal)\n",
    "- drop\n",
    "    - if pickup ⇒ candidates_p = [pos], goal_id = 0"
   ]
  },
  {
   "cell_type": "code",
   "execution_count": 71,
   "metadata": {
    "id": "vDSsEzx-2ndf"
   },
   "outputs": [],
   "source": [
    "from re import M\n",
    "from collections import defaultdict\n",
    "from tqdm import tqdm\n",
    "def tabular_q_learning(env,episodes=10000, alpha=0.1, gamma=0.99,\n",
    "                       epsilon_start=1.0, epsilon_end=0.1, decay_rate=0.9995):\n",
    "\n",
    "    global stations, candidates_p,candidates_goal, pickup\n",
    "    stations = [[0,0] for _ in range(4)]\n",
    "    candidates_p = [i for i in stations]\n",
    "    candidates_goal = [i for i in stations]\n",
    "    pickup=False\n",
    "    action_size = 6\n",
    "    q_table = defaultdict(lambda :np.zeros(action_size))\n",
    "    pickup_id = 4\n",
    "    drop_id = 5\n",
    "    ifpickup=False\n",
    "    p_loc = (0,0)\n",
    "    def cmp(a,b):\n",
    "        if a==b:\n",
    "            return 0\n",
    "        return 1 if a<b else -1\n",
    "    def get_state_obs(obs,action,last_action=None):\n",
    "        global stations,pickup,candidates_p,candidates_goal\n",
    "        #print(candidates_p)\n",
    "        taxi_row, taxi_col, stations[0][0], stations[0][1] , stations[1][0], stations[1][1],stations[2][0],stations[2][1],stations[3][0],stations[3][1],obstacle_north, obstacle_south, obstacle_east, obstacle_west, passenger_look, destination_look = obs\n",
    "        agent_pos = (taxi_row,taxi_col)\n",
    "        if action==None:\n",
    "            # initialize\n",
    "            candidates_goal = [tuple(i) for i in stations]\n",
    "            candidates_p = [tuple(i) for i in stations]\n",
    "            pickup=False\n",
    "        if passenger_look:\n",
    "            #print('before p',candidates_p)\n",
    "            candidates_p = [ tuple(x) for x in candidates_p if abs(x[0]-agent_pos[0])+abs(x[1]-agent_pos[1]) <=1 ]\n",
    "            #print('after p',candidates_p)\n",
    "        else:\n",
    "            #print('before p',candidates_p)\n",
    "            candidates_p = [ tuple(x) for x in candidates_p if abs(x[0]-agent_pos[0])+abs(x[1]-agent_pos[1]) >1 ]\n",
    "            #print('after p',candidates_p)\n",
    "        if destination_look:\n",
    "            #print('before g',candidates_goal)\n",
    "            candidates_goal = [ tuple(x) for x in candidates_goal if abs(x[0]-agent_pos[0])+abs(x[1]-agent_pos[1]) <=1 ]\n",
    "            #print('after g',candidates_goal)\n",
    "        else:\n",
    "            #print('before g',candidates_goal)\n",
    "            candidates_goal = [ tuple(x) for x in candidates_goal if abs(x[0]-agent_pos[0])+abs(x[1]-agent_pos[1]) >1 ]\n",
    "            #print('after g',candidates_goal)\n",
    "        if action==pickup_id and not pickup and agent_pos in candidates_p:\n",
    "            pickup = True\n",
    "            candidates_p = []\n",
    "        elif action == drop_id and pickup:\n",
    "            pickup=False\n",
    "            candidates_p.append(agent_pos)\n",
    "        cmp_pos = (0,0)\n",
    "        if not pickup:\n",
    "            cmp_pos = candidates_p[0]\n",
    "        else:\n",
    "            cmp_pos = candidates_goal[0]\n",
    "        passenger_look = passenger_look and agent_pos in candidates_p\n",
    "        destination_look = destination_look and agent_pos in candidates_goal\n",
    "        relative_pos = (cmp(agent_pos[0],cmp_pos[0]),cmp(agent_pos[1],cmp_pos[1]))\n",
    "        return (relative_pos,pickup, passenger_look, destination_look, (obstacle_north,obstacle_south,obstacle_east,obstacle_west),action,last_action)\n",
    "    \"\"\"\n",
    "    if action == 0 :  # Move Down\n",
    "        next_row += 1\n",
    "    elif action == 1:  # Move Up\n",
    "        next_row -= 1\n",
    "    elif action == 2:  # Move Right\n",
    "        next_col += 1\n",
    "    elif action == 3:  # Move Left\n",
    "        next_col -= 1\n",
    "    \"\"\"\n",
    "    station_size = 4\n",
    "    total_reward = 0\n",
    "    total_reward_shaped = 0\n",
    "    cnt = [0,0,0,0]\n",
    "    epsilon = epsilon_start\n",
    "    averaged = [0,0]\n",
    "    batch_size = 100\n",
    "    for epoch in tqdm(range(episodes+100)):\n",
    "        if epoch >=episodes:\n",
    "            epsilon = 0\n",
    "        grid_size = 5 #np.random.randint(5,11)\n",
    "        obstacle_size = np.random.randint(grid_size*grid_size)\n",
    "        obs,_ = env.reset(grid_size,obstacle_size)\n",
    "        averaged[0]+=env.grid_size\n",
    "        averaged[1]+=len(env.obstacles)\n",
    "        obs,ifpickup,p_loc = obs\n",
    "        done = False\n",
    "        state = get_state_obs(obs,action=None,last_action=None)\n",
    "        steps=0\n",
    "        action_l=[]\n",
    "        success = False\n",
    "        has_pickup=False\n",
    "\n",
    "        while not done:\n",
    "            \"\"\"if state[-1]!=(0,0,0,0):\n",
    "              print(state[-1])\"\"\"\n",
    "            if np.random.choice(2,p=[epsilon,1-epsilon])==0 or state not in q_table.keys():\n",
    "                action = np.random.randint(6)\n",
    "            else:\n",
    "                action = np.argmax(q_table[state])\n",
    "            lst_pickup = pickup\n",
    "            \n",
    "            relative_pos,pickup, _,_ , _,last_action,_ = state\n",
    "            obs,reward,done,_ = env.step(action)\n",
    "            obs,ifpickup,p_loc = obs\n",
    "            next_state = get_state_obs(obs,action,last_action)\n",
    "            total_reward += reward\n",
    "\n",
    "            ### reward shaping\n",
    "            reward_shaping = 0\n",
    "            \"\"\"if relative_pos == (0,0):\n",
    "                # want it to go to possible goal\n",
    "                #reward_shaping += 0.5\"\"\"\n",
    "            if relative_pos != (0,0) and action in [pickup_id,drop_id]:\n",
    "                reward_shaping -= 10\n",
    "            if done and reward>0:\n",
    "                cnt[2]+=1\n",
    "            \n",
    "            relative_pos,pickup, _,_ , _,_,_ = next_state\n",
    "            if not done and reward <-10 and action in [0,1,2,3]:\n",
    "                #print('hit wall')\n",
    "                cnt[-1]+=1\n",
    "            \"\"\"if not pickup:\n",
    "                reward_shaping -= p_len\n",
    "            reward_shaping -= 0.1 * goal_len\"\"\"\n",
    "            reward += reward_shaping\n",
    "            total_reward_shaped += reward\n",
    "            if epsilon:\n",
    "                q_table[state][action] = q_table[state][action] + alpha*(reward+gamma*np.max(q_table[next_state])-q_table[state][action])\n",
    "            state = next_state\n",
    "            if lst_pickup==False and pickup:\n",
    "                cnt[0]+=1\n",
    "            elif lst_pickup==True and pickup==False:\n",
    "                cnt[1]+=1\n",
    "            if pickup!=ifpickup:\n",
    "                print(pickup,ifpickup)\n",
    "            assert(pickup==ifpickup)\n",
    "\n",
    "\n",
    "        if (epoch+1)%batch_size==0:\n",
    "            cnt = [i/batch_size for i in cnt]\n",
    "            print(f'Epsilon : {epsilon}, average reward : {total_reward/batch_size:.4f}, averaged shaped reward : {total_reward_shaped/batch_size:.4f} Pickup, Drop, Success, Hit wall rate : {cnt}')\n",
    "            print(f'averaged grid size : {averaged[0]/batch_size:.2f}, averaged obstacles : {averaged[1]/batch_size:.2f}')\n",
    "            averaged = [0,0]\n",
    "            cnt = [0,0,0,0]\n",
    "            total_reward = 0\n",
    "            total_reward_shaped = 0\n",
    "        epsilon *= decay_rate #max(epsilon*decay_rate ,epsilon_end)\n",
    "    return q_table\n",
    "\n"
   ]
  },
  {
   "cell_type": "code",
   "execution_count": 72,
   "metadata": {
    "colab": {
     "base_uri": "https://localhost:8080/"
    },
    "id": "8oxVEy1uSuNb",
    "outputId": "137a8cf5-0a6b-4e72-9b7c-f5a5c8dddc9b"
   },
   "outputs": [
    {
     "name": "stderr",
     "output_type": "stream",
     "text": [
      "  1%|          | 104/10100 [00:09<12:42, 13.10it/s]"
     ]
    },
    {
     "name": "stdout",
     "output_type": "stream",
     "text": [
      "Epsilon : 0.9516933769307994, average reward : -14459.2730, averaged shaped reward : -21689.1730 Pickup, Drop, Success, Hit wall rate : [31.26, 31.25, 0.8, 703.18]\n",
      "averaged grid size : 5.00, averaged obstacles : 10.90\n"
     ]
    },
    {
     "name": "stderr",
     "output_type": "stream",
     "text": [
      "  2%|▏         | 203/10100 [00:15<05:00, 32.88it/s]"
     ]
    },
    {
     "name": "stdout",
     "output_type": "stream",
     "text": [
      "Epsilon : 0.9052674235521029, average reward : -6356.7090, averaged shaped reward : -9620.5090 Pickup, Drop, Success, Hit wall rate : [24.45, 24.44, 0.96, 308.96]\n",
      "averaged grid size : 5.00, averaged obstacles : 10.65\n"
     ]
    },
    {
     "name": "stderr",
     "output_type": "stream",
     "text": [
      "  3%|▎         | 309/10100 [00:17<02:50, 57.31it/s]"
     ]
    },
    {
     "name": "stdout",
     "output_type": "stream",
     "text": [
      "Epsilon : 0.8611062428400729, average reward : -2725.6360, averaged shaped reward : -4136.8360 Pickup, Drop, Success, Hit wall rate : [16.77, 16.77, 0.99, 136.47]\n",
      "averaged grid size : 5.00, averaged obstacles : 9.96\n"
     ]
    },
    {
     "name": "stderr",
     "output_type": "stream",
     "text": [
      "  4%|▍         | 416/10100 [00:19<02:14, 71.80it/s]"
     ]
    },
    {
     "name": "stdout",
     "output_type": "stream",
     "text": [
      "Epsilon : 0.8190993535905904, average reward : -1670.3810, averaged shaped reward : -2511.7810 Pickup, Drop, Success, Hit wall rate : [14.69, 14.69, 1.0, 91.14]\n",
      "averaged grid size : 5.00, averaged obstacles : 10.71\n"
     ]
    },
    {
     "name": "stderr",
     "output_type": "stream",
     "text": [
      "  5%|▌         | 512/10100 [00:20<01:47, 89.13it/s]"
     ]
    },
    {
     "name": "stdout",
     "output_type": "stream",
     "text": [
      "Epsilon : 0.7791416641455342, average reward : -941.7700, averaged shaped reward : -1453.6700 Pickup, Drop, Success, Hit wall rate : [10.78, 10.78, 1.0, 50.45]\n",
      "averaged grid size : 5.00, averaged obstacles : 10.26\n"
     ]
    },
    {
     "name": "stderr",
     "output_type": "stream",
     "text": [
      "  6%|▌         | 613/10100 [00:21<01:54, 83.14it/s] "
     ]
    },
    {
     "name": "stdout",
     "output_type": "stream",
     "text": [
      "Epsilon : 0.7411332094774175, average reward : -788.6760, averaged shaped reward : -1205.2760 Pickup, Drop, Success, Hit wall rate : [8.1, 8.1, 1.0, 44.72]\n",
      "averaged grid size : 5.00, averaged obstacles : 10.60\n"
     ]
    },
    {
     "name": "stderr",
     "output_type": "stream",
     "text": [
      "  7%|▋         | 717/10100 [00:22<01:15, 124.99it/s]"
     ]
    },
    {
     "name": "stdout",
     "output_type": "stream",
     "text": [
      "Epsilon : 0.7049789010996835, average reward : -588.6130, averaged shaped reward : -907.4130 Pickup, Drop, Success, Hit wall rate : [7.85, 7.85, 1.0, 34.37]\n",
      "averaged grid size : 5.00, averaged obstacles : 9.98\n"
     ]
    },
    {
     "name": "stderr",
     "output_type": "stream",
     "text": [
      "  8%|▊         | 816/10100 [00:22<01:12, 127.91it/s]"
     ]
    },
    {
     "name": "stdout",
     "output_type": "stream",
     "text": [
      "Epsilon : 0.6705882891769959, average reward : -458.7850, averaged shaped reward : -710.8850 Pickup, Drop, Success, Hit wall rate : [6.06, 6.06, 1.0, 28.03]\n",
      "averaged grid size : 5.00, averaged obstacles : 11.01\n"
     ]
    },
    {
     "name": "stderr",
     "output_type": "stream",
     "text": [
      "  9%|▉         | 915/10100 [00:23<01:09, 132.29it/s]"
     ]
    },
    {
     "name": "stdout",
     "output_type": "stream",
     "text": [
      "Epsilon : 0.6378753362403742, average reward : -303.8790, averaged shaped reward : -493.9790 Pickup, Drop, Success, Hit wall rate : [5.25, 5.25, 1.0, 18.21]\n",
      "averaged grid size : 5.00, averaged obstacles : 9.70\n"
     ]
    },
    {
     "name": "stderr",
     "output_type": "stream",
     "text": [
      " 10%|█         | 1021/10100 [00:24<01:03, 143.22it/s]"
     ]
    },
    {
     "name": "stdout",
     "output_type": "stream",
     "text": [
      "Epsilon : 0.6067582019410674, average reward : -446.8250, averaged shaped reward : -693.7250 Pickup, Drop, Success, Hit wall rate : [8.48, 8.48, 1.0, 29.07]\n",
      "averaged grid size : 5.00, averaged obstacles : 10.16\n"
     ]
    },
    {
     "name": "stderr",
     "output_type": "stream",
     "text": [
      " 11%|█         | 1111/10100 [00:25<01:04, 139.87it/s]"
     ]
    },
    {
     "name": "stdout",
     "output_type": "stream",
     "text": [
      "Epsilon : 0.5771590383046616, average reward : -227.5860, averaged shaped reward : -361.3860 Pickup, Drop, Success, Hit wall rate : [4.26, 4.26, 1.0, 15.83]\n",
      "averaged grid size : 5.00, averaged obstacles : 10.12\n"
     ]
    },
    {
     "name": "stderr",
     "output_type": "stream",
     "text": [
      " 12%|█▏        | 1207/10100 [00:25<01:11, 123.89it/s]"
     ]
    },
    {
     "name": "stdout",
     "output_type": "stream",
     "text": [
      "Epsilon : 0.5490037949732016, average reward : -291.6380, averaged shaped reward : -462.0380 Pickup, Drop, Success, Hit wall rate : [5.28, 5.28, 1.0, 19.57]\n",
      "averaged grid size : 5.00, averaged obstacles : 10.36\n"
     ]
    },
    {
     "name": "stderr",
     "output_type": "stream",
     "text": [
      " 13%|█▎        | 1329/10100 [00:26<01:08, 127.39it/s]"
     ]
    },
    {
     "name": "stdout",
     "output_type": "stream",
     "text": [
      "Epsilon : 0.5222220339480774, average reward : -340.3720, averaged shaped reward : -543.9720 Pickup, Drop, Success, Hit wall rate : [6.92, 6.92, 1.0, 22.3]\n",
      "averaged grid size : 5.00, averaged obstacles : 10.52\n"
     ]
    },
    {
     "name": "stderr",
     "output_type": "stream",
     "text": [
      " 14%|█▍        | 1414/10100 [00:27<01:14, 116.53it/s]"
     ]
    },
    {
     "name": "stdout",
     "output_type": "stream",
     "text": [
      "Epsilon : 0.49674675337021873, average reward : -230.1720, averaged shaped reward : -373.8720 Pickup, Drop, Success, Hit wall rate : [3.54, 3.54, 1.0, 15.01]\n",
      "averaged grid size : 5.00, averaged obstacles : 9.66\n"
     ]
    },
    {
     "name": "stderr",
     "output_type": "stream",
     "text": [
      " 15%|█▌        | 1515/10100 [00:28<00:56, 151.44it/s]"
     ]
    },
    {
     "name": "stdout",
     "output_type": "stream",
     "text": [
      "Epsilon : 0.47251421989671744, average reward : -152.2380, averaged shaped reward : -263.7380 Pickup, Drop, Success, Hit wall rate : [4.72, 4.72, 1.0, 10.89]\n",
      "averaged grid size : 5.00, averaged obstacles : 9.09\n"
     ]
    },
    {
     "name": "stderr",
     "output_type": "stream",
     "text": [
      " 16%|█▌        | 1622/10100 [00:29<01:03, 134.20it/s]"
     ]
    },
    {
     "name": "stdout",
     "output_type": "stream",
     "text": [
      "Epsilon : 0.44946380925453877, average reward : -220.2080, averaged shaped reward : -360.1080 Pickup, Drop, Success, Hit wall rate : [5.42, 5.42, 1.0, 15.16]\n",
      "averaged grid size : 5.00, averaged obstacles : 9.68\n"
     ]
    },
    {
     "name": "stderr",
     "output_type": "stream",
     "text": [
      " 17%|█▋        | 1742/10100 [00:30<00:59, 140.07it/s]"
     ]
    },
    {
     "name": "stdout",
     "output_type": "stream",
     "text": [
      "Epsilon : 0.4275378545724137, average reward : -133.8250, averaged shaped reward : -236.9250 Pickup, Drop, Success, Hit wall rate : [4.19, 4.19, 1.0, 10.54]\n",
      "averaged grid size : 5.00, averaged obstacles : 11.00\n"
     ]
    },
    {
     "name": "stderr",
     "output_type": "stream",
     "text": [
      " 18%|█▊        | 1825/10100 [00:30<01:10, 117.07it/s]"
     ]
    },
    {
     "name": "stdout",
     "output_type": "stream",
     "text": [
      "Epsilon : 0.4066815021114777, average reward : -184.0000, averaged shaped reward : -307.5000 Pickup, Drop, Success, Hit wall rate : [4.85, 4.85, 1.0, 13.4]\n",
      "averaged grid size : 5.00, averaged obstacles : 9.97\n"
     ]
    },
    {
     "name": "stderr",
     "output_type": "stream",
     "text": [
      " 19%|█▉        | 1916/10100 [00:31<01:03, 129.18it/s]"
     ]
    },
    {
     "name": "stdout",
     "output_type": "stream",
     "text": [
      "Epsilon : 0.38684257403372235, average reward : -128.5990, averaged shaped reward : -225.0990 Pickup, Drop, Success, Hit wall rate : [3.22, 3.22, 1.0, 9.28]\n",
      "averaged grid size : 5.00, averaged obstacles : 9.95\n"
     ]
    },
    {
     "name": "stderr",
     "output_type": "stream",
     "text": [
      " 20%|██        | 2022/10100 [00:32<01:00, 134.37it/s]"
     ]
    },
    {
     "name": "stdout",
     "output_type": "stream",
     "text": [
      "Epsilon : 0.3679714378649446, average reward : -105.6050, averaged shaped reward : -198.4050 Pickup, Drop, Success, Hit wall rate : [3.8, 3.8, 1.0, 7.63]\n",
      "averaged grid size : 5.00, averaged obstacles : 9.97\n"
     ]
    },
    {
     "name": "stderr",
     "output_type": "stream",
     "text": [
      " 21%|██        | 2128/10100 [00:33<00:57, 139.32it/s]"
     ]
    },
    {
     "name": "stdout",
     "output_type": "stream",
     "text": [
      "Epsilon : 0.35002088232561296, average reward : -119.2760, averaged shaped reward : -214.1760 Pickup, Drop, Success, Hit wall rate : [4.77, 4.77, 1.0, 9.49]\n",
      "averaged grid size : 5.00, averaged obstacles : 9.72\n"
     ]
    },
    {
     "name": "stderr",
     "output_type": "stream",
     "text": [
      " 22%|██▏       | 2214/10100 [00:33<00:53, 147.44it/s]"
     ]
    },
    {
     "name": "stdout",
     "output_type": "stream",
     "text": [
      "Epsilon : 0.33294599921901236, average reward : -79.3220, averaged shaped reward : -147.7220 Pickup, Drop, Success, Hit wall rate : [2.38, 2.38, 1.0, 6.7]\n",
      "averaged grid size : 5.00, averaged obstacles : 9.99\n"
     ]
    },
    {
     "name": "stderr",
     "output_type": "stream",
     "text": [
      " 23%|██▎       | 2319/10100 [00:34<00:58, 134.12it/s]"
     ]
    },
    {
     "name": "stdout",
     "output_type": "stream",
     "text": [
      "Epsilon : 0.3167040710811749, average reward : -94.1680, averaged shaped reward : -173.3680 Pickup, Drop, Success, Hit wall rate : [3.08, 3.08, 1.0, 7.93]\n",
      "averaged grid size : 5.00, averaged obstacles : 9.66\n"
     ]
    },
    {
     "name": "stderr",
     "output_type": "stream",
     "text": [
      " 24%|██▍       | 2431/10100 [00:35<00:49, 154.78it/s]"
     ]
    },
    {
     "name": "stdout",
     "output_type": "stream",
     "text": [
      "Epsilon : 0.3012544643115281, average reward : -52.2560, averaged shaped reward : -106.8560 Pickup, Drop, Success, Hit wall rate : [2.27, 2.27, 1.0, 5.45]\n",
      "averaged grid size : 5.00, averaged obstacles : 10.76\n"
     ]
    },
    {
     "name": "stderr",
     "output_type": "stream",
     "text": [
      " 25%|██▍       | 2521/10100 [00:35<00:59, 127.26it/s]"
     ]
    },
    {
     "name": "stdout",
     "output_type": "stream",
     "text": [
      "Epsilon : 0.2865585275168893, average reward : -55.9170, averaged shaped reward : -112.0170 Pickup, Drop, Success, Hit wall rate : [2.23, 2.23, 1.0, 5.82]\n",
      "averaged grid size : 5.00, averaged obstacles : 9.79\n"
     ]
    },
    {
     "name": "stderr",
     "output_type": "stream",
     "text": [
      " 26%|██▌       | 2608/10100 [00:36<01:00, 124.47it/s]"
     ]
    },
    {
     "name": "stdout",
     "output_type": "stream",
     "text": [
      "Epsilon : 0.2725794948144954, average reward : -75.7590, averaged shaped reward : -145.6590 Pickup, Drop, Success, Hit wall rate : [3.16, 3.16, 1.0, 7.03]\n",
      "averaged grid size : 5.00, averaged obstacles : 10.53\n"
     ]
    },
    {
     "name": "stderr",
     "output_type": "stream",
     "text": [
      " 27%|██▋       | 2728/10100 [00:37<00:57, 128.93it/s]"
     ]
    },
    {
     "name": "stdout",
     "output_type": "stream",
     "text": [
      "Epsilon : 0.2592823938521472, average reward : -76.3950, averaged shaped reward : -144.2950 Pickup, Drop, Success, Hit wall rate : [2.98, 2.98, 1.0, 6.95]\n",
      "averaged grid size : 5.00, averaged obstacles : 11.66\n"
     ]
    },
    {
     "name": "stderr",
     "output_type": "stream",
     "text": [
      " 28%|██▊       | 2810/10100 [00:38<01:03, 114.27it/s]"
     ]
    },
    {
     "name": "stdout",
     "output_type": "stream",
     "text": [
      "Epsilon : 0.2466339583153596, average reward : -142.8370, averaged shaped reward : -243.7370 Pickup, Drop, Success, Hit wall rate : [4.48, 4.47, 0.99, 11.29]\n",
      "averaged grid size : 5.00, averaged obstacles : 9.63\n"
     ]
    },
    {
     "name": "stderr",
     "output_type": "stream",
     "text": [
      " 29%|██▉       | 2916/10100 [00:39<00:41, 175.02it/s]"
     ]
    },
    {
     "name": "stdout",
     "output_type": "stream",
     "text": [
      "Epsilon : 0.23460254470262715, average reward : -47.6370, averaged shaped reward : -98.1370 Pickup, Drop, Success, Hit wall rate : [2.59, 2.59, 1.0, 5.41]\n",
      "averaged grid size : 5.00, averaged obstacles : 9.24\n"
     ]
    },
    {
     "name": "stderr",
     "output_type": "stream",
     "text": [
      " 30%|██▉       | 3014/10100 [00:40<01:06, 106.64it/s]"
     ]
    },
    {
     "name": "stdout",
     "output_type": "stream",
     "text": [
      "Epsilon : 0.22315805316059978, average reward : -11.5930, averaged shaped reward : -43.0930 Pickup, Drop, Success, Hit wall rate : [1.98, 1.98, 1.0, 3.37]\n",
      "averaged grid size : 5.00, averaged obstacles : 10.18\n"
     ]
    },
    {
     "name": "stderr",
     "output_type": "stream",
     "text": [
      " 31%|███       | 3105/10100 [00:41<01:12, 96.86it/s] "
     ]
    },
    {
     "name": "stdout",
     "output_type": "stream",
     "text": [
      "Epsilon : 0.21227185218111316, average reward : -30.0990, averaged shaped reward : -71.4990 Pickup, Drop, Success, Hit wall rate : [1.87, 1.87, 1.0, 4.37]\n",
      "averaged grid size : 5.00, averaged obstacles : 9.81\n"
     ]
    },
    {
     "name": "stderr",
     "output_type": "stream",
     "text": [
      " 32%|███▏      | 3213/10100 [00:42<01:00, 114.56it/s]"
     ]
    },
    {
     "name": "stdout",
     "output_type": "stream",
     "text": [
      "Epsilon : 0.20191670697168435, average reward : -16.1540, averaged shaped reward : -51.4540 Pickup, Drop, Success, Hit wall rate : [2.39, 2.39, 1.0, 3.64]\n",
      "averaged grid size : 5.00, averaged obstacles : 10.76\n"
     ]
    },
    {
     "name": "stderr",
     "output_type": "stream",
     "text": [
      " 33%|███▎      | 3307/10100 [00:43<01:08, 99.02it/s] "
     ]
    },
    {
     "name": "stdout",
     "output_type": "stream",
     "text": [
      "Epsilon : 0.19206671132027073, average reward : -9.4460, averaged shaped reward : -44.3460 Pickup, Drop, Success, Hit wall rate : [2.28, 2.28, 1.0, 3.06]\n",
      "averaged grid size : 5.00, averaged obstacles : 10.27\n"
     ]
    },
    {
     "name": "stderr",
     "output_type": "stream",
     "text": [
      " 34%|███▎      | 3404/10100 [00:44<01:23, 80.38it/s]"
     ]
    },
    {
     "name": "stdout",
     "output_type": "stream",
     "text": [
      "Epsilon : 0.1826972227838353, average reward : -31.1310, averaged shaped reward : -69.5310 Pickup, Drop, Success, Hit wall rate : [1.69, 1.69, 1.0, 4.22]\n",
      "averaged grid size : 5.00, averaged obstacles : 10.00\n"
     ]
    },
    {
     "name": "stderr",
     "output_type": "stream",
     "text": [
      " 35%|███▍      | 3508/10100 [00:45<01:02, 106.13it/s]"
     ]
    },
    {
     "name": "stdout",
     "output_type": "stream",
     "text": [
      "Epsilon : 0.1737848010385734, average reward : -5.7180, averaged shaped reward : -33.5180 Pickup, Drop, Success, Hit wall rate : [2.01, 2.01, 1.0, 3.13]\n",
      "averaged grid size : 5.00, averaged obstacles : 10.89\n"
     ]
    },
    {
     "name": "stderr",
     "output_type": "stream",
     "text": [
      " 36%|███▌      | 3626/10100 [00:46<01:09, 93.69it/s] "
     ]
    },
    {
     "name": "stdout",
     "output_type": "stream",
     "text": [
      "Epsilon : 0.1653071492375671, average reward : -4.1710, averaged shaped reward : -28.6710 Pickup, Drop, Success, Hit wall rate : [1.49, 1.49, 1.0, 2.98]\n",
      "averaged grid size : 5.00, averaged obstacles : 10.87\n"
     ]
    },
    {
     "name": "stderr",
     "output_type": "stream",
     "text": [
      " 37%|███▋      | 3716/10100 [00:48<01:12, 88.63it/s]"
     ]
    },
    {
     "name": "stdout",
     "output_type": "stream",
     "text": [
      "Epsilon : 0.15724305822915946, average reward : -60.2110, averaged shaped reward : -118.7110 Pickup, Drop, Success, Hit wall rate : [3.09, 3.09, 1.0, 5.72]\n",
      "averaged grid size : 5.00, averaged obstacles : 9.78\n"
     ]
    },
    {
     "name": "stderr",
     "output_type": "stream",
     "text": [
      " 38%|███▊      | 3828/10100 [00:49<00:54, 115.75it/s]"
     ]
    },
    {
     "name": "stdout",
     "output_type": "stream",
     "text": [
      "Epsilon : 0.14957235349649245, average reward : 7.3090, averaged shaped reward : -13.5910 Pickup, Drop, Success, Hit wall rate : [1.76, 1.76, 1.0, 2.25]\n",
      "averaged grid size : 5.00, averaged obstacles : 10.03\n"
     ]
    },
    {
     "name": "stderr",
     "output_type": "stream",
     "text": [
      " 39%|███▊      | 3913/10100 [00:50<01:16, 80.64it/s] "
     ]
    },
    {
     "name": "stdout",
     "output_type": "stream",
     "text": [
      "Epsilon : 0.14227584468546683, average reward : -6.5400, averaged shaped reward : -38.4400 Pickup, Drop, Success, Hit wall rate : [2.08, 2.08, 1.0, 2.93]\n",
      "averaged grid size : 5.00, averaged obstacles : 11.16\n"
     ]
    },
    {
     "name": "stderr",
     "output_type": "stream",
     "text": [
      " 40%|███▉      | 4018/10100 [00:51<01:04, 94.74it/s] "
     ]
    },
    {
     "name": "stdout",
     "output_type": "stream",
     "text": [
      "Epsilon : 0.13533527759485164, average reward : -18.7750, averaged shaped reward : -55.5750 Pickup, Drop, Success, Hit wall rate : [2.39, 2.39, 1.0, 3.78]\n",
      "averaged grid size : 5.00, averaged obstacles : 10.10\n"
     ]
    },
    {
     "name": "stderr",
     "output_type": "stream",
     "text": [
      " 41%|████      | 4117/10100 [00:52<01:01, 97.35it/s]"
     ]
    },
    {
     "name": "stdout",
     "output_type": "stream",
     "text": [
      "Epsilon : 0.12873328850843568, average reward : -1.8260, averaged shaped reward : -29.6260 Pickup, Drop, Success, Hit wall rate : [1.81, 1.81, 1.0, 2.71]\n",
      "averaged grid size : 5.00, averaged obstacles : 10.58\n"
     ]
    },
    {
     "name": "stderr",
     "output_type": "stream",
     "text": [
      " 42%|████▏     | 4207/10100 [00:53<00:58, 100.03it/s]"
     ]
    },
    {
     "name": "stdout",
     "output_type": "stream",
     "text": [
      "Epsilon : 0.12245336075496815, average reward : 12.1000, averaged shaped reward : -6.3000 Pickup, Drop, Success, Hit wall rate : [1.47, 1.47, 1.0, 1.99]\n",
      "averaged grid size : 5.00, averaged obstacles : 10.01\n"
     ]
    },
    {
     "name": "stderr",
     "output_type": "stream",
     "text": [
      " 43%|████▎     | 4305/10100 [00:54<01:11, 81.10it/s] "
     ]
    },
    {
     "name": "stdout",
     "output_type": "stream",
     "text": [
      "Epsilon : 0.11647978338721439, average reward : 9.6860, averaged shaped reward : -9.6140 Pickup, Drop, Success, Hit wall rate : [1.43, 1.43, 1.0, 2.06]\n",
      "averaged grid size : 5.00, averaged obstacles : 10.47\n"
     ]
    },
    {
     "name": "stderr",
     "output_type": "stream",
     "text": [
      " 44%|████▎     | 4407/10100 [00:55<00:57, 99.67it/s] "
     ]
    },
    {
     "name": "stdout",
     "output_type": "stream",
     "text": [
      "Epsilon : 0.11079761187674808, average reward : 26.3860, averaged shaped reward : 15.0860 Pickup, Drop, Success, Hit wall rate : [1.36, 1.36, 1.0, 1.16]\n",
      "averaged grid size : 5.00, averaged obstacles : 10.84\n"
     ]
    },
    {
     "name": "stderr",
     "output_type": "stream",
     "text": [
      " 45%|████▍     | 4516/10100 [00:56<00:56, 99.48it/s] "
     ]
    },
    {
     "name": "stdout",
     "output_type": "stream",
     "text": [
      "Epsilon : 0.10539263072614893, average reward : -8.0030, averaged shaped reward : -35.8030 Pickup, Drop, Success, Hit wall rate : [1.77, 1.77, 1.0, 2.85]\n",
      "averaged grid size : 5.00, averaged obstacles : 10.65\n"
     ]
    },
    {
     "name": "stderr",
     "output_type": "stream",
     "text": [
      " 46%|████▌     | 4608/10100 [00:57<01:04, 85.62it/s] "
     ]
    },
    {
     "name": "stdout",
     "output_type": "stream",
     "text": [
      "Epsilon : 0.10025131790506973, average reward : -19.0210, averaged shaped reward : -52.3210 Pickup, Drop, Success, Hit wall rate : [2.33, 2.33, 1.0, 3.74]\n",
      "averaged grid size : 5.00, averaged obstacles : 10.35\n"
     ]
    },
    {
     "name": "stderr",
     "output_type": "stream",
     "text": [
      " 47%|████▋     | 4711/10100 [00:59<01:24, 63.48it/s] "
     ]
    },
    {
     "name": "stdout",
     "output_type": "stream",
     "text": [
      "Epsilon : 0.09536081102119956, average reward : -70.7350, averaged shaped reward : -141.8350 Pickup, Drop, Success, Hit wall rate : [4.42, 4.39, 0.97, 5.66]\n",
      "averaged grid size : 5.00, averaged obstacles : 9.89\n"
     ]
    },
    {
     "name": "stderr",
     "output_type": "stream",
     "text": [
      " 48%|████▊     | 4809/10100 [01:00<01:05, 81.17it/s] "
     ]
    },
    {
     "name": "stdout",
     "output_type": "stream",
     "text": [
      "Epsilon : 0.09070887514149145, average reward : 15.4450, averaged shaped reward : -1.2550 Pickup, Drop, Success, Hit wall rate : [1.61, 1.61, 1.0, 1.82]\n",
      "averaged grid size : 5.00, averaged obstacles : 9.56\n"
     ]
    },
    {
     "name": "stderr",
     "output_type": "stream",
     "text": [
      " 48%|████▊     | 4898/10100 [01:01<00:47, 109.03it/s]"
     ]
    },
    {
     "name": "stdout",
     "output_type": "stream",
     "text": [
      "Epsilon : 0.08628387218314981, average reward : 10.9380, averaged shaped reward : -7.1620 Pickup, Drop, Success, Hit wall rate : [1.56, 1.56, 1.0, 2.02]\n",
      "averaged grid size : 5.00, averaged obstacles : 10.52\n"
     ]
    },
    {
     "name": "stderr",
     "output_type": "stream",
     "text": [
      " 50%|████▉     | 5016/10100 [01:03<00:50, 100.94it/s]"
     ]
    },
    {
     "name": "stdout",
     "output_type": "stream",
     "text": [
      "Epsilon : 0.082074731797801, average reward : -29.2060, averaged shaped reward : -72.7060 Pickup, Drop, Success, Hit wall rate : [2.81, 2.8, 0.99, 4.21]\n",
      "averaged grid size : 5.00, averaged obstacles : 9.41\n"
     ]
    },
    {
     "name": "stderr",
     "output_type": "stream",
     "text": [
      " 51%|█████     | 5117/10100 [01:04<00:55, 89.77it/s] "
     ]
    },
    {
     "name": "stdout",
     "output_type": "stream",
     "text": [
      "Epsilon : 0.07807092367600618, average reward : 0.9320, averaged shaped reward : -18.1680 Pickup, Drop, Success, Hit wall rate : [1.35, 1.35, 1.0, 2.64]\n",
      "averaged grid size : 5.00, averaged obstacles : 9.87\n"
     ]
    },
    {
     "name": "stderr",
     "output_type": "stream",
     "text": [
      " 52%|█████▏    | 5215/10100 [01:05<01:28, 55.43it/s]"
     ]
    },
    {
     "name": "stdout",
     "output_type": "stream",
     "text": [
      "Epsilon : 0.07426243120282834, average reward : -36.1650, averaged shaped reward : -75.8650 Pickup, Drop, Success, Hit wall rate : [2.59, 2.59, 1.0, 4.66]\n",
      "averaged grid size : 5.00, averaged obstacles : 9.74\n"
     ]
    },
    {
     "name": "stderr",
     "output_type": "stream",
     "text": [
      " 53%|█████▎    | 5308/10100 [01:06<00:59, 80.22it/s]"
     ]
    },
    {
     "name": "stdout",
     "output_type": "stream",
     "text": [
      "Epsilon : 0.07063972639854567, average reward : 15.2860, averaged shaped reward : -3.9140 Pickup, Drop, Success, Hit wall rate : [1.66, 1.66, 1.0, 1.62]\n",
      "averaged grid size : 5.00, averaged obstacles : 10.02\n"
     ]
    },
    {
     "name": "stderr",
     "output_type": "stream",
     "text": [
      " 54%|█████▎    | 5414/10100 [01:08<00:44, 104.26it/s]"
     ]
    },
    {
     "name": "stdout",
     "output_type": "stream",
     "text": [
      "Epsilon : 0.06719374608181877, average reward : 9.6090, averaged shaped reward : -9.3910 Pickup, Drop, Success, Hit wall rate : [1.68, 1.68, 1.0, 1.92]\n",
      "averaged grid size : 5.00, averaged obstacles : 10.30\n"
     ]
    },
    {
     "name": "stderr",
     "output_type": "stream",
     "text": [
      " 55%|█████▍    | 5515/10100 [01:09<00:56, 81.28it/s] "
     ]
    },
    {
     "name": "stdout",
     "output_type": "stream",
     "text": [
      "Epsilon : 0.06391586919567814, average reward : -3.0690, averaged shaped reward : -25.5690 Pickup, Drop, Success, Hit wall rate : [1.79, 1.79, 1.0, 2.7]\n",
      "averaged grid size : 5.00, averaged obstacles : 9.42\n"
     ]
    },
    {
     "name": "stderr",
     "output_type": "stream",
     "text": [
      " 56%|█████▌    | 5612/10100 [01:10<00:59, 74.87it/s]"
     ]
    },
    {
     "name": "stdout",
     "output_type": "stream",
     "text": [
      "Epsilon : 0.060797895239605056, average reward : -6.9450, averaged shaped reward : -38.6450 Pickup, Drop, Success, Hit wall rate : [2.33, 2.33, 0.99, 2.29]\n",
      "averaged grid size : 5.00, averaged obstacles : 9.85\n"
     ]
    },
    {
     "name": "stderr",
     "output_type": "stream",
     "text": [
      " 57%|█████▋    | 5722/10100 [01:12<00:50, 85.96it/s]"
     ]
    },
    {
     "name": "stdout",
     "output_type": "stream",
     "text": [
      "Epsilon : 0.0578320237537493, average reward : -3.8050, averaged shaped reward : -26.9050 Pickup, Drop, Success, Hit wall rate : [1.82, 1.82, 1.0, 2.42]\n",
      "averaged grid size : 5.00, averaged obstacles : 9.07\n"
     ]
    },
    {
     "name": "stderr",
     "output_type": "stream",
     "text": [
      " 57%|█████▋    | 5802/10100 [01:13<01:07, 63.43it/s]"
     ]
    },
    {
     "name": "stdout",
     "output_type": "stream",
     "text": [
      "Epsilon : 0.05501083480395743, average reward : -0.8280, averaged shaped reward : -25.8280 Pickup, Drop, Success, Hit wall rate : [1.84, 1.84, 1.0, 2.25]\n",
      "averaged grid size : 5.00, averaged obstacles : 10.47\n"
     ]
    },
    {
     "name": "stderr",
     "output_type": "stream",
     "text": [
      " 59%|█████▊    | 5918/10100 [01:15<00:58, 71.37it/s]"
     ]
    },
    {
     "name": "stdout",
     "output_type": "stream",
     "text": [
      "Epsilon : 0.05232727041878946, average reward : -22.8090, averaged shaped reward : -62.0090 Pickup, Drop, Success, Hit wall rate : [2.66, 2.65, 0.99, 3.09]\n",
      "averaged grid size : 5.00, averaged obstacles : 9.84\n"
     ]
    },
    {
     "name": "stderr",
     "output_type": "stream",
     "text": [
      " 60%|█████▉    | 6028/10100 [01:16<00:26, 150.93it/s]"
     ]
    },
    {
     "name": "stdout",
     "output_type": "stream",
     "text": [
      "Epsilon : 0.049774616932083626, average reward : 22.4920, averaged shaped reward : 11.1920 Pickup, Drop, Success, Hit wall rate : [1.36, 1.36, 1.0, 1.29]\n",
      "averaged grid size : 5.00, averaged obstacles : 10.03\n"
     ]
    },
    {
     "name": "stderr",
     "output_type": "stream",
     "text": [
      " 61%|██████    | 6134/10100 [01:16<00:24, 164.68it/s]"
     ]
    },
    {
     "name": "stdout",
     "output_type": "stream",
     "text": [
      "Epsilon : 0.04734648818689483, average reward : 22.0540, averaged shaped reward : 10.8540 Pickup, Drop, Success, Hit wall rate : [1.26, 1.26, 1.0, 1.35]\n",
      "averaged grid size : 5.00, averaged obstacles : 10.54\n"
     ]
    },
    {
     "name": "stderr",
     "output_type": "stream",
     "text": [
      " 62%|██████▏   | 6229/10100 [01:17<00:28, 137.65it/s]"
     ]
    },
    {
     "name": "stdout",
     "output_type": "stream",
     "text": [
      "Epsilon : 0.04503680955878596, average reward : 14.5130, averaged shaped reward : -3.1870 Pickup, Drop, Success, Hit wall rate : [1.63, 1.63, 1.0, 1.46]\n",
      "averaged grid size : 5.00, averaged obstacles : 10.21\n"
     ]
    },
    {
     "name": "stderr",
     "output_type": "stream",
     "text": [
      " 62%|██████▏   | 6310/10100 [01:18<00:26, 144.35it/s]"
     ]
    },
    {
     "name": "stdout",
     "output_type": "stream",
     "text": [
      "Epsilon : 0.04283980275850272, average reward : 30.2600, averaged shaped reward : 20.7600 Pickup, Drop, Success, Hit wall rate : [1.14, 1.14, 1.0, 0.68]\n",
      "averaged grid size : 5.00, averaged obstacles : 10.15\n"
     ]
    },
    {
     "name": "stderr",
     "output_type": "stream",
     "text": [
      " 63%|██████▎   | 6410/10100 [01:19<00:31, 118.07it/s]"
     ]
    },
    {
     "name": "stdout",
     "output_type": "stream",
     "text": [
      "Epsilon : 0.040749971376011676, average reward : -27.3800, averaged shaped reward : -61.7800 Pickup, Drop, Success, Hit wall rate : [2.6, 2.58, 0.98, 3.39]\n",
      "averaged grid size : 5.00, averaged obstacles : 10.52\n"
     ]
    },
    {
     "name": "stderr",
     "output_type": "stream",
     "text": [
      " 65%|██████▍   | 6515/10100 [01:20<00:32, 111.87it/s]"
     ]
    },
    {
     "name": "stdout",
     "output_type": "stream",
     "text": [
      "Epsilon : 0.03876208712973563, average reward : 3.0510, averaged shaped reward : -17.9490 Pickup, Drop, Success, Hit wall rate : [1.92, 1.91, 0.99, 1.88]\n",
      "averaged grid size : 5.00, averaged obstacles : 9.74\n"
     ]
    },
    {
     "name": "stderr",
     "output_type": "stream",
     "text": [
      " 66%|██████▌   | 6627/10100 [01:21<00:24, 140.64it/s]"
     ]
    },
    {
     "name": "stdout",
     "output_type": "stream",
     "text": [
      "Epsilon : 0.03687117678658528, average reward : 20.5920, averaged shaped reward : 9.4920 Pickup, Drop, Success, Hit wall rate : [1.43, 1.43, 1.0, 1.24]\n",
      "averaged grid size : 5.00, averaged obstacles : 9.71\n"
     ]
    },
    {
     "name": "stderr",
     "output_type": "stream",
     "text": [
      " 66%|██████▋   | 6704/10100 [01:21<00:25, 134.18it/s]"
     ]
    },
    {
     "name": "stdout",
     "output_type": "stream",
     "text": [
      "Epsilon : 0.03507250972006415, average reward : 28.4170, averaged shaped reward : 20.0170 Pickup, Drop, Success, Hit wall rate : [1.31, 1.31, 1.0, 0.86]\n",
      "averaged grid size : 5.00, averaged obstacles : 10.35\n"
     ]
    },
    {
     "name": "stderr",
     "output_type": "stream",
     "text": [
      " 67%|██████▋   | 6815/10100 [01:22<00:22, 148.63it/s]"
     ]
    },
    {
     "name": "stdout",
     "output_type": "stream",
     "text": [
      "Epsilon : 0.03336158607531967, average reward : 22.1410, averaged shaped reward : 11.4410 Pickup, Drop, Success, Hit wall rate : [1.37, 1.37, 1.0, 1.03]\n",
      "averaged grid size : 5.00, averaged obstacles : 10.67\n"
     ]
    },
    {
     "name": "stderr",
     "output_type": "stream",
     "text": [
      " 69%|██████▊   | 6923/10100 [01:23<00:27, 113.79it/s]"
     ]
    },
    {
     "name": "stdout",
     "output_type": "stream",
     "text": [
      "Epsilon : 0.031734125511532624, average reward : -25.3430, averaged shaped reward : -54.8430 Pickup, Drop, Success, Hit wall rate : [2.41, 2.38, 0.97, 3.08]\n",
      "averaged grid size : 5.00, averaged obstacles : 10.54\n"
     ]
    },
    {
     "name": "stderr",
     "output_type": "stream",
     "text": [
      " 70%|██████▉   | 7025/10100 [01:24<00:26, 114.00it/s]"
     ]
    },
    {
     "name": "stdout",
     "output_type": "stream",
     "text": [
      "Epsilon : 0.030186056493480308, average reward : 15.1180, averaged shaped reward : -2.1820 Pickup, Drop, Success, Hit wall rate : [1.43, 1.42, 0.99, 1.33]\n",
      "averaged grid size : 5.00, averaged obstacles : 10.62\n"
     ]
    },
    {
     "name": "stderr",
     "output_type": "stream",
     "text": [
      " 70%|███████   | 7112/10100 [01:25<00:30, 99.38it/s] "
     ]
    },
    {
     "name": "stdout",
     "output_type": "stream",
     "text": [
      "Epsilon : 0.028713506105483913, average reward : 6.0470, averaged shaped reward : -10.7530 Pickup, Drop, Success, Hit wall rate : [1.71, 1.71, 1.0, 1.73]\n",
      "averaged grid size : 5.00, averaged obstacles : 9.78\n"
     ]
    },
    {
     "name": "stderr",
     "output_type": "stream",
     "text": [
      " 71%|███████▏  | 7214/10100 [01:26<00:19, 144.77it/s]"
     ]
    },
    {
     "name": "stdout",
     "output_type": "stream",
     "text": [
      "Epsilon : 0.02731279036225661, average reward : 24.6390, averaged shaped reward : 15.8390 Pickup, Drop, Success, Hit wall rate : [1.38, 1.38, 1.0, 1.05]\n",
      "averaged grid size : 5.00, averaged obstacles : 10.27\n"
     ]
    },
    {
     "name": "stderr",
     "output_type": "stream",
     "text": [
      " 73%|███████▎  | 7327/10100 [01:27<00:22, 123.78it/s]"
     ]
    },
    {
     "name": "stdout",
     "output_type": "stream",
     "text": [
      "Epsilon : 0.025980404992412328, average reward : 5.4270, averaged shaped reward : -9.8730 Pickup, Drop, Success, Hit wall rate : [1.43, 1.42, 0.99, 1.84]\n",
      "averaged grid size : 5.00, averaged obstacles : 10.65\n"
     ]
    },
    {
     "name": "stderr",
     "output_type": "stream",
     "text": [
      " 73%|███████▎  | 7417/10100 [01:27<00:24, 109.16it/s]"
     ]
    },
    {
     "name": "stdout",
     "output_type": "stream",
     "text": [
      "Epsilon : 0.024713016671578058, average reward : 20.0770, averaged shaped reward : 7.4770 Pickup, Drop, Success, Hit wall rate : [1.31, 1.31, 1.0, 1.23]\n",
      "averaged grid size : 5.00, averaged obstacles : 10.74\n"
     ]
    },
    {
     "name": "stderr",
     "output_type": "stream",
     "text": [
      " 74%|███████▍  | 7519/10100 [01:28<00:21, 120.99it/s]"
     ]
    },
    {
     "name": "stdout",
     "output_type": "stream",
     "text": [
      "Epsilon : 0.023507454683176096, average reward : 20.0050, averaged shaped reward : 9.7050 Pickup, Drop, Success, Hit wall rate : [1.25, 1.25, 1.0, 1.05]\n",
      "averaged grid size : 5.00, averaged obstacles : 10.05\n"
     ]
    },
    {
     "name": "stderr",
     "output_type": "stream",
     "text": [
      " 75%|███████▌  | 7616/10100 [01:29<00:21, 117.51it/s]"
     ]
    },
    {
     "name": "stdout",
     "output_type": "stream",
     "text": [
      "Epsilon : 0.022360702986014367, average reward : 19.6150, averaged shaped reward : 8.5150 Pickup, Drop, Success, Hit wall rate : [1.41, 1.4, 0.99, 0.93]\n",
      "averaged grid size : 5.00, averaged obstacles : 10.01\n"
     ]
    },
    {
     "name": "stderr",
     "output_type": "stream",
     "text": [
      " 76%|███████▋  | 7725/10100 [01:30<00:16, 144.44it/s]"
     ]
    },
    {
     "name": "stdout",
     "output_type": "stream",
     "text": [
      "Epsilon : 0.021269892668838962, average reward : 30.7700, averaged shaped reward : 24.1700 Pickup, Drop, Success, Hit wall rate : [1.2, 1.2, 1.0, 0.69]\n",
      "averaged grid size : 5.00, averaged obstacles : 9.09\n"
     ]
    },
    {
     "name": "stderr",
     "output_type": "stream",
     "text": [
      " 77%|███████▋  | 7825/10100 [01:31<00:21, 107.11it/s]"
     ]
    },
    {
     "name": "stdout",
     "output_type": "stream",
     "text": [
      "Epsilon : 0.020232294772972517, average reward : 11.6080, averaged shaped reward : -1.8920 Pickup, Drop, Success, Hit wall rate : [1.43, 1.42, 0.99, 1.26]\n",
      "averaged grid size : 5.00, averaged obstacles : 10.29\n"
     ]
    },
    {
     "name": "stderr",
     "output_type": "stream",
     "text": [
      " 78%|███████▊  | 7909/10100 [01:32<00:24, 88.88it/s] "
     ]
    },
    {
     "name": "stdout",
     "output_type": "stream",
     "text": [
      "Epsilon : 0.01924531346508181, average reward : 17.6200, averaged shaped reward : 6.1200 Pickup, Drop, Success, Hit wall rate : [1.35, 1.35, 1.0, 1.14]\n",
      "averaged grid size : 5.00, averaged obstacles : 10.76\n"
     ]
    },
    {
     "name": "stderr",
     "output_type": "stream",
     "text": [
      " 79%|███████▉  | 8007/10100 [01:33<00:18, 111.87it/s]"
     ]
    },
    {
     "name": "stdout",
     "output_type": "stream",
     "text": [
      "Epsilon : 0.01830647954299465, average reward : 12.6960, averaged shaped reward : 0.0960 Pickup, Drop, Success, Hit wall rate : [1.48, 1.47, 0.99, 0.97]\n",
      "averaged grid size : 5.00, averaged obstacles : 10.30\n"
     ]
    },
    {
     "name": "stderr",
     "output_type": "stream",
     "text": [
      " 80%|████████  | 8125/10100 [01:34<00:14, 138.03it/s]"
     ]
    },
    {
     "name": "stdout",
     "output_type": "stream",
     "text": [
      "Epsilon : 0.017413444258319186, average reward : 14.5540, averaged shaped reward : 2.0540 Pickup, Drop, Success, Hit wall rate : [1.27, 1.26, 0.99, 1.04]\n",
      "averaged grid size : 5.00, averaged obstacles : 10.66\n"
     ]
    },
    {
     "name": "stderr",
     "output_type": "stream",
     "text": [
      " 81%|████████▏ | 8219/10100 [01:34<00:13, 141.54it/s]"
     ]
    },
    {
     "name": "stdout",
     "output_type": "stream",
     "text": [
      "Epsilon : 0.016563973440410922, average reward : 27.2550, averaged shaped reward : 19.9550 Pickup, Drop, Success, Hit wall rate : [1.21, 1.21, 1.0, 0.61]\n",
      "averaged grid size : 5.00, averaged obstacles : 9.28\n"
     ]
    },
    {
     "name": "stderr",
     "output_type": "stream",
     "text": [
      " 82%|████████▏ | 8328/10100 [01:35<00:13, 132.05it/s]"
     ]
    },
    {
     "name": "stdout",
     "output_type": "stream",
     "text": [
      "Epsilon : 0.015755941906987297, average reward : 34.8500, averaged shaped reward : 30.2500 Pickup, Drop, Success, Hit wall rate : [1.12, 1.12, 1.0, 0.39]\n",
      "averaged grid size : 5.00, averaged obstacles : 10.53\n"
     ]
    },
    {
     "name": "stderr",
     "output_type": "stream",
     "text": [
      " 83%|████████▎ | 8411/10100 [01:36<00:20, 82.93it/s] "
     ]
    },
    {
     "name": "stdout",
     "output_type": "stream",
     "text": [
      "Epsilon : 0.014987328147406147, average reward : 2.6900, averaged shaped reward : -11.4100 Pickup, Drop, Success, Hit wall rate : [1.5, 1.48, 0.98, 1.37]\n",
      "averaged grid size : 5.00, averaged obstacles : 9.27\n"
     ]
    },
    {
     "name": "stderr",
     "output_type": "stream",
     "text": [
      " 85%|████████▍ | 8556/10100 [01:37<00:09, 163.38it/s]"
     ]
    },
    {
     "name": "stdout",
     "output_type": "stream",
     "text": [
      "Epsilon : 0.014256209265307086, average reward : 31.8980, averaged shaped reward : 27.2980 Pickup, Drop, Success, Hit wall rate : [1.16, 1.16, 1.0, 0.51]\n",
      "averaged grid size : 5.00, averaged obstacles : 10.39\n"
     ]
    },
    {
     "name": "stderr",
     "output_type": "stream",
     "text": [
      " 85%|████████▌ | 8625/10100 [01:38<00:13, 108.47it/s]"
     ]
    },
    {
     "name": "stdout",
     "output_type": "stream",
     "text": [
      "Epsilon : 0.013560756167963291, average reward : 26.3070, averaged shaped reward : 19.9070 Pickup, Drop, Success, Hit wall rate : [1.22, 1.22, 1.0, 0.62]\n",
      "averaged grid size : 5.00, averaged obstacles : 8.94\n"
     ]
    },
    {
     "name": "stderr",
     "output_type": "stream",
     "text": [
      " 86%|████████▋ | 8726/10100 [01:39<00:12, 111.01it/s]"
     ]
    },
    {
     "name": "stdout",
     "output_type": "stream",
     "text": [
      "Epsilon : 0.012899228990308544, average reward : 16.6410, averaged shaped reward : 6.8410 Pickup, Drop, Success, Hit wall rate : [1.27, 1.27, 1.0, 0.8]\n",
      "averaged grid size : 5.00, averaged obstacles : 10.43\n"
     ]
    },
    {
     "name": "stderr",
     "output_type": "stream",
     "text": [
      " 87%|████████▋ | 8804/10100 [01:40<00:10, 118.47it/s]"
     ]
    },
    {
     "name": "stdout",
     "output_type": "stream",
     "text": [
      "Epsilon : 0.012269972742191609, average reward : 24.4570, averaged shaped reward : 18.1570 Pickup, Drop, Success, Hit wall rate : [1.26, 1.26, 1.0, 0.53]\n",
      "averaged grid size : 5.00, averaged obstacles : 10.52\n"
     ]
    },
    {
     "name": "stderr",
     "output_type": "stream",
     "text": [
      " 88%|████████▊ | 8915/10100 [01:41<00:10, 109.98it/s]"
     ]
    },
    {
     "name": "stdout",
     "output_type": "stream",
     "text": [
      "Epsilon : 0.011671413167968261, average reward : 13.9440, averaged shaped reward : 4.6440 Pickup, Drop, Success, Hit wall rate : [1.19, 1.19, 1.0, 0.91]\n",
      "averaged grid size : 5.00, averaged obstacles : 9.82\n"
     ]
    },
    {
     "name": "stderr",
     "output_type": "stream",
     "text": [
      " 89%|████████▉ | 9025/10100 [01:42<00:11, 95.92it/s] "
     ]
    },
    {
     "name": "stdout",
     "output_type": "stream",
     "text": [
      "Epsilon : 0.011102052808072622, average reward : 0.5990, averaged shaped reward : -14.1010 Pickup, Drop, Success, Hit wall rate : [1.32, 1.3, 0.98, 1.15]\n",
      "averaged grid size : 5.00, averaged obstacles : 10.49\n"
     ]
    },
    {
     "name": "stderr",
     "output_type": "stream",
     "text": [
      " 90%|█████████ | 9102/10100 [01:43<00:10, 91.19it/s]"
     ]
    },
    {
     "name": "stdout",
     "output_type": "stream",
     "text": [
      "Epsilon : 0.010560467252714813, average reward : 7.2280, averaged shaped reward : -2.5720 Pickup, Drop, Success, Hit wall rate : [1.22, 1.21, 0.99, 0.92]\n",
      "averaged grid size : 5.00, averaged obstacles : 10.56\n"
     ]
    },
    {
     "name": "stderr",
     "output_type": "stream",
     "text": [
      " 91%|█████████ | 9213/10100 [01:44<00:08, 108.04it/s]"
     ]
    },
    {
     "name": "stdout",
     "output_type": "stream",
     "text": [
      "Epsilon : 0.01004530157833244, average reward : 7.2990, averaged shaped reward : -5.4010 Pickup, Drop, Success, Hit wall rate : [1.44, 1.44, 1.0, 0.83]\n",
      "averaged grid size : 5.00, averaged obstacles : 10.23\n"
     ]
    },
    {
     "name": "stderr",
     "output_type": "stream",
     "text": [
      " 92%|█████████▏| 9305/10100 [01:45<00:07, 101.72it/s]"
     ]
    },
    {
     "name": "stdout",
     "output_type": "stream",
     "text": [
      "Epsilon : 0.009555266957880806, average reward : 9.8880, averaged shaped reward : 2.4880 Pickup, Drop, Success, Hit wall rate : [1.19, 1.17, 0.97, 0.9]\n",
      "averaged grid size : 5.00, averaged obstacles : 9.93\n"
     ]
    },
    {
     "name": "stderr",
     "output_type": "stream",
     "text": [
      " 93%|█████████▎| 9405/10100 [01:47<00:08, 85.54it/s] "
     ]
    },
    {
     "name": "stdout",
     "output_type": "stream",
     "text": [
      "Epsilon : 0.009089137436481563, average reward : 9.1830, averaged shaped reward : -1.1170 Pickup, Drop, Success, Hit wall rate : [1.33, 1.32, 0.99, 1.07]\n",
      "averaged grid size : 5.00, averaged obstacles : 9.78\n"
     ]
    },
    {
     "name": "stderr",
     "output_type": "stream",
     "text": [
      " 94%|█████████▍| 9505/10100 [01:48<00:11, 52.30it/s]"
     ]
    },
    {
     "name": "stdout",
     "output_type": "stream",
     "text": [
      "Epsilon : 0.008645746864363136, average reward : -25.3540, averaged shaped reward : -43.0540 Pickup, Drop, Success, Hit wall rate : [1.37, 1.35, 0.97, 1.3]\n",
      "averaged grid size : 5.00, averaged obstacles : 9.79\n"
     ]
    },
    {
     "name": "stderr",
     "output_type": "stream",
     "text": [
      " 95%|█████████▌| 9623/10100 [01:51<00:06, 74.98it/s]"
     ]
    },
    {
     "name": "stdout",
     "output_type": "stream",
     "text": [
      "Epsilon : 0.008223985979419902, average reward : -25.8510, averaged shaped reward : -42.9510 Pickup, Drop, Success, Hit wall rate : [1.44, 1.41, 0.96, 1.26]\n",
      "averaged grid size : 5.00, averaged obstacles : 10.67\n"
     ]
    },
    {
     "name": "stderr",
     "output_type": "stream",
     "text": [
      " 96%|█████████▌| 9709/10100 [01:51<00:03, 106.33it/s]"
     ]
    },
    {
     "name": "stdout",
     "output_type": "stream",
     "text": [
      "Epsilon : 0.007822799632091385, average reward : 23.8430, averaged shaped reward : 15.6430 Pickup, Drop, Success, Hit wall rate : [1.1, 1.1, 1.0, 0.54]\n",
      "averaged grid size : 5.00, averaged obstacles : 11.26\n"
     ]
    },
    {
     "name": "stderr",
     "output_type": "stream",
     "text": [
      " 97%|█████████▋| 9822/10100 [01:53<00:03, 91.17it/s] "
     ]
    },
    {
     "name": "stdout",
     "output_type": "stream",
     "text": [
      "Epsilon : 0.007441184145618604, average reward : 17.9350, averaged shaped reward : 11.9350 Pickup, Drop, Success, Hit wall rate : [1.19, 1.19, 1.0, 0.66]\n",
      "averaged grid size : 5.00, averaged obstacles : 10.11\n"
     ]
    },
    {
     "name": "stderr",
     "output_type": "stream",
     "text": [
      " 98%|█████████▊| 9911/10100 [01:53<00:01, 131.38it/s]"
     ]
    },
    {
     "name": "stdout",
     "output_type": "stream",
     "text": [
      "Epsilon : 0.0070781848050737416, average reward : 31.6090, averaged shaped reward : 28.2090 Pickup, Drop, Success, Hit wall rate : [1.05, 1.05, 1.0, 0.4]\n",
      "averaged grid size : 5.00, averaged obstacles : 10.20\n"
     ]
    },
    {
     "name": "stderr",
     "output_type": "stream",
     "text": [
      " 99%|█████████▉| 9994/10100 [01:54<00:01, 92.64it/s] "
     ]
    },
    {
     "name": "stdout",
     "output_type": "stream",
     "text": [
      "Epsilon : 0.006732893468881064, average reward : 19.5790, averaged shaped reward : 12.9790 Pickup, Drop, Success, Hit wall rate : [1.05, 1.05, 1.0, 0.54]\n",
      "averaged grid size : 5.00, averaged obstacles : 9.50\n"
     ]
    },
    {
     "name": "stderr",
     "output_type": "stream",
     "text": [
      "100%|██████████| 10100/10100 [01:58<00:00, 85.55it/s]"
     ]
    },
    {
     "name": "stdout",
     "output_type": "stream",
     "text": [
      "Epsilon : 0, average reward : -98.1100, averaged shaped reward : -98.6100 Pickup, Drop, Success, Hit wall rate : [0.82, 0.74, 0.74, 0.1]\n",
      "averaged grid size : 5.00, averaged obstacles : 9.82\n"
     ]
    },
    {
     "name": "stderr",
     "output_type": "stream",
     "text": [
      "\n"
     ]
    }
   ],
   "source": [
    "env = SimpleTaxiEnv()\n",
    "q_table = tabular_q_learning(env)"
   ]
  },
  {
   "cell_type": "code",
   "execution_count": 73,
   "metadata": {
    "id": "FaVsGr6fbI7l"
   },
   "outputs": [],
   "source": [
    "import pickle\n",
    "q_table_dict = dict(q_table)  # Convert to regular dict\n",
    "with open('q_table.pkl', 'wb') as f:\n",
    "    pickle.dump(q_table_dict, f)"
   ]
  },
  {
   "cell_type": "code",
   "execution_count": 74,
   "metadata": {
    "id": "1yAJ9k3vWNPX"
   },
   "outputs": [
    {
     "name": "stdout",
     "output_type": "stream",
     "text": [
      "10125\n"
     ]
    }
   ],
   "source": [
    "print(len(q_table_dict.keys()))"
   ]
  },
  {
   "cell_type": "markdown",
   "metadata": {
    "id": "OXo_X3thVos1"
   },
   "source": [
    "# 測試"
   ]
  },
  {
   "cell_type": "code",
   "execution_count": 82,
   "metadata": {},
   "outputs": [],
   "source": [
    "from tqdm import tqdm\n",
    "def Testing(env):\n",
    "    import pickle\n",
    "    from collections import defaultdict\n",
    "    with open('q_table.pkl', 'rb') as f:\n",
    "        print('load')\n",
    "        loaded_dict = pickle.load(f)\n",
    "    q_table = defaultdict(lambda: np.zeros(6), loaded_dict)  # Replace 0 with your default value\n",
    "    print(len(q_table))\n",
    "    #print('len of q_table',len(q_table.keys()))\n",
    "    global stations, candidates_p,candidates_goal, pickup, goal_id,last_action,last_last_action\n",
    "    stations = [[0,0] for _ in range(4)]\n",
    "    candidates_p = [i for i in stations]\n",
    "    candidates_goal = [i for i in stations]\n",
    "    goal_id = -1\n",
    "    pickup=False\n",
    "    action_size = 6\n",
    "    last_action = None\n",
    "    last_last_action = None\n",
    "    #q_table = defaultdict(lambda :np.zeros(action_size))\n",
    "    pickup_id = 4\n",
    "    drop_id = 5\n",
    "    ifpickup=False\n",
    "    p_loc = (0,0)\n",
    "    def cmp(a,b):\n",
    "        if a==b:\n",
    "            return 0\n",
    "        return 1 if a<b else -1\n",
    "            \n",
    "    def get_state_obs(obs,action,last_action=None):\n",
    "        global stations,pickup,candidates_p,candidates_goal\n",
    "        #print(candidates_p)\n",
    "        taxi_row, taxi_col, stations[0][0], stations[0][1] , stations[1][0], stations[1][1],stations[2][0],stations[2][1],stations[3][0],stations[3][1],obstacle_north, obstacle_south, obstacle_east, obstacle_west, passenger_look, destination_look = obs\n",
    "        agent_pos = (taxi_row,taxi_col)\n",
    "        if action==None:\n",
    "            # initialize\n",
    "            candidates_goal = [tuple(i) for i in stations]\n",
    "            candidates_p = [tuple(i) for i in stations]\n",
    "            pickup=False\n",
    "        if passenger_look:\n",
    "            #print('before p',candidates_p)\n",
    "            candidates_p = [ tuple(x) for x in candidates_p if abs(x[0]-agent_pos[0])+abs(x[1]-agent_pos[1]) <=1 ]\n",
    "            #print('after p',candidates_p)\n",
    "        else:\n",
    "            #print('before p',candidates_p)\n",
    "            candidates_p = [ tuple(x) for x in candidates_p if abs(x[0]-agent_pos[0])+abs(x[1]-agent_pos[1]) >1 ]\n",
    "            #print('after p',candidates_p)\n",
    "        if destination_look:\n",
    "            #print('before g',candidates_goal)\n",
    "            candidates_goal = [ tuple(x) for x in candidates_goal if abs(x[0]-agent_pos[0])+abs(x[1]-agent_pos[1]) <=1 ]\n",
    "            #print('after g',candidates_goal)\n",
    "        else:\n",
    "            #print('before g',candidates_goal)\n",
    "            candidates_goal = [ tuple(x) for x in candidates_goal if abs(x[0]-agent_pos[0])+abs(x[1]-agent_pos[1]) >1 ]\n",
    "            #print('after g',candidates_goal)\n",
    "        if action==pickup_id and not pickup and agent_pos in candidates_p:\n",
    "            pickup = True\n",
    "            candidates_p = []\n",
    "        elif action == drop_id and pickup:\n",
    "            pickup=False\n",
    "            candidates_p.append(agent_pos)\n",
    "        cmp_pos = (0,0)\n",
    "        if not pickup:\n",
    "            cmp_pos = candidates_p[0]\n",
    "        else:\n",
    "            cmp_pos = candidates_goal[0]\n",
    "        passenger_look = passenger_look and agent_pos in candidates_p\n",
    "        destination_look = destination_look and agent_pos in candidates_goal\n",
    "        relative_pos = (cmp(agent_pos[0],cmp_pos[0]),cmp(agent_pos[1],cmp_pos[1]))\n",
    "        return (relative_pos,pickup, passenger_look, destination_look, (obstacle_north,obstacle_south,obstacle_east,obstacle_west),action,last_action)\n",
    "\n",
    "    def get_action(obs):\n",
    "        # TODO: Train your own agent\n",
    "        # HINT: If you're using a Q-table, consider designing a custom key based on `obs` to store useful information.\n",
    "        # NOTE: Keep in mind that your Q-table may not cover all possible states in the testing environment.\n",
    "        #       To prevent crashes, implement a fallback strategy for missing keys.\n",
    "        #       Otherwise, even if your agent performs well in training, it may fail during testing.\n",
    "        global last_action,last_last_action\n",
    "        state = get_state_obs(obs,last_action,last_last_action)\n",
    "        action_name = ['Move North','Move South','Move East','Move West','Pick Up','Drop Off']\n",
    "        if state not in q_table.keys():\n",
    "            #print(state)\n",
    "            print(state)\n",
    "\n",
    "            #assert(0)\n",
    "            action = np.random.randint(action_size)\n",
    "        else:\n",
    "            #print(state,action_name[np.argmax(q_table[state])])\n",
    "            action = np.argmax(q_table[state])\n",
    "        #q_table[state][action] = q_table[state][action] + 0.089487*(-0.1+0.89487*np.max(q_table[state])-q_table[state][action])\n",
    "        last_last_action=last_action\n",
    "        last_action=action\n",
    "        return action # Choose a random action\n",
    "        # You can submit this random agent to evaluate the performance of a purely random strategy.\n",
    "    Total_reward=0\n",
    "    for i in tqdm(range(100)):\n",
    "        grid_size = np.random.randint(5,11)\n",
    "        obstacle_size = np.random.randint(grid_size*grid_size)\n",
    "        obs,_ = env.reset()\n",
    "        obs,_,_ = obs\n",
    "        total_reward = 0\n",
    "        done = False\n",
    "        stations = [[0,0] for _ in range(4)]\n",
    "        candidates_p = [i for i in stations]\n",
    "        candidates_goal = [i for i in stations]\n",
    "        goal_id = -1\n",
    "        pickup=False\n",
    "        action_size = 6\n",
    "        pickup_id = 4\n",
    "        drop_id = 5\n",
    "        last_action = None\n",
    "        last_last_action = None\n",
    "        while not done:\n",
    "            action = get_action(obs)\n",
    "            obs,reward,done,_ = env.step(action)\n",
    "            obs,_,_ = obs\n",
    "            total_reward += reward\n",
    "        Total_reward+=total_reward\n",
    "        print(f'grid_size : {env.grid_size}, obstacle_size : {len(env.obstacles)}, total_reward : {total_reward}')\n",
    "    print(f'average : {Total_reward/100}')\n"
   ]
  },
  {
   "cell_type": "code",
   "execution_count": 83,
   "metadata": {},
   "outputs": [
    {
     "name": "stdout",
     "output_type": "stream",
     "text": [
      "load\n",
      "10125\n"
     ]
    },
    {
     "name": "stderr",
     "output_type": "stream",
     "text": [
      "  3%|▎         | 3/100 [00:00<00:03, 26.65it/s]"
     ]
    },
    {
     "name": "stdout",
     "output_type": "stream",
     "text": [
      "grid_size : 6, obstacle_size : 14, total_reward : 48.8\n",
      "grid_size : 7, obstacle_size : 34, total_reward : 47.4\n",
      "grid_size : 9, obstacle_size : 33, total_reward : -510.0000000000452\n",
      "grid_size : 6, obstacle_size : 20, total_reward : -510.0000000000452\n",
      "grid_size : 5, obstacle_size : 14, total_reward : 49.0\n"
     ]
    },
    {
     "name": "stderr",
     "output_type": "stream",
     "text": [
      "  6%|▌         | 6/100 [00:00<00:04, 23.23it/s]"
     ]
    },
    {
     "name": "stdout",
     "output_type": "stream",
     "text": [
      "grid_size : 10, obstacle_size : 65, total_reward : 47.199999999999996\n",
      "grid_size : 10, obstacle_size : 69, total_reward : -510.0000000000452\n",
      "grid_size : 10, obstacle_size : 14, total_reward : -510.0000000000452\n"
     ]
    },
    {
     "name": "stderr",
     "output_type": "stream",
     "text": [
      "  9%|▉         | 9/100 [00:00<00:06, 14.11it/s]"
     ]
    },
    {
     "name": "stdout",
     "output_type": "stream",
     "text": [
      "grid_size : 8, obstacle_size : 44, total_reward : -510.0000000000452\n",
      "grid_size : 7, obstacle_size : 31, total_reward : 48.6\n",
      "grid_size : 8, obstacle_size : 27, total_reward : -510.0000000000452\n"
     ]
    },
    {
     "name": "stderr",
     "output_type": "stream",
     "text": [
      " 12%|█▏        | 12/100 [00:00<00:06, 13.24it/s]"
     ]
    },
    {
     "name": "stdout",
     "output_type": "stream",
     "text": [
      "grid_size : 10, obstacle_size : 65, total_reward : -510.0000000000452\n",
      "grid_size : 5, obstacle_size : 17, total_reward : -510.0000000000452\n",
      "grid_size : 6, obstacle_size : 22, total_reward : -510.0000000000452\n",
      "grid_size : 7, obstacle_size : 3, total_reward : 48.6\n"
     ]
    },
    {
     "name": "stderr",
     "output_type": "stream",
     "text": [
      " 16%|█▌        | 16/100 [00:01<00:05, 14.59it/s]"
     ]
    },
    {
     "name": "stdout",
     "output_type": "stream",
     "text": [
      "grid_size : 9, obstacle_size : 59, total_reward : -510.0000000000452\n",
      "grid_size : 6, obstacle_size : 1, total_reward : 48.199999999999996\n",
      "grid_size : 5, obstacle_size : 3, total_reward : -510.0000000000452\n"
     ]
    },
    {
     "name": "stderr",
     "output_type": "stream",
     "text": [
      " 19%|█▉        | 19/100 [00:01<00:04, 16.55it/s]"
     ]
    },
    {
     "name": "stdout",
     "output_type": "stream",
     "text": [
      "grid_size : 8, obstacle_size : 47, total_reward : -510.0000000000452\n",
      "grid_size : 9, obstacle_size : 41, total_reward : -510.0000000000452\n",
      "grid_size : 8, obstacle_size : 7, total_reward : 47.8\n"
     ]
    },
    {
     "name": "stderr",
     "output_type": "stream",
     "text": [
      " 22%|██▏       | 22/100 [00:01<00:04, 18.54it/s]"
     ]
    },
    {
     "name": "stdout",
     "output_type": "stream",
     "text": [
      "grid_size : 8, obstacle_size : 13, total_reward : -510.0000000000452\n",
      "grid_size : 9, obstacle_size : 60, total_reward : -510.0000000000452\n",
      "grid_size : 10, obstacle_size : 37, total_reward : -510.0000000000452\n"
     ]
    },
    {
     "name": "stderr",
     "output_type": "stream",
     "text": [
      " 25%|██▌       | 25/100 [00:01<00:04, 15.57it/s]"
     ]
    },
    {
     "name": "stdout",
     "output_type": "stream",
     "text": [
      "grid_size : 8, obstacle_size : 36, total_reward : -510.0000000000452\n",
      "grid_size : 6, obstacle_size : 5, total_reward : 48.8\n",
      "grid_size : 8, obstacle_size : 3, total_reward : 48.0\n",
      "grid_size : 7, obstacle_size : 15, total_reward : -510.0000000000452\n",
      "grid_size : 5, obstacle_size : 10, total_reward : -510.0000000000452\n",
      "grid_size : 6, obstacle_size : 24, total_reward : -510.0000000000452\n"
     ]
    },
    {
     "name": "stderr",
     "output_type": "stream",
     "text": [
      " 33%|███▎      | 33/100 [00:01<00:03, 19.82it/s]"
     ]
    },
    {
     "name": "stdout",
     "output_type": "stream",
     "text": [
      "grid_size : 8, obstacle_size : 49, total_reward : -510.0000000000452\n",
      "grid_size : 6, obstacle_size : 26, total_reward : 47.3\n",
      "grid_size : 7, obstacle_size : 31, total_reward : 47.4\n",
      "grid_size : 9, obstacle_size : 46, total_reward : -510.0000000000452\n",
      "grid_size : 5, obstacle_size : 9, total_reward : 47.599999999999994\n",
      "grid_size : 7, obstacle_size : 19, total_reward : -520.0000000000474\n"
     ]
    },
    {
     "name": "stderr",
     "output_type": "stream",
     "text": [
      " 39%|███▉      | 39/100 [00:02<00:03, 20.12it/s]"
     ]
    },
    {
     "name": "stdout",
     "output_type": "stream",
     "text": [
      "grid_size : 5, obstacle_size : 1, total_reward : 47.699999999999996\n",
      "grid_size : 10, obstacle_size : 70, total_reward : -510.0000000000452\n",
      "grid_size : 7, obstacle_size : 24, total_reward : 47.599999999999994\n",
      "grid_size : 6, obstacle_size : 21, total_reward : 47.4\n"
     ]
    },
    {
     "name": "stderr",
     "output_type": "stream",
     "text": [
      " 44%|████▍     | 44/100 [00:02<00:03, 17.86it/s]"
     ]
    },
    {
     "name": "stdout",
     "output_type": "stream",
     "text": [
      "grid_size : 9, obstacle_size : 60, total_reward : 46.5\n",
      "grid_size : 9, obstacle_size : 40, total_reward : -510.0000000000452\n",
      "grid_size : 10, obstacle_size : 69, total_reward : 37.0\n",
      "grid_size : 10, obstacle_size : 8, total_reward : 46.4\n"
     ]
    },
    {
     "name": "stderr",
     "output_type": "stream",
     "text": [
      " 46%|████▌     | 46/100 [00:02<00:03, 13.98it/s]"
     ]
    },
    {
     "name": "stdout",
     "output_type": "stream",
     "text": [
      "grid_size : 10, obstacle_size : 73, total_reward : -510.0000000000452\n",
      "grid_size : 8, obstacle_size : 7, total_reward : -510.0000000000452\n",
      "grid_size : 7, obstacle_size : 7, total_reward : 48.4\n"
     ]
    },
    {
     "name": "stderr",
     "output_type": "stream",
     "text": [
      " 48%|████▊     | 48/100 [00:02<00:04, 12.44it/s]"
     ]
    },
    {
     "name": "stdout",
     "output_type": "stream",
     "text": [
      "grid_size : 10, obstacle_size : 74, total_reward : -510.0000000000452\n",
      "grid_size : 9, obstacle_size : 56, total_reward : -510.0000000000452\n"
     ]
    },
    {
     "name": "stderr",
     "output_type": "stream",
     "text": [
      " 50%|█████     | 50/100 [00:03<00:04, 10.82it/s]"
     ]
    },
    {
     "name": "stdout",
     "output_type": "stream",
     "text": [
      "grid_size : 9, obstacle_size : 50, total_reward : -510.0000000000452\n",
      "grid_size : 10, obstacle_size : 81, total_reward : -510.0000000000452\n",
      "grid_size : 6, obstacle_size : 23, total_reward : 46.8\n"
     ]
    },
    {
     "name": "stderr",
     "output_type": "stream",
     "text": [
      " 54%|█████▍    | 54/100 [00:03<00:04, 11.34it/s]"
     ]
    },
    {
     "name": "stdout",
     "output_type": "stream",
     "text": [
      "grid_size : 8, obstacle_size : 47, total_reward : -510.0000000000452\n",
      "grid_size : 9, obstacle_size : 34, total_reward : -510.0000000000452\n",
      "grid_size : 8, obstacle_size : 25, total_reward : -510.0000000000452\n",
      "grid_size : 10, obstacle_size : 8, total_reward : 47.199999999999996\n",
      "grid_size : 5, obstacle_size : 17, total_reward : 49.4\n",
      "grid_size : 5, obstacle_size : 17, total_reward : 48.9\n",
      "grid_size : 8, obstacle_size : 3, total_reward : 35.9\n",
      "grid_size : 8, obstacle_size : 47, total_reward : 47.0\n"
     ]
    },
    {
     "name": "stderr",
     "output_type": "stream",
     "text": [
      " 63%|██████▎   | 63/100 [00:03<00:01, 19.94it/s]"
     ]
    },
    {
     "name": "stdout",
     "output_type": "stream",
     "text": [
      "grid_size : 6, obstacle_size : 14, total_reward : 48.1\n",
      "grid_size : 10, obstacle_size : 52, total_reward : -510.0000000000452\n",
      "grid_size : 6, obstacle_size : 19, total_reward : -510.0000000000452\n",
      "grid_size : 8, obstacle_size : 46, total_reward : -510.0000000000452\n",
      "grid_size : 5, obstacle_size : 8, total_reward : 48.4\n"
     ]
    },
    {
     "name": "stderr",
     "output_type": "stream",
     "text": [
      " 69%|██████▉   | 69/100 [00:04<00:01, 21.54it/s]"
     ]
    },
    {
     "name": "stdout",
     "output_type": "stream",
     "text": [
      "grid_size : 5, obstacle_size : 12, total_reward : 38.3\n",
      "grid_size : 8, obstacle_size : 47, total_reward : -510.0000000000452\n",
      "grid_size : 9, obstacle_size : 26, total_reward : 46.099999999999994\n",
      "grid_size : 8, obstacle_size : 32, total_reward : -510.0000000000452\n",
      "grid_size : 8, obstacle_size : 43, total_reward : -510.0000000000452\n",
      "grid_size : 6, obstacle_size : 3, total_reward : 38.8\n"
     ]
    },
    {
     "name": "stderr",
     "output_type": "stream",
     "text": [
      " 75%|███████▌  | 75/100 [00:04<00:01, 22.89it/s]"
     ]
    },
    {
     "name": "stdout",
     "output_type": "stream",
     "text": [
      "grid_size : 9, obstacle_size : 17, total_reward : -510.0000000000452\n",
      "grid_size : 8, obstacle_size : 38, total_reward : -510.0000000000452\n",
      "grid_size : 8, obstacle_size : 38, total_reward : -510.0000000000452\n",
      "grid_size : 5, obstacle_size : 14, total_reward : 48.6\n",
      "grid_size : 10, obstacle_size : 1, total_reward : 47.4\n",
      "grid_size : 8, obstacle_size : 13, total_reward : -510.0000000000452\n",
      "grid_size : 5, obstacle_size : 10, total_reward : -510.0000000000452\n"
     ]
    },
    {
     "name": "stderr",
     "output_type": "stream",
     "text": [
      " 82%|████████▏ | 82/100 [00:04<00:00, 23.77it/s]"
     ]
    },
    {
     "name": "stdout",
     "output_type": "stream",
     "text": [
      "grid_size : 9, obstacle_size : 36, total_reward : -510.0000000000452\n",
      "grid_size : 6, obstacle_size : 20, total_reward : -510.0000000000452\n",
      "grid_size : 7, obstacle_size : 12, total_reward : -510.0000000000452\n",
      "grid_size : 10, obstacle_size : 38, total_reward : -510.0000000000452\n",
      "grid_size : 7, obstacle_size : 37, total_reward : 49.4\n",
      "grid_size : 6, obstacle_size : 3, total_reward : 49.199999999999996\n",
      "grid_size : 7, obstacle_size : 25, total_reward : 48.699999999999996\n"
     ]
    },
    {
     "name": "stderr",
     "output_type": "stream",
     "text": [
      " 86%|████████▌ | 86/100 [00:04<00:00, 27.47it/s]"
     ]
    },
    {
     "name": "stdout",
     "output_type": "stream",
     "text": [
      "grid_size : 10, obstacle_size : 39, total_reward : -510.0000000000452\n",
      "grid_size : 9, obstacle_size : 8, total_reward : 48.4\n",
      "grid_size : 6, obstacle_size : 27, total_reward : 48.6\n",
      "grid_size : 8, obstacle_size : 23, total_reward : -510.0000000000452\n",
      "grid_size : 10, obstacle_size : 23, total_reward : -510.0000000000452\n"
     ]
    },
    {
     "name": "stderr",
     "output_type": "stream",
     "text": [
      "100%|██████████| 100/100 [00:05<00:00, 19.68it/s]"
     ]
    },
    {
     "name": "stdout",
     "output_type": "stream",
     "text": [
      "grid_size : 9, obstacle_size : 58, total_reward : -510.0000000000452\n",
      "grid_size : 7, obstacle_size : 1, total_reward : -510.0000000000452\n",
      "grid_size : 5, obstacle_size : 9, total_reward : -510.0000000000452\n",
      "grid_size : 10, obstacle_size : 5, total_reward : 45.5\n",
      "grid_size : 5, obstacle_size : 8, total_reward : -510.0000000000452\n",
      "grid_size : 5, obstacle_size : 1, total_reward : 49.4\n",
      "grid_size : 5, obstacle_size : 11, total_reward : 48.9\n",
      "grid_size : 8, obstacle_size : 23, total_reward : -510.0000000000452\n",
      "grid_size : 5, obstacle_size : 15, total_reward : 49.3\n",
      "grid_size : 7, obstacle_size : 17, total_reward : 48.3\n",
      "average : -270.57700000002546\n"
     ]
    },
    {
     "name": "stderr",
     "output_type": "stream",
     "text": [
      "\n"
     ]
    }
   ],
   "source": [
    "env = SimpleTaxiEnv()\n",
    "Testing(env)"
   ]
  },
  {
   "cell_type": "markdown",
   "metadata": {
    "id": "WSxQEFroMcJw"
   },
   "source": [
    "# Policy base"
   ]
  },
  {
   "cell_type": "code",
   "execution_count": 44,
   "metadata": {
    "id": "nP4NtkKwMi1s"
   },
   "outputs": [],
   "source": [
    "def tabular_policy_learning(env,episodes=5000, alpha=0.1, gamma=0.999):\n",
    "\n",
    "    global stations, candidates_p,candidates_goal, pickup\n",
    "    stations = [[0,0] for _ in range(4)]\n",
    "    candidates_p = [i for i in stations]\n",
    "    candidates_goal = [i for i in stations]\n",
    "    pickup=False\n",
    "    action_size = 6\n",
    "    policy_table = defaultdict(lambda :np.zeros(action_size))\n",
    "    pickup_id = 4\n",
    "    drop_id = 5\n",
    "    ifpickup=False\n",
    "    p_loc = (0,0)\n",
    "    def softmax(x):\n",
    "        \"\"\"✅ Compute softmax values for an array.\"\"\"\n",
    "        exp_x = np.exp(x - np.max(x))  # Numeric stability\n",
    "        return exp_x / exp_x.sum()\n",
    "    def get_state_obs(obs,action):\n",
    "        global stations,pickup,candidates_p,candidates_goal\n",
    "        #print(candidates_p)\n",
    "        obstacles = [0 for _ in range(5)]\n",
    "        taxi_row, taxi_col, stations[0][0], stations[0][1] , stations[1][0], stations[1][1],stations[2][0],stations[2][1],stations[3][0],stations[3][1],obstacle_north, obstacle_south, obstacle_east, obstacle_west, passenger_look, destination_look = obs\n",
    "        agent_pos = (taxi_row,taxi_col)\n",
    "        if action==None:\n",
    "            # initialize\n",
    "            candidates_goal = [tuple(i) for i in stations]\n",
    "            candidates_p = [tuple(i) for i in stations]\n",
    "            pickup=False\n",
    "        if passenger_look:\n",
    "            #print('before p',candidates_p)\n",
    "            candidates_p = [ tuple(x) for x in candidates_p if abs(x[0]-agent_pos[0])+abs(x[1]-agent_pos[1]) <=1 ]\n",
    "            #print('after p',candidates_p)\n",
    "        else:\n",
    "            #print('before p',candidates_p)\n",
    "            candidates_p = [ tuple(x) for x in candidates_p if abs(x[0]-agent_pos[0])+abs(x[1]-agent_pos[1]) >1 ]\n",
    "            #print('after p',candidates_p)\n",
    "        if destination_look:\n",
    "            #print('before g',candidates_goal)\n",
    "            candidates_goal = [ tuple(x) for x in candidates_goal if abs(x[0]-agent_pos[0])+abs(x[1]-agent_pos[1]) <=1 ]\n",
    "            #print('after g',candidates_goal)\n",
    "        else:\n",
    "            #print('before g',candidates_goal)\n",
    "            candidates_goal = [ tuple(x) for x in candidates_goal if abs(x[0]-agent_pos[0])+abs(x[1]-agent_pos[1]) >1 ]\n",
    "            #print('after g',candidates_goal)\n",
    "        if action==pickup_id and not pickup and agent_pos in candidates_p:\n",
    "            pickup = True\n",
    "            candidates_p = []\n",
    "        elif action == drop_id and pickup:\n",
    "            pickup=False\n",
    "            candidates_p = [agent_pos]\n",
    "        return (pickup, len(candidates_p), len(candidates_goal), passenger_look, destination_look, (obstacle_north,obstacle_south,obstacle_east,obstacle_west))\n",
    "    \"\"\"\n",
    "    if action == 0 :  # Move Down\n",
    "        next_row += 1\n",
    "    elif action == 1:  # Move Up\n",
    "        next_row -= 1\n",
    "    elif action == 2:  # Move Right\n",
    "        next_col += 1\n",
    "    elif action == 3:  # Move Left\n",
    "        next_col -= 1\n",
    "    \"\"\"\n",
    "    station_size = 4\n",
    "    total_reward = 0\n",
    "    total_reward_shaped = 0\n",
    "    cnt = [0,0,0]\n",
    "    averaged = [0,0]\n",
    "    batch_size = 100\n",
    "\n",
    "\n",
    "\n",
    "    for epoch in tqdm(range(episodes+600)):\n",
    "        if epoch >= episodes:\n",
    "            epsilon = 0\n",
    "        grid_size = np.random.randint(5,11)\n",
    "        obstacle_size = np.random.randint(grid_size*grid_size)\n",
    "        obs,_ = env.reset()\n",
    "        averaged[0]+=env.grid_size\n",
    "        averaged[1]+=len(env.obstacles)\n",
    "        obs,ifpickup,p_loc = obs\n",
    "        done = False\n",
    "        state = get_state_obs(obs,action=None)\n",
    "        steps=0\n",
    "        action_l=[]\n",
    "        success = False\n",
    "        has_pickup=False\n",
    "        trajectory = []\n",
    "        while not done:\n",
    "            \"\"\"if state[-1]!=(0,0,0,0):\n",
    "              print(state[-1])\"\"\"\n",
    "            action = np.random.choice(action_size,p=softmax(policy_table[state]))\n",
    "            lst_pickup = pickup\n",
    "            obs,reward,done,_ = env.step(action)\n",
    "            obs,ifpickup,p_loc = obs\n",
    "            next_state = get_state_obs(obs,action)\n",
    "            total_reward += reward\n",
    "            if done and reward>0:\n",
    "                cnt[2]+=1\n",
    "            reward_shaping = 0\n",
    "            pickup, p_len, goal_len, _,_ , _ = next_state\n",
    "            if not pickup:\n",
    "                reward_shaping -= 0.01 * (p_len**2)\n",
    "            reward_shaping -= 0.001 * (goal_len**2)\n",
    "            reward += reward_shaping\n",
    "            total_reward_shaped += reward\n",
    "            trajectory.append((state,action,reward))\n",
    "            state = next_state\n",
    "\n",
    "\n",
    "            if lst_pickup==False and pickup:\n",
    "                cnt[0]+=1\n",
    "            elif lst_pickup==True and pickup==False:\n",
    "                cnt[1]+=1\n",
    "            if pickup!=ifpickup:\n",
    "                print(pickup,ifpickup)\n",
    "            assert(pickup==ifpickup)\n",
    "        G = 0\n",
    "        for t in reversed(trajectory):\n",
    "            state,action,reward = t\n",
    "            G = gamma*G + reward\n",
    "            prob = softmax(policy_table[state])\n",
    "            grad=-prob.copy()\n",
    "            grad[action]+=1\n",
    "            policy_table[state] += alpha*G*grad\n",
    "        if (epoch+1)%batch_size==0:\n",
    "            cnt = [i/batch_size for i in cnt]\n",
    "            print(f'Epoch : {epoch}, average reward : {total_reward/batch_size:.4f}, averaged shaped reward : {total_reward_shaped/batch_size:.4f} Pickup, Drop, Success rate : {cnt}')\n",
    "            print(f'averaged grid size : {averaged[0]/batch_size:.2f}, averaged obstacles : {averaged[1]/batch_size:.2f}')\n",
    "            averaged = [0,0]\n",
    "            cnt = [0,0,0]\n",
    "            total_reward = 0\n",
    "            total_reward_shaped = 0\n",
    "    return q_table"
   ]
  },
  {
   "cell_type": "code",
   "execution_count": 45,
   "metadata": {
    "id": "8pe7Sg6NarrP"
   },
   "outputs": [
    {
     "name": "stderr",
     "output_type": "stream",
     "text": [
      "  0%|          | 20/5600 [00:04<20:19,  4.58it/s]\n"
     ]
    },
    {
     "ename": "KeyboardInterrupt",
     "evalue": "",
     "output_type": "error",
     "traceback": [
      "\u001b[1;31m---------------------------------------------------------------------------\u001b[0m",
      "\u001b[1;31mKeyboardInterrupt\u001b[0m                         Traceback (most recent call last)",
      "Cell \u001b[1;32mIn[45], line 2\u001b[0m\n\u001b[0;32m      1\u001b[0m env \u001b[38;5;241m=\u001b[39m SimpleTaxiEnv()\n\u001b[1;32m----> 2\u001b[0m policy_table \u001b[38;5;241m=\u001b[39m \u001b[43mtabular_policy_learning\u001b[49m\u001b[43m(\u001b[49m\u001b[43menv\u001b[49m\u001b[43m)\u001b[49m\n\u001b[0;32m      3\u001b[0m \u001b[38;5;66;03m# save policy table to .pkl\u001b[39;00m\n\u001b[0;32m      4\u001b[0m policy_dict \u001b[38;5;241m=\u001b[39m \u001b[38;5;28mdict\u001b[39m(policy_table)  \u001b[38;5;66;03m# Convert to regular dict\u001b[39;00m\n",
      "Cell \u001b[1;32mIn[44], line 120\u001b[0m, in \u001b[0;36mtabular_policy_learning\u001b[1;34m(env, episodes, alpha, gamma)\u001b[0m\n\u001b[0;32m    118\u001b[0m state,action,reward \u001b[38;5;241m=\u001b[39m t\n\u001b[0;32m    119\u001b[0m G \u001b[38;5;241m=\u001b[39m gamma\u001b[38;5;241m*\u001b[39mG \u001b[38;5;241m+\u001b[39m reward\n\u001b[1;32m--> 120\u001b[0m prob \u001b[38;5;241m=\u001b[39m \u001b[43msoftmax\u001b[49m\u001b[43m(\u001b[49m\u001b[43mpolicy_table\u001b[49m\u001b[43m[\u001b[49m\u001b[43mstate\u001b[49m\u001b[43m]\u001b[49m\u001b[43m)\u001b[49m\n\u001b[0;32m    121\u001b[0m grad\u001b[38;5;241m=\u001b[39m\u001b[38;5;241m-\u001b[39mprob\u001b[38;5;241m.\u001b[39mcopy()\n\u001b[0;32m    122\u001b[0m grad[action]\u001b[38;5;241m+\u001b[39m\u001b[38;5;241m=\u001b[39m\u001b[38;5;241m1\u001b[39m\n",
      "Cell \u001b[1;32mIn[44], line 17\u001b[0m, in \u001b[0;36mtabular_policy_learning.<locals>.softmax\u001b[1;34m(x)\u001b[0m\n\u001b[0;32m     15\u001b[0m \u001b[38;5;250m\u001b[39m\u001b[38;5;124;03m\"\"\"✅ Compute softmax values for an array.\"\"\"\u001b[39;00m\n\u001b[0;32m     16\u001b[0m exp_x \u001b[38;5;241m=\u001b[39m np\u001b[38;5;241m.\u001b[39mexp(x \u001b[38;5;241m-\u001b[39m np\u001b[38;5;241m.\u001b[39mmax(x))  \u001b[38;5;66;03m# Numeric stability\u001b[39;00m\n\u001b[1;32m---> 17\u001b[0m \u001b[38;5;28;01mreturn\u001b[39;00m exp_x \u001b[38;5;241m/\u001b[39m \u001b[43mexp_x\u001b[49m\u001b[38;5;241;43m.\u001b[39;49m\u001b[43msum\u001b[49m\u001b[43m(\u001b[49m\u001b[43m)\u001b[49m\n",
      "File \u001b[1;32m~\\AppData\\Local\\Packages\\PythonSoftwareFoundation.Python.3.12_qbz5n2kfra8p0\\LocalCache\\local-packages\\Python312\\site-packages\\numpy\\_core\\_methods.py:51\u001b[0m, in \u001b[0;36m_sum\u001b[1;34m(a, axis, dtype, out, keepdims, initial, where)\u001b[0m\n\u001b[0;32m     47\u001b[0m \u001b[38;5;28;01mdef\u001b[39;00m \u001b[38;5;21m_amin\u001b[39m(a, axis\u001b[38;5;241m=\u001b[39m\u001b[38;5;28;01mNone\u001b[39;00m, out\u001b[38;5;241m=\u001b[39m\u001b[38;5;28;01mNone\u001b[39;00m, keepdims\u001b[38;5;241m=\u001b[39m\u001b[38;5;28;01mFalse\u001b[39;00m,\n\u001b[0;32m     48\u001b[0m           initial\u001b[38;5;241m=\u001b[39m_NoValue, where\u001b[38;5;241m=\u001b[39m\u001b[38;5;28;01mTrue\u001b[39;00m):\n\u001b[0;32m     49\u001b[0m     \u001b[38;5;28;01mreturn\u001b[39;00m umr_minimum(a, axis, \u001b[38;5;28;01mNone\u001b[39;00m, out, keepdims, initial, where)\n\u001b[1;32m---> 51\u001b[0m \u001b[38;5;28;01mdef\u001b[39;00m \u001b[38;5;21m_sum\u001b[39m(a, axis\u001b[38;5;241m=\u001b[39m\u001b[38;5;28;01mNone\u001b[39;00m, dtype\u001b[38;5;241m=\u001b[39m\u001b[38;5;28;01mNone\u001b[39;00m, out\u001b[38;5;241m=\u001b[39m\u001b[38;5;28;01mNone\u001b[39;00m, keepdims\u001b[38;5;241m=\u001b[39m\u001b[38;5;28;01mFalse\u001b[39;00m,\n\u001b[0;32m     52\u001b[0m          initial\u001b[38;5;241m=\u001b[39m_NoValue, where\u001b[38;5;241m=\u001b[39m\u001b[38;5;28;01mTrue\u001b[39;00m):\n\u001b[0;32m     53\u001b[0m     \u001b[38;5;28;01mreturn\u001b[39;00m umr_sum(a, axis, dtype, out, keepdims, initial, where)\n\u001b[0;32m     55\u001b[0m \u001b[38;5;28;01mdef\u001b[39;00m \u001b[38;5;21m_prod\u001b[39m(a, axis\u001b[38;5;241m=\u001b[39m\u001b[38;5;28;01mNone\u001b[39;00m, dtype\u001b[38;5;241m=\u001b[39m\u001b[38;5;28;01mNone\u001b[39;00m, out\u001b[38;5;241m=\u001b[39m\u001b[38;5;28;01mNone\u001b[39;00m, keepdims\u001b[38;5;241m=\u001b[39m\u001b[38;5;28;01mFalse\u001b[39;00m,\n\u001b[0;32m     56\u001b[0m           initial\u001b[38;5;241m=\u001b[39m_NoValue, where\u001b[38;5;241m=\u001b[39m\u001b[38;5;28;01mTrue\u001b[39;00m):\n",
      "\u001b[1;31mKeyboardInterrupt\u001b[0m: "
     ]
    }
   ],
   "source": [
    "env = SimpleTaxiEnv()\n",
    "policy_table = tabular_policy_learning(env)\n",
    "# save policy table to .pkl\n",
    "policy_dict = dict(policy_table)  # Convert to regular dict\n",
    "with open('policy_table.pkl', 'wb') as f:\n",
    "    pickle.dump(policy_dict, f)"
   ]
  }
 ],
 "metadata": {
  "colab": {
   "collapsed_sections": [
    "vBm02Hg7kQwD",
    "ioWeQB4DTncX"
   ],
   "provenance": []
  },
  "kernelspec": {
   "display_name": "Python 3",
   "name": "python3"
  },
  "language_info": {
   "codemirror_mode": {
    "name": "ipython",
    "version": 3
   },
   "file_extension": ".py",
   "mimetype": "text/x-python",
   "name": "python",
   "nbconvert_exporter": "python",
   "pygments_lexer": "ipython3",
   "version": "3.12.9"
  }
 },
 "nbformat": 4,
 "nbformat_minor": 0
}
