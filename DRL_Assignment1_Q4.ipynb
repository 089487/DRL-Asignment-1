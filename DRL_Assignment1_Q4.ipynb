{
 "cells": [
  {
   "cell_type": "markdown",
   "metadata": {
    "id": "5fwkxPaZaMFv"
   },
   "source": [
    "# **Deep Reinforcement Learning Class Spring 2025 Assignment 1**\n",
    "\n",
    "In this assignment, we will learn about gym interface, gridworld, q-learning, and etc. You will need to fill in the missing code snippets (marked by TODO).\n",
    "\n",
    "Make a copy of this notebook using File > Save a copy in Drive and edit it with your answers.\n",
    "\n",
    "WARNING: Do not put your name or any other personal identification information in this notebook."
   ]
  },
  {
   "cell_type": "code",
   "execution_count": 13,
   "metadata": {},
   "outputs": [
    {
     "name": "stdout",
     "output_type": "stream",
     "text": [
      "Requirement already satisfied: gym in /Users/yuhungcheng/.pyenv/versions/3.9.6/lib/python3.9/site-packages (0.26.2)\n",
      "Requirement already satisfied: cloudpickle>=1.2.0 in /Users/yuhungcheng/.pyenv/versions/3.9.6/lib/python3.9/site-packages (from gym) (3.1.1)\n",
      "Requirement already satisfied: gym_notices>=0.0.4 in /Users/yuhungcheng/.pyenv/versions/3.9.6/lib/python3.9/site-packages (from gym) (0.0.8)\n",
      "Requirement already satisfied: numpy>=1.18.0 in /Users/yuhungcheng/.pyenv/versions/3.9.6/lib/python3.9/site-packages (from gym) (2.0.2)\n",
      "Requirement already satisfied: importlib_metadata>=4.8.0 in /Users/yuhungcheng/.pyenv/versions/3.9.6/lib/python3.9/site-packages (from gym) (8.6.1)\n",
      "Requirement already satisfied: zipp>=3.20 in /Users/yuhungcheng/.pyenv/versions/3.9.6/lib/python3.9/site-packages (from importlib_metadata>=4.8.0->gym) (3.21.0)\n",
      "\u001b[33mWARNING: You are using pip version 21.1.3; however, version 25.0.1 is available.\n",
      "You should consider upgrading via the '/Users/yuhungcheng/.pyenv/versions/3.9.6/bin/python3.9 -m pip install --upgrade pip' command.\u001b[0m\n",
      "Requirement already satisfied: numpy in /Users/yuhungcheng/.pyenv/versions/3.9.6/lib/python3.9/site-packages (2.0.2)\n",
      "\u001b[33mWARNING: You are using pip version 21.1.3; however, version 25.0.1 is available.\n",
      "You should consider upgrading via the '/Users/yuhungcheng/.pyenv/versions/3.9.6/bin/python3.9 -m pip install --upgrade pip' command.\u001b[0m\n",
      "Requirement already satisfied: tqdm in /Users/yuhungcheng/.pyenv/versions/3.9.6/lib/python3.9/site-packages (4.67.1)\n",
      "\u001b[33mWARNING: You are using pip version 21.1.3; however, version 25.0.1 is available.\n",
      "You should consider upgrading via the '/Users/yuhungcheng/.pyenv/versions/3.9.6/bin/python3.9 -m pip install --upgrade pip' command.\u001b[0m\n"
     ]
    }
   ],
   "source": [
    "!pip install gym\n",
    "!pip install numpy\n",
    "!pip install tqdm"
   ]
  },
  {
   "cell_type": "code",
   "execution_count": 14,
   "metadata": {
    "id": "L8nLFy4z2bZh"
   },
   "outputs": [],
   "source": [
    "import gym\n",
    "import numpy as np\n",
    "import importlib.util\n",
    "import time\n",
    "from IPython.display import clear_output\n",
    "import random"
   ]
  },
  {
   "cell_type": "code",
   "execution_count": null,
   "metadata": {},
   "outputs": [],
   "source": []
  },
  {
   "cell_type": "code",
   "execution_count": 15,
   "metadata": {
    "id": "W_kyHQESMG0E"
   },
   "outputs": [],
   "source": [
    "np.random.seed(42)"
   ]
  },
  {
   "cell_type": "code",
   "execution_count": 16,
   "metadata": {
    "id": "suK5e6_R2Fcq"
   },
   "outputs": [],
   "source": [
    "\n",
    "# This environment allows you to verify whether your program runs correctly during testing,\n",
    "# as it follows the same observation format from `env.reset()` and `env.step()`.\n",
    "# However, keep in mind that this is just a simplified environment.\n",
    "# The full specifications for the real testing environment can be found in the provided spec.\n",
    "#\n",
    "# You are free to modify this file to better match the real environment and train your own agent.\n",
    "# Good luck!\n",
    "\n",
    "\n",
    "class SimpleTaxiEnv(gym.Env):\n",
    "    def __init__(self, grid_size=10, fuel_limit=5000):\n",
    "        \"\"\"\n",
    "        Custom Taxi environment supporting different grid sizes.\n",
    "        \"\"\"\n",
    "        self.grid_size = grid_size\n",
    "        self.fuel_limit = fuel_limit\n",
    "        self.current_fuel = fuel_limit\n",
    "        self.passenger_picked_up = False\n",
    "\n",
    "        self.stations = [(0, 0), (0, self.grid_size - 1), (self.grid_size - 1, 0), (self.grid_size - 1, self.grid_size - 1)]\n",
    "        self.passenger_loc = None\n",
    "\n",
    "        self.obstacles = set()  # No obstacles in simple version\n",
    "        self.destination = None\n",
    "    def legal(self):\n",
    "      available_positions = [\n",
    "            (x, y) for x in range(self.grid_size) for y in range(self.grid_size)\n",
    "            if (x, y) not in self.obstacles\n",
    "      ]\n",
    "      n=len(available_positions)\n",
    "      p = [0 for i in range(n)]\n",
    "      global group_size\n",
    "      group_size = n\n",
    "      def find_parent(x):\n",
    "        if x!=p[x]:\n",
    "          p[x]=find_parent(p[x])\n",
    "        return p[x]\n",
    "      def Union(a,b):\n",
    "        global group_size\n",
    "        a=find_parent(a)\n",
    "        b=find_parent(b)\n",
    "        if a!=b:\n",
    "          group_size -= 1\n",
    "          if np.random.randint(2)==0:\n",
    "            p[a]=b\n",
    "          else:\n",
    "            p[b]=a\n",
    "      for i in range(n):\n",
    "        p[i]=i\n",
    "      for i in range(n):\n",
    "        for j in range(i+1,n):\n",
    "          if abs(available_positions[i][0]-available_positions[j][0])+abs(available_positions[i][1]-available_positions[j][1])==1:\n",
    "            Union(i,j)\n",
    "      return group_size==1\n",
    "    def reset(self,grid_size=None,obstacle_len=None):\n",
    "        \"\"\"Reset the environment, ensuring Taxi, passenger, and destination are not overlapping obstacles\"\"\"\n",
    "        self.current_fuel = self.fuel_limit\n",
    "        self.passenger_picked_up = False\n",
    "        if grid_size == None:\n",
    "            grid_size = np.random.randint(5,11)\n",
    "        self.grid_size = grid_size\n",
    "        self.stations = []\n",
    "        if obstacle_len == None:\n",
    "            obstacle_len = np.random.randint(0,grid_size*grid_size)\n",
    "        while len(self.stations)<4:\n",
    "            posx,posy = np.random.randint(0,self.grid_size),np.random.randint(0,self.grid_size)\n",
    "            # check posx,posy is not adjacent to existed stations\n",
    "            if not any([abs(posx-station[0])+abs(posy-station[1])<=1 for station in self.stations]):\n",
    "                self.stations.append((posx,posy))\n",
    "        #self.stations = [(0, 0), (0, self.grid_size - 1), (self.grid_size - 1, 0), (self.grid_size - 1, self.grid_size - 1)]\n",
    "        self.obstacles = set()\n",
    "        cnt = 0\n",
    "        while len(self.obstacles)<obstacle_len and cnt < self.grid_size*self.grid_size*10:\n",
    "            posx,posy = np.random.randint(0,self.grid_size),np.random.randint(0,self.grid_size)\n",
    "            if (posx,posy) not in self.stations and (posx,posy) not in self.obstacles:\n",
    "                self.obstacles.add((posx,posy))\n",
    "            if not self.legal():\n",
    "                self.obstacles.remove((posx,posy))\n",
    "            cnt = cnt +1\n",
    "        available_positions = [\n",
    "            (x, y) for x in range(self.grid_size) for y in range(self.grid_size)\n",
    "            if (x, y) not in self.stations and (x, y) not in self.obstacles\n",
    "        ]\n",
    "\n",
    "        self.taxi_pos = random.choice(available_positions)\n",
    "\n",
    "        self.passenger_loc = random.choice([pos for pos in self.stations])\n",
    "\n",
    "\n",
    "        possible_destinations = [s for s in self.stations if s != self.passenger_loc]\n",
    "        self.destination = random.choice(possible_destinations)\n",
    "        #print(f'grid size : {self.grid_size}, obstacles : {len(self.obstacles)}, ')\n",
    "        #self.render_env(self.taxi_pos)\n",
    "        return self.get_state(), {}\n",
    "\n",
    "    def step(self, action):\n",
    "        \"\"\"Perform an action and update the environment state.\"\"\"\n",
    "        taxi_row, taxi_col = self.taxi_pos\n",
    "        next_row, next_col = taxi_row, taxi_col\n",
    "        reward = 0\n",
    "        if action == 0 :  # Move Down\n",
    "            next_row += 1\n",
    "        elif action == 1:  # Move Up\n",
    "            next_row -= 1\n",
    "        elif action == 2:  # Move Right\n",
    "            next_col += 1\n",
    "        elif action == 3:  # Move Left\n",
    "            next_col -= 1\n",
    "\n",
    "\n",
    "        if action in [0, 1, 2, 3]:  # Only movement actions should be checked\n",
    "            if (next_row, next_col) in self.obstacles or not (0 <= next_row < self.grid_size and 0 <= next_col < self.grid_size):\n",
    "                reward -=10\n",
    "                #print('block')\n",
    "            else:\n",
    "                self.taxi_pos = (next_row, next_col)\n",
    "                if self.passenger_picked_up:\n",
    "                    self.passenger_loc = self.taxi_pos\n",
    "        else:\n",
    "            if action == 4:  # PICKUP\n",
    "                if self.taxi_pos == self.passenger_loc:\n",
    "                    self.passenger_picked_up = True\n",
    "                    self.passenger_loc = self.taxi_pos\n",
    "                else:\n",
    "                    reward = -10\n",
    "            elif action == 5:  # DROPOFF\n",
    "                if self.passenger_picked_up:\n",
    "                    self.passenger_picked_up = False\n",
    "                    self.passenger_loc = self.taxi_pos\n",
    "                    if self.taxi_pos == self.destination:\n",
    "                        reward += 50\n",
    "                        return self.get_state(), reward -0.1, True, {}\n",
    "                    else:\n",
    "                        reward -=10\n",
    "                else:\n",
    "                    reward -=10\n",
    "\n",
    "        reward -= 0.1\n",
    "\n",
    "        self.current_fuel -= 1\n",
    "        if self.current_fuel <= 0:\n",
    "            return self.get_state(), reward -10, True, {}\n",
    "\n",
    "\n",
    "\n",
    "        return self.get_state(), reward, False, {}\n",
    "\n",
    "    def get_state(self):\n",
    "        \"\"\"Return the current environment state.\"\"\"\n",
    "        taxi_row, taxi_col = self.taxi_pos\n",
    "        passenger_row, passenger_col = self.passenger_loc\n",
    "        destination_row, destination_col = self.destination\n",
    "\n",
    "        obstacle_north = int(taxi_row == 0 or (taxi_row-1, taxi_col) in self.obstacles)\n",
    "        obstacle_south = int(taxi_row == self.grid_size - 1 or (taxi_row+1, taxi_col) in self.obstacles)\n",
    "        obstacle_east  = int(taxi_col == self.grid_size - 1 or (taxi_row, taxi_col+1) in self.obstacles)\n",
    "        obstacle_west  = int(taxi_col == 0 or (taxi_row , taxi_col-1) in self.obstacles)\n",
    "\n",
    "        passenger_loc_north = int((taxi_row - 1, taxi_col) == self.passenger_loc)\n",
    "        passenger_loc_south = int((taxi_row + 1, taxi_col) == self.passenger_loc)\n",
    "        passenger_loc_east  = int((taxi_row, taxi_col + 1) == self.passenger_loc)\n",
    "        passenger_loc_west  = int((taxi_row, taxi_col - 1) == self.passenger_loc)\n",
    "        passenger_loc_middle  = int( (taxi_row, taxi_col) == self.passenger_loc)\n",
    "        passenger_look = passenger_loc_north or passenger_loc_south or passenger_loc_east or passenger_loc_west or passenger_loc_middle\n",
    "\n",
    "        destination_loc_north = int( (taxi_row - 1, taxi_col) == self.destination)\n",
    "        destination_loc_south = int( (taxi_row + 1, taxi_col) == self.destination)\n",
    "        destination_loc_east  = int( (taxi_row, taxi_col + 1) == self.destination)\n",
    "        destination_loc_west  = int( (taxi_row, taxi_col - 1) == self.destination)\n",
    "        destination_loc_middle  = int( (taxi_row, taxi_col) == self.destination)\n",
    "        destination_look = destination_loc_north or destination_loc_south or destination_loc_east or destination_loc_west or destination_loc_middle\n",
    "\n",
    "\n",
    "        state = (taxi_row, taxi_col, self.stations[0][0],self.stations[0][1] ,self.stations[1][0],self.stations[1][1],self.stations[2][0],self.stations[2][1],self.stations[3][0],self.stations[3][1],obstacle_north, obstacle_south, obstacle_east, obstacle_west, passenger_look, destination_look)\n",
    "        return state,self.passenger_picked_up,self.passenger_loc\n",
    "    def render_env(self, taxi_pos,   action=None, step=None, fuel=None):\n",
    "        clear_output(wait=True)\n",
    "\n",
    "        grid = [['.'] * self.grid_size for _ in range(self.grid_size)]\n",
    "\n",
    "        '''\n",
    "        # Place passenger\n",
    "        py, px = passenger_pos\n",
    "        if 0 <= px < self.grid_size and 0 <= py < self.grid_size:\n",
    "            grid[py][px] = 'P'\n",
    "        '''\n",
    "        stations_char =['R','G','B','Y']\n",
    "        for i in range(len(self.stations)):\n",
    "            sx,sy = self.stations[i]\n",
    "            grid[sy][sx] = stations_char[i]\n",
    "        for ox,oy in self.obstacles:\n",
    "            grid[oy][ox] = '#'\n",
    "\n",
    "        '''\n",
    "        # Place destination\n",
    "        dy, dx = destination_pos\n",
    "        if 0 <= dx < self.grid_size and 0 <= dy < self.grid_size:\n",
    "            grid[dy][dx] = 'D'\n",
    "        '''\n",
    "        # Place taxi\n",
    "        ty, tx = taxi_pos\n",
    "        if 0 <= tx < self.grid_size and 0 <= ty < self.grid_size:\n",
    "            grid[ty][tx] = '🚖'\n",
    "\n",
    "        # Print step info\n",
    "        print(f\"\\nStep: {step}\")\n",
    "        print(f\"Taxi Position: ({tx}, {ty})\")\n",
    "        #print(f\"Passenger Position: ({px}, {py}) {'(In Taxi)' if (px, py) == (tx, ty) else ''}\")\n",
    "        #print(f\"Destination: ({dx}, {dy})\")\n",
    "        print(f\"Fuel Left: {fuel}\")\n",
    "        print(f\"Last Action: {self.get_action_name(action)}\\n\")\n",
    "\n",
    "        # Print grid\n",
    "        for row in grid:\n",
    "            print(\" \".join(row))\n",
    "        print(\"\\n\")\n",
    "\n",
    "    def get_action_name(self, action):\n",
    "        \"\"\"Returns a human-readable action name.\"\"\"\n",
    "        actions = [\"Move South\", \"Move North\", \"Move East\", \"Move West\", \"Pick Up\", \"Drop Off\"]\n",
    "        return actions[action] if action is not None else \"None\""
   ]
  },
  {
   "cell_type": "markdown",
   "metadata": {
    "id": "henzhTux2qUO"
   },
   "source": [
    "## 狀態定義\n",
    "\n",
    "## 狀態定義\n",
    "\n",
    "- pos (相對 R/G/Y/B)的距離 (用 +-0)去代表，直到走到一位置確認是否 pickup/destination為止後 random 換位置。\n",
    "    - 只要相對位移>0一律用 +1表示, <0 用 -1\n",
    "- obstacles\n",
    "- passenger state\n",
    "    - 0 ⇒ not on car\n",
    "    - 1 ⇒ on car\n",
    "- candidates_p\n",
    "    - original : stations\n",
    "    - whenever one is not worked ⇒ removed it\n",
    "- mask_p= [1] * len(candidates_p) + [0] * (4-len(candidates_p))\n",
    "    - 0 代表 passenger_i 是不可能的位置\n",
    "    - 1 代表可能\n",
    "- candidates_goal\n",
    "    - original : stations\n",
    "    - whenever one is not goal ⇒ removed it\n",
    "- mask_goal= [1] * len(candidates_goal) + [0] * (4-len(candidates_goal))\n",
    "    - 0 代表 passenger_i 是不可能的位置\n",
    "    - 1 代表可能\n",
    "- pickup\n",
    "- goal_id : {0,1,2,3}\n",
    "    - 目標是 stations[goal_id]\n"
   ]
  },
  {
   "cell_type": "markdown",
   "metadata": {
    "id": "mKN9Ot4BpJZM"
   },
   "source": [
    "### 轉移\n",
    "\n",
    "- relative_pos = (0,0)\n",
    "    - if passenger_look\n",
    "        - candidate_p = [pos]\n",
    "        - success pickup\n",
    "            - success pickup ⇒ pickup_id=True\n",
    "            - candidates_p = [pos]\n",
    "            - goal = random choice (candidates_goal)\n",
    "    - else:\n",
    "        - candidate_p remove pos\n",
    "        - goal = random.choice(candidates_p)\n",
    "    - if goal_look\n",
    "        - candidate_g = [pos]\n",
    "    - else:\n",
    "        - candidate_g.remove(pos)\n",
    "        - goal = random choice (candidates_goal)\n",
    "- drop\n",
    "    - if pickup ⇒ candidates_p = [pos], goal_id = 0"
   ]
  },
  {
   "cell_type": "code",
   "execution_count": 68,
   "metadata": {
    "id": "vDSsEzx-2ndf"
   },
   "outputs": [],
   "source": [
    "from re import M\n",
    "from collections import defaultdict\n",
    "from tqdm import tqdm\n",
    "def tabular_q_learning(env,episodes=10000, alpha=0.1, gamma=0.999,\n",
    "                       epsilon_start=1.0, epsilon_end=0.1, decay_rate=0.999):\n",
    "\n",
    "    global stations, candidates_p,candidates_goal, pickup\n",
    "    stations = [[0,0] for _ in range(4)]\n",
    "    candidates_p = [i for i in stations]\n",
    "    candidates_goal = [i for i in stations]\n",
    "    pickup=False\n",
    "    action_size = 6\n",
    "    q_table = defaultdict(lambda :np.zeros(action_size))\n",
    "    pickup_id = 4\n",
    "    drop_id = 5\n",
    "    ifpickup=False\n",
    "    p_loc = (0,0)\n",
    "    def cmp(a,b):\n",
    "        return a!=b\n",
    "    def get_state_obs(obs,action):\n",
    "        global stations,pickup,candidates_p,candidates_goal\n",
    "        #print(candidates_p)\n",
    "        taxi_row, taxi_col, stations[0][0], stations[0][1] , stations[1][0], stations[1][1],stations[2][0],stations[2][1],stations[3][0],stations[3][1],obstacle_north, obstacle_south, obstacle_east, obstacle_west, passenger_look, destination_look = obs\n",
    "        agent_pos = (taxi_row,taxi_col)\n",
    "        if action==None:\n",
    "            # initialize\n",
    "            candidates_goal = [tuple(i) for i in stations]\n",
    "            candidates_p = [tuple(i) for i in stations]\n",
    "            pickup=False\n",
    "        if passenger_look:\n",
    "            #print('before p',candidates_p)\n",
    "            candidates_p = [ tuple(x) for x in candidates_p if abs(x[0]-agent_pos[0])+abs(x[1]-agent_pos[1]) <=1 ]\n",
    "            #print('after p',candidates_p)\n",
    "        else:\n",
    "            #print('before p',candidates_p)\n",
    "            candidates_p = [ tuple(x) for x in candidates_p if abs(x[0]-agent_pos[0])+abs(x[1]-agent_pos[1]) >1 ]\n",
    "            #print('after p',candidates_p)\n",
    "        if destination_look:\n",
    "            #print('before g',candidates_goal)\n",
    "            candidates_goal = [ tuple(x) for x in candidates_goal if abs(x[0]-agent_pos[0])+abs(x[1]-agent_pos[1]) <=1 ]\n",
    "            #print('after g',candidates_goal)\n",
    "        else:\n",
    "            #print('before g',candidates_goal)\n",
    "            candidates_goal = [ tuple(x) for x in candidates_goal if abs(x[0]-agent_pos[0])+abs(x[1]-agent_pos[1]) >1 ]\n",
    "            #print('after g',candidates_goal)\n",
    "        if action==pickup_id and not pickup and agent_pos in candidates_p:\n",
    "            pickup = True\n",
    "            candidates_p = []\n",
    "        elif action == drop_id and pickup:\n",
    "            pickup=False\n",
    "            candidates_p = [agent_pos]\n",
    "        cmp_pos = (0,0)\n",
    "        if not pickup:\n",
    "            cmp_pos = candidates_p[0]\n",
    "        else:\n",
    "            cmp_pos = candidates_goal[0]\n",
    "        passenger_look = passenger_look and agent_pos in candidates_p\n",
    "        destination_look = destination_look and agent_pos in candidates_goal\n",
    "        #relative_pos = (cmp(agent_pos[0],cmp_pos[0]),cmp(agent_pos[1],cmp_pos[1]))\n",
    "        return (pickup, len(candidates_p), len(candidates_goal), passenger_look, destination_look, (obstacle_north,obstacle_south,obstacle_east,obstacle_west))\n",
    "    \"\"\"\n",
    "    if action == 0 :  # Move Down\n",
    "        next_row += 1\n",
    "    elif action == 1:  # Move Up\n",
    "        next_row -= 1\n",
    "    elif action == 2:  # Move Right\n",
    "        next_col += 1\n",
    "    elif action == 3:  # Move Left\n",
    "        next_col -= 1\n",
    "    \"\"\"\n",
    "    station_size = 4\n",
    "    total_reward = 0\n",
    "    total_reward_shaped = 0\n",
    "    cnt = [0,0,0,0]\n",
    "    epsilon = epsilon_start\n",
    "    averaged = [0,0]\n",
    "    batch_size = 100\n",
    "    for epoch in tqdm(range(episodes+100)):\n",
    "        if epoch >=episodes:\n",
    "            epsilon = 0\n",
    "        grid_size = np.random.randint(5,11)\n",
    "        obstacle_size = np.random.randint(grid_size*grid_size)\n",
    "        obs,_ = env.reset()\n",
    "        averaged[0]+=env.grid_size\n",
    "        averaged[1]+=len(env.obstacles)\n",
    "        obs,ifpickup,p_loc = obs\n",
    "        done = False\n",
    "        state = get_state_obs(obs,action=None)\n",
    "        steps=0\n",
    "        action_l=[]\n",
    "        success = False\n",
    "        has_pickup=False\n",
    "        while not done:\n",
    "            \"\"\"if state[-1]!=(0,0,0,0):\n",
    "              print(state[-1])\"\"\"\n",
    "            if np.random.choice(2,p=[epsilon,1-epsilon])==0 or state not in q_table.keys():\n",
    "                action = np.random.randint(6)\n",
    "            else:\n",
    "                action = np.argmax(q_table[state])\n",
    "            lst_pickup = pickup\n",
    "            obs,reward,done,_ = env.step(action)\n",
    "            obs,ifpickup,p_loc = obs\n",
    "            next_state = get_state_obs(obs,action)\n",
    "            total_reward += reward\n",
    "            if done and reward>0:\n",
    "                cnt[2]+=1\n",
    "            reward_shaping = 0\n",
    "            pickup, p_len, goal_len, _,_ , _ = next_state\n",
    "            if not done and reward <-10 and action in [0,1,2,3]:\n",
    "                #print('hit wall')\n",
    "                cnt[-1]+=1\n",
    "            if not pickup:\n",
    "                reward_shaping -= 0.01 * (p_len**2)\n",
    "            reward_shaping -= 0.001 * (goal_len**2)\n",
    "            reward += reward_shaping\n",
    "            total_reward_shaped += reward\n",
    "            if epsilon:\n",
    "                q_table[state][action] = q_table[state][action] + alpha*(reward+gamma*np.max(q_table[next_state])-q_table[state][action])\n",
    "            state = next_state\n",
    "            if lst_pickup==False and pickup:\n",
    "                cnt[0]+=1\n",
    "            elif lst_pickup==True and pickup==False:\n",
    "                cnt[1]+=1\n",
    "            if pickup!=ifpickup:\n",
    "                print(pickup,ifpickup)\n",
    "            assert(pickup==ifpickup)\n",
    "\n",
    "\n",
    "        if (epoch+1)%batch_size==0:\n",
    "            cnt = [i/batch_size for i in cnt]\n",
    "            print(f'Epsilon : {epsilon}, average reward : {total_reward/batch_size:.4f}, averaged shaped reward : {total_reward_shaped/batch_size:.4f} Pickup, Drop, Success, Hit wall rate : {cnt}')\n",
    "            print(f'averaged grid size : {averaged[0]/batch_size:.2f}, averaged obstacles : {averaged[1]/batch_size:.2f}')\n",
    "            averaged = [0,0]\n",
    "            cnt = [0,0,0,0]\n",
    "            total_reward = 0\n",
    "            total_reward_shaped = 0\n",
    "        epsilon *= decay_rate #max(epsilon*decay_rate ,epsilon_end)\n",
    "    return q_table\n",
    "\n"
   ]
  },
  {
   "cell_type": "code",
   "execution_count": 69,
   "metadata": {
    "colab": {
     "base_uri": "https://localhost:8080/"
    },
    "id": "8oxVEy1uSuNb",
    "outputId": "137a8cf5-0a6b-4e72-9b7c-f5a5c8dddc9b"
   },
   "outputs": [
    {
     "name": "stderr",
     "output_type": "stream",
     "text": [
      "  1%|          | 102/10100 [00:06<09:37, 17.33it/s]"
     ]
    },
    {
     "name": "stdout",
     "output_type": "stream",
     "text": [
      "Epsilon : 0.9056978449586682, average reward : -19038.5110, averaged shaped reward : -19089.7862 Pickup, Drop, Success, Hit wall rate : [27.86, 27.82, 0.53, 847.66]\n",
      "averaged grid size : 7.27, averaged obstacles : 23.06\n"
     ]
    },
    {
     "name": "stderr",
     "output_type": "stream",
     "text": [
      "  2%|▏         | 206/10100 [00:12<07:34, 21.77it/s]"
     ]
    },
    {
     "name": "stdout",
     "output_type": "stream",
     "text": [
      "Epsilon : 0.8194682977764125, average reward : -13064.1860, averaged shaped reward : -13104.7559 Pickup, Drop, Success, Hit wall rate : [33.38, 33.34, 0.68, 581.88]\n",
      "averaged grid size : 7.50, averaged obstacles : 25.52\n"
     ]
    },
    {
     "name": "stderr",
     "output_type": "stream",
     "text": [
      "  3%|▎         | 300/10100 [00:18<10:54, 14.97it/s]"
     ]
    },
    {
     "name": "stdout",
     "output_type": "stream",
     "text": [
      "Epsilon : 0.7414484806367364, average reward : -11864.7520, averaged shaped reward : -11902.6936 Pickup, Drop, Success, Hit wall rate : [40.29, 40.24, 0.66, 534.32]\n",
      "averaged grid size : 7.53, averaged obstacles : 25.41\n"
     ]
    },
    {
     "name": "stderr",
     "output_type": "stream",
     "text": [
      "  4%|▍         | 403/10100 [00:25<11:43, 13.78it/s]"
     ]
    },
    {
     "name": "stdout",
     "output_type": "stream",
     "text": [
      "Epsilon : 0.6708567627695098, average reward : -10317.7300, averaged shaped reward : -10357.8278 Pickup, Drop, Success, Hit wall rate : [38.06, 38.04, 0.7, 465.1]\n",
      "averaged grid size : 7.74, averaged obstacles : 28.93\n"
     ]
    },
    {
     "name": "stderr",
     "output_type": "stream",
     "text": [
      "  5%|▌         | 506/10100 [00:31<09:28, 16.88it/s]"
     ]
    },
    {
     "name": "stdout",
     "output_type": "stream",
     "text": [
      "Epsilon : 0.6069859307919768, average reward : -10081.0050, averaged shaped reward : -10121.1044 Pickup, Drop, Success, Hit wall rate : [46.32, 46.29, 0.68, 466.37]\n",
      "averaged grid size : 7.96, averaged obstacles : 31.07\n"
     ]
    },
    {
     "name": "stderr",
     "output_type": "stream",
     "text": [
      "  6%|▌         | 601/10100 [00:37<10:44, 14.73it/s]"
     ]
    },
    {
     "name": "stdout",
     "output_type": "stream",
     "text": [
      "Epsilon : 0.5491961035890855, average reward : -8088.8340, averaged shaped reward : -8138.0905 Pickup, Drop, Success, Hit wall rate : [37.63, 37.59, 0.72, 363.56]\n",
      "averaged grid size : 7.49, averaged obstacles : 27.41\n"
     ]
    },
    {
     "name": "stderr",
     "output_type": "stream",
     "text": [
      "  7%|▋         | 701/10100 [00:43<12:35, 12.45it/s]"
     ]
    },
    {
     "name": "stdout",
     "output_type": "stream",
     "text": [
      "Epsilon : 0.49690832175285177, average reward : -7159.0790, averaged shaped reward : -7200.2028 Pickup, Drop, Success, Hit wall rate : [38.08, 38.01, 0.74, 336.38]\n",
      "averaged grid size : 7.47, averaged obstacles : 28.87\n"
     ]
    },
    {
     "name": "stderr",
     "output_type": "stream",
     "text": [
      "  8%|▊         | 803/10100 [00:49<05:54, 26.25it/s]"
     ]
    },
    {
     "name": "stdout",
     "output_type": "stream",
     "text": [
      "Epsilon : 0.44959874735743227, average reward : -6979.6710, averaged shaped reward : -7028.3609 Pickup, Drop, Success, Hit wall rate : [40.14, 40.06, 0.77, 328.42]\n",
      "averaged grid size : 7.39, averaged obstacles : 27.16\n"
     ]
    },
    {
     "name": "stderr",
     "output_type": "stream",
     "text": [
      "  9%|▉         | 902/10100 [00:56<07:49, 19.59it/s]"
     ]
    },
    {
     "name": "stdout",
     "output_type": "stream",
     "text": [
      "Epsilon : 0.4067934159611651, average reward : -6907.2410, averaged shaped reward : -6962.9702 Pickup, Drop, Success, Hit wall rate : [30.54, 30.49, 0.75, 315.66]\n",
      "averaged grid size : 7.73, averaged obstacles : 29.39\n"
     ]
    },
    {
     "name": "stderr",
     "output_type": "stream",
     "text": [
      " 10%|▉         | 1003/10100 [01:02<08:08, 18.61it/s]"
     ]
    },
    {
     "name": "stdout",
     "output_type": "stream",
     "text": [
      "Epsilon : 0.36806348825922275, average reward : -5201.6410, averaged shaped reward : -5243.9113 Pickup, Drop, Success, Hit wall rate : [25.29, 25.22, 0.77, 231.4]\n",
      "averaged grid size : 7.49, averaged obstacles : 26.39\n"
     ]
    },
    {
     "name": "stderr",
     "output_type": "stream",
     "text": [
      " 11%|█         | 1102/10100 [01:08<10:04, 14.88it/s]"
     ]
    },
    {
     "name": "stdout",
     "output_type": "stream",
     "text": [
      "Epsilon : 0.3330209538162239, average reward : -4701.3100, averaged shaped reward : -4759.5847 Pickup, Drop, Success, Hit wall rate : [30.08, 30.03, 0.79, 215.76]\n",
      "averaged grid size : 7.54, averaged obstacles : 29.14\n"
     ]
    },
    {
     "name": "stderr",
     "output_type": "stream",
     "text": [
      " 12%|█▏        | 1202/10100 [01:14<09:55, 14.94it/s]"
     ]
    },
    {
     "name": "stdout",
     "output_type": "stream",
     "text": [
      "Epsilon : 0.3013147438372364, average reward : -4029.5530, averaged shaped reward : -4073.3511 Pickup, Drop, Success, Hit wall rate : [29.37, 29.31, 0.77, 180.77]\n",
      "averaged grid size : 7.49, averaged obstacles : 26.23\n"
     ]
    },
    {
     "name": "stderr",
     "output_type": "stream",
     "text": [
      " 13%|█▎        | 1300/10100 [01:20<07:20, 19.96it/s]"
     ]
    },
    {
     "name": "stdout",
     "output_type": "stream",
     "text": [
      "Epsilon : 0.2726272140335106, average reward : -3743.0390, averaged shaped reward : -3794.6812 Pickup, Drop, Success, Hit wall rate : [29.76, 29.69, 0.75, 168.48]\n",
      "averaged grid size : 7.90, averaged obstacles : 28.91\n"
     ]
    },
    {
     "name": "stderr",
     "output_type": "stream",
     "text": [
      " 14%|█▍        | 1403/10100 [01:26<07:44, 18.72it/s]"
     ]
    },
    {
     "name": "stdout",
     "output_type": "stream",
     "text": [
      "Epsilon : 0.24667096234700878, average reward : -4181.7280, averaged shaped reward : -4260.6471 Pickup, Drop, Success, Hit wall rate : [31.28, 31.19, 0.71, 193.26]\n",
      "averaged grid size : 7.43, averaged obstacles : 26.39\n"
     ]
    },
    {
     "name": "stderr",
     "output_type": "stream",
     "text": [
      " 15%|█▍        | 1502/10100 [01:33<06:08, 23.33it/s]"
     ]
    },
    {
     "name": "stdout",
     "output_type": "stream",
     "text": [
      "Epsilon : 0.22318594965255484, average reward : -4038.1250, averaged shaped reward : -4118.5718 Pickup, Drop, Success, Hit wall rate : [24.27, 24.17, 0.65, 176.04]\n",
      "averaged grid size : 7.96, averaged obstacles : 30.18\n"
     ]
    },
    {
     "name": "stderr",
     "output_type": "stream",
     "text": [
      " 16%|█▌        | 1601/10100 [01:39<07:41, 18.43it/s]"
     ]
    },
    {
     "name": "stdout",
     "output_type": "stream",
     "text": [
      "Epsilon : 0.2019368945917472, average reward : -3166.5380, averaged shaped reward : -3232.4261 Pickup, Drop, Success, Hit wall rate : [30.78, 30.67, 0.69, 150.67]\n",
      "averaged grid size : 7.32, averaged obstacles : 28.14\n"
     ]
    },
    {
     "name": "stderr",
     "output_type": "stream",
     "text": [
      " 17%|█▋        | 1705/10100 [01:45<06:12, 22.55it/s]"
     ]
    },
    {
     "name": "stdout",
     "output_type": "stream",
     "text": [
      "Epsilon : 0.1827109164391416, average reward : -3094.8950, averaged shaped reward : -3179.3033 Pickup, Drop, Success, Hit wall rate : [24.61, 24.54, 0.68, 136.65]\n",
      "averaged grid size : 7.59, averaged obstacles : 26.23\n"
     ]
    },
    {
     "name": "stderr",
     "output_type": "stream",
     "text": [
      " 18%|█▊        | 1802/10100 [01:51<09:14, 14.97it/s]"
     ]
    },
    {
     "name": "stdout",
     "output_type": "stream",
     "text": [
      "Epsilon : 0.1653154023860845, average reward : -3081.7750, averaged shaped reward : -3160.6485 Pickup, Drop, Success, Hit wall rate : [25.17, 25.08, 0.62, 135.68]\n",
      "averaged grid size : 7.65, averaged obstacles : 26.79\n"
     ]
    },
    {
     "name": "stderr",
     "output_type": "stream",
     "text": [
      " 19%|█▉        | 1903/10100 [01:59<11:02, 12.37it/s]"
     ]
    },
    {
     "name": "stdout",
     "output_type": "stream",
     "text": [
      "Epsilon : 0.14957607787587202, average reward : -2808.1220, averaged shaped reward : -2894.6717 Pickup, Drop, Success, Hit wall rate : [24.45, 24.32, 0.62, 120.48]\n",
      "averaged grid size : 7.72, averaged obstacles : 27.64\n"
     ]
    },
    {
     "name": "stderr",
     "output_type": "stream",
     "text": [
      " 20%|█▉        | 2001/10100 [02:06<09:24, 14.36it/s]"
     ]
    },
    {
     "name": "stdout",
     "output_type": "stream",
     "text": [
      "Epsilon : 0.13533526065815754, average reward : -2972.5940, averaged shaped reward : -3052.7351 Pickup, Drop, Success, Hit wall rate : [26.97, 26.8, 0.54, 132.14]\n",
      "averaged grid size : 7.49, averaged obstacles : 27.23\n"
     ]
    },
    {
     "name": "stderr",
     "output_type": "stream",
     "text": [
      " 21%|██        | 2103/10100 [02:13<11:04, 12.03it/s]"
     ]
    },
    {
     "name": "stdout",
     "output_type": "stream",
     "text": [
      "Epsilon : 0.12245028107108785, average reward : -2357.8890, averaged shaped reward : -2455.1802 Pickup, Drop, Success, Hit wall rate : [17.22, 17.08, 0.55, 96.76]\n",
      "averaged grid size : 7.54, averaged obstacles : 25.70\n"
     ]
    },
    {
     "name": "stderr",
     "output_type": "stream",
     "text": [
      " 22%|██▏       | 2204/10100 [02:19<08:42, 15.11it/s]"
     ]
    },
    {
     "name": "stdout",
     "output_type": "stream",
     "text": [
      "Epsilon : 0.11079205272498677, average reward : -2300.2490, averaged shaped reward : -2404.1728 Pickup, Drop, Success, Hit wall rate : [15.66, 15.56, 0.63, 98.38]\n",
      "averaged grid size : 7.56, averaged obstacles : 27.64\n"
     ]
    },
    {
     "name": "stderr",
     "output_type": "stream",
     "text": [
      " 23%|██▎       | 2302/10100 [02:25<08:10, 15.91it/s]"
     ]
    },
    {
     "name": "stdout",
     "output_type": "stream",
     "text": [
      "Epsilon : 0.100243779268176, average reward : -2192.8180, averaged shaped reward : -2272.0066 Pickup, Drop, Success, Hit wall rate : [18.83, 18.6, 0.49, 90.71]\n",
      "averaged grid size : 7.09, averaged obstacles : 19.52\n"
     ]
    },
    {
     "name": "stderr",
     "output_type": "stream",
     "text": [
      " 24%|██▍       | 2401/10100 [02:32<08:50, 14.52it/s]"
     ]
    },
    {
     "name": "stdout",
     "output_type": "stream",
     "text": [
      "Epsilon : 0.0906997842788457, average reward : -2097.1360, averaged shaped reward : -2211.2682 Pickup, Drop, Success, Hit wall rate : [13.46, 13.36, 0.53, 86.34]\n",
      "averaged grid size : 7.57, averaged obstacles : 28.29\n"
     ]
    },
    {
     "name": "stderr",
     "output_type": "stream",
     "text": [
      " 25%|██▍       | 2504/10100 [02:39<07:04, 17.90it/s]"
     ]
    },
    {
     "name": "stdout",
     "output_type": "stream",
     "text": [
      "Epsilon : 0.08206445256040702, average reward : -1763.4990, averaged shaped reward : -1863.4125 Pickup, Drop, Success, Hit wall rate : [14.91, 14.79, 0.56, 69.74]\n",
      "averaged grid size : 7.44, averaged obstacles : 25.70\n"
     ]
    },
    {
     "name": "stderr",
     "output_type": "stream",
     "text": [
      " 26%|██▌       | 2601/10100 [02:47<08:10, 15.29it/s]"
     ]
    },
    {
     "name": "stdout",
     "output_type": "stream",
     "text": [
      "Epsilon : 0.07425127223384173, average reward : -1818.4640, averaged shaped reward : -1940.1385 Pickup, Drop, Success, Hit wall rate : [13.31, 13.11, 0.52, 70.89]\n",
      "averaged grid size : 7.58, averaged obstacles : 25.96\n"
     ]
    },
    {
     "name": "stderr",
     "output_type": "stream",
     "text": [
      " 27%|██▋       | 2704/10100 [02:54<10:19, 11.95it/s]"
     ]
    },
    {
     "name": "stdout",
     "output_type": "stream",
     "text": [
      "Epsilon : 0.06718196803038223, average reward : -1764.9790, averaged shaped reward : -1875.0583 Pickup, Drop, Success, Hit wall rate : [12.76, 12.65, 0.51, 71.37]\n",
      "averaged grid size : 7.50, averaged obstacles : 27.94\n"
     ]
    },
    {
     "name": "stderr",
     "output_type": "stream",
     "text": [
      " 28%|██▊       | 2804/10100 [03:02<08:50, 13.76it/s]"
     ]
    },
    {
     "name": "stdout",
     "output_type": "stream",
     "text": [
      "Epsilon : 0.06078571710153414, average reward : -1662.9710, averaged shaped reward : -1778.6024 Pickup, Drop, Success, Hit wall rate : [12.65, 12.42, 0.48, 64.52]\n",
      "averaged grid size : 7.68, averaged obstacles : 27.06\n"
     ]
    },
    {
     "name": "stderr",
     "output_type": "stream",
     "text": [
      " 29%|██▊       | 2901/10100 [03:09<08:06, 14.81it/s]"
     ]
    },
    {
     "name": "stdout",
     "output_type": "stream",
     "text": [
      "Epsilon : 0.054998439490143596, average reward : -1524.4370, averaged shaped reward : -1622.9235 Pickup, Drop, Success, Hit wall rate : [12.32, 12.09, 0.46, 58.7]\n",
      "averaged grid size : 7.39, averaged obstacles : 25.86\n"
     ]
    },
    {
     "name": "stderr",
     "output_type": "stream",
     "text": [
      " 30%|██▉       | 3004/10100 [03:18<08:17, 14.26it/s]"
     ]
    },
    {
     "name": "stdout",
     "output_type": "stream",
     "text": [
      "Epsilon : 0.04976215615419044, average reward : -1473.7860, averaged shaped reward : -1600.2319 Pickup, Drop, Success, Hit wall rate : [10.59, 10.35, 0.41, 53.21]\n",
      "averaged grid size : 7.77, averaged obstacles : 27.86\n"
     ]
    },
    {
     "name": "stderr",
     "output_type": "stream",
     "text": [
      " 31%|███       | 3103/10100 [03:25<09:19, 12.50it/s]"
     ]
    },
    {
     "name": "stdout",
     "output_type": "stream",
     "text": [
      "Epsilon : 0.045024408111757654, average reward : -1453.6020, averaged shaped reward : -1589.2658 Pickup, Drop, Success, Hit wall rate : [12.3, 12.05, 0.41, 55.66]\n",
      "averaged grid size : 7.49, averaged obstacles : 25.52\n"
     ]
    },
    {
     "name": "stderr",
     "output_type": "stream",
     "text": [
      " 32%|███▏      | 3205/10100 [03:33<09:07, 12.59it/s]"
     ]
    },
    {
     "name": "stdout",
     "output_type": "stream",
     "text": [
      "Epsilon : 0.04073773088796111, average reward : -1273.2990, averaged shaped reward : -1415.4558 Pickup, Drop, Success, Hit wall rate : [8.68, 8.4, 0.39, 45.36]\n",
      "averaged grid size : 7.59, averaged obstacles : 26.43\n"
     ]
    },
    {
     "name": "stderr",
     "output_type": "stream",
     "text": [
      " 33%|███▎      | 3301/10100 [03:40<08:09, 13.88it/s]"
     ]
    },
    {
     "name": "stdout",
     "output_type": "stream",
     "text": [
      "Epsilon : 0.03685917899865878, average reward : -1321.4360, averaged shaped reward : -1483.9466 Pickup, Drop, Success, Hit wall rate : [6.81, 6.6, 0.31, 44.69]\n",
      "averaged grid size : 7.49, averaged obstacles : 24.49\n"
     ]
    },
    {
     "name": "stderr",
     "output_type": "stream",
     "text": [
      " 34%|███▎      | 3403/10100 [03:48<08:14, 13.54it/s]"
     ]
    },
    {
     "name": "stdout",
     "output_type": "stream",
     "text": [
      "Epsilon : 0.033349895707044996, average reward : -1195.9900, averaged shaped reward : -1363.2797 Pickup, Drop, Success, Hit wall rate : [5.99, 5.76, 0.38, 39.86]\n",
      "averaged grid size : 7.51, averaged obstacles : 25.76\n"
     ]
    },
    {
     "name": "stderr",
     "output_type": "stream",
     "text": [
      " 35%|███▍      | 3502/10100 [03:56<08:27, 13.00it/s]"
     ]
    },
    {
     "name": "stdout",
     "output_type": "stream",
     "text": [
      "Epsilon : 0.03017472374279552, average reward : -1194.3390, averaged shaped reward : -1330.0840 Pickup, Drop, Success, Hit wall rate : [6.71, 6.5, 0.32, 39.03]\n",
      "averaged grid size : 7.62, averaged obstacles : 26.97\n"
     ]
    },
    {
     "name": "stderr",
     "output_type": "stream",
     "text": [
      " 36%|███▌      | 3602/10100 [04:05<08:13, 13.17it/s]"
     ]
    },
    {
     "name": "stdout",
     "output_type": "stream",
     "text": [
      "Epsilon : 0.027301853083806962, average reward : -1145.2790, averaged shaped reward : -1347.3529 Pickup, Drop, Success, Hit wall rate : [5.91, 5.72, 0.33, 36.65]\n",
      "averaged grid size : 7.80, averaged obstacles : 28.50\n"
     ]
    },
    {
     "name": "stderr",
     "output_type": "stream",
     "text": [
      " 37%|███▋      | 3700/10100 [04:13<11:03,  9.64it/s]"
     ]
    },
    {
     "name": "stdout",
     "output_type": "stream",
     "text": [
      "Epsilon : 0.024702502271880755, average reward : -1086.6160, averaged shaped reward : -1250.1063 Pickup, Drop, Success, Hit wall rate : [6.6, 6.28, 0.25, 33.24]\n",
      "averaged grid size : 7.45, averaged obstacles : 26.06\n"
     ]
    },
    {
     "name": "stderr",
     "output_type": "stream",
     "text": [
      " 38%|███▊      | 3800/10100 [04:21<08:10, 12.85it/s]"
     ]
    },
    {
     "name": "stdout",
     "output_type": "stream",
     "text": [
      "Epsilon : 0.022350630069656263, average reward : -982.0830, averaged shaped reward : -1132.1748 Pickup, Drop, Success, Hit wall rate : [4.95, 4.73, 0.31, 27.79]\n",
      "averaged grid size : 7.28, averaged obstacles : 25.46\n"
     ]
    },
    {
     "name": "stderr",
     "output_type": "stream",
     "text": [
      " 39%|███▊      | 3900/10100 [04:30<08:38, 11.95it/s]"
     ]
    },
    {
     "name": "stdout",
     "output_type": "stream",
     "text": [
      "Epsilon : 0.0202226745700685, average reward : -988.3860, averaged shaped reward : -1164.7703 Pickup, Drop, Success, Hit wall rate : [5.21, 4.95, 0.27, 28.74]\n",
      "averaged grid size : 7.56, averaged obstacles : 30.20\n"
     ]
    },
    {
     "name": "stderr",
     "output_type": "stream",
     "text": [
      " 40%|███▉      | 4004/10100 [04:39<08:24, 12.09it/s]"
     ]
    },
    {
     "name": "stdout",
     "output_type": "stream",
     "text": [
      "Epsilon : 0.01829731714463408, average reward : -1002.8250, averaged shaped reward : -1240.4427 Pickup, Drop, Success, Hit wall rate : [3.66, 3.45, 0.25, 28.1]\n",
      "averaged grid size : 7.84, averaged obstacles : 26.15\n"
     ]
    },
    {
     "name": "stderr",
     "output_type": "stream",
     "text": [
      " 41%|████      | 4103/10100 [04:47<10:00,  9.98it/s]"
     ]
    },
    {
     "name": "stdout",
     "output_type": "stream",
     "text": [
      "Epsilon : 0.016555268865713936, average reward : -875.7390, averaged shaped reward : -1060.1693 Pickup, Drop, Success, Hit wall rate : [3.86, 3.63, 0.29, 24.23]\n",
      "averaged grid size : 7.52, averaged obstacles : 28.08\n"
     ]
    },
    {
     "name": "stderr",
     "output_type": "stream",
     "text": [
      " 42%|████▏     | 4200/10100 [04:55<08:18, 11.84it/s]"
     ]
    },
    {
     "name": "stdout",
     "output_type": "stream",
     "text": [
      "Epsilon : 0.014979077263054056, average reward : -891.6310, averaged shaped reward : -1097.8136 Pickup, Drop, Success, Hit wall rate : [2.93, 2.78, 0.25, 22.45]\n",
      "averaged grid size : 7.42, averaged obstacles : 23.28\n"
     ]
    },
    {
     "name": "stderr",
     "output_type": "stream",
     "text": [
      " 43%|████▎     | 4303/10100 [05:04<08:03, 11.98it/s]"
     ]
    },
    {
     "name": "stdout",
     "output_type": "stream",
     "text": [
      "Epsilon : 0.013552951478620824, average reward : -849.1530, averaged shaped reward : -1063.4718 Pickup, Drop, Success, Hit wall rate : [3.2, 2.96, 0.25, 20.44]\n",
      "averaged grid size : 7.60, averaged obstacles : 28.98\n"
     ]
    },
    {
     "name": "stderr",
     "output_type": "stream",
     "text": [
      " 44%|████▎     | 4402/10100 [05:13<08:06, 11.71it/s]"
     ]
    },
    {
     "name": "stdout",
     "output_type": "stream",
     "text": [
      "Epsilon : 0.012262604068069257, average reward : -862.8780, averaged shaped reward : -1057.3221 Pickup, Drop, Success, Hit wall rate : [2.95, 2.75, 0.2, 20.41]\n",
      "averaged grid size : 7.32, averaged obstacles : 26.15\n"
     ]
    },
    {
     "name": "stderr",
     "output_type": "stream",
     "text": [
      " 45%|████▍     | 4503/10100 [05:21<07:31, 12.40it/s]"
     ]
    },
    {
     "name": "stdout",
     "output_type": "stream",
     "text": [
      "Epsilon : 0.011095107863953686, average reward : -797.7900, averaged shaped reward : -1012.4320 Pickup, Drop, Success, Hit wall rate : [2.48, 2.28, 0.21, 16.75]\n",
      "averaged grid size : 7.26, averaged obstacles : 26.43\n"
     ]
    },
    {
     "name": "stderr",
     "output_type": "stream",
     "text": [
      " 46%|████▌     | 4601/10100 [05:29<06:46, 13.53it/s]"
     ]
    },
    {
     "name": "stdout",
     "output_type": "stream",
     "text": [
      "Epsilon : 0.010038766466684862, average reward : -778.2820, averaged shaped reward : -1020.5502 Pickup, Drop, Success, Hit wall rate : [2.31, 2.15, 0.27, 17.25]\n",
      "averaged grid size : 7.20, averaged obstacles : 22.24\n"
     ]
    },
    {
     "name": "stderr",
     "output_type": "stream",
     "text": [
      " 47%|████▋     | 4703/10100 [05:38<07:18, 12.32it/s]"
     ]
    },
    {
     "name": "stdout",
     "output_type": "stream",
     "text": [
      "Epsilon : 0.0090829970657649, average reward : -770.7660, averaged shaped reward : -1039.7982 Pickup, Drop, Success, Hit wall rate : [1.83, 1.68, 0.22, 15.91]\n",
      "averaged grid size : 7.52, averaged obstacles : 26.10\n"
     ]
    },
    {
     "name": "stderr",
     "output_type": "stream",
     "text": [
      " 48%|████▊     | 4806/10100 [05:46<05:54, 14.95it/s]"
     ]
    },
    {
     "name": "stdout",
     "output_type": "stream",
     "text": [
      "Epsilon : 0.008218224417360939, average reward : -732.4870, averaged shaped reward : -978.9511 Pickup, Drop, Success, Hit wall rate : [2.09, 1.93, 0.21, 14.23]\n",
      "averaged grid size : 7.40, averaged obstacles : 24.99\n"
     ]
    },
    {
     "name": "stderr",
     "output_type": "stream",
     "text": [
      " 49%|████▊     | 4900/10100 [05:55<07:35, 11.41it/s]"
     ]
    },
    {
     "name": "stdout",
     "output_type": "stream",
     "text": [
      "Epsilon : 0.0074357849160463126, average reward : -709.2400, averaged shaped reward : -957.3292 Pickup, Drop, Success, Hit wall rate : [2.37, 2.19, 0.2, 12.54]\n",
      "averaged grid size : 7.75, averaged obstacles : 26.88\n"
     ]
    },
    {
     "name": "stderr",
     "output_type": "stream",
     "text": [
      " 50%|████▉     | 5001/10100 [06:03<06:10, 13.75it/s]"
     ]
    },
    {
     "name": "stdout",
     "output_type": "stream",
     "text": [
      "Epsilon : 0.006727839799665273, average reward : -683.7920, averaged shaped reward : -939.4051 Pickup, Drop, Success, Hit wall rate : [2.02, 1.83, 0.22, 13.01]\n",
      "averaged grid size : 7.39, averaged obstacles : 27.35\n"
     ]
    },
    {
     "name": "stderr",
     "output_type": "stream",
     "text": [
      " 51%|█████     | 5103/10100 [06:12<07:11, 11.57it/s]"
     ]
    },
    {
     "name": "stdout",
     "output_type": "stream",
     "text": [
      "Epsilon : 0.006087296617776207, average reward : -706.3470, averaged shaped reward : -991.4506 Pickup, Drop, Success, Hit wall rate : [1.33, 1.11, 0.1, 10.96]\n",
      "averaged grid size : 7.58, averaged obstacles : 27.06\n"
     ]
    },
    {
     "name": "stderr",
     "output_type": "stream",
     "text": [
      " 51%|█████▏    | 5201/10100 [06:21<06:35, 12.38it/s]"
     ]
    },
    {
     "name": "stdout",
     "output_type": "stream",
     "text": [
      "Epsilon : 0.005507738176915755, average reward : -687.0290, averaged shaped reward : -945.0479 Pickup, Drop, Success, Hit wall rate : [1.69, 1.53, 0.15, 11.49]\n",
      "averaged grid size : 7.42, averaged obstacles : 26.70\n"
     ]
    },
    {
     "name": "stderr",
     "output_type": "stream",
     "text": [
      " 52%|█████▏    | 5301/10100 [06:30<08:53,  9.00it/s]"
     ]
    },
    {
     "name": "stdout",
     "output_type": "stream",
     "text": [
      "Epsilon : 0.00498335825083175, average reward : -645.7160, averaged shaped reward : -933.5708 Pickup, Drop, Success, Hit wall rate : [1.35, 1.2, 0.15, 9.09]\n",
      "averaged grid size : 7.60, averaged obstacles : 25.73\n"
     ]
    },
    {
     "name": "stderr",
     "output_type": "stream",
     "text": [
      " 53%|█████▎    | 5401/10100 [06:38<07:52,  9.95it/s]"
     ]
    },
    {
     "name": "stdout",
     "output_type": "stream",
     "text": [
      "Epsilon : 0.004508903411606875, average reward : -647.1020, averaged shaped reward : -914.3469 Pickup, Drop, Success, Hit wall rate : [1.76, 1.55, 0.15, 8.89]\n",
      "averaged grid size : 7.27, averaged obstacles : 23.33\n"
     ]
    },
    {
     "name": "stderr",
     "output_type": "stream",
     "text": [
      " 54%|█████▍    | 5500/10100 [06:48<06:54, 11.09it/s]"
     ]
    },
    {
     "name": "stdout",
     "output_type": "stream",
     "text": [
      "Epsilon : 0.004079620398916109, average reward : -685.5840, averaged shaped reward : -1047.4621 Pickup, Drop, Success, Hit wall rate : [1.25, 1.09, 0.12, 10.57]\n",
      "averaged grid size : 7.93, averaged obstacles : 29.25\n"
     ]
    },
    {
     "name": "stderr",
     "output_type": "stream",
     "text": [
      " 55%|█████▌    | 5601/10100 [06:57<06:43, 11.16it/s]"
     ]
    },
    {
     "name": "stdout",
     "output_type": "stream",
     "text": [
      "Epsilon : 0.0036912085001441935, average reward : -650.2310, averaged shaped reward : -954.5482 Pickup, Drop, Success, Hit wall rate : [1.53, 1.31, 0.11, 9.12]\n",
      "averaged grid size : 7.51, averaged obstacles : 26.92\n"
     ]
    },
    {
     "name": "stderr",
     "output_type": "stream",
     "text": [
      " 56%|█████▋    | 5703/10100 [07:06<06:11, 11.82it/s]"
     ]
    },
    {
     "name": "stdout",
     "output_type": "stream",
     "text": [
      "Epsilon : 0.003339776464289837, average reward : -643.7530, averaged shaped reward : -898.1312 Pickup, Drop, Success, Hit wall rate : [2.33, 2.11, 0.11, 8.8]\n",
      "averaged grid size : 7.64, averaged obstacles : 29.50\n"
     ]
    },
    {
     "name": "stderr",
     "output_type": "stream",
     "text": [
      " 57%|█████▋    | 5800/10100 [07:15<05:18, 13.50it/s]"
     ]
    },
    {
     "name": "stdout",
     "output_type": "stream",
     "text": [
      "Epsilon : 0.0030218035180046353, average reward : -629.2510, averaged shaped reward : -961.3021 Pickup, Drop, Success, Hit wall rate : [1.34, 1.22, 0.11, 7.61]\n",
      "averaged grid size : 7.60, averaged obstacles : 26.60\n"
     ]
    },
    {
     "name": "stderr",
     "output_type": "stream",
     "text": [
      " 58%|█████▊    | 5901/10100 [07:24<05:42, 12.25it/s]"
     ]
    },
    {
     "name": "stdout",
     "output_type": "stream",
     "text": [
      "Epsilon : 0.0027341040932111742, average reward : -611.3320, averaged shaped reward : -893.0931 Pickup, Drop, Success, Hit wall rate : [1.2, 1.0, 0.12, 6.78]\n",
      "averaged grid size : 7.37, averaged obstacles : 25.36\n"
     ]
    },
    {
     "name": "stderr",
     "output_type": "stream",
     "text": [
      " 59%|█████▉    | 6003/10100 [07:34<06:30, 10.50it/s]"
     ]
    },
    {
     "name": "stdout",
     "output_type": "stream",
     "text": [
      "Epsilon : 0.002473795912928919, average reward : -604.4860, averaged shaped reward : -964.3965 Pickup, Drop, Success, Hit wall rate : [0.79, 0.64, 0.11, 6.51]\n",
      "averaged grid size : 7.57, averaged obstacles : 27.35\n"
     ]
    },
    {
     "name": "stderr",
     "output_type": "stream",
     "text": [
      " 60%|██████    | 6103/10100 [07:43<05:40, 11.74it/s]"
     ]
    },
    {
     "name": "stdout",
     "output_type": "stream",
     "text": [
      "Epsilon : 0.002238271115580074, average reward : -603.6580, averaged shaped reward : -922.9055 Pickup, Drop, Success, Hit wall rate : [1.41, 1.22, 0.1, 6.79]\n",
      "averaged grid size : 7.68, averaged obstacles : 29.15\n"
     ]
    },
    {
     "name": "stderr",
     "output_type": "stream",
     "text": [
      " 61%|██████▏   | 6203/10100 [07:53<06:00, 10.82it/s]"
     ]
    },
    {
     "name": "stdout",
     "output_type": "stream",
     "text": [
      "Epsilon : 0.0020251701284882914, average reward : -619.9520, averaged shaped reward : -966.1952 Pickup, Drop, Success, Hit wall rate : [1.11, 0.99, 0.07, 7.26]\n",
      "averaged grid size : 7.53, averaged obstacles : 29.08\n"
     ]
    },
    {
     "name": "stderr",
     "output_type": "stream",
     "text": [
      " 62%|██████▏   | 6303/10100 [08:02<05:31, 11.47it/s]"
     ]
    },
    {
     "name": "stdout",
     "output_type": "stream",
     "text": [
      "Epsilon : 0.001832358028825466, average reward : -604.2250, averaged shaped reward : -953.5368 Pickup, Drop, Success, Hit wall rate : [1.14, 0.97, 0.07, 6.27]\n",
      "averaged grid size : 7.48, averaged obstacles : 29.53\n"
     ]
    },
    {
     "name": "stderr",
     "output_type": "stream",
     "text": [
      " 63%|██████▎   | 6405/10100 [08:11<05:28, 11.25it/s]"
     ]
    },
    {
     "name": "stdout",
     "output_type": "stream",
     "text": [
      "Epsilon : 0.0016579031551820366, average reward : -584.7570, averaged shaped reward : -909.3587 Pickup, Drop, Success, Hit wall rate : [1.34, 1.15, 0.1, 5.92]\n",
      "averaged grid size : 7.30, averaged obstacles : 27.19\n"
     ]
    },
    {
     "name": "stderr",
     "output_type": "stream",
     "text": [
      " 64%|██████▍   | 6501/10100 [08:20<04:53, 12.26it/s]"
     ]
    },
    {
     "name": "stdout",
     "output_type": "stream",
     "text": [
      "Epsilon : 0.0015000577554837471, average reward : -539.0010, averaged shaped reward : -829.3744 Pickup, Drop, Success, Hit wall rate : [0.92, 0.77, 0.11, 3.53]\n",
      "averaged grid size : 7.45, averaged obstacles : 23.80\n"
     ]
    },
    {
     "name": "stderr",
     "output_type": "stream",
     "text": [
      " 65%|██████▌   | 6603/10100 [08:29<05:24, 10.77it/s]"
     ]
    },
    {
     "name": "stdout",
     "output_type": "stream",
     "text": [
      "Epsilon : 0.001357240477378709, average reward : -593.9690, averaged shaped reward : -994.7488 Pickup, Drop, Success, Hit wall rate : [1.15, 0.99, 0.09, 6.05]\n",
      "averaged grid size : 7.54, averaged obstacles : 28.67\n"
     ]
    },
    {
     "name": "stderr",
     "output_type": "stream",
     "text": [
      " 66%|██████▋   | 6703/10100 [08:38<06:21,  8.90it/s]"
     ]
    },
    {
     "name": "stdout",
     "output_type": "stream",
     "text": [
      "Epsilon : 0.0012280205256771164, average reward : -553.7780, averaged shaped reward : -934.5684 Pickup, Drop, Success, Hit wall rate : [0.48, 0.41, 0.06, 3.23]\n",
      "averaged grid size : 7.43, averaged obstacles : 25.47\n"
     ]
    },
    {
     "name": "stderr",
     "output_type": "stream",
     "text": [
      " 67%|██████▋   | 6803/10100 [08:47<04:16, 12.86it/s]"
     ]
    },
    {
     "name": "stdout",
     "output_type": "stream",
     "text": [
      "Epsilon : 0.0011111033281271034, average reward : -559.8630, averaged shaped reward : -882.9104 Pickup, Drop, Success, Hit wall rate : [1.08, 0.87, 0.07, 3.98]\n",
      "averaged grid size : 7.49, averaged obstacles : 25.77\n"
     ]
    },
    {
     "name": "stderr",
     "output_type": "stream",
     "text": [
      " 68%|██████▊   | 6901/10100 [08:56<04:56, 10.77it/s]"
     ]
    },
    {
     "name": "stdout",
     "output_type": "stream",
     "text": [
      "Epsilon : 0.0010053175659213095, average reward : -553.3730, averaged shaped reward : -923.1640 Pickup, Drop, Success, Hit wall rate : [0.47, 0.35, 0.08, 3.39]\n",
      "averaged grid size : 7.34, averaged obstacles : 23.72\n"
     ]
    },
    {
     "name": "stderr",
     "output_type": "stream",
     "text": [
      " 69%|██████▉   | 7003/10100 [09:06<05:00, 10.31it/s]"
     ]
    },
    {
     "name": "stdout",
     "output_type": "stream",
     "text": [
      "Epsilon : 0.0009096034390010684, average reward : -564.6110, averaged shaped reward : -969.2864 Pickup, Drop, Success, Hit wall rate : [0.75, 0.62, 0.06, 3.88]\n",
      "averaged grid size : 7.48, averaged obstacles : 27.06\n"
     ]
    },
    {
     "name": "stderr",
     "output_type": "stream",
     "text": [
      " 70%|███████   | 7102/10100 [09:15<04:28, 11.19it/s]"
     ]
    },
    {
     "name": "stdout",
     "output_type": "stream",
     "text": [
      "Epsilon : 0.0008230020485957902, average reward : -552.4550, averaged shaped reward : -965.0095 Pickup, Drop, Success, Hit wall rate : [0.64, 0.51, 0.07, 3.19]\n",
      "averaged grid size : 7.69, averaged obstacles : 28.15\n"
     ]
    },
    {
     "name": "stderr",
     "output_type": "stream",
     "text": [
      " 71%|███████▏  | 7203/10100 [09:24<03:37, 13.29it/s]"
     ]
    },
    {
     "name": "stdout",
     "output_type": "stream",
     "text": [
      "Epsilon : 0.0007446457906279667, average reward : -556.9460, averaged shaped reward : -932.1286 Pickup, Drop, Success, Hit wall rate : [1.16, 0.99, 0.11, 4.2]\n",
      "averaged grid size : 7.27, averaged obstacles : 26.43\n"
     ]
    },
    {
     "name": "stderr",
     "output_type": "stream",
     "text": [
      " 72%|███████▏  | 7302/10100 [09:34<04:33, 10.23it/s]"
     ]
    },
    {
     "name": "stdout",
     "output_type": "stream",
     "text": [
      "Epsilon : 0.0006737496637414632, average reward : -571.5000, averaged shaped reward : -943.5201 Pickup, Drop, Success, Hit wall rate : [0.64, 0.53, 0.05, 3.81]\n",
      "averaged grid size : 7.84, averaged obstacles : 29.54\n"
     ]
    },
    {
     "name": "stderr",
     "output_type": "stream",
     "text": [
      " 73%|███████▎  | 7401/10100 [09:43<03:55, 11.45it/s]"
     ]
    },
    {
     "name": "stdout",
     "output_type": "stream",
     "text": [
      "Epsilon : 0.0006096034048737785, average reward : -548.4630, averaged shaped reward : -911.6949 Pickup, Drop, Success, Hit wall rate : [0.91, 0.77, 0.05, 3.2]\n",
      "averaged grid size : 7.61, averaged obstacles : 26.90\n"
     ]
    },
    {
     "name": "stderr",
     "output_type": "stream",
     "text": [
      " 74%|███████▍  | 7503/10100 [09:53<03:57, 10.94it/s]"
     ]
    },
    {
     "name": "stdout",
     "output_type": "stream",
     "text": [
      "Epsilon : 0.0005515643735835737, average reward : -557.5480, averaged shaped reward : -968.5930 Pickup, Drop, Success, Hit wall rate : [0.69, 0.58, 0.02, 2.92]\n",
      "averaged grid size : 7.52, averaged obstacles : 27.30\n"
     ]
    },
    {
     "name": "stderr",
     "output_type": "stream",
     "text": [
      " 75%|███████▌  | 7600/10100 [10:01<03:18, 12.58it/s]"
     ]
    },
    {
     "name": "stdout",
     "output_type": "stream",
     "text": [
      "Epsilon : 0.0004990511138461095, average reward : -553.6640, averaged shaped reward : -978.6655 Pickup, Drop, Success, Hit wall rate : [0.73, 0.62, 0.05, 3.35]\n",
      "averaged grid size : 7.46, averaged obstacles : 23.16\n"
     ]
    },
    {
     "name": "stderr",
     "output_type": "stream",
     "text": [
      " 76%|███████▋  | 7702/10100 [10:11<03:46, 10.58it/s]"
     ]
    },
    {
     "name": "stdout",
     "output_type": "stream",
     "text": [
      "Epsilon : 0.0004515375288163093, average reward : -523.5000, averaged shaped reward : -910.7226 Pickup, Drop, Success, Hit wall rate : [0.46, 0.36, 0.08, 2.48]\n",
      "averaged grid size : 7.19, averaged obstacles : 24.54\n"
     ]
    },
    {
     "name": "stderr",
     "output_type": "stream",
     "text": [
      " 77%|███████▋  | 7800/10100 [10:20<03:34, 10.73it/s]"
     ]
    },
    {
     "name": "stdout",
     "output_type": "stream",
     "text": [
      "Epsilon : 0.0004085476102001267, average reward : -555.6460, averaged shaped reward : -946.6616 Pickup, Drop, Success, Hit wall rate : [0.56, 0.45, 0.04, 3.26]\n",
      "averaged grid size : 7.52, averaged obstacles : 28.70\n"
     ]
    },
    {
     "name": "stderr",
     "output_type": "stream",
     "text": [
      " 78%|███████▊  | 7901/10100 [10:29<03:11, 11.46it/s]"
     ]
    },
    {
     "name": "stdout",
     "output_type": "stream",
     "text": [
      "Epsilon : 0.0003696506694311473, average reward : -536.9160, averaged shaped reward : -928.9429 Pickup, Drop, Success, Hit wall rate : [0.7, 0.55, 0.05, 2.43]\n",
      "averaged grid size : 7.01, averaged obstacles : 22.51\n"
     ]
    },
    {
     "name": "stderr",
     "output_type": "stream",
     "text": [
      " 79%|███████▉  | 8003/10100 [10:38<02:57, 11.82it/s]"
     ]
    },
    {
     "name": "stdout",
     "output_type": "stream",
     "text": [
      "Epsilon : 0.00033445702287662776, average reward : -543.5480, averaged shaped reward : -984.9721 Pickup, Drop, Success, Hit wall rate : [0.72, 0.57, 0.07, 2.57]\n",
      "averaged grid size : 7.49, averaged obstacles : 24.79\n"
     ]
    },
    {
     "name": "stderr",
     "output_type": "stream",
     "text": [
      " 80%|████████  | 8104/10100 [10:47<02:54, 11.47it/s]"
     ]
    },
    {
     "name": "stdout",
     "output_type": "stream",
     "text": [
      "Epsilon : 0.00030261408784580283, average reward : -533.3430, averaged shaped reward : -915.6341 Pickup, Drop, Success, Hit wall rate : [0.63, 0.51, 0.05, 2.28]\n",
      "averaged grid size : 7.57, averaged obstacles : 28.27\n"
     ]
    },
    {
     "name": "stderr",
     "output_type": "stream",
     "text": [
      " 81%|████████  | 8200/10100 [10:56<02:51, 11.08it/s]"
     ]
    },
    {
     "name": "stdout",
     "output_type": "stream",
     "text": [
      "Epsilon : 0.0002738028502888608, average reward : -528.7100, averaged shaped reward : -939.1529 Pickup, Drop, Success, Hit wall rate : [0.65, 0.53, 0.06, 2.41]\n",
      "averaged grid size : 7.36, averaged obstacles : 24.65\n"
     ]
    },
    {
     "name": "stderr",
     "output_type": "stream",
     "text": [
      " 82%|████████▏ | 8304/10100 [11:05<02:35, 11.58it/s]"
     ]
    },
    {
     "name": "stdout",
     "output_type": "stream",
     "text": [
      "Epsilon : 0.0002477346687987118, average reward : -532.5740, averaged shaped reward : -973.3079 Pickup, Drop, Success, Hit wall rate : [0.7, 0.57, 0.05, 1.99]\n",
      "averaged grid size : 7.56, averaged obstacles : 25.96\n"
     ]
    },
    {
     "name": "stderr",
     "output_type": "stream",
     "text": [
      " 83%|████████▎ | 8401/10100 [11:15<02:59,  9.48it/s]"
     ]
    },
    {
     "name": "stdout",
     "output_type": "stream",
     "text": [
      "Epsilon : 0.0002241483828968899, average reward : -534.9450, averaged shaped reward : -951.2617 Pickup, Drop, Success, Hit wall rate : [0.73, 0.59, 0.04, 2.01]\n",
      "averaged grid size : 7.84, averaged obstacles : 28.09\n"
     ]
    },
    {
     "name": "stderr",
     "output_type": "stream",
     "text": [
      " 84%|████████▍ | 8506/10100 [11:25<02:16, 11.68it/s]"
     ]
    },
    {
     "name": "stdout",
     "output_type": "stream",
     "text": [
      "Epsilon : 0.00020280769663334262, average reward : -531.4760, averaged shaped reward : -908.9217 Pickup, Drop, Success, Hit wall rate : [0.59, 0.53, 0.04, 1.97]\n",
      "averaged grid size : 7.31, averaged obstacles : 27.35\n"
     ]
    },
    {
     "name": "stderr",
     "output_type": "stream",
     "text": [
      " 85%|████████▌ | 8602/10100 [11:34<02:59,  8.33it/s]"
     ]
    },
    {
     "name": "stdout",
     "output_type": "stream",
     "text": [
      "Epsilon : 0.00018349881128806782, average reward : -514.1960, averaged shaped reward : -960.6363 Pickup, Drop, Success, Hit wall rate : [0.25, 0.19, 0.06, 1.71]\n",
      "averaged grid size : 7.74, averaged obstacles : 30.28\n"
     ]
    },
    {
     "name": "stderr",
     "output_type": "stream",
     "text": [
      " 86%|████████▌ | 8702/10100 [11:43<02:04, 11.21it/s]"
     ]
    },
    {
     "name": "stdout",
     "output_type": "stream",
     "text": [
      "Epsilon : 0.0001660282834581441, average reward : -534.3890, averaged shaped reward : -922.4698 Pickup, Drop, Success, Hit wall rate : [0.51, 0.39, 0.04, 1.89]\n",
      "averaged grid size : 7.31, averaged obstacles : 26.35\n"
     ]
    },
    {
     "name": "stderr",
     "output_type": "stream",
     "text": [
      " 87%|████████▋ | 8803/10100 [11:53<01:54, 11.34it/s]"
     ]
    },
    {
     "name": "stdout",
     "output_type": "stream",
     "text": [
      "Epsilon : 0.0001502210870716978, average reward : -526.5570, averaged shaped reward : -980.7183 Pickup, Drop, Success, Hit wall rate : [0.39, 0.31, 0.04, 1.4]\n",
      "averaged grid size : 7.79, averaged obstacles : 27.58\n"
     ]
    },
    {
     "name": "stderr",
     "output_type": "stream",
     "text": [
      " 88%|████████▊ | 8902/10100 [12:02<01:52, 10.61it/s]"
     ]
    },
    {
     "name": "stdout",
     "output_type": "stream",
     "text": [
      "Epsilon : 0.0001359188599133569, average reward : -505.6810, averaged shaped reward : -940.7609 Pickup, Drop, Success, Hit wall rate : [0.23, 0.18, 0.07, 1.11]\n",
      "averaged grid size : 7.30, averaged obstacles : 26.06\n"
     ]
    },
    {
     "name": "stderr",
     "output_type": "stream",
     "text": [
      " 89%|████████▉ | 9000/10100 [12:11<01:38, 11.17it/s]"
     ]
    },
    {
     "name": "stdout",
     "output_type": "stream",
     "text": [
      "Epsilon : 0.00012297831709425354, average reward : -532.4550, averaged shaped reward : -950.9410 Pickup, Drop, Success, Hit wall rate : [0.71, 0.55, 0.03, 2.02]\n",
      "averaged grid size : 7.62, averaged obstacles : 27.49\n"
     ]
    },
    {
     "name": "stderr",
     "output_type": "stream",
     "text": [
      " 90%|█████████ | 9103/10100 [12:22<01:39, 10.02it/s]"
     ]
    },
    {
     "name": "stdout",
     "output_type": "stream",
     "text": [
      "Epsilon : 0.00011126981557214028, average reward : -521.1940, averaged shaped reward : -1001.1548 Pickup, Drop, Success, Hit wall rate : [0.44, 0.34, 0.04, 1.18]\n",
      "averaged grid size : 7.84, averaged obstacles : 28.65\n"
     ]
    },
    {
     "name": "stderr",
     "output_type": "stream",
     "text": [
      " 91%|█████████ | 9202/10100 [12:30<01:19, 11.35it/s]"
     ]
    },
    {
     "name": "stdout",
     "output_type": "stream",
     "text": [
      "Epsilon : 0.0001006760553404632, average reward : -508.4020, averaged shaped reward : -864.3179 Pickup, Drop, Success, Hit wall rate : [0.49, 0.32, 0.06, 1.21]\n",
      "averaged grid size : 7.19, averaged obstacles : 23.45\n"
     ]
    },
    {
     "name": "stderr",
     "output_type": "stream",
     "text": [
      " 92%|█████████▏| 9302/10100 [12:39<01:10, 11.37it/s]"
     ]
    },
    {
     "name": "stdout",
     "output_type": "stream",
     "text": [
      "Epsilon : 9.109090427443623e-05, average reward : -517.7290, averaged shaped reward : -952.1278 Pickup, Drop, Success, Hit wall rate : [0.25, 0.2, 0.03, 1.05]\n",
      "averaged grid size : 7.46, averaged obstacles : 26.30\n"
     ]
    },
    {
     "name": "stderr",
     "output_type": "stream",
     "text": [
      " 93%|█████████▎| 9401/10100 [12:48<01:08, 10.23it/s]"
     ]
    },
    {
     "name": "stdout",
     "output_type": "stream",
     "text": [
      "Epsilon : 8.241833486099638e-05, average reward : -520.6720, averaged shaped reward : -932.4157 Pickup, Drop, Success, Hit wall rate : [0.42, 0.29, 0.03, 1.32]\n",
      "averaged grid size : 7.35, averaged obstacles : 23.92\n"
     ]
    },
    {
     "name": "stderr",
     "output_type": "stream",
     "text": [
      " 94%|█████████▍| 9503/10100 [12:58<00:51, 11.53it/s]"
     ]
    },
    {
     "name": "stdout",
     "output_type": "stream",
     "text": [
      "Epsilon : 7.457146216041756e-05, average reward : -525.2570, averaged shaped reward : -966.4556 Pickup, Drop, Success, Hit wall rate : [0.28, 0.22, 0.02, 1.12]\n",
      "averaged grid size : 7.46, averaged obstacles : 25.08\n"
     ]
    },
    {
     "name": "stderr",
     "output_type": "stream",
     "text": [
      " 95%|█████████▌| 9600/10100 [13:07<00:39, 12.68it/s]"
     ]
    },
    {
     "name": "stdout",
     "output_type": "stream",
     "text": [
      "Epsilon : 6.747167336153287e-05, average reward : -514.5600, averaged shaped reward : -893.2949 Pickup, Drop, Success, Hit wall rate : [0.49, 0.39, 0.06, 1.56]\n",
      "averaged grid size : 7.47, averaged obstacles : 29.24\n"
     ]
    },
    {
     "name": "stderr",
     "output_type": "stream",
     "text": [
      " 96%|█████████▌| 9701/10100 [13:17<00:36, 10.90it/s]"
     ]
    },
    {
     "name": "stdout",
     "output_type": "stream",
     "text": [
      "Epsilon : 6.104784021013617e-05, average reward : -521.0640, averaged shaped reward : -971.0659 Pickup, Drop, Success, Hit wall rate : [0.31, 0.23, 0.04, 1.33]\n",
      "averaged grid size : 7.59, averaged obstacles : 27.46\n"
     ]
    },
    {
     "name": "stderr",
     "output_type": "stream",
     "text": [
      " 97%|█████████▋| 9804/10100 [13:27<00:23, 12.58it/s]"
     ]
    },
    {
     "name": "stdout",
     "output_type": "stream",
     "text": [
      "Epsilon : 5.523560642038371e-05, average reward : -525.0230, averaged shaped reward : -921.5877 Pickup, Drop, Success, Hit wall rate : [0.79, 0.6, 0.05, 1.82]\n",
      "averaged grid size : 7.78, averaged obstacles : 27.05\n"
     ]
    },
    {
     "name": "stderr",
     "output_type": "stream",
     "text": [
      " 98%|█████████▊| 9905/10100 [13:37<00:16, 11.67it/s]"
     ]
    },
    {
     "name": "stdout",
     "output_type": "stream",
     "text": [
      "Epsilon : 4.997674293022674e-05, average reward : -507.1030, averaged shaped reward : -930.2920 Pickup, Drop, Success, Hit wall rate : [0.32, 0.24, 0.05, 0.97]\n",
      "averaged grid size : 7.47, averaged obstacles : 26.05\n"
     ]
    },
    {
     "name": "stderr",
     "output_type": "stream",
     "text": [
      " 99%|█████████▉| 10004/10100 [13:45<00:08, 11.88it/s]"
     ]
    },
    {
     "name": "stdout",
     "output_type": "stream",
     "text": [
      "Epsilon : 4.5218564541589705e-05, average reward : -524.3400, averaged shaped reward : -956.2944 Pickup, Drop, Success, Hit wall rate : [0.4, 0.27, 0.03, 1.25]\n",
      "averaged grid size : 7.30, averaged obstacles : 24.38\n"
     ]
    },
    {
     "name": "stderr",
     "output_type": "stream",
     "text": [
      "100%|██████████| 10100/10100 [13:53<00:00, 12.11it/s]"
     ]
    },
    {
     "name": "stdout",
     "output_type": "stream",
     "text": [
      "Epsilon : 0, average reward : -6007.5000, averaged shaped reward : -6477.9823 Pickup, Drop, Success, Hit wall rate : [0.0, 0.0, 0.0, 249.88]\n",
      "averaged grid size : 7.56, averaged obstacles : 26.61\n"
     ]
    },
    {
     "name": "stderr",
     "output_type": "stream",
     "text": [
      "\n"
     ]
    }
   ],
   "source": [
    "env = SimpleTaxiEnv()\n",
    "q_table = tabular_q_learning(env)"
   ]
  },
  {
   "cell_type": "code",
   "execution_count": 70,
   "metadata": {
    "id": "FaVsGr6fbI7l"
   },
   "outputs": [],
   "source": [
    "import pickle\n",
    "q_table_dict = dict(q_table)  # Convert to regular dict\n",
    "with open('q_table.pkl', 'wb') as f:\n",
    "    pickle.dump(q_table_dict, f)"
   ]
  },
  {
   "cell_type": "code",
   "execution_count": 71,
   "metadata": {
    "id": "1yAJ9k3vWNPX"
   },
   "outputs": [
    {
     "name": "stdout",
     "output_type": "stream",
     "text": [
      "285\n"
     ]
    }
   ],
   "source": [
    "print(len(q_table_dict.keys()))"
   ]
  },
  {
   "cell_type": "markdown",
   "metadata": {
    "id": "OXo_X3thVos1"
   },
   "source": [
    "# 測試"
   ]
  },
  {
   "cell_type": "code",
   "execution_count": 72,
   "metadata": {},
   "outputs": [],
   "source": [
    "def Testing(env):\n",
    "    import pickle\n",
    "    from collections import defaultdict\n",
    "    with open('q_table.pkl', 'rb') as f:\n",
    "        print('load')\n",
    "        loaded_dict = pickle.load(f)\n",
    "    q_table = defaultdict(lambda: np.zeros(6), loaded_dict)  # Replace 0 with your default value\n",
    "    print(len(q_table))\n",
    "    #print('len of q_table',len(q_table.keys()))\n",
    "    global stations, candidates_p,candidates_goal, pickup, goal_id,last_action\n",
    "    stations = [[0,0] for _ in range(4)]\n",
    "    candidates_p = [i for i in stations]\n",
    "    candidates_goal = [i for i in stations]\n",
    "    goal_id = -1\n",
    "    pickup=False\n",
    "    action_size = 6\n",
    "    last_action = None\n",
    "    #q_table = defaultdict(lambda :np.zeros(action_size))\n",
    "    pickup_id = 4\n",
    "    drop_id = 5\n",
    "    ifpickup=False\n",
    "    p_loc = (0,0)\n",
    "    def cmp(a,b):\n",
    "        return a!=b\n",
    "    def get_state_obs(obs,action):\n",
    "        global stations,pickup,candidates_p,candidates_goal\n",
    "        #print(candidates_p)\n",
    "        taxi_row, taxi_col, stations[0][0], stations[0][1] , stations[1][0], stations[1][1],stations[2][0],stations[2][1],stations[3][0],stations[3][1],obstacle_north, obstacle_south, obstacle_east, obstacle_west, passenger_look, destination_look = obs\n",
    "        agent_pos = (taxi_row,taxi_col)\n",
    "        if action==None:\n",
    "            # initialize\n",
    "            candidates_goal = [tuple(i) for i in stations]\n",
    "            candidates_p = [tuple(i) for i in stations]\n",
    "            pickup=False\n",
    "        if passenger_look:\n",
    "            #print('before p',candidates_p)\n",
    "            candidates_p = [ tuple(x) for x in candidates_p if abs(x[0]-agent_pos[0])+abs(x[1]-agent_pos[1]) <=1 ]\n",
    "            #print('after p',candidates_p)\n",
    "        else:\n",
    "            #print('before p',candidates_p)\n",
    "            candidates_p = [ tuple(x) for x in candidates_p if abs(x[0]-agent_pos[0])+abs(x[1]-agent_pos[1]) >1 ]\n",
    "            #print('after p',candidates_p)\n",
    "        if destination_look:\n",
    "            #print('before g',candidates_goal)\n",
    "            candidates_goal = [ tuple(x) for x in candidates_goal if abs(x[0]-agent_pos[0])+abs(x[1]-agent_pos[1]) <=1 ]\n",
    "            #print('after g',candidates_goal)\n",
    "        else:\n",
    "            #print('before g',candidates_goal)\n",
    "            candidates_goal = [ tuple(x) for x in candidates_goal if abs(x[0]-agent_pos[0])+abs(x[1]-agent_pos[1]) >1 ]\n",
    "            #print('after g',candidates_goal)\n",
    "        if action==pickup_id and not pickup and agent_pos in candidates_p:\n",
    "            pickup = True\n",
    "            candidates_p = []\n",
    "        elif action == drop_id and pickup:\n",
    "            pickup=False\n",
    "            candidates_p = [agent_pos]\n",
    "        cmp_pos = (0,0)\n",
    "        if not pickup:\n",
    "            cmp_pos = candidates_p[0]\n",
    "        else:\n",
    "            cmp_pos = candidates_goal[0]\n",
    "        passenger_look = passenger_look and agent_pos in candidates_p\n",
    "        destination_look = destination_look and agent_pos in candidates_goal\n",
    "        #relative_pos = (cmp(agent_pos[0],cmp_pos[0]),cmp(agent_pos[1],cmp_pos[1]))\n",
    "        return (pickup, len(candidates_p), len(candidates_goal), passenger_look, destination_look, (obstacle_north,obstacle_south,obstacle_east,obstacle_west))\n",
    "\n",
    "    def get_action(obs):\n",
    "        # TODO: Train your own agent\n",
    "        # HINT: If you're using a Q-table, consider designing a custom key based on `obs` to store useful information.\n",
    "        # NOTE: Keep in mind that your Q-table may not cover all possible states in the testing environment.\n",
    "        #       To prevent crashes, implement a fallback strategy for missing keys.\n",
    "        #       Otherwise, even if your agent performs well in training, it may fail during testing.\n",
    "        global last_action\n",
    "        state = get_state_obs(obs,last_action)\n",
    "        if state not in q_table.keys():\n",
    "            #print(state)\n",
    "            print(state)\n",
    "            assert(0)\n",
    "            action = np.random.randint(action_size)\n",
    "        else:\n",
    "            #print(q_table[state])\n",
    "            action = np.argmax(q_table[state])\n",
    "\n",
    "        last_action=action\n",
    "        return action # Choose a random action\n",
    "        # You can submit this random agent to evaluate the performance of a purely random strategy.\n",
    "    Total_reward=0\n",
    "    for i in tqdm(range(100)):\n",
    "        grid_size = np.random.randint(5,11)\n",
    "        obstacle_size = np.random.randint(grid_size*grid_size)\n",
    "        obs,_ = env.reset()\n",
    "        obs,_,_ = obs\n",
    "        total_reward = 0\n",
    "        done = False\n",
    "        stations = [[0,0] for _ in range(4)]\n",
    "        candidates_p = [i for i in stations]\n",
    "        candidates_goal = [i for i in stations]\n",
    "        goal_id = -1\n",
    "        pickup=False\n",
    "        action_size = 6\n",
    "        pickup_id = 4\n",
    "        drop_id = 5\n",
    "        last_action = None\n",
    "        lst_a = None\n",
    "        while not done:\n",
    "            assert(last_action==lst_a)\n",
    "            action = get_action(obs)\n",
    "            obs,reward,done,_ = env.step(action)\n",
    "            obs,_,_ = obs\n",
    "            total_reward += reward\n",
    "            lst_a=action\n",
    "        Total_reward+=total_reward\n",
    "        #print(f'grid_size : {env.grid_size}, obstacle_size : {len(env.obstacles)}, total_reward : {total_reward}')\n",
    "    print(f'average : {Total_reward/100}')\n"
   ]
  },
  {
   "cell_type": "code",
   "execution_count": 73,
   "metadata": {},
   "outputs": [
    {
     "name": "stdout",
     "output_type": "stream",
     "text": [
      "load\n",
      "285\n"
     ]
    },
    {
     "name": "stderr",
     "output_type": "stream",
     "text": [
      "100%|██████████| 100/100 [00:05<00:00, 18.18it/s]"
     ]
    },
    {
     "name": "stdout",
     "output_type": "stream",
     "text": [
      "average : -4508.099999999701\n"
     ]
    },
    {
     "name": "stderr",
     "output_type": "stream",
     "text": [
      "\n"
     ]
    }
   ],
   "source": [
    "env = SimpleTaxiEnv()\n",
    "Testing(env)"
   ]
  },
  {
   "cell_type": "markdown",
   "metadata": {
    "id": "WSxQEFroMcJw"
   },
   "source": [
    "# Policy base"
   ]
  },
  {
   "cell_type": "code",
   "execution_count": 28,
   "metadata": {
    "id": "nP4NtkKwMi1s"
   },
   "outputs": [],
   "source": [
    "def tabular_policy_learning(env,episodes=5000, alpha=0.1, gamma=0.999):\n",
    "\n",
    "    global stations, candidates_p,candidates_goal, pickup\n",
    "    stations = [[0,0] for _ in range(4)]\n",
    "    candidates_p = [i for i in stations]\n",
    "    candidates_goal = [i for i in stations]\n",
    "    pickup=False\n",
    "    action_size = 6\n",
    "    policy_table = defaultdict(lambda :np.zeros(action_size))\n",
    "    pickup_id = 4\n",
    "    drop_id = 5\n",
    "    ifpickup=False\n",
    "    p_loc = (0,0)\n",
    "    def softmax(x):\n",
    "        \"\"\"✅ Compute softmax values for an array.\"\"\"\n",
    "        exp_x = np.exp(x - np.max(x))  # Numeric stability\n",
    "        return exp_x / exp_x.sum()\n",
    "    def get_state_obs(obs,action):\n",
    "        global stations,pickup,candidates_p,candidates_goal\n",
    "        #print(candidates_p)\n",
    "        obstacles = [0 for _ in range(5)]\n",
    "        taxi_row, taxi_col, stations[0][0], stations[0][1] , stations[1][0], stations[1][1],stations[2][0],stations[2][1],stations[3][0],stations[3][1],obstacle_north, obstacle_south, obstacle_east, obstacle_west, passenger_look, destination_look = obs\n",
    "        agent_pos = (taxi_row,taxi_col)\n",
    "        if action==None:\n",
    "            # initialize\n",
    "            candidates_goal = [tuple(i) for i in stations]\n",
    "            candidates_p = [tuple(i) for i in stations]\n",
    "            pickup=False\n",
    "        if passenger_look:\n",
    "            #print('before p',candidates_p)\n",
    "            candidates_p = [ tuple(x) for x in candidates_p if abs(x[0]-agent_pos[0])+abs(x[1]-agent_pos[1]) <=1 ]\n",
    "            #print('after p',candidates_p)\n",
    "        else:\n",
    "            #print('before p',candidates_p)\n",
    "            candidates_p = [ tuple(x) for x in candidates_p if abs(x[0]-agent_pos[0])+abs(x[1]-agent_pos[1]) >1 ]\n",
    "            #print('after p',candidates_p)\n",
    "        if destination_look:\n",
    "            #print('before g',candidates_goal)\n",
    "            candidates_goal = [ tuple(x) for x in candidates_goal if abs(x[0]-agent_pos[0])+abs(x[1]-agent_pos[1]) <=1 ]\n",
    "            #print('after g',candidates_goal)\n",
    "        else:\n",
    "            #print('before g',candidates_goal)\n",
    "            candidates_goal = [ tuple(x) for x in candidates_goal if abs(x[0]-agent_pos[0])+abs(x[1]-agent_pos[1]) >1 ]\n",
    "            #print('after g',candidates_goal)\n",
    "        if action==pickup_id and not pickup and agent_pos in candidates_p:\n",
    "            pickup = True\n",
    "            candidates_p = []\n",
    "        elif action == drop_id and pickup:\n",
    "            pickup=False\n",
    "            candidates_p = [agent_pos]\n",
    "        return (pickup, len(candidates_p), len(candidates_goal), passenger_look, destination_look, (obstacle_north,obstacle_south,obstacle_east,obstacle_west))\n",
    "    \"\"\"\n",
    "    if action == 0 :  # Move Down\n",
    "        next_row += 1\n",
    "    elif action == 1:  # Move Up\n",
    "        next_row -= 1\n",
    "    elif action == 2:  # Move Right\n",
    "        next_col += 1\n",
    "    elif action == 3:  # Move Left\n",
    "        next_col -= 1\n",
    "    \"\"\"\n",
    "    station_size = 4\n",
    "    total_reward = 0\n",
    "    total_reward_shaped = 0\n",
    "    cnt = [0,0,0]\n",
    "    averaged = [0,0]\n",
    "    batch_size = 100\n",
    "\n",
    "\n",
    "\n",
    "    for epoch in tqdm(range(episodes+600)):\n",
    "        if epoch >= episodes:\n",
    "            epsilon = 0\n",
    "        grid_size = np.random.randint(5,11)\n",
    "        obstacle_size = np.random.randint(grid_size*grid_size)\n",
    "        obs,_ = env.reset()\n",
    "        averaged[0]+=env.grid_size\n",
    "        averaged[1]+=len(env.obstacles)\n",
    "        obs,ifpickup,p_loc = obs\n",
    "        done = False\n",
    "        state = get_state_obs(obs,action=None)\n",
    "        steps=0\n",
    "        action_l=[]\n",
    "        success = False\n",
    "        has_pickup=False\n",
    "        trajectory = []\n",
    "        while not done:\n",
    "            \"\"\"if state[-1]!=(0,0,0,0):\n",
    "              print(state[-1])\"\"\"\n",
    "            action = np.random.choice(action_size,p=softmax(policy_table[state]))\n",
    "            lst_pickup = pickup\n",
    "            obs,reward,done,_ = env.step(action)\n",
    "            obs,ifpickup,p_loc = obs\n",
    "            next_state = get_state_obs(obs,action)\n",
    "            total_reward += reward\n",
    "            if done and reward>0:\n",
    "                cnt[2]+=1\n",
    "            reward_shaping = 0\n",
    "            pickup, p_len, goal_len, _,_ , _ = next_state\n",
    "            if not pickup:\n",
    "                reward_shaping -= 0.01 * (p_len**2)\n",
    "            reward_shaping -= 0.001 * (goal_len**2)\n",
    "            reward += reward_shaping\n",
    "            total_reward_shaped += reward\n",
    "            trajectory.append((state,action,reward))\n",
    "            state = next_state\n",
    "\n",
    "\n",
    "            if lst_pickup==False and pickup:\n",
    "                cnt[0]+=1\n",
    "            elif lst_pickup==True and pickup==False:\n",
    "                cnt[1]+=1\n",
    "            if pickup!=ifpickup:\n",
    "                print(pickup,ifpickup)\n",
    "            assert(pickup==ifpickup)\n",
    "        G = 0\n",
    "        for t in reversed(trajectory):\n",
    "            state,action,reward = t\n",
    "            G = gamma*G + reward\n",
    "            prob = softmax(policy_table[state])\n",
    "            grad=-prob.copy()\n",
    "            grad[action]+=1\n",
    "            policy_table[state] += alpha*G*grad\n",
    "        if (epoch+1)%batch_size==0:\n",
    "            cnt = [i/batch_size for i in cnt]\n",
    "            print(f'Epoch : {epoch}, average reward : {total_reward/batch_size:.4f}, averaged shaped reward : {total_reward_shaped/batch_size:.4f} Pickup, Drop, Success rate : {cnt}')\n",
    "            print(f'averaged grid size : {averaged[0]/batch_size:.2f}, averaged obstacles : {averaged[1]/batch_size:.2f}')\n",
    "            averaged = [0,0]\n",
    "            cnt = [0,0,0]\n",
    "            total_reward = 0\n",
    "            total_reward_shaped = 0\n",
    "    return q_table"
   ]
  },
  {
   "cell_type": "code",
   "execution_count": 29,
   "metadata": {
    "id": "8pe7Sg6NarrP"
   },
   "outputs": [
    {
     "name": "stderr",
     "output_type": "stream",
     "text": [
      "  2%|▏         | 101/5600 [00:13<13:48,  6.64it/s]"
     ]
    },
    {
     "name": "stdout",
     "output_type": "stream",
     "text": [
      "Epoch : 99, average reward : -48925.4000, averaged shaped reward : -49580.0356 Pickup, Drop, Success rate : [0.08, 0.08, 0.0]\n",
      "averaged grid size : 7.38, averaged obstacles : 28.73\n"
     ]
    },
    {
     "name": "stderr",
     "output_type": "stream",
     "text": [
      "  4%|▎         | 202/5600 [00:27<11:33,  7.79it/s]"
     ]
    },
    {
     "name": "stdout",
     "output_type": "stream",
     "text": [
      "Epoch : 199, average reward : -48673.3000, averaged shaped reward : -49370.7920 Pickup, Drop, Success rate : [0.0, 0.0, 0.0]\n",
      "averaged grid size : 7.41, averaged obstacles : 25.93\n"
     ]
    },
    {
     "name": "stderr",
     "output_type": "stream",
     "text": [
      "  5%|▌         | 302/5600 [00:40<14:13,  6.21it/s]"
     ]
    },
    {
     "name": "stdout",
     "output_type": "stream",
     "text": [
      "Epoch : 299, average reward : -50357.3000, averaged shaped reward : -51008.4064 Pickup, Drop, Success rate : [0.04, 0.04, 0.0]\n",
      "averaged grid size : 7.25, averaged obstacles : 24.01\n"
     ]
    },
    {
     "name": "stderr",
     "output_type": "stream",
     "text": [
      "  7%|▋         | 401/5600 [00:53<10:55,  7.94it/s]"
     ]
    },
    {
     "name": "stdout",
     "output_type": "stream",
     "text": [
      "Epoch : 399, average reward : -50177.1000, averaged shaped reward : -50879.3520 Pickup, Drop, Success rate : [0.0, 0.0, 0.0]\n",
      "averaged grid size : 7.84, averaged obstacles : 28.47\n"
     ]
    },
    {
     "name": "stderr",
     "output_type": "stream",
     "text": [
      "  9%|▉         | 502/5600 [01:07<10:11,  8.34it/s]"
     ]
    },
    {
     "name": "stdout",
     "output_type": "stream",
     "text": [
      "Epoch : 499, average reward : -49869.1000, averaged shaped reward : -50570.7024 Pickup, Drop, Success rate : [0.0, 0.0, 0.0]\n",
      "averaged grid size : 7.81, averaged obstacles : 28.62\n"
     ]
    },
    {
     "name": "stderr",
     "output_type": "stream",
     "text": [
      " 11%|█         | 600/5600 [01:20<12:52,  6.47it/s]"
     ]
    },
    {
     "name": "stdout",
     "output_type": "stream",
     "text": [
      "Epoch : 599, average reward : -49605.3000, averaged shaped reward : -50265.1526 Pickup, Drop, Success rate : [0.06, 0.05, 0.0]\n",
      "averaged grid size : 7.49, averaged obstacles : 27.73\n"
     ]
    },
    {
     "name": "stderr",
     "output_type": "stream",
     "text": [
      " 11%|█         | 606/5600 [01:21<11:11,  7.44it/s]\n"
     ]
    },
    {
     "ename": "KeyboardInterrupt",
     "evalue": "",
     "output_type": "error",
     "traceback": [
      "\u001b[0;31m---------------------------------------------------------------------------\u001b[0m",
      "\u001b[0;31mKeyboardInterrupt\u001b[0m                         Traceback (most recent call last)",
      "Cell \u001b[0;32mIn[29], line 2\u001b[0m\n\u001b[1;32m      1\u001b[0m env \u001b[38;5;241m=\u001b[39m SimpleTaxiEnv()\n\u001b[0;32m----> 2\u001b[0m policy_table \u001b[38;5;241m=\u001b[39m \u001b[43mtabular_policy_learning\u001b[49m\u001b[43m(\u001b[49m\u001b[43menv\u001b[49m\u001b[43m)\u001b[49m\n\u001b[1;32m      3\u001b[0m \u001b[38;5;66;03m# save policy table to .pkl\u001b[39;00m\n\u001b[1;32m      4\u001b[0m policy_dict \u001b[38;5;241m=\u001b[39m \u001b[38;5;28mdict\u001b[39m(policy_table)  \u001b[38;5;66;03m# Convert to regular dict\u001b[39;00m\n",
      "Cell \u001b[0;32mIn[28], line 92\u001b[0m, in \u001b[0;36mtabular_policy_learning\u001b[0;34m(env, episodes, alpha, gamma)\u001b[0m\n\u001b[1;32m     90\u001b[0m action \u001b[38;5;241m=\u001b[39m np\u001b[38;5;241m.\u001b[39mrandom\u001b[38;5;241m.\u001b[39mchoice(action_size,p\u001b[38;5;241m=\u001b[39msoftmax(policy_table[state]))\n\u001b[1;32m     91\u001b[0m lst_pickup \u001b[38;5;241m=\u001b[39m pickup\n\u001b[0;32m---> 92\u001b[0m obs,reward,done,_ \u001b[38;5;241m=\u001b[39m \u001b[43menv\u001b[49m\u001b[38;5;241;43m.\u001b[39;49m\u001b[43mstep\u001b[49m\u001b[43m(\u001b[49m\u001b[43maction\u001b[49m\u001b[43m)\u001b[49m\n\u001b[1;32m     93\u001b[0m obs,ifpickup,p_loc \u001b[38;5;241m=\u001b[39m obs\n\u001b[1;32m     94\u001b[0m next_state \u001b[38;5;241m=\u001b[39m get_state_obs(obs,action)\n",
      "Cell \u001b[0;32mIn[16], line 146\u001b[0m, in \u001b[0;36mSimpleTaxiEnv.step\u001b[0;34m(self, action)\u001b[0m\n\u001b[1;32m    141\u001b[0m \u001b[38;5;28;01mif\u001b[39;00m \u001b[38;5;28mself\u001b[39m\u001b[38;5;241m.\u001b[39mcurrent_fuel \u001b[38;5;241m<\u001b[39m\u001b[38;5;241m=\u001b[39m \u001b[38;5;241m0\u001b[39m:\n\u001b[1;32m    142\u001b[0m     \u001b[38;5;28;01mreturn\u001b[39;00m \u001b[38;5;28mself\u001b[39m\u001b[38;5;241m.\u001b[39mget_state(), reward \u001b[38;5;241m-\u001b[39m\u001b[38;5;241m10\u001b[39m, \u001b[38;5;28;01mTrue\u001b[39;00m, {}\n\u001b[0;32m--> 146\u001b[0m \u001b[38;5;28;01mreturn\u001b[39;00m \u001b[38;5;28mself\u001b[39m\u001b[38;5;241m.\u001b[39mget_state(), reward, \u001b[38;5;28;01mFalse\u001b[39;00m, {}\n",
      "\u001b[0;31mKeyboardInterrupt\u001b[0m: "
     ]
    }
   ],
   "source": [
    "env = SimpleTaxiEnv()\n",
    "policy_table = tabular_policy_learning(env)\n",
    "# save policy table to .pkl\n",
    "policy_dict = dict(policy_table)  # Convert to regular dict\n",
    "with open('policy_table.pkl', 'wb') as f:\n",
    "    pickle.dump(policy_dict, f)"
   ]
  }
 ],
 "metadata": {
  "colab": {
   "collapsed_sections": [
    "vBm02Hg7kQwD",
    "ioWeQB4DTncX"
   ],
   "provenance": []
  },
  "kernelspec": {
   "display_name": "Python 3",
   "name": "python3"
  },
  "language_info": {
   "codemirror_mode": {
    "name": "ipython",
    "version": 3
   },
   "file_extension": ".py",
   "mimetype": "text/x-python",
   "name": "python",
   "nbconvert_exporter": "python",
   "pygments_lexer": "ipython3",
   "version": "3.9.6"
  }
 },
 "nbformat": 4,
 "nbformat_minor": 0
}
