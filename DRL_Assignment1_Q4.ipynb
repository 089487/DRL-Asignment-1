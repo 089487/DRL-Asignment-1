{
 "cells": [
  {
   "cell_type": "markdown",
   "metadata": {
    "id": "5fwkxPaZaMFv"
   },
   "source": [
    "# **Deep Reinforcement Learning Class Spring 2025 Assignment 1**\n",
    "\n",
    "In this assignment, we will learn about gym interface, gridworld, q-learning, and etc. You will need to fill in the missing code snippets (marked by TODO).\n",
    "\n",
    "Make a copy of this notebook using File > Save a copy in Drive and edit it with your answers.\n",
    "\n",
    "WARNING: Do not put your name or any other personal identification information in this notebook."
   ]
  },
  {
   "cell_type": "code",
   "execution_count": 3,
   "metadata": {},
   "outputs": [
    {
     "name": "stdout",
     "output_type": "stream",
     "text": [
      "Defaulting to user installation because normal site-packages is not writeable\n",
      "Requirement already satisfied: gym in c:\\users\\yuhun\\appdata\\local\\packages\\pythonsoftwarefoundation.python.3.12_qbz5n2kfra8p0\\localcache\\local-packages\\python312\\site-packages (0.26.2)\n",
      "Requirement already satisfied: numpy>=1.18.0 in c:\\users\\yuhun\\appdata\\local\\packages\\pythonsoftwarefoundation.python.3.12_qbz5n2kfra8p0\\localcache\\local-packages\\python312\\site-packages (from gym) (2.1.2)\n",
      "Requirement already satisfied: cloudpickle>=1.2.0 in c:\\users\\yuhun\\appdata\\local\\packages\\pythonsoftwarefoundation.python.3.12_qbz5n2kfra8p0\\localcache\\local-packages\\python312\\site-packages (from gym) (3.1.1)\n",
      "Requirement already satisfied: gym_notices>=0.0.4 in c:\\users\\yuhun\\appdata\\local\\packages\\pythonsoftwarefoundation.python.3.12_qbz5n2kfra8p0\\localcache\\local-packages\\python312\\site-packages (from gym) (0.0.8)\n"
     ]
    },
    {
     "name": "stderr",
     "output_type": "stream",
     "text": [
      "\n",
      "[notice] A new release of pip is available: 24.3.1 -> 25.0.1\n",
      "[notice] To update, run: C:\\Users\\yuhun\\AppData\\Local\\Microsoft\\WindowsApps\\PythonSoftwareFoundation.Python.3.12_qbz5n2kfra8p0\\python.exe -m pip install --upgrade pip\n"
     ]
    },
    {
     "name": "stdout",
     "output_type": "stream",
     "text": [
      "Defaulting to user installation because normal site-packages is not writeable\n"
     ]
    },
    {
     "name": "stderr",
     "output_type": "stream",
     "text": [
      "WARNING: Retrying (Retry(total=4, connect=None, read=None, redirect=None, status=None)) after connection broken by 'NewConnectionError('<pip._vendor.urllib3.connection.HTTPSConnection object at 0x000001C833987E30>: Failed to establish a new connection: [Errno 11001] getaddrinfo failed')': /simple/numpy/\n",
      "WARNING: Retrying (Retry(total=3, connect=None, read=None, redirect=None, status=None)) after connection broken by 'NewConnectionError('<pip._vendor.urllib3.connection.HTTPSConnection object at 0x000001C833E45F10>: Failed to establish a new connection: [Errno 11001] getaddrinfo failed')': /simple/numpy/\n",
      "WARNING: Retrying (Retry(total=2, connect=None, read=None, redirect=None, status=None)) after connection broken by 'NewConnectionError('<pip._vendor.urllib3.connection.HTTPSConnection object at 0x000001C833E46300>: Failed to establish a new connection: [Errno 11001] getaddrinfo failed')': /simple/numpy/\n",
      "WARNING: Retrying (Retry(total=1, connect=None, read=None, redirect=None, status=None)) after connection broken by 'NewConnectionError('<pip._vendor.urllib3.connection.HTTPSConnection object at 0x000001C833E46510>: Failed to establish a new connection: [Errno 11001] getaddrinfo failed')': /simple/numpy/\n",
      "WARNING: Retrying (Retry(total=0, connect=None, read=None, redirect=None, status=None)) after connection broken by 'NewConnectionError('<pip._vendor.urllib3.connection.HTTPSConnection object at 0x000001C833E466F0>: Failed to establish a new connection: [Errno 11001] getaddrinfo failed')': /simple/numpy/\n",
      "ERROR: Could not find a version that satisfies the requirement numpy==1.24.0 (from versions: none)\n",
      "\n",
      "[notice] A new release of pip is available: 24.3.1 -> 25.0.1\n",
      "[notice] To update, run: C:\\Users\\yuhun\\AppData\\Local\\Microsoft\\WindowsApps\\PythonSoftwareFoundation.Python.3.12_qbz5n2kfra8p0\\python.exe -m pip install --upgrade pip\n",
      "ERROR: No matching distribution found for numpy==1.24.0\n"
     ]
    },
    {
     "name": "stdout",
     "output_type": "stream",
     "text": [
      "Defaulting to user installation because normal site-packages is not writeable\n",
      "Requirement already satisfied: tqdm in c:\\users\\yuhun\\appdata\\local\\packages\\pythonsoftwarefoundation.python.3.12_qbz5n2kfra8p0\\localcache\\local-packages\\python312\\site-packages (4.66.6)\n",
      "Requirement already satisfied: colorama in c:\\users\\yuhun\\appdata\\local\\packages\\pythonsoftwarefoundation.python.3.12_qbz5n2kfra8p0\\localcache\\local-packages\\python312\\site-packages (from tqdm) (0.4.6)\n"
     ]
    },
    {
     "name": "stderr",
     "output_type": "stream",
     "text": [
      "\n",
      "[notice] A new release of pip is available: 24.3.1 -> 25.0.1\n",
      "[notice] To update, run: C:\\Users\\yuhun\\AppData\\Local\\Microsoft\\WindowsApps\\PythonSoftwareFoundation.Python.3.12_qbz5n2kfra8p0\\python.exe -m pip install --upgrade pip\n"
     ]
    }
   ],
   "source": [
    "!pip install gym\n",
    "!pip install numpy==1.24.0\n",
    "!pip install tqdm"
   ]
  },
  {
   "cell_type": "code",
   "execution_count": 4,
   "metadata": {
    "id": "L8nLFy4z2bZh"
   },
   "outputs": [],
   "source": [
    "import gym\n",
    "import numpy as np\n",
    "import importlib.util\n",
    "import time\n",
    "from IPython.display import clear_output\n",
    "import random"
   ]
  },
  {
   "cell_type": "code",
   "execution_count": null,
   "metadata": {},
   "outputs": [],
   "source": []
  },
  {
   "cell_type": "code",
   "execution_count": 5,
   "metadata": {
    "id": "W_kyHQESMG0E"
   },
   "outputs": [],
   "source": [
    "np.random.seed(42)"
   ]
  },
  {
   "cell_type": "code",
   "execution_count": 9,
   "metadata": {
    "id": "suK5e6_R2Fcq"
   },
   "outputs": [],
   "source": [
    "\n",
    "# This environment allows you to verify whether your program runs correctly during testing,\n",
    "# as it follows the same observation format from `env.reset()` and `env.step()`.\n",
    "# However, keep in mind that this is just a simplified environment.\n",
    "# The full specifications for the real testing environment can be found in the provided spec.\n",
    "#\n",
    "# You are free to modify this file to better match the real environment and train your own agent.\n",
    "# Good luck!\n",
    "\n",
    "\n",
    "class SimpleTaxiEnv(gym.Env):\n",
    "    def __init__(self, grid_size=10, fuel_limit=5000):\n",
    "        \"\"\"\n",
    "        Custom Taxi environment supporting different grid sizes.\n",
    "        \"\"\"\n",
    "        self.grid_size = grid_size\n",
    "        self.fuel_limit = fuel_limit\n",
    "        self.current_fuel = fuel_limit\n",
    "        self.passenger_picked_up = False\n",
    "\n",
    "        self.stations = [(0, 0), (0, self.grid_size - 1), (self.grid_size - 1, 0), (self.grid_size - 1, self.grid_size - 1)]\n",
    "        self.passenger_loc = None\n",
    "\n",
    "        self.obstacles = set()  # No obstacles in simple version\n",
    "        self.destination = None\n",
    "    def legal(self):\n",
    "      available_positions = [\n",
    "            (x, y) for x in range(self.grid_size) for y in range(self.grid_size)\n",
    "            if (x, y) not in self.obstacles\n",
    "      ]\n",
    "      n=len(available_positions)\n",
    "      p = [0 for i in range(n)]\n",
    "      global group_size\n",
    "      group_size = n\n",
    "      def find_parent(x):\n",
    "        if x!=p[x]:\n",
    "          p[x]=find_parent(p[x])\n",
    "        return p[x]\n",
    "      def Union(a,b):\n",
    "        global group_size\n",
    "        a=find_parent(a)\n",
    "        b=find_parent(b)\n",
    "        if a!=b:\n",
    "          group_size -= 1\n",
    "          if np.random.randint(2)==0:\n",
    "            p[a]=b\n",
    "          else:\n",
    "            p[b]=a\n",
    "      for i in range(n):\n",
    "        p[i]=i\n",
    "      for i in range(n):\n",
    "        for j in range(i+1,n):\n",
    "          if abs(available_positions[i][0]-available_positions[j][0])+abs(available_positions[i][1]-available_positions[j][1])==1:\n",
    "            Union(i,j)\n",
    "      return group_size==1\n",
    "    def reset(self,grid_size=None,obstacle_len=None):\n",
    "        \"\"\"Reset the environment, ensuring Taxi, passenger, and destination are not overlapping obstacles\"\"\"\n",
    "        self.current_fuel = self.fuel_limit\n",
    "        self.passenger_picked_up = False\n",
    "        if grid_size == None:\n",
    "            grid_size = np.random.randint(5,11)\n",
    "        self.grid_size = grid_size\n",
    "        self.stations = []\n",
    "        if obstacle_len == None:\n",
    "            obstacle_len = np.random.randint(0,grid_size*grid_size)\n",
    "        while len(self.stations)<4:\n",
    "            posx,posy = np.random.randint(0,self.grid_size),np.random.randint(0,self.grid_size)\n",
    "            # check posx,posy is not adjacent to existed stations\n",
    "            if not any([abs(posx-station[0])+abs(posy-station[1])<=1 for station in self.stations]):\n",
    "                self.stations.append((posx,posy))\n",
    "        #self.stations = [(0, 0), (0, self.grid_size - 1), (self.grid_size - 1, 0), (self.grid_size - 1, self.grid_size - 1)]\n",
    "        self.obstacles = set()\n",
    "        cnt = 0\n",
    "        while len(self.obstacles)<obstacle_len and cnt < self.grid_size*self.grid_size*10:\n",
    "            posx,posy = np.random.randint(0,self.grid_size),np.random.randint(0,self.grid_size)\n",
    "            if (posx,posy) not in self.stations and (posx,posy) not in self.obstacles:\n",
    "                self.obstacles.add((posx,posy))\n",
    "            if not self.legal():\n",
    "                self.obstacles.remove((posx,posy))\n",
    "            cnt = cnt +1\n",
    "        available_positions = [\n",
    "            (x, y) for x in range(self.grid_size) for y in range(self.grid_size)\n",
    "            if (x, y) not in self.stations and (x, y) not in self.obstacles\n",
    "        ]\n",
    "\n",
    "        self.taxi_pos = random.choice(available_positions)\n",
    "\n",
    "        self.passenger_loc = random.choice([pos for pos in self.stations])\n",
    "\n",
    "\n",
    "        possible_destinations = [s for s in self.stations if s != self.passenger_loc]\n",
    "        self.destination = random.choice(possible_destinations)\n",
    "        #print(f'grid size : {self.grid_size}, obstacles : {len(self.obstacles)}, ')\n",
    "        #self.render_env(self.taxi_pos)\n",
    "        return self.get_state(), {}\n",
    "\n",
    "    def step(self, action):\n",
    "        \"\"\"Perform an action and update the environment state.\"\"\"\n",
    "        taxi_row, taxi_col = self.taxi_pos\n",
    "        next_row, next_col = taxi_row, taxi_col\n",
    "        reward = 0\n",
    "        if action == 0 :  # Move Down\n",
    "            next_row += 1\n",
    "        elif action == 1:  # Move Up\n",
    "            next_row -= 1\n",
    "        elif action == 2:  # Move Right\n",
    "            next_col += 1\n",
    "        elif action == 3:  # Move Left\n",
    "            next_col -= 1\n",
    "\n",
    "\n",
    "        if action in [0, 1, 2, 3]:  # Only movement actions should be checked\n",
    "            if (next_row, next_col) in self.obstacles or not (0 <= next_row < self.grid_size and 0 <= next_col < self.grid_size):\n",
    "                reward -=10\n",
    "                #print('block')\n",
    "            else:\n",
    "                self.taxi_pos = (next_row, next_col)\n",
    "                if self.passenger_picked_up:\n",
    "                    self.passenger_loc = self.taxi_pos\n",
    "        else:\n",
    "            if action == 4:  # PICKUP\n",
    "                if self.taxi_pos == self.passenger_loc:\n",
    "                    self.passenger_picked_up = True\n",
    "                    self.passenger_loc = self.taxi_pos\n",
    "                else:\n",
    "                    reward = -10\n",
    "            elif action == 5:  # DROPOFF\n",
    "                if self.passenger_picked_up:\n",
    "                    self.passenger_picked_up = False\n",
    "                    self.passenger_loc = self.taxi_pos\n",
    "                    if self.taxi_pos == self.destination:\n",
    "                        reward += 50\n",
    "                        return self.get_state(), reward -0.1, True, {}\n",
    "                    else:\n",
    "                        reward -=10\n",
    "                else:\n",
    "                    reward -=10\n",
    "\n",
    "        reward -= 0.1\n",
    "\n",
    "        self.current_fuel -= 1\n",
    "        if self.current_fuel <= 0:\n",
    "            return self.get_state(), reward -10, True, {}\n",
    "\n",
    "\n",
    "\n",
    "        return self.get_state(), reward, False, {}\n",
    "\n",
    "    def get_state(self):\n",
    "        \"\"\"Return the current environment state.\"\"\"\n",
    "        taxi_row, taxi_col = self.taxi_pos\n",
    "        passenger_row, passenger_col = self.passenger_loc\n",
    "        destination_row, destination_col = self.destination\n",
    "\n",
    "        obstacle_north = int(taxi_row == 0 or (taxi_row-1, taxi_col) in self.obstacles)\n",
    "        obstacle_south = int(taxi_row == self.grid_size - 1 or (taxi_row+1, taxi_col) in self.obstacles)\n",
    "        obstacle_east  = int(taxi_col == self.grid_size - 1 or (taxi_row, taxi_col+1) in self.obstacles)\n",
    "        obstacle_west  = int(taxi_col == 0 or (taxi_row , taxi_col-1) in self.obstacles)\n",
    "\n",
    "        passenger_loc_north = int((taxi_row - 1, taxi_col) == self.passenger_loc)\n",
    "        passenger_loc_south = int((taxi_row + 1, taxi_col) == self.passenger_loc)\n",
    "        passenger_loc_east  = int((taxi_row, taxi_col + 1) == self.passenger_loc)\n",
    "        passenger_loc_west  = int((taxi_row, taxi_col - 1) == self.passenger_loc)\n",
    "        passenger_loc_middle  = int( (taxi_row, taxi_col) == self.passenger_loc)\n",
    "        passenger_look = passenger_loc_north or passenger_loc_south or passenger_loc_east or passenger_loc_west or passenger_loc_middle\n",
    "\n",
    "        destination_loc_north = int( (taxi_row - 1, taxi_col) == self.destination)\n",
    "        destination_loc_south = int( (taxi_row + 1, taxi_col) == self.destination)\n",
    "        destination_loc_east  = int( (taxi_row, taxi_col + 1) == self.destination)\n",
    "        destination_loc_west  = int( (taxi_row, taxi_col - 1) == self.destination)\n",
    "        destination_loc_middle  = int( (taxi_row, taxi_col) == self.destination)\n",
    "        destination_look = destination_loc_north or destination_loc_south or destination_loc_east or destination_loc_west or destination_loc_middle\n",
    "\n",
    "\n",
    "        state = (taxi_row, taxi_col, self.stations[0][0],self.stations[0][1] ,self.stations[1][0],self.stations[1][1],self.stations[2][0],self.stations[2][1],self.stations[3][0],self.stations[3][1],obstacle_north, obstacle_south, obstacle_east, obstacle_west, passenger_look, destination_look)\n",
    "        return state,self.passenger_picked_up,self.passenger_loc\n",
    "    def render_env(self, taxi_pos,   action=None, step=None, fuel=None):\n",
    "        clear_output(wait=True)\n",
    "\n",
    "        grid = [['.'] * self.grid_size for _ in range(self.grid_size)]\n",
    "\n",
    "        '''\n",
    "        # Place passenger\n",
    "        py, px = passenger_pos\n",
    "        if 0 <= px < self.grid_size and 0 <= py < self.grid_size:\n",
    "            grid[py][px] = 'P'\n",
    "        '''\n",
    "        stations_char =['R','G','B','Y']\n",
    "        for i in range(len(self.stations)):\n",
    "            sx,sy = self.stations[i]\n",
    "            grid[sy][sx] = stations_char[i]\n",
    "        for ox,oy in self.obstacles:\n",
    "            grid[oy][ox] = '#'\n",
    "\n",
    "        '''\n",
    "        # Place destination\n",
    "        dy, dx = destination_pos\n",
    "        if 0 <= dx < self.grid_size and 0 <= dy < self.grid_size:\n",
    "            grid[dy][dx] = 'D'\n",
    "        '''\n",
    "        # Place taxi\n",
    "        ty, tx = taxi_pos\n",
    "        if 0 <= tx < self.grid_size and 0 <= ty < self.grid_size:\n",
    "            grid[ty][tx] = '🚖'\n",
    "\n",
    "        # Print step info\n",
    "        print(f\"\\nStep: {step}\")\n",
    "        print(f\"Taxi Position: ({tx}, {ty})\")\n",
    "        #print(f\"Passenger Position: ({px}, {py}) {'(In Taxi)' if (px, py) == (tx, ty) else ''}\")\n",
    "        #print(f\"Destination: ({dx}, {dy})\")\n",
    "        print(f\"Fuel Left: {fuel}\")\n",
    "        print(f\"Last Action: {self.get_action_name(action)}\\n\")\n",
    "\n",
    "        # Print grid\n",
    "        for row in grid:\n",
    "            print(\" \".join(row))\n",
    "        print(\"\\n\")\n",
    "\n",
    "    def get_action_name(self, action):\n",
    "        \"\"\"Returns a human-readable action name.\"\"\"\n",
    "        actions = [\"Move South\", \"Move North\", \"Move East\", \"Move West\", \"Pick Up\", \"Drop Off\"]\n",
    "        return actions[action] if action is not None else \"None\""
   ]
  },
  {
   "cell_type": "markdown",
   "metadata": {
    "id": "henzhTux2qUO"
   },
   "source": [
    "## 狀態定義\n",
    "\n",
    "## 狀態定義\n",
    "\n",
    "- pos (相對 R/G/Y/B)的距離 (用 +-0)去代表，直到走到一位置確認是否 pickup/destination為止後 random 換位置。\n",
    "    - 只要相對位移>0一律用 +1表示, <0 用 -1\n",
    "- obstacles\n",
    "- passenger state\n",
    "    - 0 ⇒ not on car\n",
    "    - 1 ⇒ on car\n",
    "- candidates_p\n",
    "    - original : stations\n",
    "    - whenever one is not worked ⇒ removed it\n",
    "- mask_p= [1] * len(candidates_p) + [0] * (4-len(candidates_p))\n",
    "    - 0 代表 passenger_i 是不可能的位置\n",
    "    - 1 代表可能\n",
    "- candidates_goal\n",
    "    - original : stations\n",
    "    - whenever one is not goal ⇒ removed it\n",
    "- mask_goal= [1] * len(candidates_goal) + [0] * (4-len(candidates_goal))\n",
    "    - 0 代表 passenger_i 是不可能的位置\n",
    "    - 1 代表可能\n",
    "- pickup\n",
    "- goal_id : {0,1,2,3}\n",
    "    - 目標是 stations[goal_id]\n"
   ]
  },
  {
   "cell_type": "markdown",
   "metadata": {
    "id": "mKN9Ot4BpJZM"
   },
   "source": [
    "### 轉移\n",
    "\n",
    "- relative_pos = (0,0)\n",
    "    - if passenger_look\n",
    "        - candidate_p = [pos]\n",
    "        - success pickup\n",
    "            - success pickup ⇒ pickup_id=True\n",
    "            - candidates_p = [pos]\n",
    "            - goal = random choice (candidates_goal)\n",
    "    - else:\n",
    "        - candidate_p remove pos\n",
    "        - goal = random.choice(candidates_p)\n",
    "    - if goal_look\n",
    "        - candidate_g = [pos]\n",
    "    - else:\n",
    "        - candidate_g.remove(pos)\n",
    "        - goal = random choice (candidates_goal)\n",
    "- drop\n",
    "    - if pickup ⇒ candidates_p = [pos], goal_id = 0"
   ]
  },
  {
   "cell_type": "code",
   "execution_count": 19,
   "metadata": {
    "id": "vDSsEzx-2ndf"
   },
   "outputs": [],
   "source": [
    "from re import M\n",
    "from collections import defaultdict\n",
    "from tqdm import tqdm\n",
    "def tabular_q_learning(env,episodes=25000, alpha=0.1, gamma=0.99,\n",
    "                       epsilon_start=1.0, epsilon_end=0.1, decay_rate=0.9997):\n",
    "\n",
    "    global stations, candidates_p,candidates_goal, pickup\n",
    "    stations = [[0,0] for _ in range(4)]\n",
    "    candidates_p = [i for i in stations]\n",
    "    candidates_goal = [i for i in stations]\n",
    "    pickup=False\n",
    "    action_size = 6\n",
    "    q_table = defaultdict(lambda :np.zeros(action_size))\n",
    "    pickup_id = 4\n",
    "    drop_id = 5\n",
    "    ifpickup=False\n",
    "    p_loc = (0,0)\n",
    "    def cmp(a,b):\n",
    "        if a==b:\n",
    "            return 0\n",
    "        return 1 if a<b else -1\n",
    "    def get_state_obs(obs,action):\n",
    "        global stations,pickup,candidates_p,candidates_goal\n",
    "        #print(candidates_p)\n",
    "        taxi_row, taxi_col, stations[0][0], stations[0][1] , stations[1][0], stations[1][1],stations[2][0],stations[2][1],stations[3][0],stations[3][1],obstacle_north, obstacle_south, obstacle_east, obstacle_west, passenger_look, destination_look = obs\n",
    "        agent_pos = (taxi_row,taxi_col)\n",
    "        if action==None:\n",
    "            # initialize\n",
    "            candidates_goal = [tuple(i) for i in stations]\n",
    "            candidates_p = [tuple(i) for i in stations]\n",
    "            pickup=False\n",
    "        if passenger_look:\n",
    "            #print('before p',candidates_p)\n",
    "            candidates_p = [ tuple(x) for x in candidates_p if abs(x[0]-agent_pos[0])+abs(x[1]-agent_pos[1]) <=1 ]\n",
    "            #print('after p',candidates_p)\n",
    "        else:\n",
    "            #print('before p',candidates_p)\n",
    "            candidates_p = [ tuple(x) for x in candidates_p if abs(x[0]-agent_pos[0])+abs(x[1]-agent_pos[1]) >1 ]\n",
    "            #print('after p',candidates_p)\n",
    "        if destination_look:\n",
    "            #print('before g',candidates_goal)\n",
    "            candidates_goal = [ tuple(x) for x in candidates_goal if abs(x[0]-agent_pos[0])+abs(x[1]-agent_pos[1]) <=1 ]\n",
    "            #print('after g',candidates_goal)\n",
    "        else:\n",
    "            #print('before g',candidates_goal)\n",
    "            candidates_goal = [ tuple(x) for x in candidates_goal if abs(x[0]-agent_pos[0])+abs(x[1]-agent_pos[1]) >1 ]\n",
    "            #print('after g',candidates_goal)\n",
    "        if action==pickup_id and not pickup and agent_pos in candidates_p:\n",
    "            pickup = True\n",
    "            candidates_p = []\n",
    "        elif action == drop_id and pickup:\n",
    "            pickup=False\n",
    "            candidates_p.append(agent_pos)\n",
    "        cmp_pos = (0,0)\n",
    "        if not pickup:\n",
    "            cmp_pos = candidates_p[0]\n",
    "        else:\n",
    "            cmp_pos = candidates_goal[0]\n",
    "        passenger_look = passenger_look and agent_pos in candidates_p\n",
    "        destination_look = destination_look and agent_pos in candidates_goal\n",
    "        relative_pos = (cmp(agent_pos[0],cmp_pos[0]),cmp(agent_pos[1],cmp_pos[1]))\n",
    "        return (relative_pos,pickup, passenger_look, destination_look, (obstacle_north,obstacle_south,obstacle_east,obstacle_west),action)\n",
    "    \"\"\"\n",
    "    if action == 0 :  # Move Down\n",
    "        next_row += 1\n",
    "    elif action == 1:  # Move Up\n",
    "        next_row -= 1\n",
    "    elif action == 2:  # Move Right\n",
    "        next_col += 1\n",
    "    elif action == 3:  # Move Left\n",
    "        next_col -= 1\n",
    "    \"\"\"\n",
    "    station_size = 4\n",
    "    total_reward = 0\n",
    "    total_reward_shaped = 0\n",
    "    cnt = [0,0,0,0]\n",
    "    epsilon = epsilon_start\n",
    "    averaged = [0,0]\n",
    "    batch_size = 100\n",
    "    for epoch in tqdm(range(episodes+100)):\n",
    "        if epoch >=episodes:\n",
    "            epsilon = 0\n",
    "        grid_size = 5 #np.random.randint(5,11)\n",
    "        obstacle_size = np.random.randint(grid_size*grid_size)\n",
    "        obs,_ = env.reset(grid_size,obstacle_size)\n",
    "        averaged[0]+=env.grid_size\n",
    "        averaged[1]+=len(env.obstacles)\n",
    "        obs,ifpickup,p_loc = obs\n",
    "        done = False\n",
    "        state = get_state_obs(obs,action=None)\n",
    "        steps=0\n",
    "        action_l=[]\n",
    "        success = False\n",
    "        has_pickup=False\n",
    "\n",
    "        while not done:\n",
    "            \"\"\"if state[-1]!=(0,0,0,0):\n",
    "              print(state[-1])\"\"\"\n",
    "            if np.random.choice(2,p=[epsilon,1-epsilon])==0 or state not in q_table.keys():\n",
    "                action = np.random.randint(6)\n",
    "            else:\n",
    "                action = np.argmax(q_table[state])\n",
    "            lst_pickup = pickup\n",
    "            relative_pos,pickup, _,_ , _,_ = state\n",
    "            obs,reward,done,_ = env.step(action)\n",
    "            obs,ifpickup,p_loc = obs\n",
    "            next_state = get_state_obs(obs,action)\n",
    "            total_reward += reward\n",
    "\n",
    "            ### reward shaping\n",
    "            reward_shaping = 0\n",
    "            \"\"\"if relative_pos == (0,0):\n",
    "                # want it to go to possible goal\n",
    "                #reward_shaping += 0.5\"\"\"\n",
    "            if relative_pos != (0,0) and action in [pickup_id,drop_id]:\n",
    "                reward_shaping -= 10\n",
    "            if done and reward>0:\n",
    "                cnt[2]+=1\n",
    "            \n",
    "            relative_pos,pickup, _,_ , _,_ = next_state\n",
    "            if not done and reward <-10 and action in [0,1,2,3]:\n",
    "                #print('hit wall')\n",
    "                cnt[-1]+=1\n",
    "            \"\"\"if not pickup:\n",
    "                reward_shaping -= p_len\n",
    "            reward_shaping -= 0.1 * goal_len\"\"\"\n",
    "            reward += reward_shaping\n",
    "            total_reward_shaped += reward\n",
    "            if epsilon:\n",
    "                q_table[state][action] = q_table[state][action] + alpha*(reward+gamma*np.max(q_table[next_state])-q_table[state][action])\n",
    "            state = next_state\n",
    "            if lst_pickup==False and pickup:\n",
    "                cnt[0]+=1\n",
    "            elif lst_pickup==True and pickup==False:\n",
    "                cnt[1]+=1\n",
    "            if pickup!=ifpickup:\n",
    "                print(pickup,ifpickup)\n",
    "            assert(pickup==ifpickup)\n",
    "\n",
    "\n",
    "        if (epoch+1)%batch_size==0:\n",
    "            cnt = [i/batch_size for i in cnt]\n",
    "            print(f'Epsilon : {epsilon}, average reward : {total_reward/batch_size:.4f}, averaged shaped reward : {total_reward_shaped/batch_size:.4f} Pickup, Drop, Success, Hit wall rate : {cnt}')\n",
    "            print(f'averaged grid size : {averaged[0]/batch_size:.2f}, averaged obstacles : {averaged[1]/batch_size:.2f}')\n",
    "            averaged = [0,0]\n",
    "            cnt = [0,0,0,0]\n",
    "            total_reward = 0\n",
    "            total_reward_shaped = 0\n",
    "        epsilon *= decay_rate #max(epsilon*decay_rate ,epsilon_end)\n",
    "    return q_table\n",
    "\n"
   ]
  },
  {
   "cell_type": "code",
   "execution_count": null,
   "metadata": {
    "colab": {
     "base_uri": "https://localhost:8080/"
    },
    "id": "8oxVEy1uSuNb",
    "outputId": "137a8cf5-0a6b-4e72-9b7c-f5a5c8dddc9b"
   },
   "outputs": [
    {
     "name": "stderr",
     "output_type": "stream",
     "text": [
      "  0%|          | 100/25100 [00:07<33:53, 12.29it/s]"
     ]
    },
    {
     "name": "stdout",
     "output_type": "stream",
     "text": [
      "Epsilon : 0.9707323853954611, average reward : -12294.6970, averaged shaped reward : -18622.8970 Pickup, Drop, Success, Hit wall rate : [26.22, 26.21, 0.8, 582.13]\n",
      "averaged grid size : 5.00, averaged obstacles : 10.40\n"
     ]
    },
    {
     "name": "stderr",
     "output_type": "stream",
     "text": [
      "  1%|          | 202/25100 [00:19<38:57, 10.65it/s]  "
     ]
    },
    {
     "name": "stdout",
     "output_type": "stream",
     "text": [
      "Epsilon : 0.9420386676463453, average reward : -7738.0270, averaged shaped reward : -11840.6270 Pickup, Drop, Success, Hit wall rate : [23.79, 23.78, 0.94, 358.11]\n",
      "averaged grid size : 5.00, averaged obstacles : 10.02\n"
     ]
    },
    {
     "name": "stderr",
     "output_type": "stream",
     "text": [
      "  1%|          | 305/25100 [00:26<20:06, 20.55it/s]"
     ]
    },
    {
     "name": "stdout",
     "output_type": "stream",
     "text": [
      "Epsilon : 0.9141931027462054, average reward : -4173.7190, averaged shaped reward : -6367.2190 Pickup, Drop, Success, Hit wall rate : [19.4, 19.4, 0.99, 199.76]\n",
      "averaged grid size : 5.00, averaged obstacles : 9.92\n"
     ]
    },
    {
     "name": "stderr",
     "output_type": "stream",
     "text": [
      "  2%|▏         | 404/25100 [00:31<14:06, 29.18it/s]"
     ]
    },
    {
     "name": "stdout",
     "output_type": "stream",
     "text": [
      "Epsilon : 0.8871706202854996, average reward : -3418.0980, averaged shaped reward : -5146.6980 Pickup, Drop, Success, Hit wall rate : [17.85, 17.85, 0.99, 171.59]\n",
      "averaged grid size : 5.00, averaged obstacles : 10.29\n"
     ]
    },
    {
     "name": "stderr",
     "output_type": "stream",
     "text": [
      "  2%|▏         | 503/25100 [00:35<14:26, 28.38it/s]"
     ]
    },
    {
     "name": "stdout",
     "output_type": "stream",
     "text": [
      "Epsilon : 0.8609468909067693, average reward : -2281.4180, averaged shaped reward : -3402.4180 Pickup, Drop, Success, Hit wall rate : [15.63, 15.63, 1.0, 121.16]\n",
      "averaged grid size : 5.00, averaged obstacles : 10.04\n"
     ]
    },
    {
     "name": "stderr",
     "output_type": "stream",
     "text": [
      "  2%|▏         | 603/25100 [00:39<14:12, 28.72it/s]"
     ]
    },
    {
     "name": "stdout",
     "output_type": "stream",
     "text": [
      "Epsilon : 0.8354983044000018, average reward : -1451.4360, averaged shaped reward : -2152.2360 Pickup, Drop, Success, Hit wall rate : [10.86, 10.86, 1.0, 81.19]\n",
      "averaged grid size : 5.00, averaged obstacles : 10.99\n"
     ]
    },
    {
     "name": "stderr",
     "output_type": "stream",
     "text": [
      "  3%|▎         | 704/25100 [00:42<10:55, 37.25it/s]"
     ]
    },
    {
     "name": "stdout",
     "output_type": "stream",
     "text": [
      "Epsilon : 0.81080194844547, average reward : -1081.5210, averaged shaped reward : -1648.7210 Pickup, Drop, Success, Hit wall rate : [8.76, 8.76, 1.0, 58.13]\n",
      "averaged grid size : 5.00, averaged obstacles : 9.40\n"
     ]
    },
    {
     "name": "stderr",
     "output_type": "stream",
     "text": [
      "  3%|▎         | 806/25100 [00:44<08:50, 45.76it/s]"
     ]
    },
    {
     "name": "stdout",
     "output_type": "stream",
     "text": [
      "Epsilon : 0.7868355879849099, average reward : -833.2540, averaged shaped reward : -1271.6540 Pickup, Drop, Success, Hit wall rate : [8.63, 8.63, 1.0, 46.21]\n",
      "averaged grid size : 5.00, averaged obstacles : 9.90\n"
     ]
    },
    {
     "name": "stderr",
     "output_type": "stream",
     "text": [
      "  4%|▎         | 908/25100 [00:46<09:10, 43.91it/s]"
     ]
    },
    {
     "name": "stdout",
     "output_type": "stream",
     "text": [
      "Epsilon : 0.7635776452024607, average reward : -514.5800, averaged shaped reward : -786.7800 Pickup, Drop, Success, Hit wall rate : [5.18, 5.18, 1.0, 30.6]\n",
      "averaged grid size : 5.00, averaged obstacles : 10.06\n"
     ]
    },
    {
     "name": "stderr",
     "output_type": "stream",
     "text": [
      "  4%|▍         | 1003/25100 [00:48<08:40, 46.28it/s]"
     ]
    },
    {
     "name": "stdout",
     "output_type": "stream",
     "text": [
      "Epsilon : 0.7410071800973455, average reward : -605.2030, averaged shaped reward : -926.6030 Pickup, Drop, Success, Hit wall rate : [7.06, 7.06, 1.0, 34.79]\n",
      "averaged grid size : 5.00, averaged obstacles : 10.17\n"
     ]
    },
    {
     "name": "stderr",
     "output_type": "stream",
     "text": [
      "  4%|▍         | 1107/25100 [00:52<09:11, 43.54it/s]"
     ]
    },
    {
     "name": "stdout",
     "output_type": "stream",
     "text": [
      "Epsilon : 0.7191038716308007, average reward : -1166.2350, averaged shaped reward : -1752.3350 Pickup, Drop, Success, Hit wall rate : [11.92, 11.92, 1.0, 66.19]\n",
      "averaged grid size : 5.00, averaged obstacles : 9.19\n"
     ]
    },
    {
     "name": "stderr",
     "output_type": "stream",
     "text": [
      "  5%|▍         | 1203/25100 [00:54<09:28, 42.05it/s]"
     ]
    },
    {
     "name": "stdout",
     "output_type": "stream",
     "text": [
      "Epsilon : 0.6978479994302824, average reward : -1017.5540, averaged shaped reward : -1534.8540 Pickup, Drop, Success, Hit wall rate : [11.55, 11.55, 1.0, 59.06]\n",
      "averaged grid size : 5.00, averaged obstacles : 10.35\n"
     ]
    },
    {
     "name": "stderr",
     "output_type": "stream",
     "text": [
      "  5%|▌         | 1309/25100 [00:57<06:32, 60.55it/s]"
     ]
    },
    {
     "name": "stdout",
     "output_type": "stream",
     "text": [
      "Epsilon : 0.6772204260344694, average reward : -581.1750, averaged shaped reward : -899.5750 Pickup, Drop, Success, Hit wall rate : [6.87, 6.87, 1.0, 33.56]\n",
      "averaged grid size : 5.00, averaged obstacles : 9.86\n"
     ]
    },
    {
     "name": "stderr",
     "output_type": "stream",
     "text": [
      "  6%|▌         | 1400/25100 [00:59<08:11, 48.20it/s]"
     ]
    },
    {
     "name": "stdout",
     "output_type": "stream",
     "text": [
      "Epsilon : 0.6572025796630901, average reward : -879.1560, averaged shaped reward : -1333.6560 Pickup, Drop, Success, Hit wall rate : [9.81, 9.81, 1.0, 51.05]\n",
      "averaged grid size : 5.00, averaged obstacles : 9.91\n"
     ]
    },
    {
     "name": "stderr",
     "output_type": "stream",
     "text": [
      "  6%|▌         | 1501/25100 [01:02<07:55, 49.66it/s]"
     ]
    },
    {
     "name": "stdout",
     "output_type": "stream",
     "text": [
      "Epsilon : 0.6377764374960482, average reward : -717.9580, averaged shaped reward : -1111.1580 Pickup, Drop, Success, Hit wall rate : [11.4, 11.4, 1.0, 43.91]\n",
      "averaged grid size : 5.00, averaged obstacles : 9.69\n"
     ]
    },
    {
     "name": "stderr",
     "output_type": "stream",
     "text": [
      "  6%|▋         | 1608/25100 [01:04<05:54, 66.23it/s]"
     ]
    },
    {
     "name": "stdout",
     "output_type": "stream",
     "text": [
      "Epsilon : 0.6189245094468019, average reward : -431.2850, averaged shaped reward : -672.7850 Pickup, Drop, Success, Hit wall rate : [4.57, 4.57, 1.0, 25.61]\n",
      "averaged grid size : 5.00, averaged obstacles : 10.11\n"
     ]
    },
    {
     "name": "stderr",
     "output_type": "stream",
     "text": [
      "  7%|▋         | 1705/25100 [01:06<09:33, 40.79it/s]"
     ]
    },
    {
     "name": "stdout",
     "output_type": "stream",
     "text": [
      "Epsilon : 0.6006298224153795, average reward : -574.4430, averaged shaped reward : -889.7430 Pickup, Drop, Success, Hit wall rate : [8.29, 8.29, 1.0, 34.44]\n",
      "averaged grid size : 5.00, averaged obstacles : 9.89\n"
     ]
    },
    {
     "name": "stderr",
     "output_type": "stream",
     "text": [
      "  7%|▋         | 1813/25100 [01:09<07:27, 52.08it/s]"
     ]
    },
    {
     "name": "stdout",
     "output_type": "stream",
     "text": [
      "Epsilon : 0.5828759050068577, average reward : -729.9280, averaged shaped reward : -1142.9280 Pickup, Drop, Success, Hit wall rate : [8.08, 8.08, 1.0, 39.25]\n",
      "averaged grid size : 5.00, averaged obstacles : 9.10\n"
     ]
    },
    {
     "name": "stderr",
     "output_type": "stream",
     "text": [
      "  8%|▊         | 1906/25100 [01:10<06:49, 56.71it/s]"
     ]
    },
    {
     "name": "stdout",
     "output_type": "stream",
     "text": [
      "Epsilon : 0.5656467727015482, average reward : -281.9820, averaged shaped reward : -454.8820 Pickup, Drop, Success, Hit wall rate : [4.35, 4.35, 1.0, 17.59]\n",
      "averaged grid size : 5.00, averaged obstacles : 9.77\n"
     ]
    },
    {
     "name": "stderr",
     "output_type": "stream",
     "text": [
      "  8%|▊         | 2006/25100 [01:13<10:30, 36.64it/s]"
     ]
    },
    {
     "name": "stdout",
     "output_type": "stream",
     "text": [
      "Epsilon : 0.5489269134635317, average reward : -672.1560, averaged shaped reward : -1047.0560 Pickup, Drop, Success, Hit wall rate : [10.58, 10.58, 1.0, 40.72]\n",
      "averaged grid size : 5.00, averaged obstacles : 9.88\n"
     ]
    },
    {
     "name": "stderr",
     "output_type": "stream",
     "text": [
      "  8%|▊         | 2107/25100 [01:14<06:29, 59.07it/s]"
     ]
    },
    {
     "name": "stdout",
     "output_type": "stream",
     "text": [
      "Epsilon : 0.5327012737745875, average reward : -320.1750, averaged shaped reward : -506.8750 Pickup, Drop, Success, Hit wall rate : [4.44, 4.44, 1.0, 20.09]\n",
      "averaged grid size : 5.00, averaged obstacles : 9.56\n"
     ]
    },
    {
     "name": "stderr",
     "output_type": "stream",
     "text": [
      "  9%|▉         | 2202/25100 [01:16<06:25, 59.46it/s]"
     ]
    },
    {
     "name": "stdout",
     "output_type": "stream",
     "text": [
      "Epsilon : 0.5169552450809477, average reward : -310.7750, averaged shaped reward : -493.9750 Pickup, Drop, Success, Hit wall rate : [6.37, 6.36, 0.99, 20.42]\n",
      "averaged grid size : 5.00, averaged obstacles : 10.01\n"
     ]
    },
    {
     "name": "stderr",
     "output_type": "stream",
     "text": [
      "  9%|▉         | 2315/25100 [01:18<05:25, 70.10it/s]"
     ]
    },
    {
     "name": "stdout",
     "output_type": "stream",
     "text": [
      "Epsilon : 0.5016746506406634, average reward : -452.3270, averaged shaped reward : -706.4270 Pickup, Drop, Success, Hit wall rate : [5.34, 5.34, 0.99, 26.75]\n",
      "averaged grid size : 5.00, averaged obstacles : 10.31\n"
     ]
    },
    {
     "name": "stderr",
     "output_type": "stream",
     "text": [
      " 10%|▉         | 2404/25100 [01:20<05:22, 70.36it/s]"
     ]
    },
    {
     "name": "stdout",
     "output_type": "stream",
     "text": [
      "Epsilon : 0.48684573275975324, average reward : -225.7830, averaged shaped reward : -372.4830 Pickup, Drop, Success, Hit wall rate : [3.54, 3.54, 1.0, 14.1]\n",
      "averaged grid size : 5.00, averaged obstacles : 10.17\n"
     ]
    },
    {
     "name": "stderr",
     "output_type": "stream",
     "text": [
      " 10%|█         | 2512/25100 [01:21<05:32, 67.94it/s]"
     ]
    },
    {
     "name": "stdout",
     "output_type": "stream",
     "text": [
      "Epsilon : 0.472455140405632, average reward : -187.6060, averaged shaped reward : -303.4060 Pickup, Drop, Success, Hit wall rate : [3.58, 3.58, 1.0, 13.08]\n",
      "averaged grid size : 5.00, averaged obstacles : 10.51\n"
     ]
    },
    {
     "name": "stderr",
     "output_type": "stream",
     "text": [
      " 10%|█         | 2602/25100 [01:23<09:41, 38.67it/s]"
     ]
    },
    {
     "name": "stdout",
     "output_type": "stream",
     "text": [
      "Epsilon : 0.45848991718667526, average reward : -247.0170, averaged shaped reward : -407.1170 Pickup, Drop, Success, Hit wall rate : [6.27, 6.27, 1.0, 16.57]\n",
      "averaged grid size : 5.00, averaged obstacles : 9.88\n"
     ]
    },
    {
     "name": "stderr",
     "output_type": "stream",
     "text": [
      " 11%|█         | 2712/25100 [01:25<04:10, 89.49it/s]"
     ]
    },
    {
     "name": "stdout",
     "output_type": "stream",
     "text": [
      "Epsilon : 0.44493748968709157, average reward : -260.3370, averaged shaped reward : -408.8370 Pickup, Drop, Success, Hit wall rate : [2.99, 2.99, 1.0, 16.55]\n",
      "averaged grid size : 5.00, averaged obstacles : 9.87\n"
     ]
    },
    {
     "name": "stderr",
     "output_type": "stream",
     "text": [
      " 11%|█         | 2813/25100 [01:26<04:51, 76.51it/s]"
     ]
    },
    {
     "name": "stdout",
     "output_type": "stream",
     "text": [
      "Epsilon : 0.43178565614660414, average reward : -145.4590, averaged shaped reward : -246.1590 Pickup, Drop, Success, Hit wall rate : [3.41, 3.41, 1.0, 10.74]\n",
      "averaged grid size : 5.00, averaged obstacles : 10.30\n"
     ]
    },
    {
     "name": "stderr",
     "output_type": "stream",
     "text": [
      " 12%|█▏        | 2906/25100 [01:27<05:48, 63.71it/s]"
     ]
    },
    {
     "name": "stdout",
     "output_type": "stream",
     "text": [
      "Epsilon : 0.41902257547474614, average reward : -122.1720, averaged shaped reward : -213.3720 Pickup, Drop, Success, Hit wall rate : [3.22, 3.22, 1.0, 9.06]\n",
      "averaged grid size : 5.00, averaged obstacles : 10.04\n"
     ]
    },
    {
     "name": "stderr",
     "output_type": "stream",
     "text": [
      " 12%|█▏        | 3017/25100 [01:29<04:22, 84.23it/s]"
     ]
    },
    {
     "name": "stdout",
     "output_type": "stream",
     "text": [
      "Epsilon : 0.4066367565898823, average reward : -198.9000, averaged shaped reward : -317.4000 Pickup, Drop, Success, Hit wall rate : [4.18, 4.18, 1.0, 14.29]\n",
      "averaged grid size : 5.00, averaged obstacles : 10.17\n"
     ]
    },
    {
     "name": "stderr",
     "output_type": "stream",
     "text": [
      " 12%|█▏        | 3116/25100 [01:30<04:23, 83.55it/s]"
     ]
    },
    {
     "name": "stdout",
     "output_type": "stream",
     "text": [
      "Epsilon : 0.3946170480733558, average reward : -159.5840, averaged shaped reward : -272.8840 Pickup, Drop, Success, Hit wall rate : [3.68, 3.68, 1.0, 11.56]\n",
      "averaged grid size : 5.00, averaged obstacles : 9.78\n"
     ]
    },
    {
     "name": "stderr",
     "output_type": "stream",
     "text": [
      " 13%|█▎        | 3215/25100 [01:32<05:39, 64.43it/s]"
     ]
    },
    {
     "name": "stdout",
     "output_type": "stream",
     "text": [
      "Epsilon : 0.3829526281294461, average reward : -163.3570, averaged shaped reward : -293.7570 Pickup, Drop, Success, Hit wall rate : [5.33, 5.33, 1.0, 11.35]\n",
      "averaged grid size : 5.00, averaged obstacles : 9.77\n"
     ]
    },
    {
     "name": "stderr",
     "output_type": "stream",
     "text": [
      " 13%|█▎        | 3312/25100 [01:34<06:00, 60.46it/s]"
     ]
    },
    {
     "name": "stdout",
     "output_type": "stream",
     "text": [
      "Epsilon : 0.37163299484209894, average reward : -201.0950, averaged shaped reward : -335.1950 Pickup, Drop, Success, Hit wall rate : [4.3, 4.3, 1.0, 14.0]\n",
      "averaged grid size : 5.00, averaged obstacles : 9.80\n"
     ]
    },
    {
     "name": "stderr",
     "output_type": "stream",
     "text": [
      " 14%|█▎        | 3412/25100 [01:35<04:32, 79.58it/s]"
     ]
    },
    {
     "name": "stdout",
     "output_type": "stream",
     "text": [
      "Epsilon : 0.3606479567196572, average reward : -215.1700, averaged shaped reward : -359.8700 Pickup, Drop, Success, Hit wall rate : [4.29, 4.29, 1.0, 13.7]\n",
      "averaged grid size : 5.00, averaged obstacles : 9.64\n"
     ]
    },
    {
     "name": "stderr",
     "output_type": "stream",
     "text": [
      " 14%|█▍        | 3507/25100 [01:37<05:20, 67.31it/s]"
     ]
    },
    {
     "name": "stdout",
     "output_type": "stream",
     "text": [
      "Epsilon : 0.34998762351907753, average reward : -84.6550, averaged shaped reward : -154.4550 Pickup, Drop, Success, Hit wall rate : [2.61, 2.61, 1.0, 7.18]\n",
      "averaged grid size : 5.00, averaged obstacles : 10.68\n"
     ]
    },
    {
     "name": "stderr",
     "output_type": "stream",
     "text": [
      " 14%|█▍        | 3608/25100 [01:38<04:19, 82.93it/s]"
     ]
    },
    {
     "name": "stdout",
     "output_type": "stream",
     "text": [
      "Epsilon : 0.33964239734137164, average reward : -117.9650, averaged shaped reward : -208.1650 Pickup, Drop, Success, Hit wall rate : [2.28, 2.28, 1.0, 7.82]\n",
      "averaged grid size : 5.00, averaged obstacles : 9.85\n"
     ]
    },
    {
     "name": "stderr",
     "output_type": "stream",
     "text": [
      " 15%|█▍        | 3702/25100 [01:39<04:46, 74.60it/s] "
     ]
    },
    {
     "name": "stdout",
     "output_type": "stream",
     "text": [
      "Epsilon : 0.32960296399025707, average reward : -80.8140, averaged shaped reward : -151.4140 Pickup, Drop, Success, Hit wall rate : [2.08, 2.08, 1.0, 6.56]\n",
      "averaged grid size : 5.00, averaged obstacles : 10.78\n"
     ]
    },
    {
     "name": "stderr",
     "output_type": "stream",
     "text": [
      " 15%|█▌        | 3813/25100 [01:41<04:17, 82.54it/s]"
     ]
    },
    {
     "name": "stdout",
     "output_type": "stream",
     "text": [
      "Epsilon : 0.31986028458623617, average reward : -60.3060, averaged shaped reward : -117.1060 Pickup, Drop, Success, Hit wall rate : [1.98, 1.98, 1.0, 5.69]\n",
      "averaged grid size : 5.00, averaged obstacles : 10.25\n"
     ]
    },
    {
     "name": "stderr",
     "output_type": "stream",
     "text": [
      " 16%|█▌        | 3905/25100 [01:42<06:03, 58.31it/s]"
     ]
    },
    {
     "name": "stdout",
     "output_type": "stream",
     "text": [
      "Epsilon : 0.3104055874285531, average reward : -143.0810, averaged shaped reward : -243.4810 Pickup, Drop, Success, Hit wall rate : [3.57, 3.57, 1.0, 10.84]\n",
      "averaged grid size : 5.00, averaged obstacles : 10.45\n"
     ]
    },
    {
     "name": "stderr",
     "output_type": "stream",
     "text": [
      " 16%|█▌        | 4001/25100 [01:44<04:15, 82.45it/s]"
     ]
    },
    {
     "name": "stdout",
     "output_type": "stream",
     "text": [
      "Epsilon : 0.3012303600977012, average reward : -189.6510, averaged shaped reward : -310.3510 Pickup, Drop, Success, Hit wall rate : [1.94, 1.94, 1.0, 11.69]\n",
      "averaged grid size : 5.00, averaged obstacles : 9.69\n"
     ]
    },
    {
     "name": "stderr",
     "output_type": "stream",
     "text": [
      " 16%|█▋        | 4111/25100 [01:46<04:46, 73.34it/s]"
     ]
    },
    {
     "name": "stdout",
     "output_type": "stream",
     "text": [
      "Epsilon : 0.29232634179137196, average reward : -148.6950, averaged shaped reward : -246.5950 Pickup, Drop, Success, Hit wall rate : [2.13, 2.13, 1.0, 9.81]\n",
      "averaged grid size : 5.00, averaged obstacles : 9.83\n"
     ]
    },
    {
     "name": "stderr",
     "output_type": "stream",
     "text": [
      " 17%|█▋        | 4206/25100 [01:47<06:29, 53.58it/s]"
     ]
    },
    {
     "name": "stdout",
     "output_type": "stream",
     "text": [
      "Epsilon : 0.2836855158869432, average reward : -124.6910, averaged shaped reward : -219.6910 Pickup, Drop, Success, Hit wall rate : [2.68, 2.68, 1.0, 8.62]\n",
      "averaged grid size : 5.00, averaged obstacles : 9.06\n"
     ]
    },
    {
     "name": "stderr",
     "output_type": "stream",
     "text": [
      " 17%|█▋        | 4311/25100 [01:49<04:38, 74.75it/s]"
     ]
    },
    {
     "name": "stdout",
     "output_type": "stream",
     "text": [
      "Epsilon : 0.27530010272381267, average reward : -42.2590, averaged shaped reward : -87.2590 Pickup, Drop, Success, Hit wall rate : [1.81, 1.81, 1.0, 4.84]\n",
      "averaged grid size : 5.00, averaged obstacles : 10.72\n"
     ]
    },
    {
     "name": "stderr",
     "output_type": "stream",
     "text": [
      " 18%|█▊        | 4402/25100 [01:50<04:29, 76.72it/s]"
     ]
    },
    {
     "name": "stdout",
     "output_type": "stream",
     "text": [
      "Epsilon : 0.2671625525990772, average reward : -37.9150, averaged shaped reward : -82.1150 Pickup, Drop, Success, Hit wall rate : [1.77, 1.77, 1.0, 4.53]\n",
      "averaged grid size : 5.00, averaged obstacles : 10.79\n"
     ]
    },
    {
     "name": "stderr",
     "output_type": "stream",
     "text": [
      " 18%|█▊        | 4504/25100 [01:52<04:41, 73.29it/s]"
     ]
    },
    {
     "name": "stdout",
     "output_type": "stream",
     "text": [
      "Epsilon : 0.25926553897025056, average reward : -109.5500, averaged shaped reward : -190.9500 Pickup, Drop, Success, Hit wall rate : [2.43, 2.43, 1.0, 8.18]\n",
      "averaged grid size : 5.00, averaged obstacles : 10.81\n"
     ]
    },
    {
     "name": "stderr",
     "output_type": "stream",
     "text": [
      " 18%|█▊        | 4610/25100 [01:53<05:04, 67.30it/s]"
     ]
    },
    {
     "name": "stdout",
     "output_type": "stream",
     "text": [
      "Epsilon : 0.2516019518589026, average reward : -46.5180, averaged shaped reward : -95.7180 Pickup, Drop, Success, Hit wall rate : [2.09, 2.09, 1.0, 5.01]\n",
      "averaged grid size : 5.00, averaged obstacles : 9.91\n"
     ]
    },
    {
     "name": "stderr",
     "output_type": "stream",
     "text": [
      " 19%|█▉        | 4709/25100 [01:55<06:00, 56.52it/s]"
     ]
    },
    {
     "name": "stdout",
     "output_type": "stream",
     "text": [
      "Epsilon : 0.24416489144927697, average reward : -54.9250, averaged shaped reward : -110.0250 Pickup, Drop, Success, Hit wall rate : [1.96, 1.96, 1.0, 5.29]\n",
      "averaged grid size : 5.00, averaged obstacles : 11.17\n"
     ]
    },
    {
     "name": "stderr",
     "output_type": "stream",
     "text": [
      " 19%|█▉        | 4814/25100 [01:57<02:43, 124.33it/s]"
     ]
    },
    {
     "name": "stdout",
     "output_type": "stream",
     "text": [
      "Epsilon : 0.2369476618761284, average reward : -108.9610, averaged shaped reward : -192.6610 Pickup, Drop, Success, Hit wall rate : [3.69, 3.69, 1.0, 8.53]\n",
      "averaged grid size : 5.00, averaged obstacles : 10.01\n"
     ]
    },
    {
     "name": "stderr",
     "output_type": "stream",
     "text": [
      " 20%|█▉        | 4912/25100 [01:57<02:50, 118.37it/s]"
     ]
    },
    {
     "name": "stdout",
     "output_type": "stream",
     "text": [
      "Epsilon : 0.22994376519618312, average reward : -78.4200, averaged shaped reward : -142.4200 Pickup, Drop, Success, Hit wall rate : [2.12, 2.12, 1.0, 6.79]\n",
      "averaged grid size : 5.00, averaged obstacles : 10.12\n"
     ]
    },
    {
     "name": "stderr",
     "output_type": "stream",
     "text": [
      " 20%|██        | 5023/25100 [01:58<02:28, 134.87it/s]"
     ]
    },
    {
     "name": "stdout",
     "output_type": "stream",
     "text": [
      "Epsilon : 0.22314689553779596, average reward : -81.6320, averaged shaped reward : -151.3320 Pickup, Drop, Success, Hit wall rate : [2.0, 2.0, 1.0, 6.28]\n",
      "averaged grid size : 5.00, averaged obstacles : 9.74\n"
     ]
    },
    {
     "name": "stderr",
     "output_type": "stream",
     "text": [
      " 20%|██        | 5140/25100 [01:59<02:01, 164.12it/s]"
     ]
    },
    {
     "name": "stdout",
     "output_type": "stream",
     "text": [
      "Epsilon : 0.21655093342353662, average reward : -20.8990, averaged shaped reward : -55.7990 Pickup, Drop, Success, Hit wall rate : [2.02, 2.02, 1.0, 4.01]\n",
      "averaged grid size : 5.00, averaged obstacles : 10.98\n"
     ]
    },
    {
     "name": "stderr",
     "output_type": "stream",
     "text": [
      " 21%|██        | 5211/25100 [01:59<02:30, 131.99it/s]"
     ]
    },
    {
     "name": "stdout",
     "output_type": "stream",
     "text": [
      "Epsilon : 0.2101499402605948, average reward : -7.6650, averaged shaped reward : -37.8650 Pickup, Drop, Success, Hit wall rate : [1.72, 1.72, 1.0, 2.9]\n",
      "averaged grid size : 5.00, averaged obstacles : 10.41\n"
     ]
    },
    {
     "name": "stderr",
     "output_type": "stream",
     "text": [
      " 21%|██        | 5312/25100 [02:00<02:33, 128.59it/s]"
     ]
    },
    {
     "name": "stdout",
     "output_type": "stream",
     "text": [
      "Epsilon : 0.20393815299404083, average reward : -76.4740, averaged shaped reward : -141.6740 Pickup, Drop, Success, Hit wall rate : [1.59, 1.59, 1.0, 5.77]\n",
      "averaged grid size : 5.00, averaged obstacles : 9.91\n"
     ]
    },
    {
     "name": "stderr",
     "output_type": "stream",
     "text": [
      " 22%|██▏       | 5413/25100 [02:01<02:46, 117.91it/s]"
     ]
    },
    {
     "name": "stdout",
     "output_type": "stream",
     "text": [
      "Epsilon : 0.1979099789181311, average reward : -117.5190, averaged shaped reward : -208.4190 Pickup, Drop, Success, Hit wall rate : [2.05, 2.05, 0.99, 7.04]\n",
      "averaged grid size : 5.00, averaged obstacles : 9.46\n"
     ]
    },
    {
     "name": "stderr",
     "output_type": "stream",
     "text": [
      " 22%|██▏       | 5513/25100 [02:02<02:07, 153.37it/s]"
     ]
    },
    {
     "name": "stdout",
     "output_type": "stream",
     "text": [
      "Epsilon : 0.19205999064098425, average reward : -48.1250, averaged shaped reward : -103.6250 Pickup, Drop, Success, Hit wall rate : [1.33, 1.33, 0.99, 3.55]\n",
      "averaged grid size : 5.00, averaged obstacles : 10.45\n"
     ]
    },
    {
     "name": "stderr",
     "output_type": "stream",
     "text": [
      " 22%|██▏       | 5617/25100 [02:03<02:18, 140.58it/s]"
     ]
    },
    {
     "name": "stdout",
     "output_type": "stream",
     "text": [
      "Epsilon : 0.18638292119809646, average reward : -41.6740, averaged shaped reward : -88.6740 Pickup, Drop, Success, Hit wall rate : [2.28, 2.28, 1.0, 4.86]\n",
      "averaged grid size : 5.00, averaged obstacles : 10.15\n"
     ]
    },
    {
     "name": "stderr",
     "output_type": "stream",
     "text": [
      " 23%|██▎       | 5698/25100 [02:04<03:03, 105.79it/s]"
     ]
    },
    {
     "name": "stdout",
     "output_type": "stream",
     "text": [
      "Epsilon : 0.18087365931029498, average reward : -61.6920, averaged shaped reward : -117.4920 Pickup, Drop, Success, Hit wall rate : [1.56, 1.56, 1.0, 5.16]\n",
      "averaged grid size : 5.00, averaged obstacles : 11.01\n"
     ]
    },
    {
     "name": "stderr",
     "output_type": "stream",
     "text": [
      " 23%|██▎       | 5831/25100 [02:05<02:58, 108.21it/s]"
     ]
    },
    {
     "name": "stdout",
     "output_type": "stream",
     "text": [
      "Epsilon : 0.17552724478186138, average reward : -189.8220, averaged shaped reward : -305.0220 Pickup, Drop, Success, Hit wall rate : [1.97, 1.97, 1.0, 11.09]\n",
      "averaged grid size : 5.00, averaged obstacles : 10.15\n"
     ]
    },
    {
     "name": "stderr",
     "output_type": "stream",
     "text": [
      " 24%|██▎       | 5929/25100 [02:06<02:24, 132.91it/s]"
     ]
    },
    {
     "name": "stdout",
     "output_type": "stream",
     "text": [
      "Epsilon : 0.1703388640346807, average reward : -48.5720, averaged shaped reward : -95.4720 Pickup, Drop, Success, Hit wall rate : [1.66, 1.66, 1.0, 5.11]\n",
      "averaged grid size : 5.00, averaged obstacles : 10.66\n"
     ]
    },
    {
     "name": "stderr",
     "output_type": "stream",
     "text": [
      " 24%|██▍       | 6020/25100 [02:06<02:07, 149.69it/s]"
     ]
    },
    {
     "name": "stdout",
     "output_type": "stream",
     "text": [
      "Epsilon : 0.1653038457743959, average reward : -22.8430, averaged shaped reward : -58.7430 Pickup, Drop, Success, Hit wall rate : [1.74, 1.74, 1.0, 3.62]\n",
      "averaged grid size : 5.00, averaged obstacles : 10.56\n"
     ]
    },
    {
     "name": "stderr",
     "output_type": "stream",
     "text": [
      " 24%|██▍       | 6130/25100 [02:07<02:18, 136.60it/s]"
     ]
    },
    {
     "name": "stdout",
     "output_type": "stream",
     "text": [
      "Epsilon : 0.1604176567846656, average reward : -10.7180, averaged shaped reward : -39.8180 Pickup, Drop, Success, Hit wall rate : [1.31, 1.31, 1.0, 2.89]\n",
      "averaged grid size : 5.00, averaged obstacles : 10.10\n"
     ]
    },
    {
     "name": "stderr",
     "output_type": "stream",
     "text": [
      " 25%|██▍       | 6215/25100 [02:08<02:33, 122.94it/s]"
     ]
    },
    {
     "name": "stdout",
     "output_type": "stream",
     "text": [
      "Epsilon : 0.15567589784573974, average reward : -2.9750, averaged shaped reward : -28.3750 Pickup, Drop, Success, Hit wall rate : [1.28, 1.28, 1.0, 2.44]\n",
      "averaged grid size : 5.00, averaged obstacles : 10.25\n"
     ]
    },
    {
     "name": "stderr",
     "output_type": "stream",
     "text": [
      " 25%|██▌       | 6311/25100 [02:09<02:37, 119.03it/s]"
     ]
    },
    {
     "name": "stdout",
     "output_type": "stream",
     "text": [
      "Epsilon : 0.15107429977367576, average reward : -8.4720, averaged shaped reward : -35.4720 Pickup, Drop, Success, Hit wall rate : [1.33, 1.33, 1.0, 2.77]\n",
      "averaged grid size : 5.00, averaged obstacles : 10.05\n"
     ]
    },
    {
     "name": "stderr",
     "output_type": "stream",
     "text": [
      " 26%|██▌       | 6420/25100 [02:10<02:35, 120.48it/s]"
     ]
    },
    {
     "name": "stdout",
     "output_type": "stream",
     "text": [
      "Epsilon : 0.1466087195766319, average reward : -69.5520, averaged shaped reward : -134.9520 Pickup, Drop, Success, Hit wall rate : [2.85, 2.85, 1.0, 5.68]\n",
      "averaged grid size : 5.00, averaged obstacles : 10.67\n"
     ]
    },
    {
     "name": "stderr",
     "output_type": "stream",
     "text": [
      " 26%|██▌       | 6520/25100 [02:10<02:11, 140.94it/s]"
     ]
    },
    {
     "name": "stdout",
     "output_type": "stream",
     "text": [
      "Epsilon : 0.14227513672477576, average reward : -1.1550, averaged shaped reward : -29.5550 Pickup, Drop, Success, Hit wall rate : [2.03, 2.03, 1.0, 2.27]\n",
      "averaged grid size : 5.00, averaged obstacles : 10.79\n"
     ]
    },
    {
     "name": "stderr",
     "output_type": "stream",
     "text": [
      " 26%|██▋       | 6635/25100 [02:11<02:12, 139.12it/s]"
     ]
    },
    {
     "name": "stdout",
     "output_type": "stream",
     "text": [
      "Epsilon : 0.13806964953045042, average reward : -8.5480, averaged shaped reward : -35.9480 Pickup, Drop, Success, Hit wall rate : [1.57, 1.57, 1.0, 3.03]\n",
      "averaged grid size : 5.00, averaged obstacles : 10.32\n"
     ]
    },
    {
     "name": "stderr",
     "output_type": "stream",
     "text": [
      " 27%|██▋       | 6720/25100 [02:12<02:25, 126.61it/s]"
     ]
    },
    {
     "name": "stdout",
     "output_type": "stream",
     "text": [
      "Epsilon : 0.13398847163533775, average reward : -14.3870, averaged shaped reward : -46.4870 Pickup, Drop, Success, Hit wall rate : [1.33, 1.33, 1.0, 2.8]\n",
      "averaged grid size : 5.00, averaged obstacles : 9.53\n"
     ]
    },
    {
     "name": "stderr",
     "output_type": "stream",
     "text": [
      " 27%|██▋       | 6799/25100 [02:13<02:23, 127.38it/s]"
     ]
    },
    {
     "name": "stdout",
     "output_type": "stream",
     "text": [
      "Epsilon : 0.1300279286014575, average reward : -16.2020, averaged shaped reward : -50.0020 Pickup, Drop, Success, Hit wall rate : [1.25, 1.25, 1.0, 2.64]\n",
      "averaged grid size : 5.00, averaged obstacles : 9.71\n"
     ]
    },
    {
     "name": "stderr",
     "output_type": "stream",
     "text": [
      " 28%|██▊       | 6905/25100 [02:15<06:17, 48.24it/s] "
     ]
    },
    {
     "name": "stdout",
     "output_type": "stream",
     "text": [
      "Epsilon : 0.1261844546029338, average reward : -76.1830, averaged shaped reward : -139.4830 Pickup, Drop, Success, Hit wall rate : [1.87, 1.87, 1.0, 5.79]\n",
      "averaged grid size : 5.00, averaged obstacles : 10.21\n"
     ]
    },
    {
     "name": "stderr",
     "output_type": "stream",
     "text": [
      " 28%|██▊       | 7008/25100 [02:17<05:55, 50.95it/s]"
     ]
    },
    {
     "name": "stdout",
     "output_type": "stream",
     "text": [
      "Epsilon : 0.12245458921554622, average reward : 13.0900, averaged shaped reward : -5.0100 Pickup, Drop, Success, Hit wall rate : [1.63, 1.63, 1.0, 2.0]\n",
      "averaged grid size : 5.00, averaged obstacles : 10.61\n"
     ]
    },
    {
     "name": "stderr",
     "output_type": "stream",
     "text": [
      " 28%|██▊       | 7103/25100 [02:19<07:18, 41.05it/s]"
     ]
    },
    {
     "name": "stdout",
     "output_type": "stream",
     "text": [
      "Epsilon : 0.118834974301181, average reward : -52.4830, averaged shaped reward : -103.7830 Pickup, Drop, Success, Hit wall rate : [2.22, 2.22, 1.0, 4.98]\n",
      "averaged grid size : 5.00, averaged obstacles : 10.01\n"
     ]
    },
    {
     "name": "stderr",
     "output_type": "stream",
     "text": [
      " 29%|██▊       | 7210/25100 [02:21<06:23, 46.70it/s]"
     ]
    },
    {
     "name": "stdout",
     "output_type": "stream",
     "text": [
      "Epsilon : 0.11532235098437221, average reward : -50.5330, averaged shaped reward : -102.7330 Pickup, Drop, Success, Hit wall rate : [2.24, 2.24, 1.0, 4.73]\n",
      "averaged grid size : 5.00, averaged obstacles : 10.33\n"
     ]
    },
    {
     "name": "stderr",
     "output_type": "stream",
     "text": [
      " 29%|██▉       | 7303/25100 [02:23<04:31, 65.57it/s]"
     ]
    },
    {
     "name": "stdout",
     "output_type": "stream",
     "text": [
      "Epsilon : 0.11191355671821418, average reward : -49.6980, averaged shaped reward : -100.4980 Pickup, Drop, Success, Hit wall rate : [1.98, 1.98, 1.0, 4.5]\n",
      "averaged grid size : 5.00, averaged obstacles : 9.56\n"
     ]
    },
    {
     "name": "stderr",
     "output_type": "stream",
     "text": [
      " 30%|██▉       | 7410/25100 [02:25<03:54, 75.37it/s]"
     ]
    },
    {
     "name": "stdout",
     "output_type": "stream",
     "text": [
      "Epsilon : 0.10860552243700095, average reward : -46.7650, averaged shaped reward : -95.8650 Pickup, Drop, Success, Hit wall rate : [2.52, 2.52, 1.0, 4.85]\n",
      "averaged grid size : 5.00, averaged obstacles : 9.49\n"
     ]
    },
    {
     "name": "stderr",
     "output_type": "stream",
     "text": [
      " 30%|██▉       | 7505/25100 [02:27<06:47, 43.20it/s]"
     ]
    },
    {
     "name": "stdout",
     "output_type": "stream",
     "text": [
      "Epsilon : 0.10539526979303146, average reward : -56.9470, averaged shaped reward : -107.6470 Pickup, Drop, Success, Hit wall rate : [1.72, 1.72, 1.0, 4.71]\n",
      "averaged grid size : 5.00, averaged obstacles : 10.98\n"
     ]
    },
    {
     "name": "stderr",
     "output_type": "stream",
     "text": [
      " 30%|███       | 7601/25100 [02:29<06:04, 48.06it/s]"
     ]
    },
    {
     "name": "stdout",
     "output_type": "stream",
     "text": [
      "Epsilon : 0.1022799084750909, average reward : -54.2300, averaged shaped reward : -103.8300 Pickup, Drop, Success, Hit wall rate : [1.98, 1.98, 1.0, 4.89]\n",
      "averaged grid size : 5.00, averaged obstacles : 10.45\n"
     ]
    },
    {
     "name": "stderr",
     "output_type": "stream",
     "text": [
      " 31%|███       | 7708/25100 [02:31<05:16, 54.98it/s]"
     ]
    },
    {
     "name": "stdout",
     "output_type": "stream",
     "text": [
      "Epsilon : 0.09925663360619481, average reward : -54.3910, averaged shaped reward : -101.1910 Pickup, Drop, Success, Hit wall rate : [1.23, 1.23, 1.0, 4.5]\n",
      "averaged grid size : 5.00, averaged obstacles : 10.32\n"
     ]
    },
    {
     "name": "stderr",
     "output_type": "stream",
     "text": [
      " 31%|███       | 7806/25100 [02:33<05:33, 51.79it/s]"
     ]
    },
    {
     "name": "stdout",
     "output_type": "stream",
     "text": [
      "Epsilon : 0.09632272321825273, average reward : -32.3570, averaged shaped reward : -71.5570 Pickup, Drop, Success, Hit wall rate : [1.54, 1.54, 1.0, 3.6]\n",
      "averaged grid size : 5.00, averaged obstacles : 10.34\n"
     ]
    },
    {
     "name": "stderr",
     "output_type": "stream",
     "text": [
      " 31%|███▏      | 7900/25100 [02:35<04:55, 58.21it/s]"
     ]
    },
    {
     "name": "stdout",
     "output_type": "stream",
     "text": [
      "Epsilon : 0.09347553580137793, average reward : -1.7710, averaged shaped reward : -25.6710 Pickup, Drop, Success, Hit wall rate : [1.58, 1.58, 1.0, 2.51]\n",
      "averaged grid size : 5.00, averaged obstacles : 9.68\n"
     ]
    },
    {
     "name": "stderr",
     "output_type": "stream",
     "text": [
      " 32%|███▏      | 8007/25100 [02:37<04:58, 57.27it/s]"
     ]
    },
    {
     "name": "stdout",
     "output_type": "stream",
     "text": [
      "Epsilon : 0.09071250792563704, average reward : -35.5420, averaged shaped reward : -73.1420 Pickup, Drop, Success, Hit wall rate : [1.57, 1.57, 1.0, 3.92]\n",
      "averaged grid size : 5.00, averaged obstacles : 10.51\n"
     ]
    },
    {
     "name": "stderr",
     "output_type": "stream",
     "text": [
      " 32%|███▏      | 8105/25100 [02:39<04:41, 60.38it/s]"
     ]
    },
    {
     "name": "stdout",
     "output_type": "stream",
     "text": [
      "Epsilon : 0.08803115193309721, average reward : 11.6170, averaged shaped reward : -4.5830 Pickup, Drop, Success, Hit wall rate : [1.28, 1.28, 1.0, 1.86]\n",
      "averaged grid size : 5.00, averaged obstacles : 10.95\n"
     ]
    },
    {
     "name": "stderr",
     "output_type": "stream",
     "text": [
      " 33%|███▎      | 8204/25100 [02:40<04:46, 59.06it/s]"
     ]
    },
    {
     "name": "stdout",
     "output_type": "stream",
     "text": [
      "Epsilon : 0.08542905369809413, average reward : -3.6320, averaged shaped reward : -29.6320 Pickup, Drop, Success, Hit wall rate : [1.9, 1.9, 1.0, 2.8]\n",
      "averaged grid size : 5.00, averaged obstacles : 9.72\n"
     ]
    },
    {
     "name": "stderr",
     "output_type": "stream",
     "text": [
      " 33%|███▎      | 8306/25100 [02:42<04:36, 60.73it/s]"
     ]
    },
    {
     "name": "stdout",
     "output_type": "stream",
     "text": [
      "Epsilon : 0.08290387045370437, average reward : -9.4710, averaged shaped reward : -36.4710 Pickup, Drop, Success, Hit wall rate : [1.45, 1.45, 1.0, 2.68]\n",
      "averaged grid size : 5.00, averaged obstacles : 9.70\n"
     ]
    },
    {
     "name": "stderr",
     "output_type": "stream",
     "text": [
      " 33%|███▎      | 8406/25100 [02:43<04:04, 68.32it/s]"
     ]
    },
    {
     "name": "stdout",
     "output_type": "stream",
     "text": [
      "Epsilon : 0.08045332868246349, average reward : 21.2650, averaged shaped reward : 9.0650 Pickup, Drop, Success, Hit wall rate : [1.09, 1.09, 1.0, 1.31]\n",
      "averaged grid size : 5.00, averaged obstacles : 9.88\n"
     ]
    },
    {
     "name": "stderr",
     "output_type": "stream",
     "text": [
      " 34%|███▍      | 8514/25100 [02:45<04:05, 67.54it/s]"
     ]
    },
    {
     "name": "stdout",
     "output_type": "stream",
     "text": [
      "Epsilon : 0.07807522206943346, average reward : -5.1720, averaged shaped reward : -29.5720 Pickup, Drop, Success, Hit wall rate : [1.19, 1.19, 1.0, 2.37]\n",
      "averaged grid size : 5.00, averaged obstacles : 11.00\n"
     ]
    },
    {
     "name": "stderr",
     "output_type": "stream",
     "text": [
      " 34%|███▍      | 8606/25100 [02:47<04:21, 63.19it/s]"
     ]
    },
    {
     "name": "stdout",
     "output_type": "stream",
     "text": [
      "Epsilon : 0.07576740951577356, average reward : -5.4110, averaged shaped reward : -29.7110 Pickup, Drop, Success, Hit wall rate : [1.47, 1.47, 1.0, 2.41]\n",
      "averaged grid size : 5.00, averaged obstacles : 10.17\n"
     ]
    },
    {
     "name": "stderr",
     "output_type": "stream",
     "text": [
      " 35%|███▍      | 8716/25100 [02:48<03:25, 79.78it/s]"
     ]
    },
    {
     "name": "stdout",
     "output_type": "stream",
     "text": [
      "Epsilon : 0.07352781321102929, average reward : -7.8170, averaged shaped reward : -34.3170 Pickup, Drop, Success, Hit wall rate : [1.67, 1.67, 1.0, 2.4]\n",
      "averaged grid size : 5.00, averaged obstacles : 10.50\n"
     ]
    },
    {
     "name": "stderr",
     "output_type": "stream",
     "text": [
      " 35%|███▌      | 8808/25100 [02:49<02:33, 106.44it/s]"
     ]
    },
    {
     "name": "stdout",
     "output_type": "stream",
     "text": [
      "Epsilon : 0.07135441676240095, average reward : 16.9140, averaged shaped reward : 0.8140 Pickup, Drop, Success, Hit wall rate : [1.18, 1.18, 1.0, 1.32]\n",
      "averaged grid size : 5.00, averaged obstacles : 10.31\n"
     ]
    },
    {
     "name": "stderr",
     "output_type": "stream",
     "text": [
      " 36%|███▌      | 8920/25100 [02:51<02:52, 93.60it/s] "
     ]
    },
    {
     "name": "stdout",
     "output_type": "stream",
     "text": [
      "Epsilon : 0.0692452633793097, average reward : 17.6700, averaged shaped reward : 5.3700 Pickup, Drop, Success, Hit wall rate : [1.23, 1.23, 1.0, 1.55]\n",
      "averaged grid size : 5.00, averaged obstacles : 9.94\n"
     ]
    },
    {
     "name": "stderr",
     "output_type": "stream",
     "text": [
      " 36%|███▌      | 9003/25100 [02:52<03:04, 87.21it/s]"
     ]
    },
    {
     "name": "stdout",
     "output_type": "stream",
     "text": [
      "Epsilon : 0.06719845411162506, average reward : -6.1180, averaged shaped reward : -30.9180 Pickup, Drop, Success, Hit wall rate : [1.24, 1.24, 1.0, 2.23]\n",
      "averaged grid size : 5.00, averaged obstacles : 9.62\n"
     ]
    },
    {
     "name": "stderr",
     "output_type": "stream",
     "text": [
      " 36%|███▋      | 9111/25100 [02:53<02:57, 90.11it/s]"
     ]
    },
    {
     "name": "stdout",
     "output_type": "stream",
     "text": [
      "Epsilon : 0.06521214613996887, average reward : 14.1450, averaged shaped reward : -2.6550 Pickup, Drop, Success, Hit wall rate : [1.17, 1.17, 1.0, 1.4]\n",
      "averaged grid size : 5.00, averaged obstacles : 9.88\n"
     ]
    },
    {
     "name": "stderr",
     "output_type": "stream",
     "text": [
      " 37%|███▋      | 9216/25100 [02:54<02:41, 98.16it/s]"
     ]
    },
    {
     "name": "stdout",
     "output_type": "stream",
     "text": [
      "Epsilon : 0.06328455111655558, average reward : 9.2750, averaged shaped reward : -7.8250 Pickup, Drop, Success, Hit wall rate : [1.64, 1.64, 1.0, 1.94]\n",
      "averaged grid size : 5.00, averaged obstacles : 9.55\n"
     ]
    },
    {
     "name": "stderr",
     "output_type": "stream",
     "text": [
      " 37%|███▋      | 9310/25100 [02:56<05:18, 49.56it/s]"
     ]
    },
    {
     "name": "stdout",
     "output_type": "stream",
     "text": [
      "Epsilon : 0.06141393355507576, average reward : -32.2320, averaged shaped reward : -67.3320 Pickup, Drop, Success, Hit wall rate : [1.19, 1.19, 1.0, 3.37]\n",
      "averaged grid size : 5.00, averaged obstacles : 9.79\n"
     ]
    },
    {
     "name": "stderr",
     "output_type": "stream",
     "text": [
      " 37%|███▋      | 9398/25100 [02:58<05:24, 48.38it/s]"
     ]
    },
    {
     "name": "stdout",
     "output_type": "stream",
     "text": [
      "Epsilon : 0.05959860926817212, average reward : -81.9040, averaged shaped reward : -140.3040 Pickup, Drop, Success, Hit wall rate : [1.77, 1.77, 0.99, 5.38]\n",
      "averaged grid size : 5.00, averaged obstacles : 9.96\n"
     ]
    },
    {
     "name": "stderr",
     "output_type": "stream",
     "text": [
      " 37%|███▋      | 9404/25100 [02:58<08:09, 32.07it/s]"
     ]
    }
   ],
   "source": [
    "env = SimpleTaxiEnv()\n",
    "q_table = tabular_q_learning(env)"
   ]
  },
  {
   "cell_type": "code",
   "execution_count": 16,
   "metadata": {
    "id": "FaVsGr6fbI7l"
   },
   "outputs": [],
   "source": [
    "import pickle\n",
    "q_table_dict = dict(q_table)  # Convert to regular dict\n",
    "with open('q_table.pkl', 'wb') as f:\n",
    "    pickle.dump(q_table_dict, f)"
   ]
  },
  {
   "cell_type": "code",
   "execution_count": 57,
   "metadata": {
    "id": "1yAJ9k3vWNPX"
   },
   "outputs": [
    {
     "name": "stdout",
     "output_type": "stream",
     "text": [
      "405\n"
     ]
    }
   ],
   "source": [
    "print(len(q_table_dict.keys()))"
   ]
  },
  {
   "cell_type": "markdown",
   "metadata": {
    "id": "OXo_X3thVos1"
   },
   "source": [
    "# 測試"
   ]
  },
  {
   "cell_type": "code",
   "execution_count": 17,
   "metadata": {},
   "outputs": [],
   "source": [
    "from tqdm import tqdm\n",
    "def Testing(env):\n",
    "    import pickle\n",
    "    from collections import defaultdict\n",
    "    with open('q_table.pkl', 'rb') as f:\n",
    "        print('load')\n",
    "        loaded_dict = pickle.load(f)\n",
    "    q_table = defaultdict(lambda: np.zeros(6), loaded_dict)  # Replace 0 with your default value\n",
    "    print(len(q_table))\n",
    "    #print('len of q_table',len(q_table.keys()))\n",
    "    global stations, candidates_p,candidates_goal, pickup, goal_id,last_action\n",
    "    stations = [[0,0] for _ in range(4)]\n",
    "    candidates_p = [i for i in stations]\n",
    "    candidates_goal = [i for i in stations]\n",
    "    goal_id = -1\n",
    "    pickup=False\n",
    "    action_size = 6\n",
    "    last_action = None\n",
    "    #q_table = defaultdict(lambda :np.zeros(action_size))\n",
    "    pickup_id = 4\n",
    "    drop_id = 5\n",
    "    ifpickup=False\n",
    "    p_loc = (0,0)\n",
    "    def cmp(a,b):\n",
    "        if a==b:\n",
    "            return 0\n",
    "        return 1 if a<b else -1\n",
    "            \n",
    "    def get_state_obs(obs,action):\n",
    "        global stations,pickup,candidates_p,candidates_goal\n",
    "        #print(candidates_p)\n",
    "        taxi_row, taxi_col, stations[0][0], stations[0][1] , stations[1][0], stations[1][1],stations[2][0],stations[2][1],stations[3][0],stations[3][1],obstacle_north, obstacle_south, obstacle_east, obstacle_west, passenger_look, destination_look = obs\n",
    "        agent_pos = (taxi_row,taxi_col)\n",
    "        if action==None:\n",
    "            # initialize\n",
    "            candidates_goal = [tuple(i) for i in stations]\n",
    "            candidates_p = [tuple(i) for i in stations]\n",
    "            pickup=False\n",
    "        if passenger_look:\n",
    "            #print('before p',candidates_p)\n",
    "            candidates_p = [ tuple(x) for x in candidates_p if abs(x[0]-agent_pos[0])+abs(x[1]-agent_pos[1]) <=1 ]\n",
    "            #print('after p',candidates_p)\n",
    "        else:\n",
    "            #print('before p',candidates_p)\n",
    "            candidates_p = [ tuple(x) for x in candidates_p if abs(x[0]-agent_pos[0])+abs(x[1]-agent_pos[1]) >1 ]\n",
    "            #print('after p',candidates_p)\n",
    "        if destination_look:\n",
    "            #print('before g',candidates_goal)\n",
    "            candidates_goal = [ tuple(x) for x in candidates_goal if abs(x[0]-agent_pos[0])+abs(x[1]-agent_pos[1]) <=1 ]\n",
    "            #print('after g',candidates_goal)\n",
    "        else:\n",
    "            #print('before g',candidates_goal)\n",
    "            candidates_goal = [ tuple(x) for x in candidates_goal if abs(x[0]-agent_pos[0])+abs(x[1]-agent_pos[1]) >1 ]\n",
    "            #print('after g',candidates_goal)\n",
    "        if action==pickup_id and not pickup and agent_pos in candidates_p:\n",
    "            pickup = True\n",
    "            candidates_p = []\n",
    "        elif action == drop_id and pickup:\n",
    "            pickup=False\n",
    "            candidates_p.append(agent_pos)\n",
    "        cmp_pos = (0,0)\n",
    "        if not pickup:\n",
    "            cmp_pos = candidates_p[0]\n",
    "        else:\n",
    "            cmp_pos = candidates_goal[0]\n",
    "        passenger_look = passenger_look and agent_pos in candidates_p\n",
    "        destination_look = destination_look and agent_pos in candidates_goal\n",
    "        relative_pos = (cmp(agent_pos[0],cmp_pos[0]),cmp(agent_pos[1],cmp_pos[1]))\n",
    "        return (relative_pos,pickup, passenger_look, destination_look, (obstacle_north,obstacle_south,obstacle_east,obstacle_west),action)\n",
    "\n",
    "    def get_action(obs):\n",
    "        # TODO: Train your own agent\n",
    "        # HINT: If you're using a Q-table, consider designing a custom key based on `obs` to store useful information.\n",
    "        # NOTE: Keep in mind that your Q-table may not cover all possible states in the testing environment.\n",
    "        #       To prevent crashes, implement a fallback strategy for missing keys.\n",
    "        #       Otherwise, even if your agent performs well in training, it may fail during testing.\n",
    "        global last_action\n",
    "        state = get_state_obs(obs,last_action)\n",
    "        action_name = ['Move North','Move South','Move East','Move West','Pick Up','Drop Off']\n",
    "        if state not in q_table.keys():\n",
    "            #print(state)\n",
    "            print(state)\n",
    "            assert(0)\n",
    "            action = np.random.randint(action_size)\n",
    "        else:\n",
    "            #print(state,action_name[np.argmax(q_table[state])])\n",
    "            action = np.argmax(q_table[state])\n",
    "        #q_table[state][action] = q_table[state][action] + 0.089487*(-0.1+0.89487*np.max(q_table[state])-q_table[state][action])\n",
    "        last_action=action\n",
    "        return action # Choose a random action\n",
    "        # You can submit this random agent to evaluate the performance of a purely random strategy.\n",
    "    Total_reward=0\n",
    "    for i in tqdm(range(100)):\n",
    "        grid_size = np.random.randint(5,11)\n",
    "        obstacle_size = np.random.randint(grid_size*grid_size)\n",
    "        obs,_ = env.reset()\n",
    "        obs,_,_ = obs\n",
    "        total_reward = 0\n",
    "        done = False\n",
    "        stations = [[0,0] for _ in range(4)]\n",
    "        candidates_p = [i for i in stations]\n",
    "        candidates_goal = [i for i in stations]\n",
    "        goal_id = -1\n",
    "        pickup=False\n",
    "        action_size = 6\n",
    "        pickup_id = 4\n",
    "        drop_id = 5\n",
    "        last_action = None\n",
    "        lst_a = None\n",
    "        while not done:\n",
    "            assert(last_action==lst_a)\n",
    "            action = get_action(obs)\n",
    "            obs,reward,done,_ = env.step(action)\n",
    "            obs,_,_ = obs\n",
    "            total_reward += reward\n",
    "            lst_a=action\n",
    "        Total_reward+=total_reward\n",
    "        print(f'grid_size : {env.grid_size}, obstacle_size : {len(env.obstacles)}, total_reward : {total_reward}')\n",
    "    print(f'average : {Total_reward/100}')\n"
   ]
  },
  {
   "cell_type": "code",
   "execution_count": 18,
   "metadata": {},
   "outputs": [
    {
     "name": "stdout",
     "output_type": "stream",
     "text": [
      "load\n",
      "1898\n"
     ]
    },
    {
     "name": "stderr",
     "output_type": "stream",
     "text": [
      "  1%|          | 1/100 [00:00<00:18,  5.39it/s]"
     ]
    },
    {
     "name": "stdout",
     "output_type": "stream",
     "text": [
      "grid_size : 10, obstacle_size : 77, total_reward : -510.0000000000452\n"
     ]
    },
    {
     "name": "stderr",
     "output_type": "stream",
     "text": [
      "  9%|▉         | 9/100 [00:00<00:02, 37.54it/s]"
     ]
    },
    {
     "name": "stdout",
     "output_type": "stream",
     "text": [
      "grid_size : 6, obstacle_size : 5, total_reward : 48.0\n",
      "grid_size : 6, obstacle_size : 19, total_reward : 47.8\n",
      "grid_size : 6, obstacle_size : 18, total_reward : 47.5\n",
      "grid_size : 6, obstacle_size : 7, total_reward : -510.0000000000452\n",
      "grid_size : 6, obstacle_size : 0, total_reward : 46.5\n",
      "grid_size : 5, obstacle_size : 10, total_reward : 49.1\n",
      "grid_size : 7, obstacle_size : 3, total_reward : 46.8\n",
      "grid_size : 10, obstacle_size : 35, total_reward : -510.0000000000452\n",
      "grid_size : 5, obstacle_size : 0, total_reward : 48.9\n",
      "grid_size : 6, obstacle_size : 11, total_reward : 48.699999999999996\n",
      "grid_size : 9, obstacle_size : 61, total_reward : 48.4\n",
      "grid_size : 7, obstacle_size : 1, total_reward : 47.9\n"
     ]
    },
    {
     "name": "stderr",
     "output_type": "stream",
     "text": [
      " 14%|█▍        | 14/100 [00:00<00:02, 33.82it/s]"
     ]
    },
    {
     "name": "stdout",
     "output_type": "stream",
     "text": [
      "grid_size : 10, obstacle_size : 49, total_reward : -510.0000000000452\n",
      "grid_size : 7, obstacle_size : 15, total_reward : -510.0000000000452\n",
      "grid_size : 5, obstacle_size : 12, total_reward : 48.3\n"
     ]
    },
    {
     "name": "stderr",
     "output_type": "stream",
     "text": [
      " 19%|█▉        | 19/100 [00:00<00:03, 20.96it/s]"
     ]
    },
    {
     "name": "stdout",
     "output_type": "stream",
     "text": [
      "grid_size : 10, obstacle_size : 67, total_reward : -510.0000000000452\n",
      "grid_size : 8, obstacle_size : 23, total_reward : -510.0000000000452\n",
      "grid_size : 10, obstacle_size : 41, total_reward : -510.0000000000452\n",
      "grid_size : 10, obstacle_size : 6, total_reward : -510.0000000000452\n",
      "grid_size : 6, obstacle_size : 22, total_reward : 48.699999999999996\n",
      "grid_size : 8, obstacle_size : 26, total_reward : 48.199999999999996\n"
     ]
    },
    {
     "name": "stderr",
     "output_type": "stream",
     "text": [
      " 24%|██▍       | 24/100 [00:00<00:03, 24.13it/s]"
     ]
    },
    {
     "name": "stdout",
     "output_type": "stream",
     "text": [
      "grid_size : 9, obstacle_size : 29, total_reward : -510.0000000000452\n",
      "grid_size : 10, obstacle_size : 28, total_reward : -510.0000000000452\n",
      "grid_size : 10, obstacle_size : 8, total_reward : 48.4\n",
      "grid_size : 8, obstacle_size : 42, total_reward : 47.3\n",
      "grid_size : 10, obstacle_size : 54, total_reward : -510.0000000000452\n"
     ]
    },
    {
     "name": "stderr",
     "output_type": "stream",
     "text": [
      " 32%|███▏      | 32/100 [00:01<00:03, 22.43it/s]"
     ]
    },
    {
     "name": "stdout",
     "output_type": "stream",
     "text": [
      "grid_size : 9, obstacle_size : 37, total_reward : -510.0000000000452\n",
      "grid_size : 6, obstacle_size : 5, total_reward : -510.0000000000452\n",
      "grid_size : 8, obstacle_size : 7, total_reward : 47.5\n",
      "grid_size : 5, obstacle_size : 9, total_reward : -510.0000000000452\n",
      "grid_size : 8, obstacle_size : 48, total_reward : -510.0000000000452\n",
      "grid_size : 6, obstacle_size : 18, total_reward : 48.699999999999996\n"
     ]
    },
    {
     "name": "stderr",
     "output_type": "stream",
     "text": [
      " 39%|███▉      | 39/100 [00:01<00:02, 25.18it/s]"
     ]
    },
    {
     "name": "stdout",
     "output_type": "stream",
     "text": [
      "grid_size : 10, obstacle_size : 62, total_reward : 48.5\n",
      "grid_size : 7, obstacle_size : 11, total_reward : 37.10000000000001\n",
      "grid_size : 8, obstacle_size : 52, total_reward : 47.9\n",
      "grid_size : 10, obstacle_size : 32, total_reward : 47.599999999999994\n",
      "grid_size : 7, obstacle_size : 30, total_reward : 49.1\n",
      "grid_size : 8, obstacle_size : 14, total_reward : -510.0000000000452\n"
     ]
    },
    {
     "name": "stderr",
     "output_type": "stream",
     "text": [
      " 42%|████▏     | 42/100 [00:01<00:02, 23.32it/s]"
     ]
    },
    {
     "name": "stdout",
     "output_type": "stream",
     "text": [
      "grid_size : 8, obstacle_size : 31, total_reward : -510.0000000000452\n",
      "grid_size : 6, obstacle_size : 25, total_reward : 48.4\n",
      "grid_size : 8, obstacle_size : 49, total_reward : 48.3\n",
      "grid_size : 9, obstacle_size : 57, total_reward : -510.0000000000452\n"
     ]
    },
    {
     "name": "stderr",
     "output_type": "stream",
     "text": [
      " 45%|████▌     | 45/100 [00:01<00:02, 20.61it/s]"
     ]
    },
    {
     "name": "stdout",
     "output_type": "stream",
     "text": [
      "grid_size : 10, obstacle_size : 18, total_reward : -510.0000000000452\n",
      "grid_size : 5, obstacle_size : 4, total_reward : 48.1\n",
      "grid_size : 5, obstacle_size : 16, total_reward : 48.9\n",
      "grid_size : 5, obstacle_size : 14, total_reward : -510.0000000000452\n"
     ]
    },
    {
     "name": "stderr",
     "output_type": "stream",
     "text": [
      " 50%|█████     | 50/100 [00:02<00:03, 15.02it/s]"
     ]
    },
    {
     "name": "stdout",
     "output_type": "stream",
     "text": [
      "grid_size : 10, obstacle_size : 71, total_reward : -510.0000000000452\n",
      "grid_size : 10, obstacle_size : 57, total_reward : 45.699999999999996\n",
      "grid_size : 8, obstacle_size : 43, total_reward : -510.0000000000452\n"
     ]
    },
    {
     "name": "stderr",
     "output_type": "stream",
     "text": [
      " 52%|█████▏    | 52/100 [00:02<00:03, 13.88it/s]"
     ]
    },
    {
     "name": "stdout",
     "output_type": "stream",
     "text": [
      "grid_size : 6, obstacle_size : 3, total_reward : -510.0000000000452\n",
      "grid_size : 9, obstacle_size : 59, total_reward : -510.0000000000452\n",
      "grid_size : 9, obstacle_size : 56, total_reward : -510.0000000000452\n",
      "grid_size : 10, obstacle_size : 68, total_reward : -510.0000000000452\n"
     ]
    },
    {
     "name": "stderr",
     "output_type": "stream",
     "text": [
      " 59%|█████▉    | 59/100 [00:03<00:02, 14.98it/s]"
     ]
    },
    {
     "name": "stdout",
     "output_type": "stream",
     "text": [
      "grid_size : 7, obstacle_size : 11, total_reward : -510.0000000000452\n",
      "grid_size : 8, obstacle_size : 27, total_reward : 48.699999999999996\n",
      "grid_size : 5, obstacle_size : 16, total_reward : -510.0000000000452\n",
      "grid_size : 10, obstacle_size : 4, total_reward : 49.0\n",
      "grid_size : 9, obstacle_size : 60, total_reward : 47.0\n",
      "grid_size : 8, obstacle_size : 51, total_reward : 48.4\n",
      "grid_size : 6, obstacle_size : 25, total_reward : -510.0000000000452\n"
     ]
    },
    {
     "name": "stderr",
     "output_type": "stream",
     "text": [
      " 69%|██████▉   | 69/100 [00:03<00:01, 26.28it/s]"
     ]
    },
    {
     "name": "stdout",
     "output_type": "stream",
     "text": [
      "grid_size : 5, obstacle_size : 12, total_reward : -510.0000000000452\n",
      "grid_size : 5, obstacle_size : 10, total_reward : 47.8\n",
      "grid_size : 5, obstacle_size : 8, total_reward : 49.3\n",
      "grid_size : 9, obstacle_size : 25, total_reward : -510.0000000000452\n",
      "grid_size : 5, obstacle_size : 4, total_reward : 48.6\n",
      "grid_size : 5, obstacle_size : 17, total_reward : 49.4\n",
      "grid_size : 5, obstacle_size : 16, total_reward : 48.5\n",
      "grid_size : 6, obstacle_size : 10, total_reward : -510.0000000000452\n",
      "grid_size : 6, obstacle_size : 22, total_reward : 48.0\n",
      "grid_size : 5, obstacle_size : 2, total_reward : 49.1\n",
      "grid_size : 7, obstacle_size : 33, total_reward : 47.8\n"
     ]
    },
    {
     "name": "stderr",
     "output_type": "stream",
     "text": [
      " 73%|███████▎  | 73/100 [00:03<00:01, 25.27it/s]"
     ]
    },
    {
     "name": "stdout",
     "output_type": "stream",
     "text": [
      "grid_size : 9, obstacle_size : 54, total_reward : -510.0000000000452\n",
      "grid_size : 9, obstacle_size : 14, total_reward : -510.0000000000452\n",
      "grid_size : 10, obstacle_size : 52, total_reward : -520.0000000000474\n",
      "grid_size : 8, obstacle_size : 36, total_reward : -510.0000000000452\n",
      "grid_size : 8, obstacle_size : 35, total_reward : 49.199999999999996\n"
     ]
    },
    {
     "name": "stderr",
     "output_type": "stream",
     "text": [
      " 81%|████████  | 81/100 [00:03<00:00, 24.43it/s]"
     ]
    },
    {
     "name": "stdout",
     "output_type": "stream",
     "text": [
      "grid_size : 5, obstacle_size : 7, total_reward : -510.0000000000452\n",
      "grid_size : 5, obstacle_size : 6, total_reward : 47.599999999999994\n",
      "grid_size : 6, obstacle_size : 14, total_reward : 47.099999999999994\n",
      "grid_size : 10, obstacle_size : 60, total_reward : -510.0000000000452\n",
      "grid_size : 5, obstacle_size : 10, total_reward : 49.1\n",
      "grid_size : 7, obstacle_size : 31, total_reward : 49.199999999999996\n"
     ]
    },
    {
     "name": "stderr",
     "output_type": "stream",
     "text": [
      " 87%|████████▋ | 87/100 [00:04<00:00, 29.07it/s]"
     ]
    },
    {
     "name": "stdout",
     "output_type": "stream",
     "text": [
      "grid_size : 9, obstacle_size : 43, total_reward : -510.0000000000452\n",
      "grid_size : 6, obstacle_size : 15, total_reward : 47.199999999999996\n",
      "grid_size : 8, obstacle_size : 4, total_reward : 47.599999999999994\n",
      "grid_size : 8, obstacle_size : 30, total_reward : -510.0000000000452\n",
      "grid_size : 9, obstacle_size : 63, total_reward : -510.0000000000452\n"
     ]
    },
    {
     "name": "stderr",
     "output_type": "stream",
     "text": [
      " 91%|█████████ | 91/100 [00:04<00:00, 21.37it/s]"
     ]
    },
    {
     "name": "stdout",
     "output_type": "stream",
     "text": [
      "grid_size : 7, obstacle_size : 20, total_reward : -510.0000000000452\n",
      "grid_size : 8, obstacle_size : 43, total_reward : 47.199999999999996\n",
      "grid_size : 10, obstacle_size : 44, total_reward : -510.0000000000452\n",
      "grid_size : 8, obstacle_size : 42, total_reward : 44.7\n"
     ]
    },
    {
     "name": "stderr",
     "output_type": "stream",
     "text": [
      " 94%|█████████▍| 94/100 [00:04<00:00, 17.94it/s]"
     ]
    },
    {
     "name": "stdout",
     "output_type": "stream",
     "text": [
      "grid_size : 10, obstacle_size : 75, total_reward : -510.0000000000452\n",
      "grid_size : 6, obstacle_size : 1, total_reward : 48.8\n",
      "grid_size : 9, obstacle_size : 12, total_reward : 45.599999999999994\n",
      "grid_size : 6, obstacle_size : 20, total_reward : 47.199999999999996\n",
      "grid_size : 6, obstacle_size : 20, total_reward : 48.0\n",
      "grid_size : 9, obstacle_size : 35, total_reward : -510.0000000000452\n",
      "grid_size : 8, obstacle_size : 45, total_reward : -510.0000000000452\n"
     ]
    },
    {
     "name": "stderr",
     "output_type": "stream",
     "text": [
      "100%|██████████| 100/100 [00:04<00:00, 20.70it/s]"
     ]
    },
    {
     "name": "stdout",
     "output_type": "stream",
     "text": [
      "grid_size : 5, obstacle_size : 5, total_reward : -510.0000000000452\n",
      "average : -220.03600000002163\n"
     ]
    },
    {
     "name": "stderr",
     "output_type": "stream",
     "text": [
      "\n"
     ]
    }
   ],
   "source": [
    "env = SimpleTaxiEnv()\n",
    "Testing(env)"
   ]
  },
  {
   "cell_type": "markdown",
   "metadata": {
    "id": "WSxQEFroMcJw"
   },
   "source": [
    "# Policy base"
   ]
  },
  {
   "cell_type": "code",
   "execution_count": 44,
   "metadata": {
    "id": "nP4NtkKwMi1s"
   },
   "outputs": [],
   "source": [
    "def tabular_policy_learning(env,episodes=5000, alpha=0.1, gamma=0.999):\n",
    "\n",
    "    global stations, candidates_p,candidates_goal, pickup\n",
    "    stations = [[0,0] for _ in range(4)]\n",
    "    candidates_p = [i for i in stations]\n",
    "    candidates_goal = [i for i in stations]\n",
    "    pickup=False\n",
    "    action_size = 6\n",
    "    policy_table = defaultdict(lambda :np.zeros(action_size))\n",
    "    pickup_id = 4\n",
    "    drop_id = 5\n",
    "    ifpickup=False\n",
    "    p_loc = (0,0)\n",
    "    def softmax(x):\n",
    "        \"\"\"✅ Compute softmax values for an array.\"\"\"\n",
    "        exp_x = np.exp(x - np.max(x))  # Numeric stability\n",
    "        return exp_x / exp_x.sum()\n",
    "    def get_state_obs(obs,action):\n",
    "        global stations,pickup,candidates_p,candidates_goal\n",
    "        #print(candidates_p)\n",
    "        obstacles = [0 for _ in range(5)]\n",
    "        taxi_row, taxi_col, stations[0][0], stations[0][1] , stations[1][0], stations[1][1],stations[2][0],stations[2][1],stations[3][0],stations[3][1],obstacle_north, obstacle_south, obstacle_east, obstacle_west, passenger_look, destination_look = obs\n",
    "        agent_pos = (taxi_row,taxi_col)\n",
    "        if action==None:\n",
    "            # initialize\n",
    "            candidates_goal = [tuple(i) for i in stations]\n",
    "            candidates_p = [tuple(i) for i in stations]\n",
    "            pickup=False\n",
    "        if passenger_look:\n",
    "            #print('before p',candidates_p)\n",
    "            candidates_p = [ tuple(x) for x in candidates_p if abs(x[0]-agent_pos[0])+abs(x[1]-agent_pos[1]) <=1 ]\n",
    "            #print('after p',candidates_p)\n",
    "        else:\n",
    "            #print('before p',candidates_p)\n",
    "            candidates_p = [ tuple(x) for x in candidates_p if abs(x[0]-agent_pos[0])+abs(x[1]-agent_pos[1]) >1 ]\n",
    "            #print('after p',candidates_p)\n",
    "        if destination_look:\n",
    "            #print('before g',candidates_goal)\n",
    "            candidates_goal = [ tuple(x) for x in candidates_goal if abs(x[0]-agent_pos[0])+abs(x[1]-agent_pos[1]) <=1 ]\n",
    "            #print('after g',candidates_goal)\n",
    "        else:\n",
    "            #print('before g',candidates_goal)\n",
    "            candidates_goal = [ tuple(x) for x in candidates_goal if abs(x[0]-agent_pos[0])+abs(x[1]-agent_pos[1]) >1 ]\n",
    "            #print('after g',candidates_goal)\n",
    "        if action==pickup_id and not pickup and agent_pos in candidates_p:\n",
    "            pickup = True\n",
    "            candidates_p = []\n",
    "        elif action == drop_id and pickup:\n",
    "            pickup=False\n",
    "            candidates_p = [agent_pos]\n",
    "        return (pickup, len(candidates_p), len(candidates_goal), passenger_look, destination_look, (obstacle_north,obstacle_south,obstacle_east,obstacle_west))\n",
    "    \"\"\"\n",
    "    if action == 0 :  # Move Down\n",
    "        next_row += 1\n",
    "    elif action == 1:  # Move Up\n",
    "        next_row -= 1\n",
    "    elif action == 2:  # Move Right\n",
    "        next_col += 1\n",
    "    elif action == 3:  # Move Left\n",
    "        next_col -= 1\n",
    "    \"\"\"\n",
    "    station_size = 4\n",
    "    total_reward = 0\n",
    "    total_reward_shaped = 0\n",
    "    cnt = [0,0,0]\n",
    "    averaged = [0,0]\n",
    "    batch_size = 100\n",
    "\n",
    "\n",
    "\n",
    "    for epoch in tqdm(range(episodes+600)):\n",
    "        if epoch >= episodes:\n",
    "            epsilon = 0\n",
    "        grid_size = np.random.randint(5,11)\n",
    "        obstacle_size = np.random.randint(grid_size*grid_size)\n",
    "        obs,_ = env.reset()\n",
    "        averaged[0]+=env.grid_size\n",
    "        averaged[1]+=len(env.obstacles)\n",
    "        obs,ifpickup,p_loc = obs\n",
    "        done = False\n",
    "        state = get_state_obs(obs,action=None)\n",
    "        steps=0\n",
    "        action_l=[]\n",
    "        success = False\n",
    "        has_pickup=False\n",
    "        trajectory = []\n",
    "        while not done:\n",
    "            \"\"\"if state[-1]!=(0,0,0,0):\n",
    "              print(state[-1])\"\"\"\n",
    "            action = np.random.choice(action_size,p=softmax(policy_table[state]))\n",
    "            lst_pickup = pickup\n",
    "            obs,reward,done,_ = env.step(action)\n",
    "            obs,ifpickup,p_loc = obs\n",
    "            next_state = get_state_obs(obs,action)\n",
    "            total_reward += reward\n",
    "            if done and reward>0:\n",
    "                cnt[2]+=1\n",
    "            reward_shaping = 0\n",
    "            pickup, p_len, goal_len, _,_ , _ = next_state\n",
    "            if not pickup:\n",
    "                reward_shaping -= 0.01 * (p_len**2)\n",
    "            reward_shaping -= 0.001 * (goal_len**2)\n",
    "            reward += reward_shaping\n",
    "            total_reward_shaped += reward\n",
    "            trajectory.append((state,action,reward))\n",
    "            state = next_state\n",
    "\n",
    "\n",
    "            if lst_pickup==False and pickup:\n",
    "                cnt[0]+=1\n",
    "            elif lst_pickup==True and pickup==False:\n",
    "                cnt[1]+=1\n",
    "            if pickup!=ifpickup:\n",
    "                print(pickup,ifpickup)\n",
    "            assert(pickup==ifpickup)\n",
    "        G = 0\n",
    "        for t in reversed(trajectory):\n",
    "            state,action,reward = t\n",
    "            G = gamma*G + reward\n",
    "            prob = softmax(policy_table[state])\n",
    "            grad=-prob.copy()\n",
    "            grad[action]+=1\n",
    "            policy_table[state] += alpha*G*grad\n",
    "        if (epoch+1)%batch_size==0:\n",
    "            cnt = [i/batch_size for i in cnt]\n",
    "            print(f'Epoch : {epoch}, average reward : {total_reward/batch_size:.4f}, averaged shaped reward : {total_reward_shaped/batch_size:.4f} Pickup, Drop, Success rate : {cnt}')\n",
    "            print(f'averaged grid size : {averaged[0]/batch_size:.2f}, averaged obstacles : {averaged[1]/batch_size:.2f}')\n",
    "            averaged = [0,0]\n",
    "            cnt = [0,0,0]\n",
    "            total_reward = 0\n",
    "            total_reward_shaped = 0\n",
    "    return q_table"
   ]
  },
  {
   "cell_type": "code",
   "execution_count": 45,
   "metadata": {
    "id": "8pe7Sg6NarrP"
   },
   "outputs": [
    {
     "name": "stderr",
     "output_type": "stream",
     "text": [
      "  0%|          | 20/5600 [00:04<20:19,  4.58it/s]\n"
     ]
    },
    {
     "ename": "KeyboardInterrupt",
     "evalue": "",
     "output_type": "error",
     "traceback": [
      "\u001b[1;31m---------------------------------------------------------------------------\u001b[0m",
      "\u001b[1;31mKeyboardInterrupt\u001b[0m                         Traceback (most recent call last)",
      "Cell \u001b[1;32mIn[45], line 2\u001b[0m\n\u001b[0;32m      1\u001b[0m env \u001b[38;5;241m=\u001b[39m SimpleTaxiEnv()\n\u001b[1;32m----> 2\u001b[0m policy_table \u001b[38;5;241m=\u001b[39m \u001b[43mtabular_policy_learning\u001b[49m\u001b[43m(\u001b[49m\u001b[43menv\u001b[49m\u001b[43m)\u001b[49m\n\u001b[0;32m      3\u001b[0m \u001b[38;5;66;03m# save policy table to .pkl\u001b[39;00m\n\u001b[0;32m      4\u001b[0m policy_dict \u001b[38;5;241m=\u001b[39m \u001b[38;5;28mdict\u001b[39m(policy_table)  \u001b[38;5;66;03m# Convert to regular dict\u001b[39;00m\n",
      "Cell \u001b[1;32mIn[44], line 120\u001b[0m, in \u001b[0;36mtabular_policy_learning\u001b[1;34m(env, episodes, alpha, gamma)\u001b[0m\n\u001b[0;32m    118\u001b[0m state,action,reward \u001b[38;5;241m=\u001b[39m t\n\u001b[0;32m    119\u001b[0m G \u001b[38;5;241m=\u001b[39m gamma\u001b[38;5;241m*\u001b[39mG \u001b[38;5;241m+\u001b[39m reward\n\u001b[1;32m--> 120\u001b[0m prob \u001b[38;5;241m=\u001b[39m \u001b[43msoftmax\u001b[49m\u001b[43m(\u001b[49m\u001b[43mpolicy_table\u001b[49m\u001b[43m[\u001b[49m\u001b[43mstate\u001b[49m\u001b[43m]\u001b[49m\u001b[43m)\u001b[49m\n\u001b[0;32m    121\u001b[0m grad\u001b[38;5;241m=\u001b[39m\u001b[38;5;241m-\u001b[39mprob\u001b[38;5;241m.\u001b[39mcopy()\n\u001b[0;32m    122\u001b[0m grad[action]\u001b[38;5;241m+\u001b[39m\u001b[38;5;241m=\u001b[39m\u001b[38;5;241m1\u001b[39m\n",
      "Cell \u001b[1;32mIn[44], line 17\u001b[0m, in \u001b[0;36mtabular_policy_learning.<locals>.softmax\u001b[1;34m(x)\u001b[0m\n\u001b[0;32m     15\u001b[0m \u001b[38;5;250m\u001b[39m\u001b[38;5;124;03m\"\"\"✅ Compute softmax values for an array.\"\"\"\u001b[39;00m\n\u001b[0;32m     16\u001b[0m exp_x \u001b[38;5;241m=\u001b[39m np\u001b[38;5;241m.\u001b[39mexp(x \u001b[38;5;241m-\u001b[39m np\u001b[38;5;241m.\u001b[39mmax(x))  \u001b[38;5;66;03m# Numeric stability\u001b[39;00m\n\u001b[1;32m---> 17\u001b[0m \u001b[38;5;28;01mreturn\u001b[39;00m exp_x \u001b[38;5;241m/\u001b[39m \u001b[43mexp_x\u001b[49m\u001b[38;5;241;43m.\u001b[39;49m\u001b[43msum\u001b[49m\u001b[43m(\u001b[49m\u001b[43m)\u001b[49m\n",
      "File \u001b[1;32m~\\AppData\\Local\\Packages\\PythonSoftwareFoundation.Python.3.12_qbz5n2kfra8p0\\LocalCache\\local-packages\\Python312\\site-packages\\numpy\\_core\\_methods.py:51\u001b[0m, in \u001b[0;36m_sum\u001b[1;34m(a, axis, dtype, out, keepdims, initial, where)\u001b[0m\n\u001b[0;32m     47\u001b[0m \u001b[38;5;28;01mdef\u001b[39;00m \u001b[38;5;21m_amin\u001b[39m(a, axis\u001b[38;5;241m=\u001b[39m\u001b[38;5;28;01mNone\u001b[39;00m, out\u001b[38;5;241m=\u001b[39m\u001b[38;5;28;01mNone\u001b[39;00m, keepdims\u001b[38;5;241m=\u001b[39m\u001b[38;5;28;01mFalse\u001b[39;00m,\n\u001b[0;32m     48\u001b[0m           initial\u001b[38;5;241m=\u001b[39m_NoValue, where\u001b[38;5;241m=\u001b[39m\u001b[38;5;28;01mTrue\u001b[39;00m):\n\u001b[0;32m     49\u001b[0m     \u001b[38;5;28;01mreturn\u001b[39;00m umr_minimum(a, axis, \u001b[38;5;28;01mNone\u001b[39;00m, out, keepdims, initial, where)\n\u001b[1;32m---> 51\u001b[0m \u001b[38;5;28;01mdef\u001b[39;00m \u001b[38;5;21m_sum\u001b[39m(a, axis\u001b[38;5;241m=\u001b[39m\u001b[38;5;28;01mNone\u001b[39;00m, dtype\u001b[38;5;241m=\u001b[39m\u001b[38;5;28;01mNone\u001b[39;00m, out\u001b[38;5;241m=\u001b[39m\u001b[38;5;28;01mNone\u001b[39;00m, keepdims\u001b[38;5;241m=\u001b[39m\u001b[38;5;28;01mFalse\u001b[39;00m,\n\u001b[0;32m     52\u001b[0m          initial\u001b[38;5;241m=\u001b[39m_NoValue, where\u001b[38;5;241m=\u001b[39m\u001b[38;5;28;01mTrue\u001b[39;00m):\n\u001b[0;32m     53\u001b[0m     \u001b[38;5;28;01mreturn\u001b[39;00m umr_sum(a, axis, dtype, out, keepdims, initial, where)\n\u001b[0;32m     55\u001b[0m \u001b[38;5;28;01mdef\u001b[39;00m \u001b[38;5;21m_prod\u001b[39m(a, axis\u001b[38;5;241m=\u001b[39m\u001b[38;5;28;01mNone\u001b[39;00m, dtype\u001b[38;5;241m=\u001b[39m\u001b[38;5;28;01mNone\u001b[39;00m, out\u001b[38;5;241m=\u001b[39m\u001b[38;5;28;01mNone\u001b[39;00m, keepdims\u001b[38;5;241m=\u001b[39m\u001b[38;5;28;01mFalse\u001b[39;00m,\n\u001b[0;32m     56\u001b[0m           initial\u001b[38;5;241m=\u001b[39m_NoValue, where\u001b[38;5;241m=\u001b[39m\u001b[38;5;28;01mTrue\u001b[39;00m):\n",
      "\u001b[1;31mKeyboardInterrupt\u001b[0m: "
     ]
    }
   ],
   "source": [
    "env = SimpleTaxiEnv()\n",
    "policy_table = tabular_policy_learning(env)\n",
    "# save policy table to .pkl\n",
    "policy_dict = dict(policy_table)  # Convert to regular dict\n",
    "with open('policy_table.pkl', 'wb') as f:\n",
    "    pickle.dump(policy_dict, f)"
   ]
  }
 ],
 "metadata": {
  "colab": {
   "collapsed_sections": [
    "vBm02Hg7kQwD",
    "ioWeQB4DTncX"
   ],
   "provenance": []
  },
  "kernelspec": {
   "display_name": "Python 3",
   "name": "python3"
  },
  "language_info": {
   "codemirror_mode": {
    "name": "ipython",
    "version": 3
   },
   "file_extension": ".py",
   "mimetype": "text/x-python",
   "name": "python",
   "nbconvert_exporter": "python",
   "pygments_lexer": "ipython3",
   "version": "3.12.9"
  }
 },
 "nbformat": 4,
 "nbformat_minor": 0
}
